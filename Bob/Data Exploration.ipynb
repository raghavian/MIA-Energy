{
 "cells": [
  {
   "cell_type": "code",
   "execution_count": 1,
   "id": "1cc2c35d-8ac3-43de-810c-a3683c1bcbb7",
   "metadata": {},
   "outputs": [],
   "source": [
    "from pathlib import Path\n",
    "import pandas as pd\n",
    "import plotly.express as px\n",
    "import plotly.graph_objs as go\n",
    "import numpy as np\n",
    "import scipy\n",
    "import sklearn.decomposition"
   ]
  },
  {
   "cell_type": "code",
   "execution_count": 2,
   "id": "de7c5fa3-3c5a-4488-b674-ea103e7df3fa",
   "metadata": {},
   "outputs": [],
   "source": [
    "csv_files = {x.stem: x for x in (Path(\"../data\").glob(\"*.csv\"))}"
   ]
  },
  {
   "cell_type": "code",
   "execution_count": 3,
   "id": "655206fa-2d20-4fc0-a66e-01e7430bd0f4",
   "metadata": {},
   "outputs": [
    {
     "data": {
      "text/plain": [
       "Index(['model', 'num_param', 'memT', 'memR', 'memA', 'memM', 'energy', 'co2',\n",
       "       'train_time', 'infer_time', 'test_00', 'inf_time', 'tr_acc', 'test_01',\n",
       "       'test_02', 'test_03', 'test_04', 'test_05', 'test_06', 'test_07',\n",
       "       'test_08', 'test_09', 'pretrain', 'type', 'efficient', 'dataset',\n",
       "       'pen'],\n",
       "      dtype='object')"
      ]
     },
     "execution_count": 3,
     "metadata": {},
     "output_type": "execute_result"
    }
   ],
   "source": [
    "all_results_df = pd.read_csv(csv_files[\"all_results\"])\n",
    "all_results_df.columns"
   ]
  },
  {
   "cell_type": "code",
   "execution_count": 9,
   "id": "b9598316-ffff-45e1-81f9-0db62a5e8e05",
   "metadata": {},
   "outputs": [
    {
     "data": {
      "text/plain": [
       "['derma_pt',\n",
       " 'lidc',\n",
       " 'lidc_small',\n",
       " 'derma',\n",
       " 'derma_small',\n",
       " 'derma_smallest',\n",
       " 'pneumonia',\n",
       " 'pneumonia_small']"
      ]
     },
     "execution_count": 9,
     "metadata": {},
     "output_type": "execute_result"
    }
   ],
   "source": [
    "all_results_df[\"dataset\"].unique().tolist()"
   ]
  },
  {
   "cell_type": "code",
   "execution_count": 106,
   "id": "cfe77bc9-7544-4283-bf88-64a50229a7e8",
   "metadata": {},
   "outputs": [
    {
     "data": {
      "text/html": [
       "<div>\n",
       "<style scoped>\n",
       "    .dataframe tbody tr th:only-of-type {\n",
       "        vertical-align: middle;\n",
       "    }\n",
       "\n",
       "    .dataframe tbody tr th {\n",
       "        vertical-align: top;\n",
       "    }\n",
       "\n",
       "    .dataframe thead th {\n",
       "        text-align: right;\n",
       "    }\n",
       "</style>\n",
       "<table border=\"1\" class=\"dataframe\">\n",
       "  <thead>\n",
       "    <tr style=\"text-align: right;\">\n",
       "      <th></th>\n",
       "      <th>model</th>\n",
       "      <th>num_param</th>\n",
       "      <th>memT</th>\n",
       "      <th>memR</th>\n",
       "      <th>memA</th>\n",
       "      <th>memM</th>\n",
       "      <th>energy</th>\n",
       "      <th>co2</th>\n",
       "      <th>train_time</th>\n",
       "      <th>infer_time</th>\n",
       "      <th>...</th>\n",
       "      <th>test_05</th>\n",
       "      <th>test_06</th>\n",
       "      <th>test_07</th>\n",
       "      <th>test_08</th>\n",
       "      <th>test_09</th>\n",
       "      <th>pretrain</th>\n",
       "      <th>type</th>\n",
       "      <th>efficient</th>\n",
       "      <th>dataset</th>\n",
       "      <th>pen</th>\n",
       "    </tr>\n",
       "  </thead>\n",
       "  <tbody>\n",
       "    <tr>\n",
       "      <th>786</th>\n",
       "      <td>dla46x_c</td>\n",
       "      <td>1068440</td>\n",
       "      <td>25.435111</td>\n",
       "      <td>3.024093</td>\n",
       "      <td>0.014154</td>\n",
       "      <td>2.250716</td>\n",
       "      <td>0.010091</td>\n",
       "      <td>0.428863</td>\n",
       "      <td>6.794126</td>\n",
       "      <td>0</td>\n",
       "      <td>...</td>\n",
       "      <td>0.866776</td>\n",
       "      <td>0.940789</td>\n",
       "      <td>0.957237</td>\n",
       "      <td>0.947368</td>\n",
       "      <td>0.828947</td>\n",
       "      <td>0.0</td>\n",
       "      <td>CNN</td>\n",
       "      <td>0</td>\n",
       "      <td>pneumonia</td>\n",
       "      <td>0.780752</td>\n",
       "    </tr>\n",
       "    <tr>\n",
       "      <th>787</th>\n",
       "      <td>dla46_c</td>\n",
       "      <td>1301400</td>\n",
       "      <td>25.435111</td>\n",
       "      <td>2.548040</td>\n",
       "      <td>0.017906</td>\n",
       "      <td>1.865552</td>\n",
       "      <td>0.008777</td>\n",
       "      <td>0.377423</td>\n",
       "      <td>5.829772</td>\n",
       "      <td>0</td>\n",
       "      <td>...</td>\n",
       "      <td>0.886513</td>\n",
       "      <td>0.884868</td>\n",
       "      <td>0.879934</td>\n",
       "      <td>0.922697</td>\n",
       "      <td>0.953947</td>\n",
       "      <td>0.0</td>\n",
       "      <td>CNN</td>\n",
       "      <td>0</td>\n",
       "      <td>pneumonia</td>\n",
       "      <td>0.905337</td>\n",
       "    </tr>\n",
       "    <tr>\n",
       "      <th>788</th>\n",
       "      <td>mobilevitv2_050</td>\n",
       "      <td>1370593</td>\n",
       "      <td>25.435111</td>\n",
       "      <td>3.114271</td>\n",
       "      <td>0.036042</td>\n",
       "      <td>2.869059</td>\n",
       "      <td>0.008608</td>\n",
       "      <td>0.370142</td>\n",
       "      <td>5.595311</td>\n",
       "      <td>0</td>\n",
       "      <td>...</td>\n",
       "      <td>0.904605</td>\n",
       "      <td>0.889803</td>\n",
       "      <td>0.912829</td>\n",
       "      <td>0.919408</td>\n",
       "      <td>0.929276</td>\n",
       "      <td>0.0</td>\n",
       "      <td>Other</td>\n",
       "      <td>1</td>\n",
       "      <td>pneumonia</td>\n",
       "      <td>0.882791</td>\n",
       "    </tr>\n",
       "    <tr>\n",
       "      <th>789</th>\n",
       "      <td>mobilenetv2_050</td>\n",
       "      <td>1968680</td>\n",
       "      <td>25.435111</td>\n",
       "      <td>2.235564</td>\n",
       "      <td>0.029370</td>\n",
       "      <td>1.919404</td>\n",
       "      <td>0.005594</td>\n",
       "      <td>0.240533</td>\n",
       "      <td>4.016301</td>\n",
       "      <td>0</td>\n",
       "      <td>...</td>\n",
       "      <td>0.894737</td>\n",
       "      <td>0.899671</td>\n",
       "      <td>0.902961</td>\n",
       "      <td>0.912829</td>\n",
       "      <td>0.917763</td>\n",
       "      <td>0.0</td>\n",
       "      <td>CNN</td>\n",
       "      <td>1</td>\n",
       "      <td>pneumonia</td>\n",
       "      <td>0.887397</td>\n",
       "    </tr>\n",
       "    <tr>\n",
       "      <th>790</th>\n",
       "      <td>semnasnet_075</td>\n",
       "      <td>2912278</td>\n",
       "      <td>25.435111</td>\n",
       "      <td>2.799698</td>\n",
       "      <td>0.044566</td>\n",
       "      <td>2.101022</td>\n",
       "      <td>0.008440</td>\n",
       "      <td>0.362926</td>\n",
       "      <td>5.475931</td>\n",
       "      <td>0</td>\n",
       "      <td>...</td>\n",
       "      <td>0.927632</td>\n",
       "      <td>0.927632</td>\n",
       "      <td>0.927632</td>\n",
       "      <td>0.927632</td>\n",
       "      <td>0.927632</td>\n",
       "      <td>0.0</td>\n",
       "      <td>Other</td>\n",
       "      <td>1</td>\n",
       "      <td>pneumonia</td>\n",
       "      <td>0.882088</td>\n",
       "    </tr>\n",
       "    <tr>\n",
       "      <th>...</th>\n",
       "      <td>...</td>\n",
       "      <td>...</td>\n",
       "      <td>...</td>\n",
       "      <td>...</td>\n",
       "      <td>...</td>\n",
       "      <td>...</td>\n",
       "      <td>...</td>\n",
       "      <td>...</td>\n",
       "      <td>...</td>\n",
       "      <td>...</td>\n",
       "      <td>...</td>\n",
       "      <td>...</td>\n",
       "      <td>...</td>\n",
       "      <td>...</td>\n",
       "      <td>...</td>\n",
       "      <td>...</td>\n",
       "      <td>...</td>\n",
       "      <td>...</td>\n",
       "      <td>...</td>\n",
       "      <td>...</td>\n",
       "      <td>...</td>\n",
       "    </tr>\n",
       "    <tr>\n",
       "      <th>1043</th>\n",
       "      <td>ecaresnet269d</td>\n",
       "      <td>102093077</td>\n",
       "      <td>25.435111</td>\n",
       "      <td>19.709034</td>\n",
       "      <td>1.665001</td>\n",
       "      <td>19.053249</td>\n",
       "      <td>0.013694</td>\n",
       "      <td>6.504469</td>\n",
       "      <td>9.173475</td>\n",
       "      <td>0</td>\n",
       "      <td>...</td>\n",
       "      <td>0.835526</td>\n",
       "      <td>0.815789</td>\n",
       "      <td>0.812500</td>\n",
       "      <td>0.824013</td>\n",
       "      <td>0.827303</td>\n",
       "      <td>0.0</td>\n",
       "      <td>Other</td>\n",
       "      <td>1</td>\n",
       "      <td>pneumonia_small</td>\n",
       "      <td>0.759516</td>\n",
       "    </tr>\n",
       "    <tr>\n",
       "      <th>1044</th>\n",
       "      <td>legacy_senet154</td>\n",
       "      <td>115088984</td>\n",
       "      <td>25.435111</td>\n",
       "      <td>17.882415</td>\n",
       "      <td>1.865626</td>\n",
       "      <td>16.580966</td>\n",
       "      <td>0.014815</td>\n",
       "      <td>7.037225</td>\n",
       "      <td>9.713932</td>\n",
       "      <td>0</td>\n",
       "      <td>...</td>\n",
       "      <td>0.828947</td>\n",
       "      <td>0.843750</td>\n",
       "      <td>0.845395</td>\n",
       "      <td>0.853618</td>\n",
       "      <td>0.853618</td>\n",
       "      <td>0.0</td>\n",
       "      <td>CNN</td>\n",
       "      <td>0</td>\n",
       "      <td>pneumonia_small</td>\n",
       "      <td>0.778451</td>\n",
       "    </tr>\n",
       "    <tr>\n",
       "      <th>1045</th>\n",
       "      <td>resnetrs270</td>\n",
       "      <td>129861448</td>\n",
       "      <td>25.435111</td>\n",
       "      <td>20.937966</td>\n",
       "      <td>2.095463</td>\n",
       "      <td>20.111435</td>\n",
       "      <td>0.014513</td>\n",
       "      <td>6.893659</td>\n",
       "      <td>9.514268</td>\n",
       "      <td>0</td>\n",
       "      <td>...</td>\n",
       "      <td>0.853618</td>\n",
       "      <td>0.870066</td>\n",
       "      <td>0.807566</td>\n",
       "      <td>0.820724</td>\n",
       "      <td>0.898026</td>\n",
       "      <td>0.0</td>\n",
       "      <td>CNN</td>\n",
       "      <td>0</td>\n",
       "      <td>pneumonia_small</td>\n",
       "      <td>0.820422</td>\n",
       "    </tr>\n",
       "    <tr>\n",
       "      <th>1046</th>\n",
       "      <td>vgg11</td>\n",
       "      <td>132863336</td>\n",
       "      <td>25.435111</td>\n",
       "      <td>6.322913</td>\n",
       "      <td>2.087315</td>\n",
       "      <td>4.486133</td>\n",
       "      <td>0.003151</td>\n",
       "      <td>1.496582</td>\n",
       "      <td>2.517016</td>\n",
       "      <td>0</td>\n",
       "      <td>...</td>\n",
       "      <td>0.763158</td>\n",
       "      <td>0.819079</td>\n",
       "      <td>0.830592</td>\n",
       "      <td>0.789474</td>\n",
       "      <td>0.796053</td>\n",
       "      <td>0.0</td>\n",
       "      <td>CNN</td>\n",
       "      <td>0</td>\n",
       "      <td>pneumonia_small</td>\n",
       "      <td>0.780034</td>\n",
       "    </tr>\n",
       "    <tr>\n",
       "      <th>1047</th>\n",
       "      <td>vgg13</td>\n",
       "      <td>133047848</td>\n",
       "      <td>25.435111</td>\n",
       "      <td>7.398752</td>\n",
       "      <td>2.089220</td>\n",
       "      <td>5.292606</td>\n",
       "      <td>0.004821</td>\n",
       "      <td>2.290159</td>\n",
       "      <td>3.474425</td>\n",
       "      <td>0</td>\n",
       "      <td>...</td>\n",
       "      <td>0.722039</td>\n",
       "      <td>0.802632</td>\n",
       "      <td>0.817434</td>\n",
       "      <td>0.858553</td>\n",
       "      <td>0.863487</td>\n",
       "      <td>0.0</td>\n",
       "      <td>CNN</td>\n",
       "      <td>0</td>\n",
       "      <td>pneumonia_small</td>\n",
       "      <td>0.837179</td>\n",
       "    </tr>\n",
       "  </tbody>\n",
       "</table>\n",
       "<p>262 rows × 27 columns</p>\n",
       "</div>"
      ],
      "text/plain": [
       "                model  num_param       memT       memR      memA       memM  \\\n",
       "786          dla46x_c    1068440  25.435111   3.024093  0.014154   2.250716   \n",
       "787           dla46_c    1301400  25.435111   2.548040  0.017906   1.865552   \n",
       "788   mobilevitv2_050    1370593  25.435111   3.114271  0.036042   2.869059   \n",
       "789   mobilenetv2_050    1968680  25.435111   2.235564  0.029370   1.919404   \n",
       "790     semnasnet_075    2912278  25.435111   2.799698  0.044566   2.101022   \n",
       "...               ...        ...        ...        ...       ...        ...   \n",
       "1043    ecaresnet269d  102093077  25.435111  19.709034  1.665001  19.053249   \n",
       "1044  legacy_senet154  115088984  25.435111  17.882415  1.865626  16.580966   \n",
       "1045      resnetrs270  129861448  25.435111  20.937966  2.095463  20.111435   \n",
       "1046            vgg11  132863336  25.435111   6.322913  2.087315   4.486133   \n",
       "1047            vgg13  133047848  25.435111   7.398752  2.089220   5.292606   \n",
       "\n",
       "        energy       co2  train_time  infer_time  ...   test_05   test_06  \\\n",
       "786   0.010091  0.428863    6.794126           0  ...  0.866776  0.940789   \n",
       "787   0.008777  0.377423    5.829772           0  ...  0.886513  0.884868   \n",
       "788   0.008608  0.370142    5.595311           0  ...  0.904605  0.889803   \n",
       "789   0.005594  0.240533    4.016301           0  ...  0.894737  0.899671   \n",
       "790   0.008440  0.362926    5.475931           0  ...  0.927632  0.927632   \n",
       "...        ...       ...         ...         ...  ...       ...       ...   \n",
       "1043  0.013694  6.504469    9.173475           0  ...  0.835526  0.815789   \n",
       "1044  0.014815  7.037225    9.713932           0  ...  0.828947  0.843750   \n",
       "1045  0.014513  6.893659    9.514268           0  ...  0.853618  0.870066   \n",
       "1046  0.003151  1.496582    2.517016           0  ...  0.763158  0.819079   \n",
       "1047  0.004821  2.290159    3.474425           0  ...  0.722039  0.802632   \n",
       "\n",
       "       test_07   test_08   test_09  pretrain   type  efficient  \\\n",
       "786   0.957237  0.947368  0.828947       0.0    CNN          0   \n",
       "787   0.879934  0.922697  0.953947       0.0    CNN          0   \n",
       "788   0.912829  0.919408  0.929276       0.0  Other          1   \n",
       "789   0.902961  0.912829  0.917763       0.0    CNN          1   \n",
       "790   0.927632  0.927632  0.927632       0.0  Other          1   \n",
       "...        ...       ...       ...       ...    ...        ...   \n",
       "1043  0.812500  0.824013  0.827303       0.0  Other          1   \n",
       "1044  0.845395  0.853618  0.853618       0.0    CNN          0   \n",
       "1045  0.807566  0.820724  0.898026       0.0    CNN          0   \n",
       "1046  0.830592  0.789474  0.796053       0.0    CNN          0   \n",
       "1047  0.817434  0.858553  0.863487       0.0    CNN          0   \n",
       "\n",
       "              dataset       pen  \n",
       "786         pneumonia  0.780752  \n",
       "787         pneumonia  0.905337  \n",
       "788         pneumonia  0.882791  \n",
       "789         pneumonia  0.887397  \n",
       "790         pneumonia  0.882088  \n",
       "...               ...       ...  \n",
       "1043  pneumonia_small  0.759516  \n",
       "1044  pneumonia_small  0.778451  \n",
       "1045  pneumonia_small  0.820422  \n",
       "1046  pneumonia_small  0.780034  \n",
       "1047  pneumonia_small  0.837179  \n",
       "\n",
       "[262 rows x 27 columns]"
      ]
     },
     "execution_count": 106,
     "metadata": {},
     "output_type": "execute_result"
    }
   ],
   "source": [
    "# idx = (all_results_df[\"dataset\"] == \"derma\") | (all_results_df[\"dataset\"] == \"derma_pt\")\n",
    "# idx = (all_results_df[\"dataset\"] == \"derma_small\")\n",
    "# dataset_prefix = \"derma\"\n",
    "# dataset_prefix = \"lidc\"\n",
    "dataset_prefix = \"pneumonia\"\n",
    "idx = (all_results_df[\"dataset\"] == f\"{dataset_prefix}_small\") | (all_results_df[\"dataset\"] == f\"{dataset_prefix}\")\n",
    "# idx = (all_results_df[\"dataset\"] == \"derma_small\") | (all_results_df[\"dataset\"] == \"derma\")\n",
    "# idx = (all_results_df[\"dataset\"] == \"pneumonia_small\") | (all_results_df[\"dataset\"] == \"pneumonia\")\n",
    "df = pd.DataFrame(all_results_df[idx])\n",
    "df = df.sort_values([\"dataset\", \"num_param\"])\n",
    "df"
   ]
  },
  {
   "cell_type": "code",
   "execution_count": 107,
   "id": "fe2e647a-201b-4bff-8039-67eb3eceb168",
   "metadata": {},
   "outputs": [],
   "source": [
    "df[\"test_profile\"] = df[[f\"test_{i:02d}\" for i in range(10)]].values.tolist()"
   ]
  },
  {
   "cell_type": "code",
   "execution_count": 108,
   "id": "38c182f2-8565-4f29-88d6-42a3ebe4303b",
   "metadata": {},
   "outputs": [],
   "source": [
    "test_profile = np.array(df[\"test_profile\"].tolist())"
   ]
  },
  {
   "cell_type": "code",
   "execution_count": 109,
   "id": "07c05192-11f0-4f7e-adf2-97b4e03f2d20",
   "metadata": {},
   "outputs": [
    {
     "data": {
      "text/plain": [
       "array([[0.875     , 0.95230263, 0.95230263, ..., 0.95723684, 0.95723684,\n",
       "        0.95723684],\n",
       "       [0.93092105, 0.93092105, 0.93092105, ..., 0.94736842, 0.94736842,\n",
       "        0.95394737],\n",
       "       [0.90460526, 0.90789474, 0.91118421, ..., 0.91282895, 0.91940789,\n",
       "        0.92927632],\n",
       "       ...,\n",
       "       [0.62664474, 0.75657895, 0.8125    , ..., 0.875     , 0.875     ,\n",
       "        0.89802632],\n",
       "       [0.62664474, 0.62664474, 0.77467105, ..., 0.83059211, 0.83059211,\n",
       "        0.83059211],\n",
       "       [0.8125    , 0.84868421, 0.85197368, ..., 0.88980263, 0.88980263,\n",
       "        0.88980263]])"
      ]
     },
     "execution_count": 109,
     "metadata": {},
     "output_type": "execute_result"
    }
   ],
   "source": [
    "peak_profile = np.zeros_like(test_profile)\n",
    "peak_profile[:, 0] = test_profile[:, 0]\n",
    "for i in range(1, peak_profile.shape[-1]):\n",
    "    peak_profile[:, i] = np.maximum(peak_profile[:, i-1], test_profile[:, i])\n",
    "peak_profile"
   ]
  },
  {
   "cell_type": "code",
   "execution_count": 110,
   "id": "98d354d0-f0fa-4d8e-8660-e5dc82ca8014",
   "metadata": {},
   "outputs": [
    {
     "data": {
      "text/plain": [
       "90.22550640106202"
      ]
     },
     "execution_count": 110,
     "metadata": {},
     "output_type": "execute_result"
    }
   ],
   "source": [
    "epoch_time = (df[\"train_time\"].values / 10).reshape(-1, 1) * np.arange(10).reshape(1, -1)\n",
    "np.max(epoch_time)"
   ]
  },
  {
   "cell_type": "code",
   "execution_count": 111,
   "id": "c80db4d9-68d9-4639-912d-145a68266aa1",
   "metadata": {},
   "outputs": [
    {
     "data": {
      "text/plain": [
       "array([[0.875     , 0.95230263, 0.95230263, ..., 0.95723684, 0.95723684,\n",
       "        0.95723684],\n",
       "       [0.93092105, 0.93092105, 0.93800438, ..., 0.95394737, 0.95394737,\n",
       "        0.95394737],\n",
       "       [0.90460526, 0.91048425, 0.91118421, ..., 0.92927632, 0.92927632,\n",
       "        0.92927632],\n",
       "       ...,\n",
       "       [0.62664474, 0.75943389, 0.81888163, ..., 0.89802632, 0.89802632,\n",
       "        0.89802632],\n",
       "       [0.62664474, 0.77467105, 0.83059211, ..., 0.83059211, 0.83059211,\n",
       "        0.83059211],\n",
       "       [0.8125    , 0.88519409, 0.88980263, ..., 0.88980263, 0.88980263,\n",
       "        0.88980263]])"
      ]
     },
     "execution_count": 111,
     "metadata": {},
     "output_type": "execute_result"
    }
   ],
   "source": [
    "sample_times = np.arange(0, np.max(epoch_time), 1)\n",
    "peak_profile_time = np.zeros((peak_profile.shape[0], sample_times.shape[0]))\n",
    "for i in range(0, peak_profile.shape[0]):\n",
    "    peak_profile_time[i] = np.interp(sample_times, epoch_time[i], peak_profile[i])\n",
    "peak_profile_time"
   ]
  },
  {
   "cell_type": "code",
   "execution_count": 112,
   "id": "68554602-e309-40d0-91bd-13d80fa0216f",
   "metadata": {},
   "outputs": [],
   "source": [
    "# px.line(x=sample_times, y=peak_profile_time[:5].tolist() + peak_profile_time[-5:].tolist())"
   ]
  },
  {
   "cell_type": "code",
   "execution_count": 113,
   "id": "a758cee1-d72b-4baa-bb93-56eab10e0eb9",
   "metadata": {},
   "outputs": [
    {
     "data": {
      "application/vnd.plotly.v1+json": {
       "config": {
        "plotlyServerURL": "https://plot.ly"
       },
       "data": [
        {
         "alignmentgroup": "True",
         "hovertemplate": "<b>%{hovertext}</b><br><br>variable=wide_variable_0<br>Model & Dataset=%{x}<br>Test Accuracy=%{y}<extra></extra>",
         "hovertext": [
          "dla46x_c pneumonia",
          "dla46_c pneumonia",
          "mobilevitv2_050 pneumonia",
          "mobilenetv2_050 pneumonia",
          "semnasnet_075 pneumonia",
          "pvt_v2_b0 pneumonia",
          "convnext_atto pneumonia",
          "mnasnet_100 pneumonia",
          "spnasnet_100 pneumonia",
          "ghostnet_100 pneumonia",
          "hardcorenas_a pneumonia",
          "efficientnet_b0 pneumonia",
          "fbnetc_100 pneumonia",
          "mobilevit_s pneumonia",
          "tinynet_a pneumonia",
          "ese_vovnet19b_dw pneumonia",
          "densenet121 pneumonia",
          "densenetblur121d pneumonia",
          "crossvit_9_240 pneumonia",
          "fbnetv3_b pneumonia",
          "resnet14t pneumonia",
          "seresnext26ts pneumonia",
          "gcresnext26ts pneumonia",
          "eca_botnext26ts_256 pneumonia",
          "bat_resnext26ts pneumonia",
          "lambda_resnet26rpt_256 pneumonia",
          "resnet18d pneumonia",
          "halonet26t pneumonia",
          "botnet26t_256 pneumonia",
          "dpn68 pneumonia",
          "dpn68b pneumonia",
          "gc_efficientnetv2_rw_t pneumonia",
          "sehalonet33ts pneumonia",
          "sebotnet33ts_256 pneumonia",
          "densenet169 pneumonia",
          "maxvit_nano_rw_256 pneumonia",
          "gcresnext50ts pneumonia",
          "dla34 pneumonia",
          "ecaresnet26t pneumonia",
          "resnet26d pneumonia",
          "maxxvit_rmlp_nano_rw_256 pneumonia",
          "seresnext26t_32x4d pneumonia",
          "seresnext26d_32x4d pneumonia",
          "dla60x pneumonia",
          "resnet32ts pneumonia",
          "edgenext_base pneumonia",
          "eca_resnet33ts pneumonia",
          "seresnet33ts pneumonia",
          "gcresnet33ts pneumonia",
          "densenet201 pneumonia",
          "cspresnext50 pneumonia",
          "regnetv_040 pneumonia",
          "convmixer_768_32 pneumonia",
          "cs3darknet_focus_l pneumonia",
          "hrnet_w18 pneumonia",
          "cspresnet50 pneumonia",
          "gluon_resnet34_v1b pneumonia",
          "resnet34d pneumonia",
          "cs3sedarknet_l pneumonia",
          "dla60 pneumonia",
          "lamhalobotnet50ts_256 pneumonia",
          "halo2botnet50ts_256 pneumonia",
          "halonet50ts pneumonia",
          "adv_inception_v3 pneumonia",
          "gluon_inception_v3 pneumonia",
          "res2next50 pneumonia",
          "resnext50d_32x4d pneumonia",
          "res2net50_14w_8s pneumonia",
          "resnetv2_50 pneumonia",
          "resnetblur50 pneumonia",
          "resnetaa50 pneumonia",
          "ecaresnet50t pneumonia",
          "ecaresnet50d pneumonia",
          "gcresnet50t pneumonia",
          "dla102x pneumonia",
          "xception41p pneumonia",
          "xception41 pneumonia",
          "gluon_seresnext50_32x4d pneumonia",
          "cspdarknet53 pneumonia",
          "legacy_seresnet50 pneumonia",
          "repvgg_a2 pneumonia",
          "convnext_tiny_hnf pneumonia",
          "densenet161 pneumonia",
          "ecaresnetlight pneumonia",
          "selecsls60 pneumonia",
          "gernet_l pneumonia",
          "selecsls42b pneumonia",
          "selecsls60b pneumonia",
          "dla102 pneumonia",
          "resnetrs50 pneumonia",
          "resnet51q pneumonia",
          "darknetaa53 pneumonia",
          "resnet61q pneumonia",
          "dpn92 pneumonia",
          "xception65p pneumonia",
          "gluon_xception65 pneumonia",
          "dla102x2 pneumonia",
          "xception71 pneumonia",
          "twins_pcpvt_base pneumonia",
          "gluon_resnext101_32x4d pneumonia",
          "ecaresnet101d pneumonia",
          "res2net101_26w_4s pneumonia",
          "cs3edgenet_x pneumonia",
          "gluon_seresnext101_32x4d pneumonia",
          "cs3se_edgenet_x pneumonia",
          "efficientnetv2_rw_m pneumonia",
          "dla169 pneumonia",
          "sequencer2d_l pneumonia",
          "poolformer_m36 pneumonia",
          "gluon_resnet152_v1b pneumonia",
          "resnet152d pneumonia",
          "dpn98 pneumonia",
          "resnetrs101 pneumonia",
          "resnet200d pneumonia",
          "seresnet152d pneumonia",
          "wide_resnet50_2 pneumonia",
          "dm_nfnet_f0 pneumonia",
          "dpn131 pneumonia",
          "pnasnet5large pneumonia",
          "resnetrs152 pneumonia",
          "dpn107 pneumonia",
          "swinv2_base_window8_256 pneumonia",
          "nasnetalarge pneumonia",
          "resnetrs200 pneumonia",
          "seresnext101d_32x8d pneumonia",
          "seresnextaa101d_32x8d pneumonia",
          "ecaresnet269d pneumonia",
          "legacy_senet154 pneumonia",
          "resnetrs270 pneumonia",
          "vgg11 pneumonia",
          "vgg13 pneumonia",
          "dla46x_c pneumonia_small",
          "dla46_c pneumonia_small",
          "mobilevitv2_050 pneumonia_small",
          "mobilenetv2_050 pneumonia_small",
          "semnasnet_075 pneumonia_small",
          "pvt_v2_b0 pneumonia_small",
          "convnext_atto pneumonia_small",
          "mnasnet_100 pneumonia_small",
          "spnasnet_100 pneumonia_small",
          "ghostnet_100 pneumonia_small",
          "hardcorenas_a pneumonia_small",
          "efficientnet_b0 pneumonia_small",
          "fbnetc_100 pneumonia_small",
          "mobilevit_s pneumonia_small",
          "tinynet_a pneumonia_small",
          "ese_vovnet19b_dw pneumonia_small",
          "densenet121 pneumonia_small",
          "densenetblur121d pneumonia_small",
          "crossvit_9_240 pneumonia_small",
          "fbnetv3_b pneumonia_small",
          "resnet14t pneumonia_small",
          "seresnext26ts pneumonia_small",
          "gcresnext26ts pneumonia_small",
          "eca_botnext26ts_256 pneumonia_small",
          "bat_resnext26ts pneumonia_small",
          "lambda_resnet26rpt_256 pneumonia_small",
          "resnet18d pneumonia_small",
          "halonet26t pneumonia_small",
          "botnet26t_256 pneumonia_small",
          "dpn68 pneumonia_small",
          "dpn68b pneumonia_small",
          "gc_efficientnetv2_rw_t pneumonia_small",
          "sehalonet33ts pneumonia_small",
          "sebotnet33ts_256 pneumonia_small",
          "densenet169 pneumonia_small",
          "maxvit_nano_rw_256 pneumonia_small",
          "gcresnext50ts pneumonia_small",
          "dla34 pneumonia_small",
          "ecaresnet26t pneumonia_small",
          "resnet26d pneumonia_small",
          "maxxvit_rmlp_nano_rw_256 pneumonia_small",
          "seresnext26t_32x4d pneumonia_small",
          "seresnext26d_32x4d pneumonia_small",
          "dla60x pneumonia_small",
          "resnet32ts pneumonia_small",
          "edgenext_base pneumonia_small",
          "eca_resnet33ts pneumonia_small",
          "seresnet33ts pneumonia_small",
          "gcresnet33ts pneumonia_small",
          "densenet201 pneumonia_small",
          "cspresnext50 pneumonia_small",
          "regnetv_040 pneumonia_small",
          "convmixer_768_32 pneumonia_small",
          "cs3darknet_focus_l pneumonia_small",
          "hrnet_w18 pneumonia_small",
          "cspresnet50 pneumonia_small",
          "gluon_resnet34_v1b pneumonia_small",
          "resnet34d pneumonia_small",
          "cs3sedarknet_l pneumonia_small",
          "dla60 pneumonia_small",
          "lamhalobotnet50ts_256 pneumonia_small",
          "halo2botnet50ts_256 pneumonia_small",
          "halonet50ts pneumonia_small",
          "adv_inception_v3 pneumonia_small",
          "gluon_inception_v3 pneumonia_small",
          "res2next50 pneumonia_small",
          "resnext50d_32x4d pneumonia_small",
          "res2net50_14w_8s pneumonia_small",
          "resnetv2_50 pneumonia_small",
          "resnetblur50 pneumonia_small",
          "resnetaa50 pneumonia_small",
          "ecaresnet50t pneumonia_small",
          "ecaresnet50d pneumonia_small",
          "gcresnet50t pneumonia_small",
          "dla102x pneumonia_small",
          "xception41p pneumonia_small",
          "xception41 pneumonia_small",
          "gluon_seresnext50_32x4d pneumonia_small",
          "cspdarknet53 pneumonia_small",
          "legacy_seresnet50 pneumonia_small",
          "repvgg_a2 pneumonia_small",
          "convnext_tiny_hnf pneumonia_small",
          "densenet161 pneumonia_small",
          "ecaresnetlight pneumonia_small",
          "selecsls60 pneumonia_small",
          "gernet_l pneumonia_small",
          "selecsls42b pneumonia_small",
          "selecsls60b pneumonia_small",
          "dla102 pneumonia_small",
          "resnetrs50 pneumonia_small",
          "resnet51q pneumonia_small",
          "darknetaa53 pneumonia_small",
          "resnet61q pneumonia_small",
          "dpn92 pneumonia_small",
          "xception65p pneumonia_small",
          "gluon_xception65 pneumonia_small",
          "dla102x2 pneumonia_small",
          "xception71 pneumonia_small",
          "twins_pcpvt_base pneumonia_small",
          "gluon_resnext101_32x4d pneumonia_small",
          "ecaresnet101d pneumonia_small",
          "res2net101_26w_4s pneumonia_small",
          "cs3edgenet_x pneumonia_small",
          "gluon_seresnext101_32x4d pneumonia_small",
          "cs3se_edgenet_x pneumonia_small",
          "efficientnetv2_rw_m pneumonia_small",
          "dla169 pneumonia_small",
          "sequencer2d_l pneumonia_small",
          "poolformer_m36 pneumonia_small",
          "gluon_resnet152_v1b pneumonia_small",
          "resnet152d pneumonia_small",
          "dpn98 pneumonia_small",
          "resnetrs101 pneumonia_small",
          "resnet200d pneumonia_small",
          "seresnet152d pneumonia_small",
          "wide_resnet50_2 pneumonia_small",
          "dm_nfnet_f0 pneumonia_small",
          "dpn131 pneumonia_small",
          "pnasnet5large pneumonia_small",
          "resnetrs152 pneumonia_small",
          "dpn107 pneumonia_small",
          "swinv2_base_window8_256 pneumonia_small",
          "nasnetalarge pneumonia_small",
          "resnetrs200 pneumonia_small",
          "seresnext101d_32x8d pneumonia_small",
          "seresnextaa101d_32x8d pneumonia_small",
          "ecaresnet269d pneumonia_small",
          "legacy_senet154 pneumonia_small",
          "resnetrs270 pneumonia_small",
          "vgg11 pneumonia_small",
          "vgg13 pneumonia_small"
         ],
         "legendgroup": "wide_variable_0",
         "marker": {
          "color": "#636efa",
          "pattern": {
           "shape": ""
          }
         },
         "name": "wide_variable_0",
         "offsetgroup": "wide_variable_0",
         "orientation": "v",
         "showlegend": true,
         "textposition": "auto",
         "type": "bar",
         "x": [
          0,
          1,
          2,
          3,
          4,
          5,
          6,
          7,
          8,
          9,
          10,
          11,
          12,
          13,
          14,
          15,
          16,
          17,
          18,
          19,
          20,
          21,
          22,
          23,
          24,
          25,
          26,
          27,
          28,
          29,
          30,
          31,
          32,
          33,
          34,
          35,
          36,
          37,
          38,
          39,
          40,
          41,
          42,
          43,
          44,
          45,
          46,
          47,
          48,
          49,
          50,
          51,
          52,
          53,
          54,
          55,
          56,
          57,
          58,
          59,
          60,
          61,
          62,
          63,
          64,
          65,
          66,
          67,
          68,
          69,
          70,
          71,
          72,
          73,
          74,
          75,
          76,
          77,
          78,
          79,
          80,
          81,
          82,
          83,
          84,
          85,
          86,
          87,
          88,
          89,
          90,
          91,
          92,
          93,
          94,
          95,
          96,
          97,
          98,
          99,
          100,
          101,
          102,
          103,
          104,
          105,
          106,
          107,
          108,
          109,
          110,
          111,
          112,
          113,
          114,
          115,
          116,
          117,
          118,
          119,
          120,
          121,
          122,
          123,
          124,
          125,
          126,
          127,
          128,
          129,
          130,
          131,
          132,
          133,
          134,
          135,
          136,
          137,
          138,
          139,
          140,
          141,
          142,
          143,
          144,
          145,
          146,
          147,
          148,
          149,
          150,
          151,
          152,
          153,
          154,
          155,
          156,
          157,
          158,
          159,
          160,
          161,
          162,
          163,
          164,
          165,
          166,
          167,
          168,
          169,
          170,
          171,
          172,
          173,
          174,
          175,
          176,
          177,
          178,
          179,
          180,
          181,
          182,
          183,
          184,
          185,
          186,
          187,
          188,
          189,
          190,
          191,
          192,
          193,
          194,
          195,
          196,
          197,
          198,
          199,
          200,
          201,
          202,
          203,
          204,
          205,
          206,
          207,
          208,
          209,
          210,
          211,
          212,
          213,
          214,
          215,
          216,
          217,
          218,
          219,
          220,
          221,
          222,
          223,
          224,
          225,
          226,
          227,
          228,
          229,
          230,
          231,
          232,
          233,
          234,
          235,
          236,
          237,
          238,
          239,
          240,
          241,
          242,
          243,
          244,
          245,
          246,
          247,
          248,
          249,
          250,
          251,
          252,
          253,
          254,
          255,
          256,
          257,
          258,
          259,
          260,
          261
         ],
         "xaxis": "x",
         "y": [
          0.9523026315789472,
          0.9473684210526316,
          0.9111842105263158,
          0.907594344822186,
          0.9490131578947368,
          0.8305921052631579,
          0.9276315789473684,
          0.9259868421052632,
          0.9142595601679617,
          0.9473684210526316,
          0.955592105263158,
          0.9588815789473684,
          0.9276315789473684,
          0.9490131578947368,
          0.9358552631578948,
          0.9588815789473684,
          0.8931119702020687,
          0.912828947368421,
          0.9292763157894736,
          0.962171052631579,
          0.9539473684210528,
          0.9177631578947368,
          0.9526230537994473,
          0.944078947368421,
          0.950657894736842,
          0.9249048307248265,
          0.9292763157894736,
          0.9479871610290816,
          0.9605263157894736,
          0.9296108556907581,
          0.9407894736842104,
          0.9276315789473684,
          0.8531859884556559,
          0.932519889145975,
          0.9638157894736842,
          0.8634868421052632,
          0.9178981664858635,
          0.9539473684210528,
          0.9325657894736842,
          0.8968634403353329,
          0.8766447368421053,
          0.923053373093958,
          0.9259868421052632,
          0.9375,
          0.9588815789473684,
          0.9490131578947368,
          0.9391447368421052,
          0.9523026315789472,
          0.9490131578947368,
          0.9415672861734461,
          0.955592105263158,
          0.9477366094869144,
          0.9261426831170558,
          0.9473684210526316,
          0.9588815789473684,
          0.9457236842105264,
          0.899671052631579,
          0.944078947368421,
          0.9161184210526316,
          0.9375,
          0.9161184210526316,
          0.8777932126650271,
          0.8470394736842105,
          0.950657894736842,
          0.9292763157894736,
          0.9523026315789472,
          0.9391447368421052,
          0.9095394736842104,
          0.9473684210526316,
          0.9464346119048834,
          0.948672871910569,
          0.9457236842105264,
          0.9325657894736842,
          0.9572368421052632,
          0.9395901992655658,
          0.9473684210526316,
          0.9130865471284292,
          0.9144094103749189,
          0.9408809042518396,
          0.9357376874411666,
          0.8465306849599219,
          0.7556084478724162,
          0.881569976682463,
          0.944078947368421,
          0.9046052631578948,
          0.9572368421052632,
          0.9292763157894736,
          0.868421052631579,
          0.9320853498186557,
          0.8865131578947368,
          0.9420521704869623,
          0.9458988698637507,
          0.9249478291919291,
          0.9046052631578948,
          0.9167912765105202,
          0.924342105263158,
          0.9518472817375243,
          0.9177631578947368,
          0.9029605263157896,
          0.9259868421052632,
          0.9210526315789472,
          0.9529270699985943,
          0.9046052631578948,
          0.9336394341479619,
          0.9342105263157896,
          0.930921052631579,
          0.9163985979871239,
          0.8489351425592634,
          0.9292380204483411,
          0.9078557903091373,
          0.8569078947368421,
          0.8717105263157895,
          0.8951203570580525,
          0.9360050527060086,
          0.8898026315789473,
          0.950657894736842,
          0.7648026315789473,
          0.9198663533065061,
          0.9144736842105264,
          0.9290316752630655,
          0.8682411022917221,
          0.6982820523969309,
          0.9342105263157896,
          0.8585526315789473,
          0.9375,
          0.915605648840952,
          0.8437749340823162,
          0.9128876867820973,
          0.8543318526905681,
          0.9379667042228137,
          0.919407894736842,
          0.904605263157895,
          0.899671052631579,
          0.90296052631579,
          0.856907894736842,
          0.879934210526316,
          0.883223684210526,
          0.912828947368421,
          0.850328947368421,
          0.90953947368421,
          0.891447368421053,
          0.901315789473684,
          0.875,
          0.884868421052632,
          0.904605263157895,
          0.90953947368421,
          0.899671052631579,
          0.875,
          0.898026315789474,
          0.917763157894737,
          0.894736842105263,
          0.894736842105263,
          0.879934210526316,
          0.90625,
          0.90296052631579,
          0.893092105263158,
          0.912828947368421,
          0.881578947368421,
          0.894736842105263,
          0.879934210526316,
          0.932565789473684,
          0.860197368421053,
          0.850328947368421,
          0.891447368421053,
          0.87828947368421,
          0.899671052631579,
          0.873355263157895,
          0.889802631578947,
          0.90953947368421,
          0.894736842105263,
          0.914473684210526,
          0.626644736842105,
          0.899671052631579,
          0.893092105263158,
          0.90953947368421,
          0.924342105263158,
          0.939144736842105,
          0.889802631578947,
          0.912828947368421,
          0.917763157894737,
          0.919407894736842,
          0.912828947368421,
          0.929276315789473,
          0.7271579057082379,
          0.921052631578947,
          0.932565789473684,
          0.924342105263158,
          0.894736842105263,
          0.893092105263158,
          0.929276315789473,
          0.929276315789473,
          0.896381578947369,
          0.919407894736842,
          0.871710526315789,
          0.899671052631579,
          0.884868421052632,
          0.879934210526316,
          0.93421052631579,
          0.930921052631579,
          0.866776315789474,
          0.916118421052632,
          0.907894736842105,
          0.891447368421053,
          0.927631578947368,
          0.90296052631579,
          0.942434210526316,
          0.917763157894737,
          0.927631578947368,
          0.921052631578947,
          0.924342105263158,
          0.866776315789474,
          0.90296052631579,
          0.840460526315789,
          0.904605263157895,
          0.901315789473684,
          0.894736842105263,
          0.919407894736842,
          0.884868421052632,
          0.914473684210526,
          0.919407894736842,
          0.87828947368421,
          0.924342105263158,
          0.90625,
          0.881578947368421,
          0.93421052631579,
          0.884868421052632,
          0.9157506721579179,
          0.916118421052632,
          0.93421052631579,
          0.825657894736842,
          0.90296052631579,
          0.90625,
          0.90625,
          0.93421052631579,
          0.945723684210526,
          0.911184210526316,
          0.929276315789473,
          0.889802631578947,
          0.856907894736842,
          0.9008190432778084,
          0.925986842105263,
          0.889802631578947,
          0.9375,
          0.919407894736842,
          0.894736842105263,
          0.8724877210211637,
          0.87828947368421,
          0.677960526315789,
          0.9094888711352745,
          0.944078947368421,
          0.93421052631579,
          0.8801679687645376,
          0.8122020928336816,
          0.876644736842105,
          0.837171052631579,
          0.889802631578947,
          0.87828947368421,
          0.741776315789474,
          0.856907894736842,
          0.875,
          0.830592105263158,
          0.889802631578947
         ],
         "yaxis": "y"
        },
        {
         "alignmentgroup": "True",
         "hovertemplate": "<b>%{hovertext}</b><br><br>variable=wide_variable_1<br>Model & Dataset=%{x}<br>Test Accuracy=%{y}<extra></extra>",
         "hovertext": [
          "dla46x_c pneumonia",
          "dla46_c pneumonia",
          "mobilevitv2_050 pneumonia",
          "mobilenetv2_050 pneumonia",
          "semnasnet_075 pneumonia",
          "pvt_v2_b0 pneumonia",
          "convnext_atto pneumonia",
          "mnasnet_100 pneumonia",
          "spnasnet_100 pneumonia",
          "ghostnet_100 pneumonia",
          "hardcorenas_a pneumonia",
          "efficientnet_b0 pneumonia",
          "fbnetc_100 pneumonia",
          "mobilevit_s pneumonia",
          "tinynet_a pneumonia",
          "ese_vovnet19b_dw pneumonia",
          "densenet121 pneumonia",
          "densenetblur121d pneumonia",
          "crossvit_9_240 pneumonia",
          "fbnetv3_b pneumonia",
          "resnet14t pneumonia",
          "seresnext26ts pneumonia",
          "gcresnext26ts pneumonia",
          "eca_botnext26ts_256 pneumonia",
          "bat_resnext26ts pneumonia",
          "lambda_resnet26rpt_256 pneumonia",
          "resnet18d pneumonia",
          "halonet26t pneumonia",
          "botnet26t_256 pneumonia",
          "dpn68 pneumonia",
          "dpn68b pneumonia",
          "gc_efficientnetv2_rw_t pneumonia",
          "sehalonet33ts pneumonia",
          "sebotnet33ts_256 pneumonia",
          "densenet169 pneumonia",
          "maxvit_nano_rw_256 pneumonia",
          "gcresnext50ts pneumonia",
          "dla34 pneumonia",
          "ecaresnet26t pneumonia",
          "resnet26d pneumonia",
          "maxxvit_rmlp_nano_rw_256 pneumonia",
          "seresnext26t_32x4d pneumonia",
          "seresnext26d_32x4d pneumonia",
          "dla60x pneumonia",
          "resnet32ts pneumonia",
          "edgenext_base pneumonia",
          "eca_resnet33ts pneumonia",
          "seresnet33ts pneumonia",
          "gcresnet33ts pneumonia",
          "densenet201 pneumonia",
          "cspresnext50 pneumonia",
          "regnetv_040 pneumonia",
          "convmixer_768_32 pneumonia",
          "cs3darknet_focus_l pneumonia",
          "hrnet_w18 pneumonia",
          "cspresnet50 pneumonia",
          "gluon_resnet34_v1b pneumonia",
          "resnet34d pneumonia",
          "cs3sedarknet_l pneumonia",
          "dla60 pneumonia",
          "lamhalobotnet50ts_256 pneumonia",
          "halo2botnet50ts_256 pneumonia",
          "halonet50ts pneumonia",
          "adv_inception_v3 pneumonia",
          "gluon_inception_v3 pneumonia",
          "res2next50 pneumonia",
          "resnext50d_32x4d pneumonia",
          "res2net50_14w_8s pneumonia",
          "resnetv2_50 pneumonia",
          "resnetblur50 pneumonia",
          "resnetaa50 pneumonia",
          "ecaresnet50t pneumonia",
          "ecaresnet50d pneumonia",
          "gcresnet50t pneumonia",
          "dla102x pneumonia",
          "xception41p pneumonia",
          "xception41 pneumonia",
          "gluon_seresnext50_32x4d pneumonia",
          "cspdarknet53 pneumonia",
          "legacy_seresnet50 pneumonia",
          "repvgg_a2 pneumonia",
          "convnext_tiny_hnf pneumonia",
          "densenet161 pneumonia",
          "ecaresnetlight pneumonia",
          "selecsls60 pneumonia",
          "gernet_l pneumonia",
          "selecsls42b pneumonia",
          "selecsls60b pneumonia",
          "dla102 pneumonia",
          "resnetrs50 pneumonia",
          "resnet51q pneumonia",
          "darknetaa53 pneumonia",
          "resnet61q pneumonia",
          "dpn92 pneumonia",
          "xception65p pneumonia",
          "gluon_xception65 pneumonia",
          "dla102x2 pneumonia",
          "xception71 pneumonia",
          "twins_pcpvt_base pneumonia",
          "gluon_resnext101_32x4d pneumonia",
          "ecaresnet101d pneumonia",
          "res2net101_26w_4s pneumonia",
          "cs3edgenet_x pneumonia",
          "gluon_seresnext101_32x4d pneumonia",
          "cs3se_edgenet_x pneumonia",
          "efficientnetv2_rw_m pneumonia",
          "dla169 pneumonia",
          "sequencer2d_l pneumonia",
          "poolformer_m36 pneumonia",
          "gluon_resnet152_v1b pneumonia",
          "resnet152d pneumonia",
          "dpn98 pneumonia",
          "resnetrs101 pneumonia",
          "resnet200d pneumonia",
          "seresnet152d pneumonia",
          "wide_resnet50_2 pneumonia",
          "dm_nfnet_f0 pneumonia",
          "dpn131 pneumonia",
          "pnasnet5large pneumonia",
          "resnetrs152 pneumonia",
          "dpn107 pneumonia",
          "swinv2_base_window8_256 pneumonia",
          "nasnetalarge pneumonia",
          "resnetrs200 pneumonia",
          "seresnext101d_32x8d pneumonia",
          "seresnextaa101d_32x8d pneumonia",
          "ecaresnet269d pneumonia",
          "legacy_senet154 pneumonia",
          "resnetrs270 pneumonia",
          "vgg11 pneumonia",
          "vgg13 pneumonia",
          "dla46x_c pneumonia_small",
          "dla46_c pneumonia_small",
          "mobilevitv2_050 pneumonia_small",
          "mobilenetv2_050 pneumonia_small",
          "semnasnet_075 pneumonia_small",
          "pvt_v2_b0 pneumonia_small",
          "convnext_atto pneumonia_small",
          "mnasnet_100 pneumonia_small",
          "spnasnet_100 pneumonia_small",
          "ghostnet_100 pneumonia_small",
          "hardcorenas_a pneumonia_small",
          "efficientnet_b0 pneumonia_small",
          "fbnetc_100 pneumonia_small",
          "mobilevit_s pneumonia_small",
          "tinynet_a pneumonia_small",
          "ese_vovnet19b_dw pneumonia_small",
          "densenet121 pneumonia_small",
          "densenetblur121d pneumonia_small",
          "crossvit_9_240 pneumonia_small",
          "fbnetv3_b pneumonia_small",
          "resnet14t pneumonia_small",
          "seresnext26ts pneumonia_small",
          "gcresnext26ts pneumonia_small",
          "eca_botnext26ts_256 pneumonia_small",
          "bat_resnext26ts pneumonia_small",
          "lambda_resnet26rpt_256 pneumonia_small",
          "resnet18d pneumonia_small",
          "halonet26t pneumonia_small",
          "botnet26t_256 pneumonia_small",
          "dpn68 pneumonia_small",
          "dpn68b pneumonia_small",
          "gc_efficientnetv2_rw_t pneumonia_small",
          "sehalonet33ts pneumonia_small",
          "sebotnet33ts_256 pneumonia_small",
          "densenet169 pneumonia_small",
          "maxvit_nano_rw_256 pneumonia_small",
          "gcresnext50ts pneumonia_small",
          "dla34 pneumonia_small",
          "ecaresnet26t pneumonia_small",
          "resnet26d pneumonia_small",
          "maxxvit_rmlp_nano_rw_256 pneumonia_small",
          "seresnext26t_32x4d pneumonia_small",
          "seresnext26d_32x4d pneumonia_small",
          "dla60x pneumonia_small",
          "resnet32ts pneumonia_small",
          "edgenext_base pneumonia_small",
          "eca_resnet33ts pneumonia_small",
          "seresnet33ts pneumonia_small",
          "gcresnet33ts pneumonia_small",
          "densenet201 pneumonia_small",
          "cspresnext50 pneumonia_small",
          "regnetv_040 pneumonia_small",
          "convmixer_768_32 pneumonia_small",
          "cs3darknet_focus_l pneumonia_small",
          "hrnet_w18 pneumonia_small",
          "cspresnet50 pneumonia_small",
          "gluon_resnet34_v1b pneumonia_small",
          "resnet34d pneumonia_small",
          "cs3sedarknet_l pneumonia_small",
          "dla60 pneumonia_small",
          "lamhalobotnet50ts_256 pneumonia_small",
          "halo2botnet50ts_256 pneumonia_small",
          "halonet50ts pneumonia_small",
          "adv_inception_v3 pneumonia_small",
          "gluon_inception_v3 pneumonia_small",
          "res2next50 pneumonia_small",
          "resnext50d_32x4d pneumonia_small",
          "res2net50_14w_8s pneumonia_small",
          "resnetv2_50 pneumonia_small",
          "resnetblur50 pneumonia_small",
          "resnetaa50 pneumonia_small",
          "ecaresnet50t pneumonia_small",
          "ecaresnet50d pneumonia_small",
          "gcresnet50t pneumonia_small",
          "dla102x pneumonia_small",
          "xception41p pneumonia_small",
          "xception41 pneumonia_small",
          "gluon_seresnext50_32x4d pneumonia_small",
          "cspdarknet53 pneumonia_small",
          "legacy_seresnet50 pneumonia_small",
          "repvgg_a2 pneumonia_small",
          "convnext_tiny_hnf pneumonia_small",
          "densenet161 pneumonia_small",
          "ecaresnetlight pneumonia_small",
          "selecsls60 pneumonia_small",
          "gernet_l pneumonia_small",
          "selecsls42b pneumonia_small",
          "selecsls60b pneumonia_small",
          "dla102 pneumonia_small",
          "resnetrs50 pneumonia_small",
          "resnet51q pneumonia_small",
          "darknetaa53 pneumonia_small",
          "resnet61q pneumonia_small",
          "dpn92 pneumonia_small",
          "xception65p pneumonia_small",
          "gluon_xception65 pneumonia_small",
          "dla102x2 pneumonia_small",
          "xception71 pneumonia_small",
          "twins_pcpvt_base pneumonia_small",
          "gluon_resnext101_32x4d pneumonia_small",
          "ecaresnet101d pneumonia_small",
          "res2net101_26w_4s pneumonia_small",
          "cs3edgenet_x pneumonia_small",
          "gluon_seresnext101_32x4d pneumonia_small",
          "cs3se_edgenet_x pneumonia_small",
          "efficientnetv2_rw_m pneumonia_small",
          "dla169 pneumonia_small",
          "sequencer2d_l pneumonia_small",
          "poolformer_m36 pneumonia_small",
          "gluon_resnet152_v1b pneumonia_small",
          "resnet152d pneumonia_small",
          "dpn98 pneumonia_small",
          "resnetrs101 pneumonia_small",
          "resnet200d pneumonia_small",
          "seresnet152d pneumonia_small",
          "wide_resnet50_2 pneumonia_small",
          "dm_nfnet_f0 pneumonia_small",
          "dpn131 pneumonia_small",
          "pnasnet5large pneumonia_small",
          "resnetrs152 pneumonia_small",
          "dpn107 pneumonia_small",
          "swinv2_base_window8_256 pneumonia_small",
          "nasnetalarge pneumonia_small",
          "resnetrs200 pneumonia_small",
          "seresnext101d_32x8d pneumonia_small",
          "seresnextaa101d_32x8d pneumonia_small",
          "ecaresnet269d pneumonia_small",
          "legacy_senet154 pneumonia_small",
          "resnetrs270 pneumonia_small",
          "vgg11 pneumonia_small",
          "vgg13 pneumonia_small"
         ],
         "legendgroup": "wide_variable_1",
         "marker": {
          "color": "#EF553B",
          "pattern": {
           "shape": ""
          }
         },
         "name": "wide_variable_1",
         "offsetgroup": "wide_variable_1",
         "orientation": "v",
         "showlegend": true,
         "textposition": "auto",
         "type": "bar",
         "x": [
          0,
          1,
          2,
          3,
          4,
          5,
          6,
          7,
          8,
          9,
          10,
          11,
          12,
          13,
          14,
          15,
          16,
          17,
          18,
          19,
          20,
          21,
          22,
          23,
          24,
          25,
          26,
          27,
          28,
          29,
          30,
          31,
          32,
          33,
          34,
          35,
          36,
          37,
          38,
          39,
          40,
          41,
          42,
          43,
          44,
          45,
          46,
          47,
          48,
          49,
          50,
          51,
          52,
          53,
          54,
          55,
          56,
          57,
          58,
          59,
          60,
          61,
          62,
          63,
          64,
          65,
          66,
          67,
          68,
          69,
          70,
          71,
          72,
          73,
          74,
          75,
          76,
          77,
          78,
          79,
          80,
          81,
          82,
          83,
          84,
          85,
          86,
          87,
          88,
          89,
          90,
          91,
          92,
          93,
          94,
          95,
          96,
          97,
          98,
          99,
          100,
          101,
          102,
          103,
          104,
          105,
          106,
          107,
          108,
          109,
          110,
          111,
          112,
          113,
          114,
          115,
          116,
          117,
          118,
          119,
          120,
          121,
          122,
          123,
          124,
          125,
          126,
          127,
          128,
          129,
          130,
          131,
          132,
          133,
          134,
          135,
          136,
          137,
          138,
          139,
          140,
          141,
          142,
          143,
          144,
          145,
          146,
          147,
          148,
          149,
          150,
          151,
          152,
          153,
          154,
          155,
          156,
          157,
          158,
          159,
          160,
          161,
          162,
          163,
          164,
          165,
          166,
          167,
          168,
          169,
          170,
          171,
          172,
          173,
          174,
          175,
          176,
          177,
          178,
          179,
          180,
          181,
          182,
          183,
          184,
          185,
          186,
          187,
          188,
          189,
          190,
          191,
          192,
          193,
          194,
          195,
          196,
          197,
          198,
          199,
          200,
          201,
          202,
          203,
          204,
          205,
          206,
          207,
          208,
          209,
          210,
          211,
          212,
          213,
          214,
          215,
          216,
          217,
          218,
          219,
          220,
          221,
          222,
          223,
          224,
          225,
          226,
          227,
          228,
          229,
          230,
          231,
          232,
          233,
          234,
          235,
          236,
          237,
          238,
          239,
          240,
          241,
          242,
          243,
          244,
          245,
          246,
          247,
          248,
          249,
          250,
          251,
          252,
          253,
          254,
          255,
          256,
          257,
          258,
          259,
          260,
          261
         ],
         "xaxis": "x",
         "y": [
          0.00493421052631593,
          0.006578947368421129,
          0.018092105263157743,
          0.010168813072550797,
          0,
          0,
          0,
          0,
          0.011727281937301437,
          0,
          0,
          0,
          0,
          0.006578947368421129,
          0.0016447368421051989,
          0,
          0.055901187692668164,
          0.019736842105263164,
          0,
          0,
          0,
          0.019736842105263164,
          0.0029690514637106258,
          0,
          0,
          0.012595169275173457,
          0,
          0.007604944234076316,
          0,
          0.027625986414505088,
          0,
          0.016447368421052655,
          0.09747190628118618,
          0.02142747927507782,
          0,
          0.0657894736842104,
          0.024536044040452287,
          0,
          0,
          0.0505049807172987,
          0,
          0.0341834690113052,
          0.019736842105263275,
          0.009868421052631637,
          0,
          0.009868421052631526,
          0,
          0,
          0.018092105263157965,
          0.01402481908971187,
          0.0016447368421051989,
          0.012789706302559156,
          0.00806784319873377,
          0,
          0,
          0.009868421052631526,
          0.041118421052631415,
          0,
          0.046052631578947345,
          0.013157894736842035,
          0.02796052631578938,
          0.07779889259813089,
          0.06085526315789469,
          0,
          0.024671052631579204,
          0,
          0.008223684210526438,
          0.052631578947368585,
          0,
          0.004223282831958608,
          0.00034028598416779854,
          0,
          0.011513157894736836,
          0,
          0.0077782217870658865,
          0.0016447368421051989,
          0.04415029497683398,
          0.03131427383560759,
          0.013066464169213199,
          0.018209680979886178,
          0.10577194661902534,
          0.1226810258117943,
          0.07895633910701061,
          0.014802631578947345,
          0.016447368421052433,
          0,
          0.019736842105263275,
          0.08059210526315785,
          0.015283071233975987,
          0.03947368421052633,
          0.021763618986721855,
          0.01298270908361765,
          0.025710065544912952,
          0.050986842105263164,
          0.04209030243684819,
          0.02467105263157887,
          0.010323770894054674,
          0.046052631578947345,
          0,
          0.03947368421052644,
          0.0296052631578948,
          0.009243982632984649,
          0.042763157894736836,
          0.021952671115196054,
          0.0016447368421051989,
          0.006578947368421018,
          0.03590403359182337,
          0.05402538375652621,
          0.04280145323586926,
          0.02470999916454686,
          0.08717105263157887,
          0.08388157894736847,
          0.06540595873142108,
          0.024521263083464917,
          0.06414473684210542,
          0,
          0.17105263157894746,
          0.04065996248296744,
          0.047697368421052544,
          0.034784114210618666,
          0.09228521349775143,
          0.1372442633925428,
          0.0345394736842104,
          0.11019736842105265,
          0.011513157894736836,
          0.02518382484325843,
          0.10359348697031545,
          0.05750705006000789,
          0.10290498941469506,
          0.004467506303502122,
          0,
          0,
          0,
          0,
          0,
          0,
          0,
          0,
          0,
          0,
          0,
          0,
          0,
          0,
          0,
          0,
          0,
          0,
          0,
          0,
          0,
          0,
          0,
          0,
          0,
          0,
          0,
          0,
          0,
          0,
          0,
          0,
          0,
          0,
          0,
          0,
          0,
          0,
          0,
          0,
          0,
          0,
          0,
          0,
          0,
          0,
          0,
          0,
          0,
          0,
          0,
          0,
          0,
          0.1560657785022881,
          0,
          0,
          0,
          0,
          0,
          0,
          0,
          0,
          0,
          0,
          0,
          0,
          0,
          0,
          0,
          0,
          0,
          0,
          0,
          0,
          0,
          0,
          0,
          0,
          0,
          0,
          0,
          0,
          0.018092105263157965,
          0,
          0,
          0,
          0,
          0,
          0,
          0,
          0,
          0,
          0,
          0,
          0,
          0,
          0.00036774889471402616,
          0,
          0,
          0.04605263157894701,
          0,
          0,
          0,
          0,
          0,
          0,
          0,
          0.01973684210526294,
          0.014802631578947012,
          0.0004967461958755859,
          0,
          0,
          0,
          0,
          0,
          0.028828068452520283,
          0,
          0.014473684210527082,
          0.018142707812093484,
          0,
          0,
          0.03430571544598837,
          0.03648211769263443,
          0.027960526315790046,
          0.04769736842105299,
          0.001644736842105976,
          0,
          0.09375,
          0,
          0.023026315789474006,
          0,
          0
         ],
         "yaxis": "y"
        }
       ],
       "layout": {
        "autosize": true,
        "barmode": "relative",
        "legend": {
         "title": {
          "text": "variable"
         },
         "tracegroupgap": 0
        },
        "template": {
         "data": {
          "bar": [
           {
            "error_x": {
             "color": "#2a3f5f"
            },
            "error_y": {
             "color": "#2a3f5f"
            },
            "marker": {
             "line": {
              "color": "#E5ECF6",
              "width": 0.5
             },
             "pattern": {
              "fillmode": "overlay",
              "size": 10,
              "solidity": 0.2
             }
            },
            "type": "bar"
           }
          ],
          "barpolar": [
           {
            "marker": {
             "line": {
              "color": "#E5ECF6",
              "width": 0.5
             },
             "pattern": {
              "fillmode": "overlay",
              "size": 10,
              "solidity": 0.2
             }
            },
            "type": "barpolar"
           }
          ],
          "carpet": [
           {
            "aaxis": {
             "endlinecolor": "#2a3f5f",
             "gridcolor": "white",
             "linecolor": "white",
             "minorgridcolor": "white",
             "startlinecolor": "#2a3f5f"
            },
            "baxis": {
             "endlinecolor": "#2a3f5f",
             "gridcolor": "white",
             "linecolor": "white",
             "minorgridcolor": "white",
             "startlinecolor": "#2a3f5f"
            },
            "type": "carpet"
           }
          ],
          "choropleth": [
           {
            "colorbar": {
             "outlinewidth": 0,
             "ticks": ""
            },
            "type": "choropleth"
           }
          ],
          "contour": [
           {
            "colorbar": {
             "outlinewidth": 0,
             "ticks": ""
            },
            "colorscale": [
             [
              0,
              "#0d0887"
             ],
             [
              0.1111111111111111,
              "#46039f"
             ],
             [
              0.2222222222222222,
              "#7201a8"
             ],
             [
              0.3333333333333333,
              "#9c179e"
             ],
             [
              0.4444444444444444,
              "#bd3786"
             ],
             [
              0.5555555555555556,
              "#d8576b"
             ],
             [
              0.6666666666666666,
              "#ed7953"
             ],
             [
              0.7777777777777778,
              "#fb9f3a"
             ],
             [
              0.8888888888888888,
              "#fdca26"
             ],
             [
              1,
              "#f0f921"
             ]
            ],
            "type": "contour"
           }
          ],
          "contourcarpet": [
           {
            "colorbar": {
             "outlinewidth": 0,
             "ticks": ""
            },
            "type": "contourcarpet"
           }
          ],
          "heatmap": [
           {
            "colorbar": {
             "outlinewidth": 0,
             "ticks": ""
            },
            "colorscale": [
             [
              0,
              "#0d0887"
             ],
             [
              0.1111111111111111,
              "#46039f"
             ],
             [
              0.2222222222222222,
              "#7201a8"
             ],
             [
              0.3333333333333333,
              "#9c179e"
             ],
             [
              0.4444444444444444,
              "#bd3786"
             ],
             [
              0.5555555555555556,
              "#d8576b"
             ],
             [
              0.6666666666666666,
              "#ed7953"
             ],
             [
              0.7777777777777778,
              "#fb9f3a"
             ],
             [
              0.8888888888888888,
              "#fdca26"
             ],
             [
              1,
              "#f0f921"
             ]
            ],
            "type": "heatmap"
           }
          ],
          "heatmapgl": [
           {
            "colorbar": {
             "outlinewidth": 0,
             "ticks": ""
            },
            "colorscale": [
             [
              0,
              "#0d0887"
             ],
             [
              0.1111111111111111,
              "#46039f"
             ],
             [
              0.2222222222222222,
              "#7201a8"
             ],
             [
              0.3333333333333333,
              "#9c179e"
             ],
             [
              0.4444444444444444,
              "#bd3786"
             ],
             [
              0.5555555555555556,
              "#d8576b"
             ],
             [
              0.6666666666666666,
              "#ed7953"
             ],
             [
              0.7777777777777778,
              "#fb9f3a"
             ],
             [
              0.8888888888888888,
              "#fdca26"
             ],
             [
              1,
              "#f0f921"
             ]
            ],
            "type": "heatmapgl"
           }
          ],
          "histogram": [
           {
            "marker": {
             "pattern": {
              "fillmode": "overlay",
              "size": 10,
              "solidity": 0.2
             }
            },
            "type": "histogram"
           }
          ],
          "histogram2d": [
           {
            "colorbar": {
             "outlinewidth": 0,
             "ticks": ""
            },
            "colorscale": [
             [
              0,
              "#0d0887"
             ],
             [
              0.1111111111111111,
              "#46039f"
             ],
             [
              0.2222222222222222,
              "#7201a8"
             ],
             [
              0.3333333333333333,
              "#9c179e"
             ],
             [
              0.4444444444444444,
              "#bd3786"
             ],
             [
              0.5555555555555556,
              "#d8576b"
             ],
             [
              0.6666666666666666,
              "#ed7953"
             ],
             [
              0.7777777777777778,
              "#fb9f3a"
             ],
             [
              0.8888888888888888,
              "#fdca26"
             ],
             [
              1,
              "#f0f921"
             ]
            ],
            "type": "histogram2d"
           }
          ],
          "histogram2dcontour": [
           {
            "colorbar": {
             "outlinewidth": 0,
             "ticks": ""
            },
            "colorscale": [
             [
              0,
              "#0d0887"
             ],
             [
              0.1111111111111111,
              "#46039f"
             ],
             [
              0.2222222222222222,
              "#7201a8"
             ],
             [
              0.3333333333333333,
              "#9c179e"
             ],
             [
              0.4444444444444444,
              "#bd3786"
             ],
             [
              0.5555555555555556,
              "#d8576b"
             ],
             [
              0.6666666666666666,
              "#ed7953"
             ],
             [
              0.7777777777777778,
              "#fb9f3a"
             ],
             [
              0.8888888888888888,
              "#fdca26"
             ],
             [
              1,
              "#f0f921"
             ]
            ],
            "type": "histogram2dcontour"
           }
          ],
          "mesh3d": [
           {
            "colorbar": {
             "outlinewidth": 0,
             "ticks": ""
            },
            "type": "mesh3d"
           }
          ],
          "parcoords": [
           {
            "line": {
             "colorbar": {
              "outlinewidth": 0,
              "ticks": ""
             }
            },
            "type": "parcoords"
           }
          ],
          "pie": [
           {
            "automargin": true,
            "type": "pie"
           }
          ],
          "scatter": [
           {
            "fillpattern": {
             "fillmode": "overlay",
             "size": 10,
             "solidity": 0.2
            },
            "type": "scatter"
           }
          ],
          "scatter3d": [
           {
            "line": {
             "colorbar": {
              "outlinewidth": 0,
              "ticks": ""
             }
            },
            "marker": {
             "colorbar": {
              "outlinewidth": 0,
              "ticks": ""
             }
            },
            "type": "scatter3d"
           }
          ],
          "scattercarpet": [
           {
            "marker": {
             "colorbar": {
              "outlinewidth": 0,
              "ticks": ""
             }
            },
            "type": "scattercarpet"
           }
          ],
          "scattergeo": [
           {
            "marker": {
             "colorbar": {
              "outlinewidth": 0,
              "ticks": ""
             }
            },
            "type": "scattergeo"
           }
          ],
          "scattergl": [
           {
            "marker": {
             "colorbar": {
              "outlinewidth": 0,
              "ticks": ""
             }
            },
            "type": "scattergl"
           }
          ],
          "scattermapbox": [
           {
            "marker": {
             "colorbar": {
              "outlinewidth": 0,
              "ticks": ""
             }
            },
            "type": "scattermapbox"
           }
          ],
          "scatterpolar": [
           {
            "marker": {
             "colorbar": {
              "outlinewidth": 0,
              "ticks": ""
             }
            },
            "type": "scatterpolar"
           }
          ],
          "scatterpolargl": [
           {
            "marker": {
             "colorbar": {
              "outlinewidth": 0,
              "ticks": ""
             }
            },
            "type": "scatterpolargl"
           }
          ],
          "scatterternary": [
           {
            "marker": {
             "colorbar": {
              "outlinewidth": 0,
              "ticks": ""
             }
            },
            "type": "scatterternary"
           }
          ],
          "surface": [
           {
            "colorbar": {
             "outlinewidth": 0,
             "ticks": ""
            },
            "colorscale": [
             [
              0,
              "#0d0887"
             ],
             [
              0.1111111111111111,
              "#46039f"
             ],
             [
              0.2222222222222222,
              "#7201a8"
             ],
             [
              0.3333333333333333,
              "#9c179e"
             ],
             [
              0.4444444444444444,
              "#bd3786"
             ],
             [
              0.5555555555555556,
              "#d8576b"
             ],
             [
              0.6666666666666666,
              "#ed7953"
             ],
             [
              0.7777777777777778,
              "#fb9f3a"
             ],
             [
              0.8888888888888888,
              "#fdca26"
             ],
             [
              1,
              "#f0f921"
             ]
            ],
            "type": "surface"
           }
          ],
          "table": [
           {
            "cells": {
             "fill": {
              "color": "#EBF0F8"
             },
             "line": {
              "color": "white"
             }
            },
            "header": {
             "fill": {
              "color": "#C8D4E3"
             },
             "line": {
              "color": "white"
             }
            },
            "type": "table"
           }
          ]
         },
         "layout": {
          "annotationdefaults": {
           "arrowcolor": "#2a3f5f",
           "arrowhead": 0,
           "arrowwidth": 1
          },
          "autotypenumbers": "strict",
          "coloraxis": {
           "colorbar": {
            "outlinewidth": 0,
            "ticks": ""
           }
          },
          "colorscale": {
           "diverging": [
            [
             0,
             "#8e0152"
            ],
            [
             0.1,
             "#c51b7d"
            ],
            [
             0.2,
             "#de77ae"
            ],
            [
             0.3,
             "#f1b6da"
            ],
            [
             0.4,
             "#fde0ef"
            ],
            [
             0.5,
             "#f7f7f7"
            ],
            [
             0.6,
             "#e6f5d0"
            ],
            [
             0.7,
             "#b8e186"
            ],
            [
             0.8,
             "#7fbc41"
            ],
            [
             0.9,
             "#4d9221"
            ],
            [
             1,
             "#276419"
            ]
           ],
           "sequential": [
            [
             0,
             "#0d0887"
            ],
            [
             0.1111111111111111,
             "#46039f"
            ],
            [
             0.2222222222222222,
             "#7201a8"
            ],
            [
             0.3333333333333333,
             "#9c179e"
            ],
            [
             0.4444444444444444,
             "#bd3786"
            ],
            [
             0.5555555555555556,
             "#d8576b"
            ],
            [
             0.6666666666666666,
             "#ed7953"
            ],
            [
             0.7777777777777778,
             "#fb9f3a"
            ],
            [
             0.8888888888888888,
             "#fdca26"
            ],
            [
             1,
             "#f0f921"
            ]
           ],
           "sequentialminus": [
            [
             0,
             "#0d0887"
            ],
            [
             0.1111111111111111,
             "#46039f"
            ],
            [
             0.2222222222222222,
             "#7201a8"
            ],
            [
             0.3333333333333333,
             "#9c179e"
            ],
            [
             0.4444444444444444,
             "#bd3786"
            ],
            [
             0.5555555555555556,
             "#d8576b"
            ],
            [
             0.6666666666666666,
             "#ed7953"
            ],
            [
             0.7777777777777778,
             "#fb9f3a"
            ],
            [
             0.8888888888888888,
             "#fdca26"
            ],
            [
             1,
             "#f0f921"
            ]
           ]
          },
          "colorway": [
           "#636efa",
           "#EF553B",
           "#00cc96",
           "#ab63fa",
           "#FFA15A",
           "#19d3f3",
           "#FF6692",
           "#B6E880",
           "#FF97FF",
           "#FECB52"
          ],
          "font": {
           "color": "#2a3f5f"
          },
          "geo": {
           "bgcolor": "white",
           "lakecolor": "white",
           "landcolor": "#E5ECF6",
           "showlakes": true,
           "showland": true,
           "subunitcolor": "white"
          },
          "hoverlabel": {
           "align": "left"
          },
          "hovermode": "closest",
          "mapbox": {
           "style": "light"
          },
          "paper_bgcolor": "white",
          "plot_bgcolor": "#E5ECF6",
          "polar": {
           "angularaxis": {
            "gridcolor": "white",
            "linecolor": "white",
            "ticks": ""
           },
           "bgcolor": "#E5ECF6",
           "radialaxis": {
            "gridcolor": "white",
            "linecolor": "white",
            "ticks": ""
           }
          },
          "scene": {
           "xaxis": {
            "backgroundcolor": "#E5ECF6",
            "gridcolor": "white",
            "gridwidth": 2,
            "linecolor": "white",
            "showbackground": true,
            "ticks": "",
            "zerolinecolor": "white"
           },
           "yaxis": {
            "backgroundcolor": "#E5ECF6",
            "gridcolor": "white",
            "gridwidth": 2,
            "linecolor": "white",
            "showbackground": true,
            "ticks": "",
            "zerolinecolor": "white"
           },
           "zaxis": {
            "backgroundcolor": "#E5ECF6",
            "gridcolor": "white",
            "gridwidth": 2,
            "linecolor": "white",
            "showbackground": true,
            "ticks": "",
            "zerolinecolor": "white"
           }
          },
          "shapedefaults": {
           "line": {
            "color": "#2a3f5f"
           }
          },
          "ternary": {
           "aaxis": {
            "gridcolor": "white",
            "linecolor": "white",
            "ticks": ""
           },
           "baxis": {
            "gridcolor": "white",
            "linecolor": "white",
            "ticks": ""
           },
           "bgcolor": "#E5ECF6",
           "caxis": {
            "gridcolor": "white",
            "linecolor": "white",
            "ticks": ""
           }
          },
          "title": {
           "x": 0.05
          },
          "xaxis": {
           "automargin": true,
           "gridcolor": "white",
           "linecolor": "white",
           "ticks": "",
           "title": {
            "standoff": 15
           },
           "zerolinecolor": "white",
           "zerolinewidth": 2
          },
          "yaxis": {
           "automargin": true,
           "gridcolor": "white",
           "linecolor": "white",
           "ticks": "",
           "title": {
            "standoff": 15
           },
           "zerolinecolor": "white",
           "zerolinewidth": 2
          }
         }
        },
        "title": {
         "text": "Dataset: pneumonia"
        },
        "xaxis": {
         "anchor": "y",
         "autorange": true,
         "domain": [
          0,
          1
         ],
         "range": [
          -0.5,
          261.5
         ],
         "title": {
          "text": "Model & Dataset"
         },
         "type": "linear"
        },
        "yaxis": {
         "anchor": "x",
         "autorange": true,
         "domain": [
          0,
          1
         ],
         "range": [
          0,
          1.0231994459833793
         ],
         "title": {
          "text": "Test Accuracy"
         },
         "type": "linear"
        }
       }
      },
      "image/png": "[encoded data removed]",
      "text/html": [
       "<div>                            <div id=\"8e2f7edc-0f8b-4a4a-a0c3-fae0fd038352\" class=\"plotly-graph-div\" style=\"height:525px; width:100%;\"></div>            <script type=\"text/javascript\">                require([\"plotly\"], function(Plotly) {                    window.PLOTLYENV=window.PLOTLYENV || {};                                    if (document.getElementById(\"8e2f7edc-0f8b-4a4a-a0c3-fae0fd038352\")) {                    Plotly.newPlot(                        \"8e2f7edc-0f8b-4a4a-a0c3-fae0fd038352\",                        [{\"alignmentgroup\":\"True\",\"hovertemplate\":\"\\u003cb\\u003e%{hovertext}\\u003c\\u002fb\\u003e\\u003cbr\\u003e\\u003cbr\\u003evariable=wide_variable_0\\u003cbr\\u003eModel & Dataset=%{x}\\u003cbr\\u003eTest Accuracy=%{y}\\u003cextra\\u003e\\u003c\\u002fextra\\u003e\",\"hovertext\":[\"dla46x_c pneumonia\",\"dla46_c pneumonia\",\"mobilevitv2_050 pneumonia\",\"mobilenetv2_050 pneumonia\",\"semnasnet_075 pneumonia\",\"pvt_v2_b0 pneumonia\",\"convnext_atto pneumonia\",\"mnasnet_100 pneumonia\",\"spnasnet_100 pneumonia\",\"ghostnet_100 pneumonia\",\"hardcorenas_a pneumonia\",\"efficientnet_b0 pneumonia\",\"fbnetc_100 pneumonia\",\"mobilevit_s pneumonia\",\"tinynet_a pneumonia\",\"ese_vovnet19b_dw pneumonia\",\"densenet121 pneumonia\",\"densenetblur121d pneumonia\",\"crossvit_9_240 pneumonia\",\"fbnetv3_b pneumonia\",\"resnet14t pneumonia\",\"seresnext26ts pneumonia\",\"gcresnext26ts pneumonia\",\"eca_botnext26ts_256 pneumonia\",\"bat_resnext26ts pneumonia\",\"lambda_resnet26rpt_256 pneumonia\",\"resnet18d pneumonia\",\"halonet26t pneumonia\",\"botnet26t_256 pneumonia\",\"dpn68 pneumonia\",\"dpn68b pneumonia\",\"gc_efficientnetv2_rw_t pneumonia\",\"sehalonet33ts pneumonia\",\"sebotnet33ts_256 pneumonia\",\"densenet169 pneumonia\",\"maxvit_nano_rw_256 pneumonia\",\"gcresnext50ts pneumonia\",\"dla34 pneumonia\",\"ecaresnet26t pneumonia\",\"resnet26d pneumonia\",\"maxxvit_rmlp_nano_rw_256 pneumonia\",\"seresnext26t_32x4d pneumonia\",\"seresnext26d_32x4d pneumonia\",\"dla60x pneumonia\",\"resnet32ts pneumonia\",\"edgenext_base pneumonia\",\"eca_resnet33ts pneumonia\",\"seresnet33ts pneumonia\",\"gcresnet33ts pneumonia\",\"densenet201 pneumonia\",\"cspresnext50 pneumonia\",\"regnetv_040 pneumonia\",\"convmixer_768_32 pneumonia\",\"cs3darknet_focus_l pneumonia\",\"hrnet_w18 pneumonia\",\"cspresnet50 pneumonia\",\"gluon_resnet34_v1b pneumonia\",\"resnet34d pneumonia\",\"cs3sedarknet_l pneumonia\",\"dla60 pneumonia\",\"lamhalobotnet50ts_256 pneumonia\",\"halo2botnet50ts_256 pneumonia\",\"halonet50ts pneumonia\",\"adv_inception_v3 pneumonia\",\"gluon_inception_v3 pneumonia\",\"res2next50 pneumonia\",\"resnext50d_32x4d pneumonia\",\"res2net50_14w_8s pneumonia\",\"resnetv2_50 pneumonia\",\"resnetblur50 pneumonia\",\"resnetaa50 pneumonia\",\"ecaresnet50t pneumonia\",\"ecaresnet50d pneumonia\",\"gcresnet50t pneumonia\",\"dla102x pneumonia\",\"xception41p pneumonia\",\"xception41 pneumonia\",\"gluon_seresnext50_32x4d pneumonia\",\"cspdarknet53 pneumonia\",\"legacy_seresnet50 pneumonia\",\"repvgg_a2 pneumonia\",\"convnext_tiny_hnf pneumonia\",\"densenet161 pneumonia\",\"ecaresnetlight pneumonia\",\"selecsls60 pneumonia\",\"gernet_l pneumonia\",\"selecsls42b pneumonia\",\"selecsls60b pneumonia\",\"dla102 pneumonia\",\"resnetrs50 pneumonia\",\"resnet51q pneumonia\",\"darknetaa53 pneumonia\",\"resnet61q pneumonia\",\"dpn92 pneumonia\",\"xception65p pneumonia\",\"gluon_xception65 pneumonia\",\"dla102x2 pneumonia\",\"xception71 pneumonia\",\"twins_pcpvt_base pneumonia\",\"gluon_resnext101_32x4d pneumonia\",\"ecaresnet101d pneumonia\",\"res2net101_26w_4s pneumonia\",\"cs3edgenet_x pneumonia\",\"gluon_seresnext101_32x4d pneumonia\",\"cs3se_edgenet_x pneumonia\",\"efficientnetv2_rw_m pneumonia\",\"dla169 pneumonia\",\"sequencer2d_l pneumonia\",\"poolformer_m36 pneumonia\",\"gluon_resnet152_v1b pneumonia\",\"resnet152d pneumonia\",\"dpn98 pneumonia\",\"resnetrs101 pneumonia\",\"resnet200d pneumonia\",\"seresnet152d pneumonia\",\"wide_resnet50_2 pneumonia\",\"dm_nfnet_f0 pneumonia\",\"dpn131 pneumonia\",\"pnasnet5large pneumonia\",\"resnetrs152 pneumonia\",\"dpn107 pneumonia\",\"swinv2_base_window8_256 pneumonia\",\"nasnetalarge pneumonia\",\"resnetrs200 pneumonia\",\"seresnext101d_32x8d pneumonia\",\"seresnextaa101d_32x8d pneumonia\",\"ecaresnet269d pneumonia\",\"legacy_senet154 pneumonia\",\"resnetrs270 pneumonia\",\"vgg11 pneumonia\",\"vgg13 pneumonia\",\"dla46x_c pneumonia_small\",\"dla46_c pneumonia_small\",\"mobilevitv2_050 pneumonia_small\",\"mobilenetv2_050 pneumonia_small\",\"semnasnet_075 pneumonia_small\",\"pvt_v2_b0 pneumonia_small\",\"convnext_atto pneumonia_small\",\"mnasnet_100 pneumonia_small\",\"spnasnet_100 pneumonia_small\",\"ghostnet_100 pneumonia_small\",\"hardcorenas_a pneumonia_small\",\"efficientnet_b0 pneumonia_small\",\"fbnetc_100 pneumonia_small\",\"mobilevit_s pneumonia_small\",\"tinynet_a pneumonia_small\",\"ese_vovnet19b_dw pneumonia_small\",\"densenet121 pneumonia_small\",\"densenetblur121d pneumonia_small\",\"crossvit_9_240 pneumonia_small\",\"fbnetv3_b pneumonia_small\",\"resnet14t pneumonia_small\",\"seresnext26ts pneumonia_small\",\"gcresnext26ts pneumonia_small\",\"eca_botnext26ts_256 pneumonia_small\",\"bat_resnext26ts pneumonia_small\",\"lambda_resnet26rpt_256 pneumonia_small\",\"resnet18d pneumonia_small\",\"halonet26t pneumonia_small\",\"botnet26t_256 pneumonia_small\",\"dpn68 pneumonia_small\",\"dpn68b pneumonia_small\",\"gc_efficientnetv2_rw_t pneumonia_small\",\"sehalonet33ts pneumonia_small\",\"sebotnet33ts_256 pneumonia_small\",\"densenet169 pneumonia_small\",\"maxvit_nano_rw_256 pneumonia_small\",\"gcresnext50ts pneumonia_small\",\"dla34 pneumonia_small\",\"ecaresnet26t pneumonia_small\",\"resnet26d pneumonia_small\",\"maxxvit_rmlp_nano_rw_256 pneumonia_small\",\"seresnext26t_32x4d pneumonia_small\",\"seresnext26d_32x4d pneumonia_small\",\"dla60x pneumonia_small\",\"resnet32ts pneumonia_small\",\"edgenext_base pneumonia_small\",\"eca_resnet33ts pneumonia_small\",\"seresnet33ts pneumonia_small\",\"gcresnet33ts pneumonia_small\",\"densenet201 pneumonia_small\",\"cspresnext50 pneumonia_small\",\"regnetv_040 pneumonia_small\",\"convmixer_768_32 pneumonia_small\",\"cs3darknet_focus_l pneumonia_small\",\"hrnet_w18 pneumonia_small\",\"cspresnet50 pneumonia_small\",\"gluon_resnet34_v1b pneumonia_small\",\"resnet34d pneumonia_small\",\"cs3sedarknet_l pneumonia_small\",\"dla60 pneumonia_small\",\"lamhalobotnet50ts_256 pneumonia_small\",\"halo2botnet50ts_256 pneumonia_small\",\"halonet50ts pneumonia_small\",\"adv_inception_v3 pneumonia_small\",\"gluon_inception_v3 pneumonia_small\",\"res2next50 pneumonia_small\",\"resnext50d_32x4d pneumonia_small\",\"res2net50_14w_8s pneumonia_small\",\"resnetv2_50 pneumonia_small\",\"resnetblur50 pneumonia_small\",\"resnetaa50 pneumonia_small\",\"ecaresnet50t pneumonia_small\",\"ecaresnet50d pneumonia_small\",\"gcresnet50t pneumonia_small\",\"dla102x pneumonia_small\",\"xception41p pneumonia_small\",\"xception41 pneumonia_small\",\"gluon_seresnext50_32x4d pneumonia_small\",\"cspdarknet53 pneumonia_small\",\"legacy_seresnet50 pneumonia_small\",\"repvgg_a2 pneumonia_small\",\"convnext_tiny_hnf pneumonia_small\",\"densenet161 pneumonia_small\",\"ecaresnetlight pneumonia_small\",\"selecsls60 pneumonia_small\",\"gernet_l pneumonia_small\",\"selecsls42b pneumonia_small\",\"selecsls60b pneumonia_small\",\"dla102 pneumonia_small\",\"resnetrs50 pneumonia_small\",\"resnet51q pneumonia_small\",\"darknetaa53 pneumonia_small\",\"resnet61q pneumonia_small\",\"dpn92 pneumonia_small\",\"xception65p pneumonia_small\",\"gluon_xception65 pneumonia_small\",\"dla102x2 pneumonia_small\",\"xception71 pneumonia_small\",\"twins_pcpvt_base pneumonia_small\",\"gluon_resnext101_32x4d pneumonia_small\",\"ecaresnet101d pneumonia_small\",\"res2net101_26w_4s pneumonia_small\",\"cs3edgenet_x pneumonia_small\",\"gluon_seresnext101_32x4d pneumonia_small\",\"cs3se_edgenet_x pneumonia_small\",\"efficientnetv2_rw_m pneumonia_small\",\"dla169 pneumonia_small\",\"sequencer2d_l pneumonia_small\",\"poolformer_m36 pneumonia_small\",\"gluon_resnet152_v1b pneumonia_small\",\"resnet152d pneumonia_small\",\"dpn98 pneumonia_small\",\"resnetrs101 pneumonia_small\",\"resnet200d pneumonia_small\",\"seresnet152d pneumonia_small\",\"wide_resnet50_2 pneumonia_small\",\"dm_nfnet_f0 pneumonia_small\",\"dpn131 pneumonia_small\",\"pnasnet5large pneumonia_small\",\"resnetrs152 pneumonia_small\",\"dpn107 pneumonia_small\",\"swinv2_base_window8_256 pneumonia_small\",\"nasnetalarge pneumonia_small\",\"resnetrs200 pneumonia_small\",\"seresnext101d_32x8d pneumonia_small\",\"seresnextaa101d_32x8d pneumonia_small\",\"ecaresnet269d pneumonia_small\",\"legacy_senet154 pneumonia_small\",\"resnetrs270 pneumonia_small\",\"vgg11 pneumonia_small\",\"vgg13 pneumonia_small\"],\"legendgroup\":\"wide_variable_0\",\"marker\":{\"color\":\"#636efa\",\"pattern\":{\"shape\":\"\"}},\"name\":\"wide_variable_0\",\"offsetgroup\":\"wide_variable_0\",\"orientation\":\"v\",\"showlegend\":true,\"textposition\":\"auto\",\"x\":[0,1,2,3,4,5,6,7,8,9,10,11,12,13,14,15,16,17,18,19,20,21,22,23,24,25,26,27,28,29,30,31,32,33,34,35,36,37,38,39,40,41,42,43,44,45,46,47,48,49,50,51,52,53,54,55,56,57,58,59,60,61,62,63,64,65,66,67,68,69,70,71,72,73,74,75,76,77,78,79,80,81,82,83,84,85,86,87,88,89,90,91,92,93,94,95,96,97,98,99,100,101,102,103,104,105,106,107,108,109,110,111,112,113,114,115,116,117,118,119,120,121,122,123,124,125,126,127,128,129,130,131,132,133,134,135,136,137,138,139,140,141,142,143,144,145,146,147,148,149,150,151,152,153,154,155,156,157,158,159,160,161,162,163,164,165,166,167,168,169,170,171,172,173,174,175,176,177,178,179,180,181,182,183,184,185,186,187,188,189,190,191,192,193,194,195,196,197,198,199,200,201,202,203,204,205,206,207,208,209,210,211,212,213,214,215,216,217,218,219,220,221,222,223,224,225,226,227,228,229,230,231,232,233,234,235,236,237,238,239,240,241,242,243,244,245,246,247,248,249,250,251,252,253,254,255,256,257,258,259,260,261],\"xaxis\":\"x\",\"y\":[0.9523026315789472,0.9473684210526316,0.9111842105263158,0.907594344822186,0.9490131578947368,0.8305921052631579,0.9276315789473684,0.9259868421052632,0.9142595601679617,0.9473684210526316,0.955592105263158,0.9588815789473684,0.9276315789473684,0.9490131578947368,0.9358552631578948,0.9588815789473684,0.8931119702020687,0.912828947368421,0.9292763157894736,0.962171052631579,0.9539473684210528,0.9177631578947368,0.9526230537994473,0.944078947368421,0.950657894736842,0.9249048307248265,0.9292763157894736,0.9479871610290816,0.9605263157894736,0.9296108556907581,0.9407894736842104,0.9276315789473684,0.8531859884556559,0.932519889145975,0.9638157894736842,0.8634868421052632,0.9178981664858635,0.9539473684210528,0.9325657894736842,0.8968634403353329,0.8766447368421053,0.923053373093958,0.9259868421052632,0.9375,0.9588815789473684,0.9490131578947368,0.9391447368421052,0.9523026315789472,0.9490131578947368,0.9415672861734461,0.955592105263158,0.9477366094869144,0.9261426831170558,0.9473684210526316,0.9588815789473684,0.9457236842105264,0.899671052631579,0.944078947368421,0.9161184210526316,0.9375,0.9161184210526316,0.8777932126650271,0.8470394736842105,0.950657894736842,0.9292763157894736,0.9523026315789472,0.9391447368421052,0.9095394736842104,0.9473684210526316,0.9464346119048834,0.948672871910569,0.9457236842105264,0.9325657894736842,0.9572368421052632,0.9395901992655658,0.9473684210526316,0.9130865471284292,0.9144094103749189,0.9408809042518396,0.9357376874411666,0.8465306849599219,0.7556084478724162,0.881569976682463,0.944078947368421,0.9046052631578948,0.9572368421052632,0.9292763157894736,0.868421052631579,0.9320853498186557,0.8865131578947368,0.9420521704869623,0.9458988698637507,0.9249478291919291,0.9046052631578948,0.9167912765105202,0.924342105263158,0.9518472817375243,0.9177631578947368,0.9029605263157896,0.9259868421052632,0.9210526315789472,0.9529270699985943,0.9046052631578948,0.9336394341479619,0.9342105263157896,0.930921052631579,0.9163985979871239,0.8489351425592634,0.9292380204483411,0.9078557903091373,0.8569078947368421,0.8717105263157895,0.8951203570580525,0.9360050527060086,0.8898026315789473,0.950657894736842,0.7648026315789473,0.9198663533065061,0.9144736842105264,0.9290316752630655,0.8682411022917221,0.6982820523969309,0.9342105263157896,0.8585526315789473,0.9375,0.915605648840952,0.8437749340823162,0.9128876867820973,0.8543318526905681,0.9379667042228137,0.919407894736842,0.904605263157895,0.899671052631579,0.90296052631579,0.856907894736842,0.879934210526316,0.883223684210526,0.912828947368421,0.850328947368421,0.90953947368421,0.891447368421053,0.901315789473684,0.875,0.884868421052632,0.904605263157895,0.90953947368421,0.899671052631579,0.875,0.898026315789474,0.917763157894737,0.894736842105263,0.894736842105263,0.879934210526316,0.90625,0.90296052631579,0.893092105263158,0.912828947368421,0.881578947368421,0.894736842105263,0.879934210526316,0.932565789473684,0.860197368421053,0.850328947368421,0.891447368421053,0.87828947368421,0.899671052631579,0.873355263157895,0.889802631578947,0.90953947368421,0.894736842105263,0.914473684210526,0.626644736842105,0.899671052631579,0.893092105263158,0.90953947368421,0.924342105263158,0.939144736842105,0.889802631578947,0.912828947368421,0.917763157894737,0.919407894736842,0.912828947368421,0.929276315789473,0.7271579057082379,0.921052631578947,0.932565789473684,0.924342105263158,0.894736842105263,0.893092105263158,0.929276315789473,0.929276315789473,0.896381578947369,0.919407894736842,0.871710526315789,0.899671052631579,0.884868421052632,0.879934210526316,0.93421052631579,0.930921052631579,0.866776315789474,0.916118421052632,0.907894736842105,0.891447368421053,0.927631578947368,0.90296052631579,0.942434210526316,0.917763157894737,0.927631578947368,0.921052631578947,0.924342105263158,0.866776315789474,0.90296052631579,0.840460526315789,0.904605263157895,0.901315789473684,0.894736842105263,0.919407894736842,0.884868421052632,0.914473684210526,0.919407894736842,0.87828947368421,0.924342105263158,0.90625,0.881578947368421,0.93421052631579,0.884868421052632,0.9157506721579179,0.916118421052632,0.93421052631579,0.825657894736842,0.90296052631579,0.90625,0.90625,0.93421052631579,0.945723684210526,0.911184210526316,0.929276315789473,0.889802631578947,0.856907894736842,0.9008190432778084,0.925986842105263,0.889802631578947,0.9375,0.919407894736842,0.894736842105263,0.8724877210211637,0.87828947368421,0.677960526315789,0.9094888711352745,0.944078947368421,0.93421052631579,0.8801679687645376,0.8122020928336816,0.876644736842105,0.837171052631579,0.889802631578947,0.87828947368421,0.741776315789474,0.856907894736842,0.875,0.830592105263158,0.889802631578947],\"yaxis\":\"y\",\"type\":\"bar\"},{\"alignmentgroup\":\"True\",\"hovertemplate\":\"\\u003cb\\u003e%{hovertext}\\u003c\\u002fb\\u003e\\u003cbr\\u003e\\u003cbr\\u003evariable=wide_variable_1\\u003cbr\\u003eModel & Dataset=%{x}\\u003cbr\\u003eTest Accuracy=%{y}\\u003cextra\\u003e\\u003c\\u002fextra\\u003e\",\"hovertext\":[\"dla46x_c pneumonia\",\"dla46_c pneumonia\",\"mobilevitv2_050 pneumonia\",\"mobilenetv2_050 pneumonia\",\"semnasnet_075 pneumonia\",\"pvt_v2_b0 pneumonia\",\"convnext_atto pneumonia\",\"mnasnet_100 pneumonia\",\"spnasnet_100 pneumonia\",\"ghostnet_100 pneumonia\",\"hardcorenas_a pneumonia\",\"efficientnet_b0 pneumonia\",\"fbnetc_100 pneumonia\",\"mobilevit_s pneumonia\",\"tinynet_a pneumonia\",\"ese_vovnet19b_dw pneumonia\",\"densenet121 pneumonia\",\"densenetblur121d pneumonia\",\"crossvit_9_240 pneumonia\",\"fbnetv3_b pneumonia\",\"resnet14t pneumonia\",\"seresnext26ts pneumonia\",\"gcresnext26ts pneumonia\",\"eca_botnext26ts_256 pneumonia\",\"bat_resnext26ts pneumonia\",\"lambda_resnet26rpt_256 pneumonia\",\"resnet18d pneumonia\",\"halonet26t pneumonia\",\"botnet26t_256 pneumonia\",\"dpn68 pneumonia\",\"dpn68b pneumonia\",\"gc_efficientnetv2_rw_t pneumonia\",\"sehalonet33ts pneumonia\",\"sebotnet33ts_256 pneumonia\",\"densenet169 pneumonia\",\"maxvit_nano_rw_256 pneumonia\",\"gcresnext50ts pneumonia\",\"dla34 pneumonia\",\"ecaresnet26t pneumonia\",\"resnet26d pneumonia\",\"maxxvit_rmlp_nano_rw_256 pneumonia\",\"seresnext26t_32x4d pneumonia\",\"seresnext26d_32x4d pneumonia\",\"dla60x pneumonia\",\"resnet32ts pneumonia\",\"edgenext_base pneumonia\",\"eca_resnet33ts pneumonia\",\"seresnet33ts pneumonia\",\"gcresnet33ts pneumonia\",\"densenet201 pneumonia\",\"cspresnext50 pneumonia\",\"regnetv_040 pneumonia\",\"convmixer_768_32 pneumonia\",\"cs3darknet_focus_l pneumonia\",\"hrnet_w18 pneumonia\",\"cspresnet50 pneumonia\",\"gluon_resnet34_v1b pneumonia\",\"resnet34d pneumonia\",\"cs3sedarknet_l pneumonia\",\"dla60 pneumonia\",\"lamhalobotnet50ts_256 pneumonia\",\"halo2botnet50ts_256 pneumonia\",\"halonet50ts pneumonia\",\"adv_inception_v3 pneumonia\",\"gluon_inception_v3 pneumonia\",\"res2next50 pneumonia\",\"resnext50d_32x4d pneumonia\",\"res2net50_14w_8s pneumonia\",\"resnetv2_50 pneumonia\",\"resnetblur50 pneumonia\",\"resnetaa50 pneumonia\",\"ecaresnet50t pneumonia\",\"ecaresnet50d pneumonia\",\"gcresnet50t pneumonia\",\"dla102x pneumonia\",\"xception41p pneumonia\",\"xception41 pneumonia\",\"gluon_seresnext50_32x4d pneumonia\",\"cspdarknet53 pneumonia\",\"legacy_seresnet50 pneumonia\",\"repvgg_a2 pneumonia\",\"convnext_tiny_hnf pneumonia\",\"densenet161 pneumonia\",\"ecaresnetlight pneumonia\",\"selecsls60 pneumonia\",\"gernet_l pneumonia\",\"selecsls42b pneumonia\",\"selecsls60b pneumonia\",\"dla102 pneumonia\",\"resnetrs50 pneumonia\",\"resnet51q pneumonia\",\"darknetaa53 pneumonia\",\"resnet61q pneumonia\",\"dpn92 pneumonia\",\"xception65p pneumonia\",\"gluon_xception65 pneumonia\",\"dla102x2 pneumonia\",\"xception71 pneumonia\",\"twins_pcpvt_base pneumonia\",\"gluon_resnext101_32x4d pneumonia\",\"ecaresnet101d pneumonia\",\"res2net101_26w_4s pneumonia\",\"cs3edgenet_x pneumonia\",\"gluon_seresnext101_32x4d pneumonia\",\"cs3se_edgenet_x pneumonia\",\"efficientnetv2_rw_m pneumonia\",\"dla169 pneumonia\",\"sequencer2d_l pneumonia\",\"poolformer_m36 pneumonia\",\"gluon_resnet152_v1b pneumonia\",\"resnet152d pneumonia\",\"dpn98 pneumonia\",\"resnetrs101 pneumonia\",\"resnet200d pneumonia\",\"seresnet152d pneumonia\",\"wide_resnet50_2 pneumonia\",\"dm_nfnet_f0 pneumonia\",\"dpn131 pneumonia\",\"pnasnet5large pneumonia\",\"resnetrs152 pneumonia\",\"dpn107 pneumonia\",\"swinv2_base_window8_256 pneumonia\",\"nasnetalarge pneumonia\",\"resnetrs200 pneumonia\",\"seresnext101d_32x8d pneumonia\",\"seresnextaa101d_32x8d pneumonia\",\"ecaresnet269d pneumonia\",\"legacy_senet154 pneumonia\",\"resnetrs270 pneumonia\",\"vgg11 pneumonia\",\"vgg13 pneumonia\",\"dla46x_c pneumonia_small\",\"dla46_c pneumonia_small\",\"mobilevitv2_050 pneumonia_small\",\"mobilenetv2_050 pneumonia_small\",\"semnasnet_075 pneumonia_small\",\"pvt_v2_b0 pneumonia_small\",\"convnext_atto pneumonia_small\",\"mnasnet_100 pneumonia_small\",\"spnasnet_100 pneumonia_small\",\"ghostnet_100 pneumonia_small\",\"hardcorenas_a pneumonia_small\",\"efficientnet_b0 pneumonia_small\",\"fbnetc_100 pneumonia_small\",\"mobilevit_s pneumonia_small\",\"tinynet_a pneumonia_small\",\"ese_vovnet19b_dw pneumonia_small\",\"densenet121 pneumonia_small\",\"densenetblur121d pneumonia_small\",\"crossvit_9_240 pneumonia_small\",\"fbnetv3_b pneumonia_small\",\"resnet14t pneumonia_small\",\"seresnext26ts pneumonia_small\",\"gcresnext26ts pneumonia_small\",\"eca_botnext26ts_256 pneumonia_small\",\"bat_resnext26ts pneumonia_small\",\"lambda_resnet26rpt_256 pneumonia_small\",\"resnet18d pneumonia_small\",\"halonet26t pneumonia_small\",\"botnet26t_256 pneumonia_small\",\"dpn68 pneumonia_small\",\"dpn68b pneumonia_small\",\"gc_efficientnetv2_rw_t pneumonia_small\",\"sehalonet33ts pneumonia_small\",\"sebotnet33ts_256 pneumonia_small\",\"densenet169 pneumonia_small\",\"maxvit_nano_rw_256 pneumonia_small\",\"gcresnext50ts pneumonia_small\",\"dla34 pneumonia_small\",\"ecaresnet26t pneumonia_small\",\"resnet26d pneumonia_small\",\"maxxvit_rmlp_nano_rw_256 pneumonia_small\",\"seresnext26t_32x4d pneumonia_small\",\"seresnext26d_32x4d pneumonia_small\",\"dla60x pneumonia_small\",\"resnet32ts pneumonia_small\",\"edgenext_base pneumonia_small\",\"eca_resnet33ts pneumonia_small\",\"seresnet33ts pneumonia_small\",\"gcresnet33ts pneumonia_small\",\"densenet201 pneumonia_small\",\"cspresnext50 pneumonia_small\",\"regnetv_040 pneumonia_small\",\"convmixer_768_32 pneumonia_small\",\"cs3darknet_focus_l pneumonia_small\",\"hrnet_w18 pneumonia_small\",\"cspresnet50 pneumonia_small\",\"gluon_resnet34_v1b pneumonia_small\",\"resnet34d pneumonia_small\",\"cs3sedarknet_l pneumonia_small\",\"dla60 pneumonia_small\",\"lamhalobotnet50ts_256 pneumonia_small\",\"halo2botnet50ts_256 pneumonia_small\",\"halonet50ts pneumonia_small\",\"adv_inception_v3 pneumonia_small\",\"gluon_inception_v3 pneumonia_small\",\"res2next50 pneumonia_small\",\"resnext50d_32x4d pneumonia_small\",\"res2net50_14w_8s pneumonia_small\",\"resnetv2_50 pneumonia_small\",\"resnetblur50 pneumonia_small\",\"resnetaa50 pneumonia_small\",\"ecaresnet50t pneumonia_small\",\"ecaresnet50d pneumonia_small\",\"gcresnet50t pneumonia_small\",\"dla102x pneumonia_small\",\"xception41p pneumonia_small\",\"xception41 pneumonia_small\",\"gluon_seresnext50_32x4d pneumonia_small\",\"cspdarknet53 pneumonia_small\",\"legacy_seresnet50 pneumonia_small\",\"repvgg_a2 pneumonia_small\",\"convnext_tiny_hnf pneumonia_small\",\"densenet161 pneumonia_small\",\"ecaresnetlight pneumonia_small\",\"selecsls60 pneumonia_small\",\"gernet_l pneumonia_small\",\"selecsls42b pneumonia_small\",\"selecsls60b pneumonia_small\",\"dla102 pneumonia_small\",\"resnetrs50 pneumonia_small\",\"resnet51q pneumonia_small\",\"darknetaa53 pneumonia_small\",\"resnet61q pneumonia_small\",\"dpn92 pneumonia_small\",\"xception65p pneumonia_small\",\"gluon_xception65 pneumonia_small\",\"dla102x2 pneumonia_small\",\"xception71 pneumonia_small\",\"twins_pcpvt_base pneumonia_small\",\"gluon_resnext101_32x4d pneumonia_small\",\"ecaresnet101d pneumonia_small\",\"res2net101_26w_4s pneumonia_small\",\"cs3edgenet_x pneumonia_small\",\"gluon_seresnext101_32x4d pneumonia_small\",\"cs3se_edgenet_x pneumonia_small\",\"efficientnetv2_rw_m pneumonia_small\",\"dla169 pneumonia_small\",\"sequencer2d_l pneumonia_small\",\"poolformer_m36 pneumonia_small\",\"gluon_resnet152_v1b pneumonia_small\",\"resnet152d pneumonia_small\",\"dpn98 pneumonia_small\",\"resnetrs101 pneumonia_small\",\"resnet200d pneumonia_small\",\"seresnet152d pneumonia_small\",\"wide_resnet50_2 pneumonia_small\",\"dm_nfnet_f0 pneumonia_small\",\"dpn131 pneumonia_small\",\"pnasnet5large pneumonia_small\",\"resnetrs152 pneumonia_small\",\"dpn107 pneumonia_small\",\"swinv2_base_window8_256 pneumonia_small\",\"nasnetalarge pneumonia_small\",\"resnetrs200 pneumonia_small\",\"seresnext101d_32x8d pneumonia_small\",\"seresnextaa101d_32x8d pneumonia_small\",\"ecaresnet269d pneumonia_small\",\"legacy_senet154 pneumonia_small\",\"resnetrs270 pneumonia_small\",\"vgg11 pneumonia_small\",\"vgg13 pneumonia_small\"],\"legendgroup\":\"wide_variable_1\",\"marker\":{\"color\":\"#EF553B\",\"pattern\":{\"shape\":\"\"}},\"name\":\"wide_variable_1\",\"offsetgroup\":\"wide_variable_1\",\"orientation\":\"v\",\"showlegend\":true,\"textposition\":\"auto\",\"x\":[0,1,2,3,4,5,6,7,8,9,10,11,12,13,14,15,16,17,18,19,20,21,22,23,24,25,26,27,28,29,30,31,32,33,34,35,36,37,38,39,40,41,42,43,44,45,46,47,48,49,50,51,52,53,54,55,56,57,58,59,60,61,62,63,64,65,66,67,68,69,70,71,72,73,74,75,76,77,78,79,80,81,82,83,84,85,86,87,88,89,90,91,92,93,94,95,96,97,98,99,100,101,102,103,104,105,106,107,108,109,110,111,112,113,114,115,116,117,118,119,120,121,122,123,124,125,126,127,128,129,130,131,132,133,134,135,136,137,138,139,140,141,142,143,144,145,146,147,148,149,150,151,152,153,154,155,156,157,158,159,160,161,162,163,164,165,166,167,168,169,170,171,172,173,174,175,176,177,178,179,180,181,182,183,184,185,186,187,188,189,190,191,192,193,194,195,196,197,198,199,200,201,202,203,204,205,206,207,208,209,210,211,212,213,214,215,216,217,218,219,220,221,222,223,224,225,226,227,228,229,230,231,232,233,234,235,236,237,238,239,240,241,242,243,244,245,246,247,248,249,250,251,252,253,254,255,256,257,258,259,260,261],\"xaxis\":\"x\",\"y\":[0.00493421052631593,0.006578947368421129,0.018092105263157743,0.010168813072550797,0.0,0.0,0.0,0.0,0.011727281937301437,0.0,0.0,0.0,0.0,0.006578947368421129,0.0016447368421051989,0.0,0.055901187692668164,0.019736842105263164,0.0,0.0,0.0,0.019736842105263164,0.0029690514637106258,0.0,0.0,0.012595169275173457,0.0,0.007604944234076316,0.0,0.027625986414505088,0.0,0.016447368421052655,0.09747190628118618,0.02142747927507782,0.0,0.0657894736842104,0.024536044040452287,0.0,0.0,0.0505049807172987,0.0,0.0341834690113052,0.019736842105263275,0.009868421052631637,0.0,0.009868421052631526,0.0,0.0,0.018092105263157965,0.01402481908971187,0.0016447368421051989,0.012789706302559156,0.00806784319873377,0.0,0.0,0.009868421052631526,0.041118421052631415,0.0,0.046052631578947345,0.013157894736842035,0.02796052631578938,0.07779889259813089,0.06085526315789469,0.0,0.024671052631579204,0.0,0.008223684210526438,0.052631578947368585,0.0,0.004223282831958608,0.00034028598416779854,0.0,0.011513157894736836,0.0,0.0077782217870658865,0.0016447368421051989,0.04415029497683398,0.03131427383560759,0.013066464169213199,0.018209680979886178,0.10577194661902534,0.1226810258117943,0.07895633910701061,0.014802631578947345,0.016447368421052433,0.0,0.019736842105263275,0.08059210526315785,0.015283071233975987,0.03947368421052633,0.021763618986721855,0.01298270908361765,0.025710065544912952,0.050986842105263164,0.04209030243684819,0.02467105263157887,0.010323770894054674,0.046052631578947345,0.0,0.03947368421052644,0.0296052631578948,0.009243982632984649,0.042763157894736836,0.021952671115196054,0.0016447368421051989,0.006578947368421018,0.03590403359182337,0.05402538375652621,0.04280145323586926,0.02470999916454686,0.08717105263157887,0.08388157894736847,0.06540595873142108,0.024521263083464917,0.06414473684210542,0.0,0.17105263157894746,0.04065996248296744,0.047697368421052544,0.034784114210618666,0.09228521349775143,0.1372442633925428,0.0345394736842104,0.11019736842105265,0.011513157894736836,0.02518382484325843,0.10359348697031545,0.05750705006000789,0.10290498941469506,0.004467506303502122,0.0,0.0,0.0,0.0,0.0,0.0,0.0,0.0,0.0,0.0,0.0,0.0,0.0,0.0,0.0,0.0,0.0,0.0,0.0,0.0,0.0,0.0,0.0,0.0,0.0,0.0,0.0,0.0,0.0,0.0,0.0,0.0,0.0,0.0,0.0,0.0,0.0,0.0,0.0,0.0,0.0,0.0,0.0,0.0,0.0,0.0,0.0,0.0,0.0,0.0,0.0,0.0,0.0,0.1560657785022881,0.0,0.0,0.0,0.0,0.0,0.0,0.0,0.0,0.0,0.0,0.0,0.0,0.0,0.0,0.0,0.0,0.0,0.0,0.0,0.0,0.0,0.0,0.0,0.0,0.0,0.0,0.0,0.0,0.018092105263157965,0.0,0.0,0.0,0.0,0.0,0.0,0.0,0.0,0.0,0.0,0.0,0.0,0.0,0.00036774889471402616,0.0,0.0,0.04605263157894701,0.0,0.0,0.0,0.0,0.0,0.0,0.0,0.01973684210526294,0.014802631578947012,0.0004967461958755859,0.0,0.0,0.0,0.0,0.0,0.028828068452520283,0.0,0.014473684210527082,0.018142707812093484,0.0,0.0,0.03430571544598837,0.03648211769263443,0.027960526315790046,0.04769736842105299,0.001644736842105976,0.0,0.09375,0.0,0.023026315789474006,0.0,0.0],\"yaxis\":\"y\",\"type\":\"bar\"}],                        {\"template\":{\"data\":{\"histogram2dcontour\":[{\"type\":\"histogram2dcontour\",\"colorbar\":{\"outlinewidth\":0,\"ticks\":\"\"},\"colorscale\":[[0.0,\"#0d0887\"],[0.1111111111111111,\"#46039f\"],[0.2222222222222222,\"#7201a8\"],[0.3333333333333333,\"#9c179e\"],[0.4444444444444444,\"#bd3786\"],[0.5555555555555556,\"#d8576b\"],[0.6666666666666666,\"#ed7953\"],[0.7777777777777778,\"#fb9f3a\"],[0.8888888888888888,\"#fdca26\"],[1.0,\"#f0f921\"]]}],\"choropleth\":[{\"type\":\"choropleth\",\"colorbar\":{\"outlinewidth\":0,\"ticks\":\"\"}}],\"histogram2d\":[{\"type\":\"histogram2d\",\"colorbar\":{\"outlinewidth\":0,\"ticks\":\"\"},\"colorscale\":[[0.0,\"#0d0887\"],[0.1111111111111111,\"#46039f\"],[0.2222222222222222,\"#7201a8\"],[0.3333333333333333,\"#9c179e\"],[0.4444444444444444,\"#bd3786\"],[0.5555555555555556,\"#d8576b\"],[0.6666666666666666,\"#ed7953\"],[0.7777777777777778,\"#fb9f3a\"],[0.8888888888888888,\"#fdca26\"],[1.0,\"#f0f921\"]]}],\"heatmap\":[{\"type\":\"heatmap\",\"colorbar\":{\"outlinewidth\":0,\"ticks\":\"\"},\"colorscale\":[[0.0,\"#0d0887\"],[0.1111111111111111,\"#46039f\"],[0.2222222222222222,\"#7201a8\"],[0.3333333333333333,\"#9c179e\"],[0.4444444444444444,\"#bd3786\"],[0.5555555555555556,\"#d8576b\"],[0.6666666666666666,\"#ed7953\"],[0.7777777777777778,\"#fb9f3a\"],[0.8888888888888888,\"#fdca26\"],[1.0,\"#f0f921\"]]}],\"heatmapgl\":[{\"type\":\"heatmapgl\",\"colorbar\":{\"outlinewidth\":0,\"ticks\":\"\"},\"colorscale\":[[0.0,\"#0d0887\"],[0.1111111111111111,\"#46039f\"],[0.2222222222222222,\"#7201a8\"],[0.3333333333333333,\"#9c179e\"],[0.4444444444444444,\"#bd3786\"],[0.5555555555555556,\"#d8576b\"],[0.6666666666666666,\"#ed7953\"],[0.7777777777777778,\"#fb9f3a\"],[0.8888888888888888,\"#fdca26\"],[1.0,\"#f0f921\"]]}],\"contourcarpet\":[{\"type\":\"contourcarpet\",\"colorbar\":{\"outlinewidth\":0,\"ticks\":\"\"}}],\"contour\":[{\"type\":\"contour\",\"colorbar\":{\"outlinewidth\":0,\"ticks\":\"\"},\"colorscale\":[[0.0,\"#0d0887\"],[0.1111111111111111,\"#46039f\"],[0.2222222222222222,\"#7201a8\"],[0.3333333333333333,\"#9c179e\"],[0.4444444444444444,\"#bd3786\"],[0.5555555555555556,\"#d8576b\"],[0.6666666666666666,\"#ed7953\"],[0.7777777777777778,\"#fb9f3a\"],[0.8888888888888888,\"#fdca26\"],[1.0,\"#f0f921\"]]}],\"surface\":[{\"type\":\"surface\",\"colorbar\":{\"outlinewidth\":0,\"ticks\":\"\"},\"colorscale\":[[0.0,\"#0d0887\"],[0.1111111111111111,\"#46039f\"],[0.2222222222222222,\"#7201a8\"],[0.3333333333333333,\"#9c179e\"],[0.4444444444444444,\"#bd3786\"],[0.5555555555555556,\"#d8576b\"],[0.6666666666666666,\"#ed7953\"],[0.7777777777777778,\"#fb9f3a\"],[0.8888888888888888,\"#fdca26\"],[1.0,\"#f0f921\"]]}],\"mesh3d\":[{\"type\":\"mesh3d\",\"colorbar\":{\"outlinewidth\":0,\"ticks\":\"\"}}],\"scatter\":[{\"fillpattern\":{\"fillmode\":\"overlay\",\"size\":10,\"solidity\":0.2},\"type\":\"scatter\"}],\"parcoords\":[{\"type\":\"parcoords\",\"line\":{\"colorbar\":{\"outlinewidth\":0,\"ticks\":\"\"}}}],\"scatterpolargl\":[{\"type\":\"scatterpolargl\",\"marker\":{\"colorbar\":{\"outlinewidth\":0,\"ticks\":\"\"}}}],\"bar\":[{\"error_x\":{\"color\":\"#2a3f5f\"},\"error_y\":{\"color\":\"#2a3f5f\"},\"marker\":{\"line\":{\"color\":\"#E5ECF6\",\"width\":0.5},\"pattern\":{\"fillmode\":\"overlay\",\"size\":10,\"solidity\":0.2}},\"type\":\"bar\"}],\"scattergeo\":[{\"type\":\"scattergeo\",\"marker\":{\"colorbar\":{\"outlinewidth\":0,\"ticks\":\"\"}}}],\"scatterpolar\":[{\"type\":\"scatterpolar\",\"marker\":{\"colorbar\":{\"outlinewidth\":0,\"ticks\":\"\"}}}],\"histogram\":[{\"marker\":{\"pattern\":{\"fillmode\":\"overlay\",\"size\":10,\"solidity\":0.2}},\"type\":\"histogram\"}],\"scattergl\":[{\"type\":\"scattergl\",\"marker\":{\"colorbar\":{\"outlinewidth\":0,\"ticks\":\"\"}}}],\"scatter3d\":[{\"type\":\"scatter3d\",\"line\":{\"colorbar\":{\"outlinewidth\":0,\"ticks\":\"\"}},\"marker\":{\"colorbar\":{\"outlinewidth\":0,\"ticks\":\"\"}}}],\"scattermapbox\":[{\"type\":\"scattermapbox\",\"marker\":{\"colorbar\":{\"outlinewidth\":0,\"ticks\":\"\"}}}],\"scatterternary\":[{\"type\":\"scatterternary\",\"marker\":{\"colorbar\":{\"outlinewidth\":0,\"ticks\":\"\"}}}],\"scattercarpet\":[{\"type\":\"scattercarpet\",\"marker\":{\"colorbar\":{\"outlinewidth\":0,\"ticks\":\"\"}}}],\"carpet\":[{\"aaxis\":{\"endlinecolor\":\"#2a3f5f\",\"gridcolor\":\"white\",\"linecolor\":\"white\",\"minorgridcolor\":\"white\",\"startlinecolor\":\"#2a3f5f\"},\"baxis\":{\"endlinecolor\":\"#2a3f5f\",\"gridcolor\":\"white\",\"linecolor\":\"white\",\"minorgridcolor\":\"white\",\"startlinecolor\":\"#2a3f5f\"},\"type\":\"carpet\"}],\"table\":[{\"cells\":{\"fill\":{\"color\":\"#EBF0F8\"},\"line\":{\"color\":\"white\"}},\"header\":{\"fill\":{\"color\":\"#C8D4E3\"},\"line\":{\"color\":\"white\"}},\"type\":\"table\"}],\"barpolar\":[{\"marker\":{\"line\":{\"color\":\"#E5ECF6\",\"width\":0.5},\"pattern\":{\"fillmode\":\"overlay\",\"size\":10,\"solidity\":0.2}},\"type\":\"barpolar\"}],\"pie\":[{\"automargin\":true,\"type\":\"pie\"}]},\"layout\":{\"autotypenumbers\":\"strict\",\"colorway\":[\"#636efa\",\"#EF553B\",\"#00cc96\",\"#ab63fa\",\"#FFA15A\",\"#19d3f3\",\"#FF6692\",\"#B6E880\",\"#FF97FF\",\"#FECB52\"],\"font\":{\"color\":\"#2a3f5f\"},\"hovermode\":\"closest\",\"hoverlabel\":{\"align\":\"left\"},\"paper_bgcolor\":\"white\",\"plot_bgcolor\":\"#E5ECF6\",\"polar\":{\"bgcolor\":\"#E5ECF6\",\"angularaxis\":{\"gridcolor\":\"white\",\"linecolor\":\"white\",\"ticks\":\"\"},\"radialaxis\":{\"gridcolor\":\"white\",\"linecolor\":\"white\",\"ticks\":\"\"}},\"ternary\":{\"bgcolor\":\"#E5ECF6\",\"aaxis\":{\"gridcolor\":\"white\",\"linecolor\":\"white\",\"ticks\":\"\"},\"baxis\":{\"gridcolor\":\"white\",\"linecolor\":\"white\",\"ticks\":\"\"},\"caxis\":{\"gridcolor\":\"white\",\"linecolor\":\"white\",\"ticks\":\"\"}},\"coloraxis\":{\"colorbar\":{\"outlinewidth\":0,\"ticks\":\"\"}},\"colorscale\":{\"sequential\":[[0.0,\"#0d0887\"],[0.1111111111111111,\"#46039f\"],[0.2222222222222222,\"#7201a8\"],[0.3333333333333333,\"#9c179e\"],[0.4444444444444444,\"#bd3786\"],[0.5555555555555556,\"#d8576b\"],[0.6666666666666666,\"#ed7953\"],[0.7777777777777778,\"#fb9f3a\"],[0.8888888888888888,\"#fdca26\"],[1.0,\"#f0f921\"]],\"sequentialminus\":[[0.0,\"#0d0887\"],[0.1111111111111111,\"#46039f\"],[0.2222222222222222,\"#7201a8\"],[0.3333333333333333,\"#9c179e\"],[0.4444444444444444,\"#bd3786\"],[0.5555555555555556,\"#d8576b\"],[0.6666666666666666,\"#ed7953\"],[0.7777777777777778,\"#fb9f3a\"],[0.8888888888888888,\"#fdca26\"],[1.0,\"#f0f921\"]],\"diverging\":[[0,\"#8e0152\"],[0.1,\"#c51b7d\"],[0.2,\"#de77ae\"],[0.3,\"#f1b6da\"],[0.4,\"#fde0ef\"],[0.5,\"#f7f7f7\"],[0.6,\"#e6f5d0\"],[0.7,\"#b8e186\"],[0.8,\"#7fbc41\"],[0.9,\"#4d9221\"],[1,\"#276419\"]]},\"xaxis\":{\"gridcolor\":\"white\",\"linecolor\":\"white\",\"ticks\":\"\",\"title\":{\"standoff\":15},\"zerolinecolor\":\"white\",\"automargin\":true,\"zerolinewidth\":2},\"yaxis\":{\"gridcolor\":\"white\",\"linecolor\":\"white\",\"ticks\":\"\",\"title\":{\"standoff\":15},\"zerolinecolor\":\"white\",\"automargin\":true,\"zerolinewidth\":2},\"scene\":{\"xaxis\":{\"backgroundcolor\":\"#E5ECF6\",\"gridcolor\":\"white\",\"linecolor\":\"white\",\"showbackground\":true,\"ticks\":\"\",\"zerolinecolor\":\"white\",\"gridwidth\":2},\"yaxis\":{\"backgroundcolor\":\"#E5ECF6\",\"gridcolor\":\"white\",\"linecolor\":\"white\",\"showbackground\":true,\"ticks\":\"\",\"zerolinecolor\":\"white\",\"gridwidth\":2},\"zaxis\":{\"backgroundcolor\":\"#E5ECF6\",\"gridcolor\":\"white\",\"linecolor\":\"white\",\"showbackground\":true,\"ticks\":\"\",\"zerolinecolor\":\"white\",\"gridwidth\":2}},\"shapedefaults\":{\"line\":{\"color\":\"#2a3f5f\"}},\"annotationdefaults\":{\"arrowcolor\":\"#2a3f5f\",\"arrowhead\":0,\"arrowwidth\":1},\"geo\":{\"bgcolor\":\"white\",\"landcolor\":\"#E5ECF6\",\"subunitcolor\":\"white\",\"showland\":true,\"showlakes\":true,\"lakecolor\":\"white\"},\"title\":{\"x\":0.05},\"mapbox\":{\"style\":\"light\"}}},\"xaxis\":{\"anchor\":\"y\",\"domain\":[0.0,1.0],\"title\":{\"text\":\"Model & Dataset\"}},\"yaxis\":{\"anchor\":\"x\",\"domain\":[0.0,1.0],\"title\":{\"text\":\"Test Accuracy\"}},\"legend\":{\"title\":{\"text\":\"variable\"},\"tracegroupgap\":0},\"title\":{\"text\":\"Dataset: pneumonia\"},\"barmode\":\"relative\"},                        {\"responsive\": true}                    ).then(function(){\n",
       "                            \n",
       "var gd = document.getElementById('8e2f7edc-0f8b-4a4a-a0c3-fae0fd038352');\n",
       "var x = new MutationObserver(function (mutations, observer) {{\n",
       "        var display = window.getComputedStyle(gd).display;\n",
       "        if (!display || display === 'none') {{\n",
       "            console.log([gd, 'removed!']);\n",
       "            Plotly.purge(gd);\n",
       "            observer.disconnect();\n",
       "        }}\n",
       "}});\n",
       "\n",
       "// Listen for the removal of the full notebook cells\n",
       "var notebookContainer = gd.closest('#notebook-container');\n",
       "if (notebookContainer) {{\n",
       "    x.observe(notebookContainer, {childList: true});\n",
       "}}\n",
       "\n",
       "// Listen for the clearing of the current output cell\n",
       "var outputEl = gd.closest('.output');\n",
       "if (outputEl) {{\n",
       "    x.observe(outputEl, {childList: true});\n",
       "}}\n",
       "\n",
       "                        })                };                });            </script>        </div>"
      ]
     },
     "metadata": {},
     "output_type": "display_data"
    }
   ],
   "source": [
    "base_idx = 3\n",
    "labels = [f\"{x.model} {x.dataset}\" for x in df.itertuples()]\n",
    "px.bar(y=[peak_profile_time[:, base_idx], peak_profile_time[:, -1]-peak_profile_time[:, base_idx]], \n",
    "       hover_name=labels, labels={\"index\": \"Model & Dataset\", \"value\": \"Test Accuracy\"}, title=f\"Dataset: {dataset_prefix}\")"
   ]
  },
  {
   "cell_type": "code",
   "execution_count": 55,
   "id": "ff584344-4ef9-4de8-9e23-eed7cb51674f",
   "metadata": {},
   "outputs": [
    {
     "data": {
      "application/vnd.plotly.v1+json": {
       "config": {
        "plotlyServerURL": "https://plot.ly"
       },
       "data": [
        {
         "hovertemplate": "dataset=derma<br>num_param=%{x}<br>value=%{y}<extra></extra>",
         "legendgroup": "derma",
         "marker": {
          "color": "#636efa",
          "symbol": "circle"
         },
         "mode": "markers",
         "name": "derma",
         "orientation": "v",
         "showlegend": true,
         "type": "scatter",
         "x": [
          1068440,
          1301400,
          1370593,
          1968680,
          2912278,
          3666760,
          3695520,
          4383312,
          4421616,
          5182508,
          5260232,
          5288548,
          5572200,
          5578632,
          6187972,
          6543080,
          7978856,
          7998088,
          8553296,
          8598464,
          10081632,
          10388064,
          10476600,
          10593301,
          10731200,
          10988688,
          11708744,
          12480288,
          12488672,
          12611602,
          12611602,
          13677713,
          13691712,
          13701984,
          14149480,
          15451148,
          15667320,
          15742104,
          16011916,
          16014408,
          16779628,
          16806976,
          16809512,
          17352344,
          17963616,
          18511292,
          19676302,
          19779200,
          19880698,
          20013928,
          20569896,
          20640640,
          21110248,
          21151720,
          21299004,
          21616168,
          21797672,
          21816904,
          21913592,
          22036632,
          22569824,
          22635360,
          22733280,
          23834568,
          23834568,
          24671464,
          25048136,
          25059816,
          25549352,
          25557032,
          25557032,
          25573814,
          25576350,
          25897080,
          26309272,
          26907752,
          26969560,
          27559896,
          27642184,
          28088024,
          28210600,
          28589128,
          28681000,
          30162046,
          30670768,
          31078280,
          32458248,
          32774064,
          33268888,
          35691912,
          35696920,
          36022984,
          36846968,
          37668392,
          39819560,
          39916312,
          41282200,
          42338736,
          43828456,
          44177704,
          44568563,
          45206688,
          47821120,
          48955416,
          50721584,
          53236442,
          53389720,
          54298216,
          56172520,
          60192808,
          60212040,
          61570728,
          63618696,
          64693064,
          66841080,
          68883240,
          71489284,
          79254504,
          86057668,
          86621576,
          86917800,
          87918816,
          88753150,
          93209992,
          93588280,
          93588280,
          102093077,
          115088984,
          129861448,
          132863336,
          133047848,
          1068440,
          1301400,
          1370593,
          1968680,
          2912278,
          3666760,
          3695520,
          4383312,
          4421616,
          5182508,
          5260232,
          5288548,
          5572200,
          5578632,
          6187972,
          6543080,
          7978856,
          7998088,
          8553296,
          8598464,
          10081632,
          10388064,
          10476600,
          10593301,
          10731200,
          10988688,
          11708744,
          12480288,
          12488672,
          12611602,
          12611602,
          13677713,
          13691712,
          13701984,
          14149480,
          15451148,
          15667320,
          15742104,
          16011916,
          16014408,
          16779628,
          16806976,
          16809512,
          17352344,
          17963616,
          18511292,
          19676302,
          19779200,
          19880698,
          20013928,
          20569896,
          20640640,
          21110248,
          21151720,
          21299004,
          21616168,
          21797672,
          21816904,
          21913592,
          22036632,
          22569824,
          22635360,
          22733280,
          23834568,
          23834568,
          24671464,
          25048136,
          25059816,
          25549352,
          25557032,
          25557032,
          25573814,
          25576350,
          25897080,
          26309272,
          26907752,
          26969560,
          27559896,
          27642184,
          28088024,
          28210600,
          28589128,
          28681000,
          30162046,
          30670768,
          31078280,
          32458248,
          32774064,
          33268888,
          35691912,
          35696920,
          36022984,
          36846968,
          37668392,
          39819560,
          39916312,
          41282200,
          42338736,
          43828456,
          44177704,
          44568563,
          45206688,
          47821120,
          48955416,
          50721584,
          53236442,
          53389720,
          54298216,
          56172520,
          60192808,
          60212040,
          61570728,
          63618696,
          64693064,
          66841080,
          68883240,
          71489284,
          79254504,
          86057668,
          86621576,
          86917800,
          87918816,
          88753150,
          93209992,
          93588280,
          93588280,
          102093077,
          115088984,
          129861448,
          132863336,
          133047848
         ],
         "xaxis": "x",
         "y": [
          0.6799426067399909,
          0.6861271135648627,
          0.7076612903225806,
          0.6743951612903226,
          0.6928844328514492,
          0.6898938201339544,
          0.6957966381373007,
          0.6841876758658573,
          0.6854838709677419,
          0.6925403225806451,
          0.6834677419354839,
          0.6869959677419355,
          0.6834677419354839,
          0.6975806451612904,
          0.687932243770966,
          0.7197028069065265,
          0.7157258064516129,
          0.701762221044716,
          0.6935692180910275,
          0.6751650584733006,
          0.6950604838709677,
          0.7190180445754112,
          0.7096055594825628,
          0.7212478835789718,
          0.7081818760589453,
          0.709551303610757,
          0.7120229077693605,
          0.7111033084067359,
          0.725329434029409,
          0.6938133782205358,
          0.7217892909690371,
          0.6629798973883867,
          0.7152683570960836,
          0.6997523279083722,
          0.6870860901101082,
          0.676137626519779,
          0.6877490986064022,
          0.6759072580645161,
          0.7048367352187871,
          0.6900201612903226,
          0.6787479871587253,
          0.6969319553835933,
          0.6994211333963851,
          0.6627459063957596,
          0.6822042536640753,
          0.6756567861379063,
          0.6849798387096774,
          0.6915563271190922,
          0.7019465556427792,
          0.6799478880134974,
          0.685439242068813,
          0.6514747843984585,
          0.6616304219476066,
          0.6823517131486618,
          0.6708976141626682,
          0.6853451499900324,
          0.6930443548387096,
          0.7050263522205,
          0.697327125149181,
          0.6625509735247344,
          0.685874502919311,
          0.68524313076562,
          0.6961108892462279,
          0.6999558313451811,
          0.6998498941415771,
          0.6789314516129032,
          0.7018327260414369,
          0.6926627539486974,
          0.6747112370387931,
          0.7009293503389414,
          0.6895956669172206,
          0.6995488143859561,
          0.6972252797974556,
          0.6915322580645161,
          0.6064499456302889,
          0.6900201612903226,
          0.7084646333322875,
          0.6949459622302344,
          0.683927208012653,
          0.6876566530096695,
          0.6754032258064516,
          0.6727953678846862,
          0.6865489030546026,
          0.6891053394800561,
          0.6945564516129032,
          0.7098637864510441,
          0.6896964580742719,
          0.7006888775180177,
          0.6407575185245598,
          0.6929410009021659,
          0.6782582907187642,
          0.6869959677419355,
          0.6915709032277696,
          0.6806938763066682,
          0.695314899288393,
          0.6886911819853647,
          0.5661571048488739,
          0.6786697377600538,
          0.6691671748683408,
          0.6805118194872498,
          0.6949046325172604,
          0.6825487768217968,
          0.6847539604301267,
          0.6904670601871773,
          0.6870153895915825,
          0.6750377964872418,
          0.628149577404229,
          0.6693548387096774,
          0.6759072580645161,
          0.6859349991008917,
          0.6902335024730647,
          0.6829481708510244,
          0.6809475806451613,
          0.686491935483871,
          0.6922197994441248,
          0.6825505813204148,
          0.6693548387096774,
          0.6906490737643118,
          0.6820222517100861,
          0.684920117393445,
          0.6988999444625483,
          0.6807610535529195,
          0.6925403225806451,
          0.6799777362746267,
          0.6848388235208069,
          0.6827922915434484,
          0.679626859421302,
          0.675599069942265,
          0.6799389383246887,
          0.676235550918326,
          0.6703604660077994,
          0.7318548387096774,
          0.7172379032258065,
          0.7076612903225806,
          0.6844758064516129,
          0.7086693548387096,
          0.7328629032258065,
          0.733366935483871,
          0.7016129032258065,
          0.7076612903225806,
          0.6925403225806451,
          0.6875,
          0.6905241935483871,
          0.704133064516129,
          0.7328629032258065,
          0.6880040322580645,
          0.7651209677419355,
          0.7479838709677419,
          0.734375,
          0.7550403225806451,
          0.6859879032258065,
          0.7137096774193549,
          0.7479838709677419,
          0.7479838709677419,
          0.7681451612903226,
          0.7494959677419355,
          0.7525201612903226,
          0.7479838709677419,
          0.7479838709677419,
          0.7449596774193549,
          0.7293346774193549,
          0.7379032258064516,
          0.7283266129032258,
          0.7610887096774194,
          0.7323588709677419,
          0.7505040322580645,
          0.7550403225806451,
          0.7429435483870968,
          0.6960685483870968,
          0.7273185483870968,
          0.7217741935483871,
          0.7298387096774194,
          0.735383064516129,
          0.7449596774193549,
          0.6854838709677419,
          0.734375,
          0.7313508064516129,
          0.7429435483870968,
          0.7318548387096774,
          0.7434475806451613,
          0.7479838709677419,
          0.7318548387096774,
          0.6703629032258065,
          0.7144155662053674,
          0.7202620967741935,
          0.7207661290322581,
          0.7268145161290323,
          0.7615927419354839,
          0.7449596774193549,
          0.7308467741935484,
          0.6784274193548387,
          0.7474798387096774,
          0.7530241935483871,
          0.7711693548387096,
          0.7308467741935484,
          0.7308467741935484,
          0.734375,
          0.751008064516129,
          0.7404233870967742,
          0.7303427419354839,
          0.7268145161290323,
          0.7404233870967742,
          0.7464717741935484,
          0.7384072580645161,
          0.7454637096774194,
          0.6658266129032258,
          0.7207661290322581,
          0.7323588709677419,
          0.7318548387096774,
          0.7152217741935484,
          0.7520161290322581,
          0.7121975806451613,
          0.7247983870967742,
          0.7409274193548387,
          0.7404233870967742,
          0.7278225806451613,
          0.7303427419354839,
          0.7172379032258065,
          0.7253024193548387,
          0.7157258064516129,
          0.7424395161290323,
          0.7484879032258065,
          0.6890120967741935,
          0.7424395161290323,
          0.7142137096774194,
          0.7384072580645161,
          0.7157258064516129,
          0.6738911290322581,
          0.7056451612903226,
          0.6733870967741935,
          0.7389112903225806,
          0.734375,
          0.7404233870967742,
          0.734375,
          0.7454637096774194,
          0.7222782258064516,
          0.7137096774193549,
          0.6794354838709677,
          0.6723790322580645,
          0.6895161290322581,
          0.7283266129032258,
          0.734375,
          0.735383064516129,
          0.75,
          0.733366935483871,
          0.7555443548387096,
          0.7308467741935484,
          0.6693548387096774,
          0.7338709677419355,
          0.7505040322580645,
          0.75,
          0.7424395161290323,
          0.7368951612903226,
          0.7348790322580645,
          0.734375,
          0.7459677419354839,
          0.7570564516129032,
          0.735383064516129,
          0.748991935483871,
          0.7464717741935484,
          0.7147177419354839,
          0.7036290322580645
         ],
         "yaxis": "y"
        },
        {
         "hovertemplate": "dataset=derma_small<br>num_param=%{x}<br>value=%{y}<extra></extra>",
         "legendgroup": "derma_small",
         "marker": {
          "color": "#EF553B",
          "symbol": "circle"
         },
         "mode": "markers",
         "name": "derma_small",
         "orientation": "v",
         "showlegend": true,
         "type": "scatter",
         "x": [
          1068440,
          1301400,
          1370593,
          1968680,
          2912278,
          3666760,
          3695520,
          4383312,
          4421616,
          5182508,
          5260232,
          5288548,
          5572200,
          5578632,
          6187972,
          6543080,
          7978856,
          7998088,
          8553296,
          8598464,
          10081632,
          10388064,
          10476600,
          10593301,
          10731200,
          10988688,
          11708744,
          12480288,
          12488672,
          12611602,
          12611602,
          13677713,
          13691712,
          13701984,
          14149480,
          15451148,
          15667320,
          15742104,
          16011916,
          16014408,
          16779628,
          16806976,
          16809512,
          17352344,
          17963616,
          18511292,
          19676302,
          19779200,
          19880698,
          20013928,
          20569896,
          20640640,
          21110248,
          21151720,
          21299004,
          21616168,
          21797672,
          21816904,
          21913592,
          22036632,
          22569824,
          22635360,
          22733280,
          23834568,
          23834568,
          24671464,
          25048136,
          25059816,
          25549352,
          25557032,
          25557032,
          25573814,
          25576350,
          25897080,
          26309272,
          26907752,
          26969560,
          27559896,
          27642184,
          28088024,
          28210600,
          28589128,
          28681000,
          30162046,
          30670768,
          31078280,
          32458248,
          32774064,
          33268888,
          35691912,
          35696920,
          36022984,
          36846968,
          37668392,
          39819560,
          39916312,
          41282200,
          42338736,
          43828456,
          44177704,
          44568563,
          45206688,
          47821120,
          48955416,
          50721584,
          53236442,
          53389720,
          54298216,
          56172520,
          60192808,
          60212040,
          61570728,
          63618696,
          64693064,
          66841080,
          68883240,
          71489284,
          79254504,
          86057668,
          86621576,
          86917800,
          87918816,
          88753150,
          93209992,
          93588280,
          93588280,
          102093077,
          115088984,
          129861448,
          132863336,
          133047848,
          1068440,
          1301400,
          1370593,
          1968680,
          2912278,
          3666760,
          3695520,
          4383312,
          4421616,
          5182508,
          5260232,
          5288548,
          5572200,
          5578632,
          6187972,
          6543080,
          7978856,
          7998088,
          8553296,
          8598464,
          10081632,
          10388064,
          10476600,
          10593301,
          10731200,
          10988688,
          11708744,
          12480288,
          12488672,
          12611602,
          12611602,
          13677713,
          13691712,
          13701984,
          14149480,
          15451148,
          15667320,
          15742104,
          16011916,
          16014408,
          16779628,
          16806976,
          16809512,
          17352344,
          17963616,
          18511292,
          19676302,
          19779200,
          19880698,
          20013928,
          20569896,
          20640640,
          21110248,
          21151720,
          21299004,
          21616168,
          21797672,
          21816904,
          21913592,
          22036632,
          22569824,
          22635360,
          22733280,
          23834568,
          23834568,
          24671464,
          25048136,
          25059816,
          25549352,
          25557032,
          25557032,
          25573814,
          25576350,
          25897080,
          26309272,
          26907752,
          26969560,
          27559896,
          27642184,
          28088024,
          28210600,
          28589128,
          28681000,
          30162046,
          30670768,
          31078280,
          32458248,
          32774064,
          33268888,
          35691912,
          35696920,
          36022984,
          36846968,
          37668392,
          39819560,
          39916312,
          41282200,
          42338736,
          43828456,
          44177704,
          44568563,
          45206688,
          47821120,
          48955416,
          50721584,
          53236442,
          53389720,
          54298216,
          56172520,
          60192808,
          60212040,
          61570728,
          63618696,
          64693064,
          66841080,
          68883240,
          71489284,
          79254504,
          86057668,
          86621576,
          86917800,
          87918816,
          88753150,
          93209992,
          93588280,
          93588280,
          102093077,
          115088984,
          129861448,
          132863336,
          133047848
         ],
         "xaxis": "x",
         "y": [
          0.7389112903225806,
          0.733366935483871,
          0.7399193548387096,
          0.7308467741935484,
          0.7338709677419355,
          0.7086693548387096,
          0.6839717741935484,
          0.7545362903225806,
          0.7626008064516129,
          0.764616935483871,
          0.7464717741935484,
          0.7419354838709677,
          0.7429435483870968,
          0.780241935483871,
          0.7575604838709677,
          0.7782258064516129,
          0.7626008064516129,
          0.7741935483870968,
          0.7076612903225806,
          0.7373991935483871,
          0.7741935483870968,
          0.7620967741935484,
          0.7746975806451613,
          0.7569011716460788,
          0.7599648514452388,
          0.7356624173175969,
          0.7600806451612904,
          0.7338709677419355,
          0.7258064516129032,
          0.7081653225806451,
          0.7777217741935484,
          0.7399193548387096,
          0.7419354838709677,
          0.7116935483870968,
          0.7424395161290323,
          0.6794354838709677,
          0.7560483870967742,
          0.7116935483870968,
          0.7767137096774194,
          0.7308467741935484,
          0.6693548387096774,
          0.748991935483871,
          0.7590725806451613,
          0.7414314516129032,
          0.7379032258064516,
          0.741338498160849,
          0.7595766129032258,
          0.7622118089727532,
          0.7641129032258065,
          0.7202620967741935,
          0.7530241935483871,
          0.7258064516129032,
          0.6693548387096774,
          0.6955645161290323,
          0.6678427419354839,
          0.672883064516129,
          0.672883064516129,
          0.6995967741935484,
          0.6693548387096774,
          0.6349920862529255,
          0.6382418925526818,
          0.6698588709677419,
          0.6774082934963945,
          0.6658266129032258,
          0.6678427419354839,
          0.6839717741935484,
          0.6698588709677419,
          0.6685040122121227,
          0.703125,
          0.6698588709677419,
          0.6809475806451613,
          0.7051411290322581,
          0.6784274193548387,
          0.6839717741935484,
          0.6370967741935484,
          0.6698588709677419,
          0.6829637096774194,
          0.6693548387096774,
          0.6859879032258065,
          0.6693548387096774,
          0.6648185483870968,
          0.6693548387096774,
          0.6663306451612904,
          0.6805133795256226,
          0.6693548387096774,
          0.6784274193548387,
          0.6693548387096774,
          0.6693548387096774,
          0.6476814516129032,
          0.6739342814654953,
          0.6985887096774194,
          0.6693548387096774,
          0.6965725806451613,
          0.6068548387096774,
          0.6693548387096774,
          0.6693548387096774,
          0.5143426449099848,
          0.6910282258064516,
          0.6693548387096774,
          0.6693548387096774,
          0.6693548387096774,
          0.6693548387096774,
          0.670866935483871,
          0.6693548387096774,
          0.6693548387096774,
          0.7001008064516129,
          0.6199731175311564,
          0.6693548387096774,
          0.6738911290322581,
          0.6698588709677419,
          0.669520251745889,
          0.6113911290322581,
          0.6693548387096774,
          0.6887792955160154,
          0.6744524783457847,
          0.6693548387096774,
          0.033266129032258,
          0.4608414887583414,
          0.613370903925779,
          0.6817296661962866,
          0.5547551613431451,
          0.6693548387096774,
          0.6693548387096774,
          0.6333706889678687,
          0.6694185933762392,
          0.6698588709677419,
          0.6748991935483871,
          0.6693548387096774,
          0.6504405044765484,
          0.23224313808868918,
          0.6345766129032258,
          0.7389112903225806,
          0.733366935483871,
          0.7399193548387096,
          0.7308467741935484,
          0.7338709677419355,
          0.7086693548387096,
          0.6839717741935484,
          0.7545362903225806,
          0.7626008064516129,
          0.764616935483871,
          0.7464717741935484,
          0.7419354838709677,
          0.7429435483870968,
          0.780241935483871,
          0.7575604838709677,
          0.7782258064516129,
          0.7626008064516129,
          0.7757056451612904,
          0.7076612903225806,
          0.7373991935483871,
          0.7741935483870968,
          0.7620967741935484,
          0.7746975806451613,
          0.7691532258064516,
          0.7716733870967742,
          0.751008064516129,
          0.7600806451612904,
          0.7338709677419355,
          0.7258064516129032,
          0.7091733870967742,
          0.7777217741935484,
          0.7399193548387096,
          0.7419354838709677,
          0.7116935483870968,
          0.7424395161290323,
          0.704133064516129,
          0.7560483870967742,
          0.7116935483870968,
          0.7767137096774194,
          0.7308467741935484,
          0.6693548387096774,
          0.748991935483871,
          0.7590725806451613,
          0.7414314516129032,
          0.7379032258064516,
          0.7590725806451613,
          0.7595766129032258,
          0.7651209677419355,
          0.7641129032258065,
          0.7505040322580645,
          0.7530241935483871,
          0.7278225806451613,
          0.6854838709677419,
          0.6955645161290323,
          0.6693548387096774,
          0.672883064516129,
          0.672883064516129,
          0.6995967741935484,
          0.6693548387096774,
          0.6401209677419355,
          0.6880040322580645,
          0.6698588709677419,
          0.6789314516129032,
          0.6658266129032258,
          0.6678427419354839,
          0.6839717741935484,
          0.6698588709677419,
          0.6693548387096774,
          0.703125,
          0.672883064516129,
          0.6839717741935484,
          0.7066532258064516,
          0.6819556451612904,
          0.6839717741935484,
          0.6507056451612904,
          0.6698588709677419,
          0.6945564516129032,
          0.6789314516129032,
          0.6859879032258065,
          0.6693548387096774,
          0.6648185483870968,
          0.6693548387096774,
          0.6663306451612904,
          0.688508064516129,
          0.6693548387096774,
          0.6784274193548387,
          0.6693548387096774,
          0.6693548387096774,
          0.6678427419354839,
          0.6789314516129032,
          0.7111895161290323,
          0.6693548387096774,
          0.6965725806451613,
          0.6648185483870968,
          0.6759072580645161,
          0.6693548387096774,
          0.6658266129032258,
          0.7026209677419355,
          0.6693548387096774,
          0.6779233870967742,
          0.6915322580645161,
          0.6693548387096774,
          0.6713709677419355,
          0.6693548387096774,
          0.6698588709677419,
          0.7001008064516129,
          0.6703629032258065,
          0.6698588709677419,
          0.6774193548387096,
          0.672883064516129,
          0.6698588709677419,
          0.6643145161290323,
          0.6743951612903226,
          0.7132056451612904,
          0.6975806451612904,
          0.6693548387096774,
          0.033266129032258,
          0.6386088709677419,
          0.6693548387096774,
          0.6859879032258065,
          0.6612903225806451,
          0.6693548387096774,
          0.6693548387096774,
          0.670866935483871,
          0.6774193548387096,
          0.672883064516129,
          0.7152217741935484,
          0.6970766129032258,
          0.6754032258064516,
          0.6693548387096774,
          0.6693548387096774
         ],
         "yaxis": "y"
        }
       ],
       "layout": {
        "autosize": true,
        "legend": {
         "title": {
          "text": "dataset"
         },
         "tracegroupgap": 0
        },
        "margin": {
         "t": 60
        },
        "template": {
         "data": {
          "bar": [
           {
            "error_x": {
             "color": "#2a3f5f"
            },
            "error_y": {
             "color": "#2a3f5f"
            },
            "marker": {
             "line": {
              "color": "#E5ECF6",
              "width": 0.5
             },
             "pattern": {
              "fillmode": "overlay",
              "size": 10,
              "solidity": 0.2
             }
            },
            "type": "bar"
           }
          ],
          "barpolar": [
           {
            "marker": {
             "line": {
              "color": "#E5ECF6",
              "width": 0.5
             },
             "pattern": {
              "fillmode": "overlay",
              "size": 10,
              "solidity": 0.2
             }
            },
            "type": "barpolar"
           }
          ],
          "carpet": [
           {
            "aaxis": {
             "endlinecolor": "#2a3f5f",
             "gridcolor": "white",
             "linecolor": "white",
             "minorgridcolor": "white",
             "startlinecolor": "#2a3f5f"
            },
            "baxis": {
             "endlinecolor": "#2a3f5f",
             "gridcolor": "white",
             "linecolor": "white",
             "minorgridcolor": "white",
             "startlinecolor": "#2a3f5f"
            },
            "type": "carpet"
           }
          ],
          "choropleth": [
           {
            "colorbar": {
             "outlinewidth": 0,
             "ticks": ""
            },
            "type": "choropleth"
           }
          ],
          "contour": [
           {
            "colorbar": {
             "outlinewidth": 0,
             "ticks": ""
            },
            "colorscale": [
             [
              0,
              "#0d0887"
             ],
             [
              0.1111111111111111,
              "#46039f"
             ],
             [
              0.2222222222222222,
              "#7201a8"
             ],
             [
              0.3333333333333333,
              "#9c179e"
             ],
             [
              0.4444444444444444,
              "#bd3786"
             ],
             [
              0.5555555555555556,
              "#d8576b"
             ],
             [
              0.6666666666666666,
              "#ed7953"
             ],
             [
              0.7777777777777778,
              "#fb9f3a"
             ],
             [
              0.8888888888888888,
              "#fdca26"
             ],
             [
              1,
              "#f0f921"
             ]
            ],
            "type": "contour"
           }
          ],
          "contourcarpet": [
           {
            "colorbar": {
             "outlinewidth": 0,
             "ticks": ""
            },
            "type": "contourcarpet"
           }
          ],
          "heatmap": [
           {
            "colorbar": {
             "outlinewidth": 0,
             "ticks": ""
            },
            "colorscale": [
             [
              0,
              "#0d0887"
             ],
             [
              0.1111111111111111,
              "#46039f"
             ],
             [
              0.2222222222222222,
              "#7201a8"
             ],
             [
              0.3333333333333333,
              "#9c179e"
             ],
             [
              0.4444444444444444,
              "#bd3786"
             ],
             [
              0.5555555555555556,
              "#d8576b"
             ],
             [
              0.6666666666666666,
              "#ed7953"
             ],
             [
              0.7777777777777778,
              "#fb9f3a"
             ],
             [
              0.8888888888888888,
              "#fdca26"
             ],
             [
              1,
              "#f0f921"
             ]
            ],
            "type": "heatmap"
           }
          ],
          "heatmapgl": [
           {
            "colorbar": {
             "outlinewidth": 0,
             "ticks": ""
            },
            "colorscale": [
             [
              0,
              "#0d0887"
             ],
             [
              0.1111111111111111,
              "#46039f"
             ],
             [
              0.2222222222222222,
              "#7201a8"
             ],
             [
              0.3333333333333333,
              "#9c179e"
             ],
             [
              0.4444444444444444,
              "#bd3786"
             ],
             [
              0.5555555555555556,
              "#d8576b"
             ],
             [
              0.6666666666666666,
              "#ed7953"
             ],
             [
              0.7777777777777778,
              "#fb9f3a"
             ],
             [
              0.8888888888888888,
              "#fdca26"
             ],
             [
              1,
              "#f0f921"
             ]
            ],
            "type": "heatmapgl"
           }
          ],
          "histogram": [
           {
            "marker": {
             "pattern": {
              "fillmode": "overlay",
              "size": 10,
              "solidity": 0.2
             }
            },
            "type": "histogram"
           }
          ],
          "histogram2d": [
           {
            "colorbar": {
             "outlinewidth": 0,
             "ticks": ""
            },
            "colorscale": [
             [
              0,
              "#0d0887"
             ],
             [
              0.1111111111111111,
              "#46039f"
             ],
             [
              0.2222222222222222,
              "#7201a8"
             ],
             [
              0.3333333333333333,
              "#9c179e"
             ],
             [
              0.4444444444444444,
              "#bd3786"
             ],
             [
              0.5555555555555556,
              "#d8576b"
             ],
             [
              0.6666666666666666,
              "#ed7953"
             ],
             [
              0.7777777777777778,
              "#fb9f3a"
             ],
             [
              0.8888888888888888,
              "#fdca26"
             ],
             [
              1,
              "#f0f921"
             ]
            ],
            "type": "histogram2d"
           }
          ],
          "histogram2dcontour": [
           {
            "colorbar": {
             "outlinewidth": 0,
             "ticks": ""
            },
            "colorscale": [
             [
              0,
              "#0d0887"
             ],
             [
              0.1111111111111111,
              "#46039f"
             ],
             [
              0.2222222222222222,
              "#7201a8"
             ],
             [
              0.3333333333333333,
              "#9c179e"
             ],
             [
              0.4444444444444444,
              "#bd3786"
             ],
             [
              0.5555555555555556,
              "#d8576b"
             ],
             [
              0.6666666666666666,
              "#ed7953"
             ],
             [
              0.7777777777777778,
              "#fb9f3a"
             ],
             [
              0.8888888888888888,
              "#fdca26"
             ],
             [
              1,
              "#f0f921"
             ]
            ],
            "type": "histogram2dcontour"
           }
          ],
          "mesh3d": [
           {
            "colorbar": {
             "outlinewidth": 0,
             "ticks": ""
            },
            "type": "mesh3d"
           }
          ],
          "parcoords": [
           {
            "line": {
             "colorbar": {
              "outlinewidth": 0,
              "ticks": ""
             }
            },
            "type": "parcoords"
           }
          ],
          "pie": [
           {
            "automargin": true,
            "type": "pie"
           }
          ],
          "scatter": [
           {
            "fillpattern": {
             "fillmode": "overlay",
             "size": 10,
             "solidity": 0.2
            },
            "type": "scatter"
           }
          ],
          "scatter3d": [
           {
            "line": {
             "colorbar": {
              "outlinewidth": 0,
              "ticks": ""
             }
            },
            "marker": {
             "colorbar": {
              "outlinewidth": 0,
              "ticks": ""
             }
            },
            "type": "scatter3d"
           }
          ],
          "scattercarpet": [
           {
            "marker": {
             "colorbar": {
              "outlinewidth": 0,
              "ticks": ""
             }
            },
            "type": "scattercarpet"
           }
          ],
          "scattergeo": [
           {
            "marker": {
             "colorbar": {
              "outlinewidth": 0,
              "ticks": ""
             }
            },
            "type": "scattergeo"
           }
          ],
          "scattergl": [
           {
            "marker": {
             "colorbar": {
              "outlinewidth": 0,
              "ticks": ""
             }
            },
            "type": "scattergl"
           }
          ],
          "scattermapbox": [
           {
            "marker": {
             "colorbar": {
              "outlinewidth": 0,
              "ticks": ""
             }
            },
            "type": "scattermapbox"
           }
          ],
          "scatterpolar": [
           {
            "marker": {
             "colorbar": {
              "outlinewidth": 0,
              "ticks": ""
             }
            },
            "type": "scatterpolar"
           }
          ],
          "scatterpolargl": [
           {
            "marker": {
             "colorbar": {
              "outlinewidth": 0,
              "ticks": ""
             }
            },
            "type": "scatterpolargl"
           }
          ],
          "scatterternary": [
           {
            "marker": {
             "colorbar": {
              "outlinewidth": 0,
              "ticks": ""
             }
            },
            "type": "scatterternary"
           }
          ],
          "surface": [
           {
            "colorbar": {
             "outlinewidth": 0,
             "ticks": ""
            },
            "colorscale": [
             [
              0,
              "#0d0887"
             ],
             [
              0.1111111111111111,
              "#46039f"
             ],
             [
              0.2222222222222222,
              "#7201a8"
             ],
             [
              0.3333333333333333,
              "#9c179e"
             ],
             [
              0.4444444444444444,
              "#bd3786"
             ],
             [
              0.5555555555555556,
              "#d8576b"
             ],
             [
              0.6666666666666666,
              "#ed7953"
             ],
             [
              0.7777777777777778,
              "#fb9f3a"
             ],
             [
              0.8888888888888888,
              "#fdca26"
             ],
             [
              1,
              "#f0f921"
             ]
            ],
            "type": "surface"
           }
          ],
          "table": [
           {
            "cells": {
             "fill": {
              "color": "#EBF0F8"
             },
             "line": {
              "color": "white"
             }
            },
            "header": {
             "fill": {
              "color": "#C8D4E3"
             },
             "line": {
              "color": "white"
             }
            },
            "type": "table"
           }
          ]
         },
         "layout": {
          "annotationdefaults": {
           "arrowcolor": "#2a3f5f",
           "arrowhead": 0,
           "arrowwidth": 1
          },
          "autotypenumbers": "strict",
          "coloraxis": {
           "colorbar": {
            "outlinewidth": 0,
            "ticks": ""
           }
          },
          "colorscale": {
           "diverging": [
            [
             0,
             "#8e0152"
            ],
            [
             0.1,
             "#c51b7d"
            ],
            [
             0.2,
             "#de77ae"
            ],
            [
             0.3,
             "#f1b6da"
            ],
            [
             0.4,
             "#fde0ef"
            ],
            [
             0.5,
             "#f7f7f7"
            ],
            [
             0.6,
             "#e6f5d0"
            ],
            [
             0.7,
             "#b8e186"
            ],
            [
             0.8,
             "#7fbc41"
            ],
            [
             0.9,
             "#4d9221"
            ],
            [
             1,
             "#276419"
            ]
           ],
           "sequential": [
            [
             0,
             "#0d0887"
            ],
            [
             0.1111111111111111,
             "#46039f"
            ],
            [
             0.2222222222222222,
             "#7201a8"
            ],
            [
             0.3333333333333333,
             "#9c179e"
            ],
            [
             0.4444444444444444,
             "#bd3786"
            ],
            [
             0.5555555555555556,
             "#d8576b"
            ],
            [
             0.6666666666666666,
             "#ed7953"
            ],
            [
             0.7777777777777778,
             "#fb9f3a"
            ],
            [
             0.8888888888888888,
             "#fdca26"
            ],
            [
             1,
             "#f0f921"
            ]
           ],
           "sequentialminus": [
            [
             0,
             "#0d0887"
            ],
            [
             0.1111111111111111,
             "#46039f"
            ],
            [
             0.2222222222222222,
             "#7201a8"
            ],
            [
             0.3333333333333333,
             "#9c179e"
            ],
            [
             0.4444444444444444,
             "#bd3786"
            ],
            [
             0.5555555555555556,
             "#d8576b"
            ],
            [
             0.6666666666666666,
             "#ed7953"
            ],
            [
             0.7777777777777778,
             "#fb9f3a"
            ],
            [
             0.8888888888888888,
             "#fdca26"
            ],
            [
             1,
             "#f0f921"
            ]
           ]
          },
          "colorway": [
           "#636efa",
           "#EF553B",
           "#00cc96",
           "#ab63fa",
           "#FFA15A",
           "#19d3f3",
           "#FF6692",
           "#B6E880",
           "#FF97FF",
           "#FECB52"
          ],
          "font": {
           "color": "#2a3f5f"
          },
          "geo": {
           "bgcolor": "white",
           "lakecolor": "white",
           "landcolor": "#E5ECF6",
           "showlakes": true,
           "showland": true,
           "subunitcolor": "white"
          },
          "hoverlabel": {
           "align": "left"
          },
          "hovermode": "closest",
          "mapbox": {
           "style": "light"
          },
          "paper_bgcolor": "white",
          "plot_bgcolor": "#E5ECF6",
          "polar": {
           "angularaxis": {
            "gridcolor": "white",
            "linecolor": "white",
            "ticks": ""
           },
           "bgcolor": "#E5ECF6",
           "radialaxis": {
            "gridcolor": "white",
            "linecolor": "white",
            "ticks": ""
           }
          },
          "scene": {
           "xaxis": {
            "backgroundcolor": "#E5ECF6",
            "gridcolor": "white",
            "gridwidth": 2,
            "linecolor": "white",
            "showbackground": true,
            "ticks": "",
            "zerolinecolor": "white"
           },
           "yaxis": {
            "backgroundcolor": "#E5ECF6",
            "gridcolor": "white",
            "gridwidth": 2,
            "linecolor": "white",
            "showbackground": true,
            "ticks": "",
            "zerolinecolor": "white"
           },
           "zaxis": {
            "backgroundcolor": "#E5ECF6",
            "gridcolor": "white",
            "gridwidth": 2,
            "linecolor": "white",
            "showbackground": true,
            "ticks": "",
            "zerolinecolor": "white"
           }
          },
          "shapedefaults": {
           "line": {
            "color": "#2a3f5f"
           }
          },
          "ternary": {
           "aaxis": {
            "gridcolor": "white",
            "linecolor": "white",
            "ticks": ""
           },
           "baxis": {
            "gridcolor": "white",
            "linecolor": "white",
            "ticks": ""
           },
           "bgcolor": "#E5ECF6",
           "caxis": {
            "gridcolor": "white",
            "linecolor": "white",
            "ticks": ""
           }
          },
          "title": {
           "x": 0.05
          },
          "xaxis": {
           "automargin": true,
           "gridcolor": "white",
           "linecolor": "white",
           "ticks": "",
           "title": {
            "standoff": 15
           },
           "zerolinecolor": "white",
           "zerolinewidth": 2
          },
          "yaxis": {
           "automargin": true,
           "gridcolor": "white",
           "linecolor": "white",
           "ticks": "",
           "title": {
            "standoff": 15
           },
           "zerolinecolor": "white",
           "zerolinewidth": 2
          }
         }
        },
        "xaxis": {
         "anchor": "y",
         "autorange": true,
         "domain": [
          0,
          1
         ],
         "range": [
          -7092058.114776322,
          141208346.1147763
         ],
         "title": {
          "text": "num_param"
         },
         "type": "linear"
        },
        "yaxis": {
         "anchor": "x",
         "autorange": true,
         "domain": [
          0,
          1
         ],
         "range": [
          -0.024570580391160855,
          0.8380786449072899
         ],
         "title": {
          "text": "value"
         },
         "type": "linear"
        }
       }
      },
      "image/png": "[encoded data removed]",
      "text/html": [
       "<div>                            <div id=\"29fd8fa8-13d9-4bed-b3e8-ea28bbeba2e9\" class=\"plotly-graph-div\" style=\"height:525px; width:100%;\"></div>            <script type=\"text/javascript\">                require([\"plotly\"], function(Plotly) {                    window.PLOTLYENV=window.PLOTLYENV || {};                                    if (document.getElementById(\"29fd8fa8-13d9-4bed-b3e8-ea28bbeba2e9\")) {                    Plotly.newPlot(                        \"29fd8fa8-13d9-4bed-b3e8-ea28bbeba2e9\",                        [{\"hovertemplate\":\"dataset=derma\\u003cbr\\u003enum_param=%{x}\\u003cbr\\u003evalue=%{y}\\u003cextra\\u003e\\u003c\\u002fextra\\u003e\",\"legendgroup\":\"derma\",\"marker\":{\"color\":\"#636efa\",\"symbol\":\"circle\"},\"mode\":\"markers\",\"name\":\"derma\",\"orientation\":\"v\",\"showlegend\":true,\"x\":[1068440,1301400,1370593,1968680,2912278,3666760,3695520,4383312,4421616,5182508,5260232,5288548,5572200,5578632,6187972,6543080,7978856,7998088,8553296,8598464,10081632,10388064,10476600,10593301,10731200,10988688,11708744,12480288,12488672,12611602,12611602,13677713,13691712,13701984,14149480,15451148,15667320,15742104,16011916,16014408,16779628,16806976,16809512,17352344,17963616,18511292,19676302,19779200,19880698,20013928,20569896,20640640,21110248,21151720,21299004,21616168,21797672,21816904,21913592,22036632,22569824,22635360,22733280,23834568,23834568,24671464,25048136,25059816,25549352,25557032,25557032,25573814,25576350,25897080,26309272,26907752,26969560,27559896,27642184,28088024,28210600,28589128,28681000,30162046,30670768,31078280,32458248,32774064,33268888,35691912,35696920,36022984,36846968,37668392,39819560,39916312,41282200,42338736,43828456,44177704,44568563,45206688,47821120,48955416,50721584,53236442,53389720,54298216,56172520,60192808,60212040,61570728,63618696,64693064,66841080,68883240,71489284,79254504,86057668,86621576,86917800,87918816,88753150,93209992,93588280,93588280,102093077,115088984,129861448,132863336,133047848,1068440,1301400,1370593,1968680,2912278,3666760,3695520,4383312,4421616,5182508,5260232,5288548,5572200,5578632,6187972,6543080,7978856,7998088,8553296,8598464,10081632,10388064,10476600,10593301,10731200,10988688,11708744,12480288,12488672,12611602,12611602,13677713,13691712,13701984,14149480,15451148,15667320,15742104,16011916,16014408,16779628,16806976,16809512,17352344,17963616,18511292,19676302,19779200,19880698,20013928,20569896,20640640,21110248,21151720,21299004,21616168,21797672,21816904,21913592,22036632,22569824,22635360,22733280,23834568,23834568,24671464,25048136,25059816,25549352,25557032,25557032,25573814,25576350,25897080,26309272,26907752,26969560,27559896,27642184,28088024,28210600,28589128,28681000,30162046,30670768,31078280,32458248,32774064,33268888,35691912,35696920,36022984,36846968,37668392,39819560,39916312,41282200,42338736,43828456,44177704,44568563,45206688,47821120,48955416,50721584,53236442,53389720,54298216,56172520,60192808,60212040,61570728,63618696,64693064,66841080,68883240,71489284,79254504,86057668,86621576,86917800,87918816,88753150,93209992,93588280,93588280,102093077,115088984,129861448,132863336,133047848],\"xaxis\":\"x\",\"y\":[0.6799426067399909,0.6861271135648627,0.7076612903225806,0.6743951612903226,0.6928844328514492,0.6898938201339544,0.6957966381373007,0.6841876758658573,0.6854838709677419,0.6925403225806451,0.6834677419354839,0.6869959677419355,0.6834677419354839,0.6975806451612904,0.687932243770966,0.7197028069065265,0.7157258064516129,0.701762221044716,0.6935692180910275,0.6751650584733006,0.6950604838709677,0.7190180445754112,0.7096055594825628,0.7212478835789718,0.7081818760589453,0.709551303610757,0.7120229077693605,0.7111033084067359,0.725329434029409,0.6938133782205358,0.7217892909690371,0.6629798973883867,0.7152683570960836,0.6997523279083722,0.6870860901101082,0.676137626519779,0.6877490986064022,0.6759072580645161,0.7048367352187871,0.6900201612903226,0.6787479871587253,0.6969319553835933,0.6994211333963851,0.6627459063957596,0.6822042536640753,0.6756567861379063,0.6849798387096774,0.6915563271190922,0.7019465556427792,0.6799478880134974,0.685439242068813,0.6514747843984585,0.6616304219476066,0.6823517131486618,0.6708976141626682,0.6853451499900324,0.6930443548387096,0.7050263522205,0.697327125149181,0.6625509735247344,0.685874502919311,0.68524313076562,0.6961108892462279,0.6999558313451811,0.6998498941415771,0.6789314516129032,0.7018327260414369,0.6926627539486974,0.6747112370387931,0.7009293503389414,0.6895956669172206,0.6995488143859561,0.6972252797974556,0.6915322580645161,0.6064499456302889,0.6900201612903226,0.7084646333322875,0.6949459622302344,0.683927208012653,0.6876566530096695,0.6754032258064516,0.6727953678846862,0.6865489030546026,0.6891053394800561,0.6945564516129032,0.7098637864510441,0.6896964580742719,0.7006888775180177,0.6407575185245598,0.6929410009021659,0.6782582907187642,0.6869959677419355,0.6915709032277696,0.6806938763066682,0.695314899288393,0.6886911819853647,0.5661571048488739,0.6786697377600538,0.6691671748683408,0.6805118194872498,0.6949046325172604,0.6825487768217968,0.6847539604301267,0.6904670601871773,0.6870153895915825,0.6750377964872418,0.628149577404229,0.6693548387096774,0.6759072580645161,0.6859349991008917,0.6902335024730647,0.6829481708510244,0.6809475806451613,0.686491935483871,0.6922197994441248,0.6825505813204148,0.6693548387096774,0.6906490737643118,0.6820222517100861,0.684920117393445,0.6988999444625483,0.6807610535529195,0.6925403225806451,0.6799777362746267,0.6848388235208069,0.6827922915434484,0.679626859421302,0.675599069942265,0.6799389383246887,0.676235550918326,0.6703604660077994,0.7318548387096774,0.7172379032258065,0.7076612903225806,0.6844758064516129,0.7086693548387096,0.7328629032258065,0.733366935483871,0.7016129032258065,0.7076612903225806,0.6925403225806451,0.6875,0.6905241935483871,0.704133064516129,0.7328629032258065,0.6880040322580645,0.7651209677419355,0.7479838709677419,0.734375,0.7550403225806451,0.6859879032258065,0.7137096774193549,0.7479838709677419,0.7479838709677419,0.7681451612903226,0.7494959677419355,0.7525201612903226,0.7479838709677419,0.7479838709677419,0.7449596774193549,0.7293346774193549,0.7379032258064516,0.7283266129032258,0.7610887096774194,0.7323588709677419,0.7505040322580645,0.7550403225806451,0.7429435483870968,0.6960685483870968,0.7273185483870968,0.7217741935483871,0.7298387096774194,0.735383064516129,0.7449596774193549,0.6854838709677419,0.734375,0.7313508064516129,0.7429435483870968,0.7318548387096774,0.7434475806451613,0.7479838709677419,0.7318548387096774,0.6703629032258065,0.7144155662053674,0.7202620967741935,0.7207661290322581,0.7268145161290323,0.7615927419354839,0.7449596774193549,0.7308467741935484,0.6784274193548387,0.7474798387096774,0.7530241935483871,0.7711693548387096,0.7308467741935484,0.7308467741935484,0.734375,0.751008064516129,0.7404233870967742,0.7303427419354839,0.7268145161290323,0.7404233870967742,0.7464717741935484,0.7384072580645161,0.7454637096774194,0.6658266129032258,0.7207661290322581,0.7323588709677419,0.7318548387096774,0.7152217741935484,0.7520161290322581,0.7121975806451613,0.7247983870967742,0.7409274193548387,0.7404233870967742,0.7278225806451613,0.7303427419354839,0.7172379032258065,0.7253024193548387,0.7157258064516129,0.7424395161290323,0.7484879032258065,0.6890120967741935,0.7424395161290323,0.7142137096774194,0.7384072580645161,0.7157258064516129,0.6738911290322581,0.7056451612903226,0.6733870967741935,0.7389112903225806,0.734375,0.7404233870967742,0.734375,0.7454637096774194,0.7222782258064516,0.7137096774193549,0.6794354838709677,0.6723790322580645,0.6895161290322581,0.7283266129032258,0.734375,0.735383064516129,0.75,0.733366935483871,0.7555443548387096,0.7308467741935484,0.6693548387096774,0.7338709677419355,0.7505040322580645,0.75,0.7424395161290323,0.7368951612903226,0.7348790322580645,0.734375,0.7459677419354839,0.7570564516129032,0.735383064516129,0.748991935483871,0.7464717741935484,0.7147177419354839,0.7036290322580645],\"yaxis\":\"y\",\"type\":\"scatter\"},{\"hovertemplate\":\"dataset=derma_small\\u003cbr\\u003enum_param=%{x}\\u003cbr\\u003evalue=%{y}\\u003cextra\\u003e\\u003c\\u002fextra\\u003e\",\"legendgroup\":\"derma_small\",\"marker\":{\"color\":\"#EF553B\",\"symbol\":\"circle\"},\"mode\":\"markers\",\"name\":\"derma_small\",\"orientation\":\"v\",\"showlegend\":true,\"x\":[1068440,1301400,1370593,1968680,2912278,3666760,3695520,4383312,4421616,5182508,5260232,5288548,5572200,5578632,6187972,6543080,7978856,7998088,8553296,8598464,10081632,10388064,10476600,10593301,10731200,10988688,11708744,12480288,12488672,12611602,12611602,13677713,13691712,13701984,14149480,15451148,15667320,15742104,16011916,16014408,16779628,16806976,16809512,17352344,17963616,18511292,19676302,19779200,19880698,20013928,20569896,20640640,21110248,21151720,21299004,21616168,21797672,21816904,21913592,22036632,22569824,22635360,22733280,23834568,23834568,24671464,25048136,25059816,25549352,25557032,25557032,25573814,25576350,25897080,26309272,26907752,26969560,27559896,27642184,28088024,28210600,28589128,28681000,30162046,30670768,31078280,32458248,32774064,33268888,35691912,35696920,36022984,36846968,37668392,39819560,39916312,41282200,42338736,43828456,44177704,44568563,45206688,47821120,48955416,50721584,53236442,53389720,54298216,56172520,60192808,60212040,61570728,63618696,64693064,66841080,68883240,71489284,79254504,86057668,86621576,86917800,87918816,88753150,93209992,93588280,93588280,102093077,115088984,129861448,132863336,133047848,1068440,1301400,1370593,1968680,2912278,3666760,3695520,4383312,4421616,5182508,5260232,5288548,5572200,5578632,6187972,6543080,7978856,7998088,8553296,8598464,10081632,10388064,10476600,10593301,10731200,10988688,11708744,12480288,12488672,12611602,12611602,13677713,13691712,13701984,14149480,15451148,15667320,15742104,16011916,16014408,16779628,16806976,16809512,17352344,17963616,18511292,19676302,19779200,19880698,20013928,20569896,20640640,21110248,21151720,21299004,21616168,21797672,21816904,21913592,22036632,22569824,22635360,22733280,23834568,23834568,24671464,25048136,25059816,25549352,25557032,25557032,25573814,25576350,25897080,26309272,26907752,26969560,27559896,27642184,28088024,28210600,28589128,28681000,30162046,30670768,31078280,32458248,32774064,33268888,35691912,35696920,36022984,36846968,37668392,39819560,39916312,41282200,42338736,43828456,44177704,44568563,45206688,47821120,48955416,50721584,53236442,53389720,54298216,56172520,60192808,60212040,61570728,63618696,64693064,66841080,68883240,71489284,79254504,86057668,86621576,86917800,87918816,88753150,93209992,93588280,93588280,102093077,115088984,129861448,132863336,133047848],\"xaxis\":\"x\",\"y\":[0.7389112903225806,0.733366935483871,0.7399193548387096,0.7308467741935484,0.7338709677419355,0.7086693548387096,0.6839717741935484,0.7545362903225806,0.7626008064516129,0.764616935483871,0.7464717741935484,0.7419354838709677,0.7429435483870968,0.780241935483871,0.7575604838709677,0.7782258064516129,0.7626008064516129,0.7741935483870968,0.7076612903225806,0.7373991935483871,0.7741935483870968,0.7620967741935484,0.7746975806451613,0.7569011716460788,0.7599648514452388,0.7356624173175969,0.7600806451612904,0.7338709677419355,0.7258064516129032,0.7081653225806451,0.7777217741935484,0.7399193548387096,0.7419354838709677,0.7116935483870968,0.7424395161290323,0.6794354838709677,0.7560483870967742,0.7116935483870968,0.7767137096774194,0.7308467741935484,0.6693548387096774,0.748991935483871,0.7590725806451613,0.7414314516129032,0.7379032258064516,0.741338498160849,0.7595766129032258,0.7622118089727532,0.7641129032258065,0.7202620967741935,0.7530241935483871,0.7258064516129032,0.6693548387096774,0.6955645161290323,0.6678427419354839,0.672883064516129,0.672883064516129,0.6995967741935484,0.6693548387096774,0.6349920862529255,0.6382418925526818,0.6698588709677419,0.6774082934963945,0.6658266129032258,0.6678427419354839,0.6839717741935484,0.6698588709677419,0.6685040122121227,0.703125,0.6698588709677419,0.6809475806451613,0.7051411290322581,0.6784274193548387,0.6839717741935484,0.6370967741935484,0.6698588709677419,0.6829637096774194,0.6693548387096774,0.6859879032258065,0.6693548387096774,0.6648185483870968,0.6693548387096774,0.6663306451612904,0.6805133795256226,0.6693548387096774,0.6784274193548387,0.6693548387096774,0.6693548387096774,0.6476814516129032,0.6739342814654953,0.6985887096774194,0.6693548387096774,0.6965725806451613,0.6068548387096774,0.6693548387096774,0.6693548387096774,0.5143426449099848,0.6910282258064516,0.6693548387096774,0.6693548387096774,0.6693548387096774,0.6693548387096774,0.670866935483871,0.6693548387096774,0.6693548387096774,0.7001008064516129,0.6199731175311564,0.6693548387096774,0.6738911290322581,0.6698588709677419,0.669520251745889,0.6113911290322581,0.6693548387096774,0.6887792955160154,0.6744524783457847,0.6693548387096774,0.033266129032258,0.4608414887583414,0.613370903925779,0.6817296661962866,0.5547551613431451,0.6693548387096774,0.6693548387096774,0.6333706889678687,0.6694185933762392,0.6698588709677419,0.6748991935483871,0.6693548387096774,0.6504405044765484,0.23224313808868918,0.6345766129032258,0.7389112903225806,0.733366935483871,0.7399193548387096,0.7308467741935484,0.7338709677419355,0.7086693548387096,0.6839717741935484,0.7545362903225806,0.7626008064516129,0.764616935483871,0.7464717741935484,0.7419354838709677,0.7429435483870968,0.780241935483871,0.7575604838709677,0.7782258064516129,0.7626008064516129,0.7757056451612904,0.7076612903225806,0.7373991935483871,0.7741935483870968,0.7620967741935484,0.7746975806451613,0.7691532258064516,0.7716733870967742,0.751008064516129,0.7600806451612904,0.7338709677419355,0.7258064516129032,0.7091733870967742,0.7777217741935484,0.7399193548387096,0.7419354838709677,0.7116935483870968,0.7424395161290323,0.704133064516129,0.7560483870967742,0.7116935483870968,0.7767137096774194,0.7308467741935484,0.6693548387096774,0.748991935483871,0.7590725806451613,0.7414314516129032,0.7379032258064516,0.7590725806451613,0.7595766129032258,0.7651209677419355,0.7641129032258065,0.7505040322580645,0.7530241935483871,0.7278225806451613,0.6854838709677419,0.6955645161290323,0.6693548387096774,0.672883064516129,0.672883064516129,0.6995967741935484,0.6693548387096774,0.6401209677419355,0.6880040322580645,0.6698588709677419,0.6789314516129032,0.6658266129032258,0.6678427419354839,0.6839717741935484,0.6698588709677419,0.6693548387096774,0.703125,0.672883064516129,0.6839717741935484,0.7066532258064516,0.6819556451612904,0.6839717741935484,0.6507056451612904,0.6698588709677419,0.6945564516129032,0.6789314516129032,0.6859879032258065,0.6693548387096774,0.6648185483870968,0.6693548387096774,0.6663306451612904,0.688508064516129,0.6693548387096774,0.6784274193548387,0.6693548387096774,0.6693548387096774,0.6678427419354839,0.6789314516129032,0.7111895161290323,0.6693548387096774,0.6965725806451613,0.6648185483870968,0.6759072580645161,0.6693548387096774,0.6658266129032258,0.7026209677419355,0.6693548387096774,0.6779233870967742,0.6915322580645161,0.6693548387096774,0.6713709677419355,0.6693548387096774,0.6698588709677419,0.7001008064516129,0.6703629032258065,0.6698588709677419,0.6774193548387096,0.672883064516129,0.6698588709677419,0.6643145161290323,0.6743951612903226,0.7132056451612904,0.6975806451612904,0.6693548387096774,0.033266129032258,0.6386088709677419,0.6693548387096774,0.6859879032258065,0.6612903225806451,0.6693548387096774,0.6693548387096774,0.670866935483871,0.6774193548387096,0.672883064516129,0.7152217741935484,0.6970766129032258,0.6754032258064516,0.6693548387096774,0.6693548387096774],\"yaxis\":\"y\",\"type\":\"scatter\"}],                        {\"template\":{\"data\":{\"histogram2dcontour\":[{\"type\":\"histogram2dcontour\",\"colorbar\":{\"outlinewidth\":0,\"ticks\":\"\"},\"colorscale\":[[0.0,\"#0d0887\"],[0.1111111111111111,\"#46039f\"],[0.2222222222222222,\"#7201a8\"],[0.3333333333333333,\"#9c179e\"],[0.4444444444444444,\"#bd3786\"],[0.5555555555555556,\"#d8576b\"],[0.6666666666666666,\"#ed7953\"],[0.7777777777777778,\"#fb9f3a\"],[0.8888888888888888,\"#fdca26\"],[1.0,\"#f0f921\"]]}],\"choropleth\":[{\"type\":\"choropleth\",\"colorbar\":{\"outlinewidth\":0,\"ticks\":\"\"}}],\"histogram2d\":[{\"type\":\"histogram2d\",\"colorbar\":{\"outlinewidth\":0,\"ticks\":\"\"},\"colorscale\":[[0.0,\"#0d0887\"],[0.1111111111111111,\"#46039f\"],[0.2222222222222222,\"#7201a8\"],[0.3333333333333333,\"#9c179e\"],[0.4444444444444444,\"#bd3786\"],[0.5555555555555556,\"#d8576b\"],[0.6666666666666666,\"#ed7953\"],[0.7777777777777778,\"#fb9f3a\"],[0.8888888888888888,\"#fdca26\"],[1.0,\"#f0f921\"]]}],\"heatmap\":[{\"type\":\"heatmap\",\"colorbar\":{\"outlinewidth\":0,\"ticks\":\"\"},\"colorscale\":[[0.0,\"#0d0887\"],[0.1111111111111111,\"#46039f\"],[0.2222222222222222,\"#7201a8\"],[0.3333333333333333,\"#9c179e\"],[0.4444444444444444,\"#bd3786\"],[0.5555555555555556,\"#d8576b\"],[0.6666666666666666,\"#ed7953\"],[0.7777777777777778,\"#fb9f3a\"],[0.8888888888888888,\"#fdca26\"],[1.0,\"#f0f921\"]]}],\"heatmapgl\":[{\"type\":\"heatmapgl\",\"colorbar\":{\"outlinewidth\":0,\"ticks\":\"\"},\"colorscale\":[[0.0,\"#0d0887\"],[0.1111111111111111,\"#46039f\"],[0.2222222222222222,\"#7201a8\"],[0.3333333333333333,\"#9c179e\"],[0.4444444444444444,\"#bd3786\"],[0.5555555555555556,\"#d8576b\"],[0.6666666666666666,\"#ed7953\"],[0.7777777777777778,\"#fb9f3a\"],[0.8888888888888888,\"#fdca26\"],[1.0,\"#f0f921\"]]}],\"contourcarpet\":[{\"type\":\"contourcarpet\",\"colorbar\":{\"outlinewidth\":0,\"ticks\":\"\"}}],\"contour\":[{\"type\":\"contour\",\"colorbar\":{\"outlinewidth\":0,\"ticks\":\"\"},\"colorscale\":[[0.0,\"#0d0887\"],[0.1111111111111111,\"#46039f\"],[0.2222222222222222,\"#7201a8\"],[0.3333333333333333,\"#9c179e\"],[0.4444444444444444,\"#bd3786\"],[0.5555555555555556,\"#d8576b\"],[0.6666666666666666,\"#ed7953\"],[0.7777777777777778,\"#fb9f3a\"],[0.8888888888888888,\"#fdca26\"],[1.0,\"#f0f921\"]]}],\"surface\":[{\"type\":\"surface\",\"colorbar\":{\"outlinewidth\":0,\"ticks\":\"\"},\"colorscale\":[[0.0,\"#0d0887\"],[0.1111111111111111,\"#46039f\"],[0.2222222222222222,\"#7201a8\"],[0.3333333333333333,\"#9c179e\"],[0.4444444444444444,\"#bd3786\"],[0.5555555555555556,\"#d8576b\"],[0.6666666666666666,\"#ed7953\"],[0.7777777777777778,\"#fb9f3a\"],[0.8888888888888888,\"#fdca26\"],[1.0,\"#f0f921\"]]}],\"mesh3d\":[{\"type\":\"mesh3d\",\"colorbar\":{\"outlinewidth\":0,\"ticks\":\"\"}}],\"scatter\":[{\"fillpattern\":{\"fillmode\":\"overlay\",\"size\":10,\"solidity\":0.2},\"type\":\"scatter\"}],\"parcoords\":[{\"type\":\"parcoords\",\"line\":{\"colorbar\":{\"outlinewidth\":0,\"ticks\":\"\"}}}],\"scatterpolargl\":[{\"type\":\"scatterpolargl\",\"marker\":{\"colorbar\":{\"outlinewidth\":0,\"ticks\":\"\"}}}],\"bar\":[{\"error_x\":{\"color\":\"#2a3f5f\"},\"error_y\":{\"color\":\"#2a3f5f\"},\"marker\":{\"line\":{\"color\":\"#E5ECF6\",\"width\":0.5},\"pattern\":{\"fillmode\":\"overlay\",\"size\":10,\"solidity\":0.2}},\"type\":\"bar\"}],\"scattergeo\":[{\"type\":\"scattergeo\",\"marker\":{\"colorbar\":{\"outlinewidth\":0,\"ticks\":\"\"}}}],\"scatterpolar\":[{\"type\":\"scatterpolar\",\"marker\":{\"colorbar\":{\"outlinewidth\":0,\"ticks\":\"\"}}}],\"histogram\":[{\"marker\":{\"pattern\":{\"fillmode\":\"overlay\",\"size\":10,\"solidity\":0.2}},\"type\":\"histogram\"}],\"scattergl\":[{\"type\":\"scattergl\",\"marker\":{\"colorbar\":{\"outlinewidth\":0,\"ticks\":\"\"}}}],\"scatter3d\":[{\"type\":\"scatter3d\",\"line\":{\"colorbar\":{\"outlinewidth\":0,\"ticks\":\"\"}},\"marker\":{\"colorbar\":{\"outlinewidth\":0,\"ticks\":\"\"}}}],\"scattermapbox\":[{\"type\":\"scattermapbox\",\"marker\":{\"colorbar\":{\"outlinewidth\":0,\"ticks\":\"\"}}}],\"scatterternary\":[{\"type\":\"scatterternary\",\"marker\":{\"colorbar\":{\"outlinewidth\":0,\"ticks\":\"\"}}}],\"scattercarpet\":[{\"type\":\"scattercarpet\",\"marker\":{\"colorbar\":{\"outlinewidth\":0,\"ticks\":\"\"}}}],\"carpet\":[{\"aaxis\":{\"endlinecolor\":\"#2a3f5f\",\"gridcolor\":\"white\",\"linecolor\":\"white\",\"minorgridcolor\":\"white\",\"startlinecolor\":\"#2a3f5f\"},\"baxis\":{\"endlinecolor\":\"#2a3f5f\",\"gridcolor\":\"white\",\"linecolor\":\"white\",\"minorgridcolor\":\"white\",\"startlinecolor\":\"#2a3f5f\"},\"type\":\"carpet\"}],\"table\":[{\"cells\":{\"fill\":{\"color\":\"#EBF0F8\"},\"line\":{\"color\":\"white\"}},\"header\":{\"fill\":{\"color\":\"#C8D4E3\"},\"line\":{\"color\":\"white\"}},\"type\":\"table\"}],\"barpolar\":[{\"marker\":{\"line\":{\"color\":\"#E5ECF6\",\"width\":0.5},\"pattern\":{\"fillmode\":\"overlay\",\"size\":10,\"solidity\":0.2}},\"type\":\"barpolar\"}],\"pie\":[{\"automargin\":true,\"type\":\"pie\"}]},\"layout\":{\"autotypenumbers\":\"strict\",\"colorway\":[\"#636efa\",\"#EF553B\",\"#00cc96\",\"#ab63fa\",\"#FFA15A\",\"#19d3f3\",\"#FF6692\",\"#B6E880\",\"#FF97FF\",\"#FECB52\"],\"font\":{\"color\":\"#2a3f5f\"},\"hovermode\":\"closest\",\"hoverlabel\":{\"align\":\"left\"},\"paper_bgcolor\":\"white\",\"plot_bgcolor\":\"#E5ECF6\",\"polar\":{\"bgcolor\":\"#E5ECF6\",\"angularaxis\":{\"gridcolor\":\"white\",\"linecolor\":\"white\",\"ticks\":\"\"},\"radialaxis\":{\"gridcolor\":\"white\",\"linecolor\":\"white\",\"ticks\":\"\"}},\"ternary\":{\"bgcolor\":\"#E5ECF6\",\"aaxis\":{\"gridcolor\":\"white\",\"linecolor\":\"white\",\"ticks\":\"\"},\"baxis\":{\"gridcolor\":\"white\",\"linecolor\":\"white\",\"ticks\":\"\"},\"caxis\":{\"gridcolor\":\"white\",\"linecolor\":\"white\",\"ticks\":\"\"}},\"coloraxis\":{\"colorbar\":{\"outlinewidth\":0,\"ticks\":\"\"}},\"colorscale\":{\"sequential\":[[0.0,\"#0d0887\"],[0.1111111111111111,\"#46039f\"],[0.2222222222222222,\"#7201a8\"],[0.3333333333333333,\"#9c179e\"],[0.4444444444444444,\"#bd3786\"],[0.5555555555555556,\"#d8576b\"],[0.6666666666666666,\"#ed7953\"],[0.7777777777777778,\"#fb9f3a\"],[0.8888888888888888,\"#fdca26\"],[1.0,\"#f0f921\"]],\"sequentialminus\":[[0.0,\"#0d0887\"],[0.1111111111111111,\"#46039f\"],[0.2222222222222222,\"#7201a8\"],[0.3333333333333333,\"#9c179e\"],[0.4444444444444444,\"#bd3786\"],[0.5555555555555556,\"#d8576b\"],[0.6666666666666666,\"#ed7953\"],[0.7777777777777778,\"#fb9f3a\"],[0.8888888888888888,\"#fdca26\"],[1.0,\"#f0f921\"]],\"diverging\":[[0,\"#8e0152\"],[0.1,\"#c51b7d\"],[0.2,\"#de77ae\"],[0.3,\"#f1b6da\"],[0.4,\"#fde0ef\"],[0.5,\"#f7f7f7\"],[0.6,\"#e6f5d0\"],[0.7,\"#b8e186\"],[0.8,\"#7fbc41\"],[0.9,\"#4d9221\"],[1,\"#276419\"]]},\"xaxis\":{\"gridcolor\":\"white\",\"linecolor\":\"white\",\"ticks\":\"\",\"title\":{\"standoff\":15},\"zerolinecolor\":\"white\",\"automargin\":true,\"zerolinewidth\":2},\"yaxis\":{\"gridcolor\":\"white\",\"linecolor\":\"white\",\"ticks\":\"\",\"title\":{\"standoff\":15},\"zerolinecolor\":\"white\",\"automargin\":true,\"zerolinewidth\":2},\"scene\":{\"xaxis\":{\"backgroundcolor\":\"#E5ECF6\",\"gridcolor\":\"white\",\"linecolor\":\"white\",\"showbackground\":true,\"ticks\":\"\",\"zerolinecolor\":\"white\",\"gridwidth\":2},\"yaxis\":{\"backgroundcolor\":\"#E5ECF6\",\"gridcolor\":\"white\",\"linecolor\":\"white\",\"showbackground\":true,\"ticks\":\"\",\"zerolinecolor\":\"white\",\"gridwidth\":2},\"zaxis\":{\"backgroundcolor\":\"#E5ECF6\",\"gridcolor\":\"white\",\"linecolor\":\"white\",\"showbackground\":true,\"ticks\":\"\",\"zerolinecolor\":\"white\",\"gridwidth\":2}},\"shapedefaults\":{\"line\":{\"color\":\"#2a3f5f\"}},\"annotationdefaults\":{\"arrowcolor\":\"#2a3f5f\",\"arrowhead\":0,\"arrowwidth\":1},\"geo\":{\"bgcolor\":\"white\",\"landcolor\":\"#E5ECF6\",\"subunitcolor\":\"white\",\"showland\":true,\"showlakes\":true,\"lakecolor\":\"white\"},\"title\":{\"x\":0.05},\"mapbox\":{\"style\":\"light\"}}},\"xaxis\":{\"anchor\":\"y\",\"domain\":[0.0,1.0],\"title\":{\"text\":\"num_param\"}},\"yaxis\":{\"anchor\":\"x\",\"domain\":[0.0,1.0],\"title\":{\"text\":\"value\"}},\"legend\":{\"title\":{\"text\":\"dataset\"},\"tracegroupgap\":0},\"margin\":{\"t\":60}},                        {\"responsive\": true}                    ).then(function(){\n",
       "                            \n",
       "var gd = document.getElementById('29fd8fa8-13d9-4bed-b3e8-ea28bbeba2e9');\n",
       "var x = new MutationObserver(function (mutations, observer) {{\n",
       "        var display = window.getComputedStyle(gd).display;\n",
       "        if (!display || display === 'none') {{\n",
       "            console.log([gd, 'removed!']);\n",
       "            Plotly.purge(gd);\n",
       "            observer.disconnect();\n",
       "        }}\n",
       "}});\n",
       "\n",
       "// Listen for the removal of the full notebook cells\n",
       "var notebookContainer = gd.closest('#notebook-container');\n",
       "if (notebookContainer) {{\n",
       "    x.observe(notebookContainer, {childList: true});\n",
       "}}\n",
       "\n",
       "// Listen for the clearing of the current output cell\n",
       "var outputEl = gd.closest('.output');\n",
       "if (outputEl) {{\n",
       "    x.observe(outputEl, {childList: true});\n",
       "}}\n",
       "\n",
       "                        })                };                });            </script>        </div>"
      ]
     },
     "metadata": {},
     "output_type": "display_data"
    }
   ],
   "source": [
    "base_idx = 3\n",
    "gap = peak_profile_time[:, -1]-peak_profile_time[:, base_idx]\n",
    "df[\"gap\"] = gap\n",
    "df[\"base_test\"] = peak_profile_time[:, base_idx]\n",
    "df[\"final_test\"] = peak_profile_time[:, -1]\n",
    "px.scatter(df, y=[\"base_test\", \"final_test\"], x=\"num_param\", color=\"dataset\")"
   ]
  },
  {
   "cell_type": "code",
   "execution_count": 117,
   "id": "2bfd3a80-6efe-4c85-ba46-f7ea2abe22d5",
   "metadata": {},
   "outputs": [
    {
     "data": {
      "text/plain": [
       "(array([0.77722393, 0.09270233, 0.03353497, 0.02643649, 0.0195411 ,\n",
       "        0.01705595, 0.01424864, 0.01051721, 0.00873938]),\n",
       " array([0.75158143, 0.76947167, 0.77264715, 0.77839166, 0.78257365,\n",
       "        0.78813904, 0.79223229, 0.79351197, 0.79400127]))"
      ]
     },
     "execution_count": 117,
     "metadata": {},
     "output_type": "execute_result"
    }
   ],
   "source": [
    "pca = sklearn.decomposition.PCA()\n",
    "pca_profile = pca.fit_transform(test_profile)\n",
    "pca.explained_variance_ratio_, pca.mean_"
   ]
  },
  {
   "cell_type": "code",
   "execution_count": 128,
   "id": "33dc06b7-89ba-4109-a364-6d21794ac451",
   "metadata": {},
   "outputs": [
    {
     "data": {
      "text/plain": [
       "array([[1.        , 0.85227128, 0.80103747, 0.79154638, 0.78125983,\n",
       "        0.80613639, 0.79391088, 0.799557  , 0.59661009],\n",
       "       [0.85227128, 1.        , 0.82849703, 0.82941304, 0.75843499,\n",
       "        0.81320895, 0.77753577, 0.78160116, 0.6696136 ],\n",
       "       [0.80103747, 0.82849703, 1.        , 0.80964559, 0.79801394,\n",
       "        0.75801227, 0.78228198, 0.7856716 , 0.60807928],\n",
       "       [0.79154638, 0.82941304, 0.80964559, 1.        , 0.85110014,\n",
       "        0.83759285, 0.80343379, 0.80565307, 0.65079551],\n",
       "       [0.78125983, 0.75843499, 0.79801394, 0.85110014, 1.        ,\n",
       "        0.79510812, 0.78095797, 0.77968602, 0.62320192],\n",
       "       [0.80613639, 0.81320895, 0.75801227, 0.83759285, 0.79510812,\n",
       "        1.        , 0.8678793 , 0.89452844, 0.67207382],\n",
       "       [0.79391088, 0.77753577, 0.78228198, 0.80343379, 0.78095797,\n",
       "        0.8678793 , 1.        , 0.85716777, 0.64403158],\n",
       "       [0.799557  , 0.78160116, 0.7856716 , 0.80565307, 0.77968602,\n",
       "        0.89452844, 0.85716777, 1.        , 0.67528792],\n",
       "       [0.59661009, 0.6696136 , 0.60807928, 0.65079551, 0.62320192,\n",
       "        0.67207382, 0.64403158, 0.67528792, 1.        ]])"
      ]
     },
     "execution_count": 128,
     "metadata": {},
     "output_type": "execute_result"
    }
   ],
   "source": [
    "np.corrcoef(test_profile, rowvar=False)"
   ]
  },
  {
   "cell_type": "code",
   "execution_count": 130,
   "id": "6a0efe75-38eb-4ed7-ac71-501592ab5df8",
   "metadata": {},
   "outputs": [
    {
     "data": {
      "text/plain": [
       "array([0.05015733, 0.02393127, 0.01345405, 0.03149693, 0.00616995,\n",
       "       0.02491411, 0.02465786, 0.0150217 , 0.01126486, 0.00765797,\n",
       "       0.02293898, 0.01375729, 0.01191811, 0.02628794, 0.01494467,\n",
       "       0.01593969, 0.01492829, 0.02172405, 0.03893123, 0.04678053,\n",
       "       0.02632788, 0.02675729, 0.01833465, 0.0210892 , 0.01637758,\n",
       "       0.03106892, 0.01114895, 0.02435609, 0.02011223, 0.01909829,\n",
       "       0.02529751, 0.01858931, 0.01902161, 0.02652348, 0.02505683,\n",
       "       0.05840564, 0.01100951, 0.06526453, 0.01840074, 0.02487467,\n",
       "       0.01818832, 0.01617932, 0.02975873, 0.01969528, 0.02338081,\n",
       "       0.0395651 , 0.0141431 , 0.01347652, 0.01473544, 0.02165971,\n",
       "       0.02420171, 0.02712528, 0.02030514, 0.01504799, 0.03126876,\n",
       "       0.02336511, 0.03498212, 0.03528741, 0.02007773, 0.04131296,\n",
       "       0.01863481, 0.01936008, 0.02608854, 0.05580537, 0.01648561,\n",
       "       0.03868222, 0.03876071, 0.01957419, 0.02972962, 0.02743375,\n",
       "       0.02006445, 0.02205333, 0.02320374, 0.0175002 , 0.02963643,\n",
       "       0.02731092, 0.02063593, 0.01840892, 0.03519254, 0.0464742 ,\n",
       "       0.01756817, 0.02805841, 0.02922947, 0.01767709, 0.0216049 ,\n",
       "       0.02568361, 0.02269327, 0.01859758, 0.02288704, 0.0238951 ,\n",
       "       0.0158918 , 0.04700186, 0.01789312, 0.03256183, 0.00874947,\n",
       "       0.01494026, 0.04115825, 0.02568752, 0.00827869, 0.01572395,\n",
       "       0.03637871, 0.0339681 , 0.02202928, 0.01685308, 0.02735028,\n",
       "       0.01159585, 0.05258662, 0.01463484, 0.05135623, 0.02249964,\n",
       "       0.01426894, 0.02523494, 0.04615076, 0.02103962, 0.01815916,\n",
       "       0.01680444, 0.20272556, 0.06897414, 0.01550703, 0.01533415,\n",
       "       0.02644449, 0.01003012, 0.02383004, 0.02523308, 0.0208032 ,\n",
       "       0.02849234, 0.01785979, 0.01647705, 0.02434024, 0.01555973,\n",
       "       0.02600871])"
      ]
     },
     "execution_count": 130,
     "metadata": {},
     "output_type": "execute_result"
    }
   ],
   "source": [
    "np.std(test_profile, axis=1)"
   ]
  },
  {
   "cell_type": "code",
   "execution_count": 121,
   "id": "ba359872-d592-434f-a99f-0cdb59f74497",
   "metadata": {},
   "outputs": [
    {
     "data": {
      "application/vnd.plotly.v1+json": {
       "config": {
        "plotlyServerURL": "https://plot.ly"
       },
       "data": [
        {
         "hovertemplate": "<b>%{hovertext}</b><br><br>x=%{x}<br>y=%{y}<br>color=%{marker.color}<extra></extra>",
         "hovertext": [
          "dla46x_c",
          "dla46_c",
          "mobilevitv2_050",
          "mobilenetv2_050",
          "semnasnet_075",
          "pvt_v2_b0",
          "convnext_atto",
          "mnasnet_100",
          "spnasnet_100",
          "ghostnet_100",
          "hardcorenas_a",
          "efficientnet_b0",
          "fbnetc_100",
          "mobilevit_s",
          "tinynet_a",
          "ese_vovnet19b_dw",
          "densenet121",
          "densenetblur121d",
          "crossvit_9_240",
          "fbnetv3_b",
          "resnet14t",
          "seresnext26ts",
          "gcresnext26ts",
          "eca_botnext26ts_256",
          "bat_resnext26ts",
          "lambda_resnet26rpt_256",
          "resnet18d",
          "halonet26t",
          "botnet26t_256",
          "dpn68",
          "dpn68b",
          "gc_efficientnetv2_rw_t",
          "sehalonet33ts",
          "sebotnet33ts_256",
          "densenet169",
          "maxvit_nano_rw_256",
          "gcresnext50ts",
          "dla34",
          "ecaresnet26t",
          "resnet26d",
          "maxxvit_rmlp_nano_rw_256",
          "seresnext26t_32x4d",
          "seresnext26d_32x4d",
          "dla60x",
          "resnet32ts",
          "edgenext_base",
          "eca_resnet33ts",
          "seresnet33ts",
          "gcresnet33ts",
          "densenet201",
          "cspresnext50",
          "regnetv_040",
          "convmixer_768_32",
          "cs3darknet_focus_l",
          "hrnet_w18",
          "cspresnet50",
          "gluon_resnet34_v1b",
          "resnet34d",
          "cs3sedarknet_l",
          "dla60",
          "lamhalobotnet50ts_256",
          "halo2botnet50ts_256",
          "halonet50ts",
          "adv_inception_v3",
          "gluon_inception_v3",
          "res2next50",
          "resnext50d_32x4d",
          "res2net50_14w_8s",
          "resnetv2_50",
          "resnetblur50",
          "resnetaa50",
          "ecaresnet50t",
          "ecaresnet50d",
          "gcresnet50t",
          "dla102x",
          "xception41p",
          "xception41",
          "gluon_seresnext50_32x4d",
          "cspdarknet53",
          "legacy_seresnet50",
          "repvgg_a2",
          "convnext_tiny_hnf",
          "densenet161",
          "ecaresnetlight",
          "selecsls60",
          "gernet_l",
          "selecsls42b",
          "selecsls60b",
          "dla102",
          "resnetrs50",
          "resnet51q",
          "darknetaa53",
          "resnet61q",
          "dpn92",
          "xception65p",
          "gluon_xception65",
          "dla102x2",
          "xception71",
          "twins_pcpvt_base",
          "gluon_resnext101_32x4d",
          "ecaresnet101d",
          "res2net101_26w_4s",
          "cs3edgenet_x",
          "gluon_seresnext101_32x4d",
          "cs3se_edgenet_x",
          "efficientnetv2_rw_m",
          "dla169",
          "sequencer2d_l",
          "poolformer_m36",
          "gluon_resnet152_v1b",
          "resnet152d",
          "dpn98",
          "resnetrs101",
          "resnet200d",
          "seresnet152d",
          "wide_resnet50_2",
          "dm_nfnet_f0",
          "dpn131",
          "pnasnet5large",
          "resnetrs152",
          "dpn107",
          "swinv2_base_window8_256",
          "nasnetalarge",
          "resnetrs200",
          "seresnext101d_32x8d",
          "seresnextaa101d_32x8d",
          "ecaresnet269d",
          "legacy_senet154",
          "resnetrs270",
          "vgg11",
          "vgg13"
         ],
         "legendgroup": "",
         "marker": {
          "color": [
           1068440,
           1301400,
           1370593,
           1968680,
           2912278,
           3666760,
           3695520,
           4383312,
           4421616,
           5182508,
           5260232,
           5288548,
           5572200,
           5578632,
           6187972,
           6543080,
           7978856,
           7998088,
           8553296,
           8598464,
           10081632,
           10388064,
           10476600,
           10593301,
           10731200,
           10988688,
           11708744,
           12480288,
           12488672,
           12611602,
           12611602,
           13677713,
           13691712,
           13701984,
           14149480,
           15451148,
           15667320,
           15742104,
           16011916,
           16014408,
           16779628,
           16806976,
           16809512,
           17352344,
           17963616,
           18511292,
           19676302,
           19779200,
           19880698,
           20013928,
           20569896,
           20640640,
           21110248,
           21151720,
           21299004,
           21616168,
           21797672,
           21816904,
           21913592,
           22036632,
           22569824,
           22635360,
           22733280,
           23834568,
           23834568,
           24671464,
           25048136,
           25059816,
           25549352,
           25557032,
           25557032,
           25573814,
           25576350,
           25897080,
           26309272,
           26907752,
           26969560,
           27559896,
           27642184,
           28088024,
           28210600,
           28589128,
           28681000,
           30162046,
           30670768,
           31078280,
           32458248,
           32774064,
           33268888,
           35691912,
           35696920,
           36022984,
           36846968,
           37668392,
           39819560,
           39916312,
           41282200,
           42338736,
           43828456,
           44177704,
           44568563,
           45206688,
           47821120,
           48955416,
           50721584,
           53236442,
           53389720,
           54298216,
           56172520,
           60192808,
           60212040,
           61570728,
           63618696,
           64693064,
           66841080,
           68883240,
           71489284,
           79254504,
           86057668,
           86621576,
           86917800,
           87918816,
           88753150,
           93209992,
           93588280,
           93588280,
           102093077,
           115088984,
           129861448,
           132863336,
           133047848
          ],
          "coloraxis": "coloraxis",
          "opacity": 1,
          "symbol": "circle"
         },
         "mode": "markers",
         "name": "",
         "orientation": "v",
         "showlegend": false,
         "type": "scatter",
         "x": [
          0.20565958222207328,
          0.50224997881244,
          0.3798018100141176,
          -0.0717230843545895,
          0.40036371666565224,
          0.09697346206524923,
          0.207171291532994,
          -0.13536652897572612,
          0.38133081504345384,
          -0.18816765662155402,
          0.4567569539063461,
          -0.16694333469643513,
          -0.1461529208900735,
          -0.14724112314335042,
          -0.15204621014954134,
          -0.2003554862961276,
          -0.11342315349887837,
          -0.11312205111586598,
          0.09524224930487386,
          0.13130595396428354,
          -0.0826535212027743,
          -0.1174161776141391,
          -0.14236439422818709,
          -0.1523369814543394,
          -0.17217231108740758,
          -0.09196729953934223,
          0.34058856436528007,
          0.04103618404094685,
          -0.11971949640622949,
          0.0483061743041006,
          -0.16851664965683052,
          -0.18443670968913212,
          0.0008232216292888044,
          0.042621313748775855,
          0.01966113868380984,
          0.1898781559996921,
          -0.16934439283742217,
          0.06611976500044471,
          -0.19851393009196705,
          -0.05324918040333184,
          0.2401379483567495,
          -0.13196014069908904,
          -0.03381635705850202,
          -0.01770042661756663,
          -0.06657243238732882,
          -0.14818719963692464,
          -0.14090084295160343,
          -0.13544728503735046,
          -0.0909085658215803,
          0.01595503761453191,
          -0.1365425096822864,
          -0.06252022269988969,
          -0.13611716060449605,
          -0.07413182574065706,
          0.0308650169514074,
          -0.05065631214637498,
          0.0723712018318619,
          -0.06918153283619836,
          -0.08256228618575887,
          0.054172524147230894,
          -0.10143320161047215,
          0.10489517029862205,
          0.06661642842742792,
          0.07001696273417414,
          -0.01790711980018055,
          0.03887965305353679,
          -0.052186682091860295,
          0.023167155847377174,
          -0.059169981186583974,
          0.015785331486010034,
          -0.026751331772108842,
          -0.1625762380758677,
          -0.08621986659887017,
          -0.18088226325914053,
          0.0051401765411942775,
          -0.03264026755399039,
          -0.15525263493804065,
          -0.07399660820047334,
          -0.10288089717584391,
          0.01874148820704639,
          0.06717708066822518,
          0.21438547406796077,
          0.009228505151395968,
          0.014951522651348408,
          0.10944253508249484,
          -0.02689153627505529,
          0.056993747812722866,
          0.04504869734952552,
          0.1547184526253568,
          -0.07959579442509294,
          -0.1957362699499715,
          0.015838543853337075,
          -0.17939441824171043,
          0.07775394963964613,
          -0.19080553436536618,
          -0.066338337535979,
          0.05039631301993351,
          -0.06281409637029615,
          0.31618966688264116,
          -0.02039436683978696,
          -0.03803335357508166,
          0.15741010138585265,
          -0.051384493149394736,
          -0.04845631908909008,
          -0.04392007830923585,
          -0.195589173742431,
          0.11106754826606133,
          0.3033819612685626,
          0.0168401648290256,
          0.06715348799989265,
          -0.18115944759062622,
          0.15593934895326195,
          -0.01877381252254435,
          -0.1558127281781944,
          -0.19457288188056648,
          -0.08760553899279545,
          0.5941996150945015,
          0.2510189612100842,
          -0.13252650489470508,
          -0.06865256557197705,
          0.21478463179944904,
          0.29736927878433184,
          -0.10447327514775254,
          -0.07748340091554226,
          -0.026048832613124392,
          -0.053742260564657376,
          -0.19971151577485088,
          -0.11344639810426241,
          -0.05819419959569894,
          0.3547902806361977,
          0.16917762470529382
         ],
         "xaxis": "x",
         "y": [
          -0.08722178160293478,
          -0.06636690421773517,
          -0.027863883592088596,
          -0.007332598038684597,
          -0.03081000545436681,
          -0.024328064109871032,
          -0.057968161704666864,
          0.011511287865930808,
          -0.024666981598385897,
          0.02673345715818625,
          -0.03747758440717749,
          0.0042005800691212025,
          0.015672202288503738,
          0.01974245713955183,
          0.008091014531581849,
          0.021497599432811113,
          0.00848826127142019,
          -0.003251280272235418,
          -0.013272506188758148,
          0.07564239038344388,
          0.009888000021346616,
          -0.005476823506825634,
          0.017415219988260375,
          0.007925613116118517,
          0.0057968365206694334,
          -0.006523590428066851,
          -0.03218574177841389,
          -0.025584337822495144,
          0.009999384602633813,
          -0.002991887338028989,
          0.012799425927576406,
          0.0029318473667075736,
          -0.020383873021571536,
          -0.004920212374028685,
          0.031368712336263045,
          -0.057292506626244355,
          0.035414503291478765,
          -0.04315864570206875,
          0.0025703531956977744,
          -0.026208308360741006,
          -0.03545259140382736,
          0.011467648518218026,
          0.0010913842249559182,
          -0.006008910870706014,
          -2.2449726972082113e-05,
          -0.007199301797486741,
          0.015602790911596894,
          0.023088602300556278,
          0.03384012727064808,
          0.01548979468128448,
          0.007470987292025172,
          -0.022949680140272627,
          0.011104323276157308,
          0.0032242837984980638,
          -0.015223806326295925,
          0.038745832775187214,
          -0.025485716279043516,
          -0.03002457421103292,
          0.004591620199107373,
          0.0304147427347931,
          0.0179634244630206,
          -0.0012471519772788242,
          -0.019731146115385133,
          -0.060195670513743804,
          0.015181048840774975,
          0.035503453836849865,
          -0.01047349005590269,
          -0.0041015970740905265,
          0.012632172730190485,
          -0.016294316914115353,
          -0.007770621283721411,
          0.0019999080383912124,
          -0.0062762411082962375,
          0.011340282743942217,
          -0.003528547271232954,
          -0.03572032885822494,
          0.016540677752953276,
          0.01830092054359508,
          0.001406879753571265,
          0.0013619285967377956,
          0.00030771723936189065,
          -0.04604695338010511,
          -0.019816342914211856,
          -0.0016196978110457488,
          0.005925748207257234,
          -0.008126671849385028,
          0.03973466158783533,
          -0.015166676398734851,
          0.004297560610705397,
          0.021411014749960097,
          0.023535723006748954,
          -0.05609417977161477,
          0.012516519768054549,
          -0.03112665695287511,
          0.022109917292322877,
          -0.0008156578087726771,
          -0.05127304777707804,
          -0.02530929406348948,
          -0.02403926443557474,
          0.017084149593737823,
          -0.005399575654408895,
          -0.05821809655100368,
          -0.00034986964385889973,
          -0.007934015876214296,
          0.023109965147986244,
          0.03024777999192493,
          0.06309817130190394,
          -0.04865036366948338,
          -0.05285808817919609,
          0.0015558776857705241,
          0.02900647154648149,
          -0.04958189426092976,
          0.008088432581967292,
          0.0427763910328411,
          0.0016506639025801496,
          0.013874539423096202,
          0.5576744242166504,
          -0.07684941317699862,
          -0.006663955302922527,
          0.01241178949738428,
          -0.03910883687015146,
          -0.024144891429791114,
          -0.01010260267039731,
          -0.016117082814177928,
          0.021664174503019586,
          0.016410304463943964,
          0.01633002824956938,
          0.01795270214551805,
          0.0006601898804206303,
          -0.046944794562954126,
          -0.02413715551902988
         ],
         "yaxis": "y"
        }
       ],
       "layout": {
        "autosize": true,
        "coloraxis": {
         "colorbar": {
          "title": {
           "text": "color"
          }
         },
         "colorscale": [
          [
           0,
           "rgb(103,0,31)"
          ],
          [
           0.1,
           "rgb(178,24,43)"
          ],
          [
           0.2,
           "rgb(214,96,77)"
          ],
          [
           0.3,
           "rgb(244,165,130)"
          ],
          [
           0.4,
           "rgb(253,219,199)"
          ],
          [
           0.5,
           "rgb(247,247,247)"
          ],
          [
           0.6,
           "rgb(209,229,240)"
          ],
          [
           0.7,
           "rgb(146,197,222)"
          ],
          [
           0.8,
           "rgb(67,147,195)"
          ],
          [
           0.9,
           "rgb(33,102,172)"
          ],
          [
           1,
           "rgb(5,48,97)"
          ]
         ]
        },
        "legend": {
         "tracegroupgap": 0
        },
        "margin": {
         "t": 60
        },
        "template": {
         "data": {
          "bar": [
           {
            "error_x": {
             "color": "#2a3f5f"
            },
            "error_y": {
             "color": "#2a3f5f"
            },
            "marker": {
             "line": {
              "color": "#E5ECF6",
              "width": 0.5
             },
             "pattern": {
              "fillmode": "overlay",
              "size": 10,
              "solidity": 0.2
             }
            },
            "type": "bar"
           }
          ],
          "barpolar": [
           {
            "marker": {
             "line": {
              "color": "#E5ECF6",
              "width": 0.5
             },
             "pattern": {
              "fillmode": "overlay",
              "size": 10,
              "solidity": 0.2
             }
            },
            "type": "barpolar"
           }
          ],
          "carpet": [
           {
            "aaxis": {
             "endlinecolor": "#2a3f5f",
             "gridcolor": "white",
             "linecolor": "white",
             "minorgridcolor": "white",
             "startlinecolor": "#2a3f5f"
            },
            "baxis": {
             "endlinecolor": "#2a3f5f",
             "gridcolor": "white",
             "linecolor": "white",
             "minorgridcolor": "white",
             "startlinecolor": "#2a3f5f"
            },
            "type": "carpet"
           }
          ],
          "choropleth": [
           {
            "colorbar": {
             "outlinewidth": 0,
             "ticks": ""
            },
            "type": "choropleth"
           }
          ],
          "contour": [
           {
            "colorbar": {
             "outlinewidth": 0,
             "ticks": ""
            },
            "colorscale": [
             [
              0,
              "#0d0887"
             ],
             [
              0.1111111111111111,
              "#46039f"
             ],
             [
              0.2222222222222222,
              "#7201a8"
             ],
             [
              0.3333333333333333,
              "#9c179e"
             ],
             [
              0.4444444444444444,
              "#bd3786"
             ],
             [
              0.5555555555555556,
              "#d8576b"
             ],
             [
              0.6666666666666666,
              "#ed7953"
             ],
             [
              0.7777777777777778,
              "#fb9f3a"
             ],
             [
              0.8888888888888888,
              "#fdca26"
             ],
             [
              1,
              "#f0f921"
             ]
            ],
            "type": "contour"
           }
          ],
          "contourcarpet": [
           {
            "colorbar": {
             "outlinewidth": 0,
             "ticks": ""
            },
            "type": "contourcarpet"
           }
          ],
          "heatmap": [
           {
            "colorbar": {
             "outlinewidth": 0,
             "ticks": ""
            },
            "colorscale": [
             [
              0,
              "#0d0887"
             ],
             [
              0.1111111111111111,
              "#46039f"
             ],
             [
              0.2222222222222222,
              "#7201a8"
             ],
             [
              0.3333333333333333,
              "#9c179e"
             ],
             [
              0.4444444444444444,
              "#bd3786"
             ],
             [
              0.5555555555555556,
              "#d8576b"
             ],
             [
              0.6666666666666666,
              "#ed7953"
             ],
             [
              0.7777777777777778,
              "#fb9f3a"
             ],
             [
              0.8888888888888888,
              "#fdca26"
             ],
             [
              1,
              "#f0f921"
             ]
            ],
            "type": "heatmap"
           }
          ],
          "heatmapgl": [
           {
            "colorbar": {
             "outlinewidth": 0,
             "ticks": ""
            },
            "colorscale": [
             [
              0,
              "#0d0887"
             ],
             [
              0.1111111111111111,
              "#46039f"
             ],
             [
              0.2222222222222222,
              "#7201a8"
             ],
             [
              0.3333333333333333,
              "#9c179e"
             ],
             [
              0.4444444444444444,
              "#bd3786"
             ],
             [
              0.5555555555555556,
              "#d8576b"
             ],
             [
              0.6666666666666666,
              "#ed7953"
             ],
             [
              0.7777777777777778,
              "#fb9f3a"
             ],
             [
              0.8888888888888888,
              "#fdca26"
             ],
             [
              1,
              "#f0f921"
             ]
            ],
            "type": "heatmapgl"
           }
          ],
          "histogram": [
           {
            "marker": {
             "pattern": {
              "fillmode": "overlay",
              "size": 10,
              "solidity": 0.2
             }
            },
            "type": "histogram"
           }
          ],
          "histogram2d": [
           {
            "colorbar": {
             "outlinewidth": 0,
             "ticks": ""
            },
            "colorscale": [
             [
              0,
              "#0d0887"
             ],
             [
              0.1111111111111111,
              "#46039f"
             ],
             [
              0.2222222222222222,
              "#7201a8"
             ],
             [
              0.3333333333333333,
              "#9c179e"
             ],
             [
              0.4444444444444444,
              "#bd3786"
             ],
             [
              0.5555555555555556,
              "#d8576b"
             ],
             [
              0.6666666666666666,
              "#ed7953"
             ],
             [
              0.7777777777777778,
              "#fb9f3a"
             ],
             [
              0.8888888888888888,
              "#fdca26"
             ],
             [
              1,
              "#f0f921"
             ]
            ],
            "type": "histogram2d"
           }
          ],
          "histogram2dcontour": [
           {
            "colorbar": {
             "outlinewidth": 0,
             "ticks": ""
            },
            "colorscale": [
             [
              0,
              "#0d0887"
             ],
             [
              0.1111111111111111,
              "#46039f"
             ],
             [
              0.2222222222222222,
              "#7201a8"
             ],
             [
              0.3333333333333333,
              "#9c179e"
             ],
             [
              0.4444444444444444,
              "#bd3786"
             ],
             [
              0.5555555555555556,
              "#d8576b"
             ],
             [
              0.6666666666666666,
              "#ed7953"
             ],
             [
              0.7777777777777778,
              "#fb9f3a"
             ],
             [
              0.8888888888888888,
              "#fdca26"
             ],
             [
              1,
              "#f0f921"
             ]
            ],
            "type": "histogram2dcontour"
           }
          ],
          "mesh3d": [
           {
            "colorbar": {
             "outlinewidth": 0,
             "ticks": ""
            },
            "type": "mesh3d"
           }
          ],
          "parcoords": [
           {
            "line": {
             "colorbar": {
              "outlinewidth": 0,
              "ticks": ""
             }
            },
            "type": "parcoords"
           }
          ],
          "pie": [
           {
            "automargin": true,
            "type": "pie"
           }
          ],
          "scatter": [
           {
            "fillpattern": {
             "fillmode": "overlay",
             "size": 10,
             "solidity": 0.2
            },
            "type": "scatter"
           }
          ],
          "scatter3d": [
           {
            "line": {
             "colorbar": {
              "outlinewidth": 0,
              "ticks": ""
             }
            },
            "marker": {
             "colorbar": {
              "outlinewidth": 0,
              "ticks": ""
             }
            },
            "type": "scatter3d"
           }
          ],
          "scattercarpet": [
           {
            "marker": {
             "colorbar": {
              "outlinewidth": 0,
              "ticks": ""
             }
            },
            "type": "scattercarpet"
           }
          ],
          "scattergeo": [
           {
            "marker": {
             "colorbar": {
              "outlinewidth": 0,
              "ticks": ""
             }
            },
            "type": "scattergeo"
           }
          ],
          "scattergl": [
           {
            "marker": {
             "colorbar": {
              "outlinewidth": 0,
              "ticks": ""
             }
            },
            "type": "scattergl"
           }
          ],
          "scattermapbox": [
           {
            "marker": {
             "colorbar": {
              "outlinewidth": 0,
              "ticks": ""
             }
            },
            "type": "scattermapbox"
           }
          ],
          "scatterpolar": [
           {
            "marker": {
             "colorbar": {
              "outlinewidth": 0,
              "ticks": ""
             }
            },
            "type": "scatterpolar"
           }
          ],
          "scatterpolargl": [
           {
            "marker": {
             "colorbar": {
              "outlinewidth": 0,
              "ticks": ""
             }
            },
            "type": "scatterpolargl"
           }
          ],
          "scatterternary": [
           {
            "marker": {
             "colorbar": {
              "outlinewidth": 0,
              "ticks": ""
             }
            },
            "type": "scatterternary"
           }
          ],
          "surface": [
           {
            "colorbar": {
             "outlinewidth": 0,
             "ticks": ""
            },
            "colorscale": [
             [
              0,
              "#0d0887"
             ],
             [
              0.1111111111111111,
              "#46039f"
             ],
             [
              0.2222222222222222,
              "#7201a8"
             ],
             [
              0.3333333333333333,
              "#9c179e"
             ],
             [
              0.4444444444444444,
              "#bd3786"
             ],
             [
              0.5555555555555556,
              "#d8576b"
             ],
             [
              0.6666666666666666,
              "#ed7953"
             ],
             [
              0.7777777777777778,
              "#fb9f3a"
             ],
             [
              0.8888888888888888,
              "#fdca26"
             ],
             [
              1,
              "#f0f921"
             ]
            ],
            "type": "surface"
           }
          ],
          "table": [
           {
            "cells": {
             "fill": {
              "color": "#EBF0F8"
             },
             "line": {
              "color": "white"
             }
            },
            "header": {
             "fill": {
              "color": "#C8D4E3"
             },
             "line": {
              "color": "white"
             }
            },
            "type": "table"
           }
          ]
         },
         "layout": {
          "annotationdefaults": {
           "arrowcolor": "#2a3f5f",
           "arrowhead": 0,
           "arrowwidth": 1
          },
          "autotypenumbers": "strict",
          "coloraxis": {
           "colorbar": {
            "outlinewidth": 0,
            "ticks": ""
           }
          },
          "colorscale": {
           "diverging": [
            [
             0,
             "#8e0152"
            ],
            [
             0.1,
             "#c51b7d"
            ],
            [
             0.2,
             "#de77ae"
            ],
            [
             0.3,
             "#f1b6da"
            ],
            [
             0.4,
             "#fde0ef"
            ],
            [
             0.5,
             "#f7f7f7"
            ],
            [
             0.6,
             "#e6f5d0"
            ],
            [
             0.7,
             "#b8e186"
            ],
            [
             0.8,
             "#7fbc41"
            ],
            [
             0.9,
             "#4d9221"
            ],
            [
             1,
             "#276419"
            ]
           ],
           "sequential": [
            [
             0,
             "#0d0887"
            ],
            [
             0.1111111111111111,
             "#46039f"
            ],
            [
             0.2222222222222222,
             "#7201a8"
            ],
            [
             0.3333333333333333,
             "#9c179e"
            ],
            [
             0.4444444444444444,
             "#bd3786"
            ],
            [
             0.5555555555555556,
             "#d8576b"
            ],
            [
             0.6666666666666666,
             "#ed7953"
            ],
            [
             0.7777777777777778,
             "#fb9f3a"
            ],
            [
             0.8888888888888888,
             "#fdca26"
            ],
            [
             1,
             "#f0f921"
            ]
           ],
           "sequentialminus": [
            [
             0,
             "#0d0887"
            ],
            [
             0.1111111111111111,
             "#46039f"
            ],
            [
             0.2222222222222222,
             "#7201a8"
            ],
            [
             0.3333333333333333,
             "#9c179e"
            ],
            [
             0.4444444444444444,
             "#bd3786"
            ],
            [
             0.5555555555555556,
             "#d8576b"
            ],
            [
             0.6666666666666666,
             "#ed7953"
            ],
            [
             0.7777777777777778,
             "#fb9f3a"
            ],
            [
             0.8888888888888888,
             "#fdca26"
            ],
            [
             1,
             "#f0f921"
            ]
           ]
          },
          "colorway": [
           "#636efa",
           "#EF553B",
           "#00cc96",
           "#ab63fa",
           "#FFA15A",
           "#19d3f3",
           "#FF6692",
           "#B6E880",
           "#FF97FF",
           "#FECB52"
          ],
          "font": {
           "color": "#2a3f5f"
          },
          "geo": {
           "bgcolor": "white",
           "lakecolor": "white",
           "landcolor": "#E5ECF6",
           "showlakes": true,
           "showland": true,
           "subunitcolor": "white"
          },
          "hoverlabel": {
           "align": "left"
          },
          "hovermode": "closest",
          "mapbox": {
           "style": "light"
          },
          "paper_bgcolor": "white",
          "plot_bgcolor": "#E5ECF6",
          "polar": {
           "angularaxis": {
            "gridcolor": "white",
            "linecolor": "white",
            "ticks": ""
           },
           "bgcolor": "#E5ECF6",
           "radialaxis": {
            "gridcolor": "white",
            "linecolor": "white",
            "ticks": ""
           }
          },
          "scene": {
           "xaxis": {
            "backgroundcolor": "#E5ECF6",
            "gridcolor": "white",
            "gridwidth": 2,
            "linecolor": "white",
            "showbackground": true,
            "ticks": "",
            "zerolinecolor": "white"
           },
           "yaxis": {
            "backgroundcolor": "#E5ECF6",
            "gridcolor": "white",
            "gridwidth": 2,
            "linecolor": "white",
            "showbackground": true,
            "ticks": "",
            "zerolinecolor": "white"
           },
           "zaxis": {
            "backgroundcolor": "#E5ECF6",
            "gridcolor": "white",
            "gridwidth": 2,
            "linecolor": "white",
            "showbackground": true,
            "ticks": "",
            "zerolinecolor": "white"
           }
          },
          "shapedefaults": {
           "line": {
            "color": "#2a3f5f"
           }
          },
          "ternary": {
           "aaxis": {
            "gridcolor": "white",
            "linecolor": "white",
            "ticks": ""
           },
           "baxis": {
            "gridcolor": "white",
            "linecolor": "white",
            "ticks": ""
           },
           "bgcolor": "#E5ECF6",
           "caxis": {
            "gridcolor": "white",
            "linecolor": "white",
            "ticks": ""
           }
          },
          "title": {
           "x": 0.05
          },
          "xaxis": {
           "automargin": true,
           "gridcolor": "white",
           "linecolor": "white",
           "ticks": "",
           "title": {
            "standoff": 15
           },
           "zerolinecolor": "white",
           "zerolinewidth": 2
          },
          "yaxis": {
           "automargin": true,
           "gridcolor": "white",
           "linecolor": "white",
           "ticks": "",
           "title": {
            "standoff": 15
           },
           "zerolinecolor": "white",
           "zerolinewidth": 2
          }
         }
        },
        "xaxis": {
         "anchor": "y",
         "autorange": true,
         "domain": [
          0,
          1
         ],
         "range": [
          -0.2492336971112879,
          0.6430778259096618
         ],
         "title": {
          "text": "x"
         },
         "type": "linear"
        },
        "yaxis": {
         "anchor": "x",
         "autorange": true,
         "domain": [
          0,
          1
         ],
         "range": [
          -0.13715468992754834,
          0.6076073325412639
         ],
         "title": {
          "text": "y"
         },
         "type": "linear"
        }
       }
      },
      "image/png": "[encoded data removed]",
      "text/html": [
       "<div>                            <div id=\"e9696f7a-154c-44b1-9936-f43173aa779b\" class=\"plotly-graph-div\" style=\"height:525px; width:100%;\"></div>            <script type=\"text/javascript\">                require([\"plotly\"], function(Plotly) {                    window.PLOTLYENV=window.PLOTLYENV || {};                                    if (document.getElementById(\"e9696f7a-154c-44b1-9936-f43173aa779b\")) {                    Plotly.newPlot(                        \"e9696f7a-154c-44b1-9936-f43173aa779b\",                        [{\"hovertemplate\":\"\\u003cb\\u003e%{hovertext}\\u003c\\u002fb\\u003e\\u003cbr\\u003e\\u003cbr\\u003ex=%{x}\\u003cbr\\u003ey=%{y}\\u003cbr\\u003ecolor=%{marker.color}\\u003cextra\\u003e\\u003c\\u002fextra\\u003e\",\"hovertext\":[\"dla46x_c\",\"dla46_c\",\"mobilevitv2_050\",\"mobilenetv2_050\",\"semnasnet_075\",\"pvt_v2_b0\",\"convnext_atto\",\"mnasnet_100\",\"spnasnet_100\",\"ghostnet_100\",\"hardcorenas_a\",\"efficientnet_b0\",\"fbnetc_100\",\"mobilevit_s\",\"tinynet_a\",\"ese_vovnet19b_dw\",\"densenet121\",\"densenetblur121d\",\"crossvit_9_240\",\"fbnetv3_b\",\"resnet14t\",\"seresnext26ts\",\"gcresnext26ts\",\"eca_botnext26ts_256\",\"bat_resnext26ts\",\"lambda_resnet26rpt_256\",\"resnet18d\",\"halonet26t\",\"botnet26t_256\",\"dpn68\",\"dpn68b\",\"gc_efficientnetv2_rw_t\",\"sehalonet33ts\",\"sebotnet33ts_256\",\"densenet169\",\"maxvit_nano_rw_256\",\"gcresnext50ts\",\"dla34\",\"ecaresnet26t\",\"resnet26d\",\"maxxvit_rmlp_nano_rw_256\",\"seresnext26t_32x4d\",\"seresnext26d_32x4d\",\"dla60x\",\"resnet32ts\",\"edgenext_base\",\"eca_resnet33ts\",\"seresnet33ts\",\"gcresnet33ts\",\"densenet201\",\"cspresnext50\",\"regnetv_040\",\"convmixer_768_32\",\"cs3darknet_focus_l\",\"hrnet_w18\",\"cspresnet50\",\"gluon_resnet34_v1b\",\"resnet34d\",\"cs3sedarknet_l\",\"dla60\",\"lamhalobotnet50ts_256\",\"halo2botnet50ts_256\",\"halonet50ts\",\"adv_inception_v3\",\"gluon_inception_v3\",\"res2next50\",\"resnext50d_32x4d\",\"res2net50_14w_8s\",\"resnetv2_50\",\"resnetblur50\",\"resnetaa50\",\"ecaresnet50t\",\"ecaresnet50d\",\"gcresnet50t\",\"dla102x\",\"xception41p\",\"xception41\",\"gluon_seresnext50_32x4d\",\"cspdarknet53\",\"legacy_seresnet50\",\"repvgg_a2\",\"convnext_tiny_hnf\",\"densenet161\",\"ecaresnetlight\",\"selecsls60\",\"gernet_l\",\"selecsls42b\",\"selecsls60b\",\"dla102\",\"resnetrs50\",\"resnet51q\",\"darknetaa53\",\"resnet61q\",\"dpn92\",\"xception65p\",\"gluon_xception65\",\"dla102x2\",\"xception71\",\"twins_pcpvt_base\",\"gluon_resnext101_32x4d\",\"ecaresnet101d\",\"res2net101_26w_4s\",\"cs3edgenet_x\",\"gluon_seresnext101_32x4d\",\"cs3se_edgenet_x\",\"efficientnetv2_rw_m\",\"dla169\",\"sequencer2d_l\",\"poolformer_m36\",\"gluon_resnet152_v1b\",\"resnet152d\",\"dpn98\",\"resnetrs101\",\"resnet200d\",\"seresnet152d\",\"wide_resnet50_2\",\"dm_nfnet_f0\",\"dpn131\",\"pnasnet5large\",\"resnetrs152\",\"dpn107\",\"swinv2_base_window8_256\",\"nasnetalarge\",\"resnetrs200\",\"seresnext101d_32x8d\",\"seresnextaa101d_32x8d\",\"ecaresnet269d\",\"legacy_senet154\",\"resnetrs270\",\"vgg11\",\"vgg13\"],\"legendgroup\":\"\",\"marker\":{\"color\":[1068440,1301400,1370593,1968680,2912278,3666760,3695520,4383312,4421616,5182508,5260232,5288548,5572200,5578632,6187972,6543080,7978856,7998088,8553296,8598464,10081632,10388064,10476600,10593301,10731200,10988688,11708744,12480288,12488672,12611602,12611602,13677713,13691712,13701984,14149480,15451148,15667320,15742104,16011916,16014408,16779628,16806976,16809512,17352344,17963616,18511292,19676302,19779200,19880698,20013928,20569896,20640640,21110248,21151720,21299004,21616168,21797672,21816904,21913592,22036632,22569824,22635360,22733280,23834568,23834568,24671464,25048136,25059816,25549352,25557032,25557032,25573814,25576350,25897080,26309272,26907752,26969560,27559896,27642184,28088024,28210600,28589128,28681000,30162046,30670768,31078280,32458248,32774064,33268888,35691912,35696920,36022984,36846968,37668392,39819560,39916312,41282200,42338736,43828456,44177704,44568563,45206688,47821120,48955416,50721584,53236442,53389720,54298216,56172520,60192808,60212040,61570728,63618696,64693064,66841080,68883240,71489284,79254504,86057668,86621576,86917800,87918816,88753150,93209992,93588280,93588280,102093077,115088984,129861448,132863336,133047848],\"coloraxis\":\"coloraxis\",\"opacity\":1.0,\"symbol\":\"circle\"},\"mode\":\"markers\",\"name\":\"\",\"orientation\":\"v\",\"showlegend\":false,\"x\":[0.20565958222207328,0.50224997881244,0.3798018100141176,-0.0717230843545895,0.40036371666565224,0.09697346206524923,0.207171291532994,-0.13536652897572612,0.38133081504345384,-0.18816765662155402,0.4567569539063461,-0.16694333469643513,-0.1461529208900735,-0.14724112314335042,-0.15204621014954134,-0.2003554862961276,-0.11342315349887837,-0.11312205111586598,0.09524224930487386,0.13130595396428354,-0.0826535212027743,-0.1174161776141391,-0.14236439422818709,-0.1523369814543394,-0.17217231108740758,-0.09196729953934223,0.34058856436528007,0.04103618404094685,-0.11971949640622949,0.0483061743041006,-0.16851664965683052,-0.18443670968913212,0.0008232216292888044,0.042621313748775855,0.01966113868380984,0.1898781559996921,-0.16934439283742217,0.06611976500044471,-0.19851393009196705,-0.05324918040333184,0.2401379483567495,-0.13196014069908904,-0.03381635705850202,-0.01770042661756663,-0.06657243238732882,-0.14818719963692464,-0.14090084295160343,-0.13544728503735046,-0.0909085658215803,0.01595503761453191,-0.1365425096822864,-0.06252022269988969,-0.13611716060449605,-0.07413182574065706,0.0308650169514074,-0.05065631214637498,0.0723712018318619,-0.06918153283619836,-0.08256228618575887,0.054172524147230894,-0.10143320161047215,0.10489517029862205,0.06661642842742792,0.07001696273417414,-0.01790711980018055,0.03887965305353679,-0.052186682091860295,0.023167155847377174,-0.059169981186583974,0.015785331486010034,-0.026751331772108842,-0.1625762380758677,-0.08621986659887017,-0.18088226325914053,0.0051401765411942775,-0.03264026755399039,-0.15525263493804065,-0.07399660820047334,-0.10288089717584391,0.01874148820704639,0.06717708066822518,0.21438547406796077,0.009228505151395968,0.014951522651348408,0.10944253508249484,-0.02689153627505529,0.056993747812722866,0.04504869734952552,0.1547184526253568,-0.07959579442509294,-0.1957362699499715,0.015838543853337075,-0.17939441824171043,0.07775394963964613,-0.19080553436536618,-0.066338337535979,0.05039631301993351,-0.06281409637029615,0.31618966688264116,-0.02039436683978696,-0.03803335357508166,0.15741010138585265,-0.051384493149394736,-0.04845631908909008,-0.04392007830923585,-0.195589173742431,0.11106754826606133,0.3033819612685626,0.0168401648290256,0.06715348799989265,-0.18115944759062622,0.15593934895326195,-0.01877381252254435,-0.1558127281781944,-0.19457288188056648,-0.08760553899279545,0.5941996150945015,0.2510189612100842,-0.13252650489470508,-0.06865256557197705,0.21478463179944904,0.29736927878433184,-0.10447327514775254,-0.07748340091554226,-0.026048832613124392,-0.053742260564657376,-0.19971151577485088,-0.11344639810426241,-0.05819419959569894,0.3547902806361977,0.16917762470529382],\"xaxis\":\"x\",\"y\":[-0.08722178160293478,-0.06636690421773517,-0.027863883592088596,-0.007332598038684597,-0.03081000545436681,-0.024328064109871032,-0.057968161704666864,0.011511287865930808,-0.024666981598385897,0.02673345715818625,-0.03747758440717749,0.0042005800691212025,0.015672202288503738,0.01974245713955183,0.008091014531581849,0.021497599432811113,0.00848826127142019,-0.003251280272235418,-0.013272506188758148,0.07564239038344388,0.009888000021346616,-0.005476823506825634,0.017415219988260375,0.007925613116118517,0.0057968365206694334,-0.006523590428066851,-0.03218574177841389,-0.025584337822495144,0.009999384602633813,-0.002991887338028989,0.012799425927576406,0.0029318473667075736,-0.020383873021571536,-0.004920212374028685,0.031368712336263045,-0.057292506626244355,0.035414503291478765,-0.04315864570206875,0.0025703531956977744,-0.026208308360741006,-0.03545259140382736,0.011467648518218026,0.0010913842249559182,-0.006008910870706014,-2.2449726972082113e-05,-0.007199301797486741,0.015602790911596894,0.023088602300556278,0.03384012727064808,0.01548979468128448,0.007470987292025172,-0.022949680140272627,0.011104323276157308,0.0032242837984980638,-0.015223806326295925,0.038745832775187214,-0.025485716279043516,-0.03002457421103292,0.004591620199107373,0.0304147427347931,0.0179634244630206,-0.0012471519772788242,-0.019731146115385133,-0.060195670513743804,0.015181048840774975,0.035503453836849865,-0.01047349005590269,-0.0041015970740905265,0.012632172730190485,-0.016294316914115353,-0.007770621283721411,0.0019999080383912124,-0.0062762411082962375,0.011340282743942217,-0.003528547271232954,-0.03572032885822494,0.016540677752953276,0.01830092054359508,0.001406879753571265,0.0013619285967377956,0.00030771723936189065,-0.04604695338010511,-0.019816342914211856,-0.0016196978110457488,0.005925748207257234,-0.008126671849385028,0.03973466158783533,-0.015166676398734851,0.004297560610705397,0.021411014749960097,0.023535723006748954,-0.05609417977161477,0.012516519768054549,-0.03112665695287511,0.022109917292322877,-0.0008156578087726771,-0.05127304777707804,-0.02530929406348948,-0.02403926443557474,0.017084149593737823,-0.005399575654408895,-0.05821809655100368,-0.00034986964385889973,-0.007934015876214296,0.023109965147986244,0.03024777999192493,0.06309817130190394,-0.04865036366948338,-0.05285808817919609,0.0015558776857705241,0.02900647154648149,-0.04958189426092976,0.008088432581967292,0.0427763910328411,0.0016506639025801496,0.013874539423096202,0.5576744242166504,-0.07684941317699862,-0.006663955302922527,0.01241178949738428,-0.03910883687015146,-0.024144891429791114,-0.01010260267039731,-0.016117082814177928,0.021664174503019586,0.016410304463943964,0.01633002824956938,0.01795270214551805,0.0006601898804206303,-0.046944794562954126,-0.02413715551902988],\"yaxis\":\"y\",\"type\":\"scatter\"}],                        {\"template\":{\"data\":{\"histogram2dcontour\":[{\"type\":\"histogram2dcontour\",\"colorbar\":{\"outlinewidth\":0,\"ticks\":\"\"},\"colorscale\":[[0.0,\"#0d0887\"],[0.1111111111111111,\"#46039f\"],[0.2222222222222222,\"#7201a8\"],[0.3333333333333333,\"#9c179e\"],[0.4444444444444444,\"#bd3786\"],[0.5555555555555556,\"#d8576b\"],[0.6666666666666666,\"#ed7953\"],[0.7777777777777778,\"#fb9f3a\"],[0.8888888888888888,\"#fdca26\"],[1.0,\"#f0f921\"]]}],\"choropleth\":[{\"type\":\"choropleth\",\"colorbar\":{\"outlinewidth\":0,\"ticks\":\"\"}}],\"histogram2d\":[{\"type\":\"histogram2d\",\"colorbar\":{\"outlinewidth\":0,\"ticks\":\"\"},\"colorscale\":[[0.0,\"#0d0887\"],[0.1111111111111111,\"#46039f\"],[0.2222222222222222,\"#7201a8\"],[0.3333333333333333,\"#9c179e\"],[0.4444444444444444,\"#bd3786\"],[0.5555555555555556,\"#d8576b\"],[0.6666666666666666,\"#ed7953\"],[0.7777777777777778,\"#fb9f3a\"],[0.8888888888888888,\"#fdca26\"],[1.0,\"#f0f921\"]]}],\"heatmap\":[{\"type\":\"heatmap\",\"colorbar\":{\"outlinewidth\":0,\"ticks\":\"\"},\"colorscale\":[[0.0,\"#0d0887\"],[0.1111111111111111,\"#46039f\"],[0.2222222222222222,\"#7201a8\"],[0.3333333333333333,\"#9c179e\"],[0.4444444444444444,\"#bd3786\"],[0.5555555555555556,\"#d8576b\"],[0.6666666666666666,\"#ed7953\"],[0.7777777777777778,\"#fb9f3a\"],[0.8888888888888888,\"#fdca26\"],[1.0,\"#f0f921\"]]}],\"heatmapgl\":[{\"type\":\"heatmapgl\",\"colorbar\":{\"outlinewidth\":0,\"ticks\":\"\"},\"colorscale\":[[0.0,\"#0d0887\"],[0.1111111111111111,\"#46039f\"],[0.2222222222222222,\"#7201a8\"],[0.3333333333333333,\"#9c179e\"],[0.4444444444444444,\"#bd3786\"],[0.5555555555555556,\"#d8576b\"],[0.6666666666666666,\"#ed7953\"],[0.7777777777777778,\"#fb9f3a\"],[0.8888888888888888,\"#fdca26\"],[1.0,\"#f0f921\"]]}],\"contourcarpet\":[{\"type\":\"contourcarpet\",\"colorbar\":{\"outlinewidth\":0,\"ticks\":\"\"}}],\"contour\":[{\"type\":\"contour\",\"colorbar\":{\"outlinewidth\":0,\"ticks\":\"\"},\"colorscale\":[[0.0,\"#0d0887\"],[0.1111111111111111,\"#46039f\"],[0.2222222222222222,\"#7201a8\"],[0.3333333333333333,\"#9c179e\"],[0.4444444444444444,\"#bd3786\"],[0.5555555555555556,\"#d8576b\"],[0.6666666666666666,\"#ed7953\"],[0.7777777777777778,\"#fb9f3a\"],[0.8888888888888888,\"#fdca26\"],[1.0,\"#f0f921\"]]}],\"surface\":[{\"type\":\"surface\",\"colorbar\":{\"outlinewidth\":0,\"ticks\":\"\"},\"colorscale\":[[0.0,\"#0d0887\"],[0.1111111111111111,\"#46039f\"],[0.2222222222222222,\"#7201a8\"],[0.3333333333333333,\"#9c179e\"],[0.4444444444444444,\"#bd3786\"],[0.5555555555555556,\"#d8576b\"],[0.6666666666666666,\"#ed7953\"],[0.7777777777777778,\"#fb9f3a\"],[0.8888888888888888,\"#fdca26\"],[1.0,\"#f0f921\"]]}],\"mesh3d\":[{\"type\":\"mesh3d\",\"colorbar\":{\"outlinewidth\":0,\"ticks\":\"\"}}],\"scatter\":[{\"fillpattern\":{\"fillmode\":\"overlay\",\"size\":10,\"solidity\":0.2},\"type\":\"scatter\"}],\"parcoords\":[{\"type\":\"parcoords\",\"line\":{\"colorbar\":{\"outlinewidth\":0,\"ticks\":\"\"}}}],\"scatterpolargl\":[{\"type\":\"scatterpolargl\",\"marker\":{\"colorbar\":{\"outlinewidth\":0,\"ticks\":\"\"}}}],\"bar\":[{\"error_x\":{\"color\":\"#2a3f5f\"},\"error_y\":{\"color\":\"#2a3f5f\"},\"marker\":{\"line\":{\"color\":\"#E5ECF6\",\"width\":0.5},\"pattern\":{\"fillmode\":\"overlay\",\"size\":10,\"solidity\":0.2}},\"type\":\"bar\"}],\"scattergeo\":[{\"type\":\"scattergeo\",\"marker\":{\"colorbar\":{\"outlinewidth\":0,\"ticks\":\"\"}}}],\"scatterpolar\":[{\"type\":\"scatterpolar\",\"marker\":{\"colorbar\":{\"outlinewidth\":0,\"ticks\":\"\"}}}],\"histogram\":[{\"marker\":{\"pattern\":{\"fillmode\":\"overlay\",\"size\":10,\"solidity\":0.2}},\"type\":\"histogram\"}],\"scattergl\":[{\"type\":\"scattergl\",\"marker\":{\"colorbar\":{\"outlinewidth\":0,\"ticks\":\"\"}}}],\"scatter3d\":[{\"type\":\"scatter3d\",\"line\":{\"colorbar\":{\"outlinewidth\":0,\"ticks\":\"\"}},\"marker\":{\"colorbar\":{\"outlinewidth\":0,\"ticks\":\"\"}}}],\"scattermapbox\":[{\"type\":\"scattermapbox\",\"marker\":{\"colorbar\":{\"outlinewidth\":0,\"ticks\":\"\"}}}],\"scatterternary\":[{\"type\":\"scatterternary\",\"marker\":{\"colorbar\":{\"outlinewidth\":0,\"ticks\":\"\"}}}],\"scattercarpet\":[{\"type\":\"scattercarpet\",\"marker\":{\"colorbar\":{\"outlinewidth\":0,\"ticks\":\"\"}}}],\"carpet\":[{\"aaxis\":{\"endlinecolor\":\"#2a3f5f\",\"gridcolor\":\"white\",\"linecolor\":\"white\",\"minorgridcolor\":\"white\",\"startlinecolor\":\"#2a3f5f\"},\"baxis\":{\"endlinecolor\":\"#2a3f5f\",\"gridcolor\":\"white\",\"linecolor\":\"white\",\"minorgridcolor\":\"white\",\"startlinecolor\":\"#2a3f5f\"},\"type\":\"carpet\"}],\"table\":[{\"cells\":{\"fill\":{\"color\":\"#EBF0F8\"},\"line\":{\"color\":\"white\"}},\"header\":{\"fill\":{\"color\":\"#C8D4E3\"},\"line\":{\"color\":\"white\"}},\"type\":\"table\"}],\"barpolar\":[{\"marker\":{\"line\":{\"color\":\"#E5ECF6\",\"width\":0.5},\"pattern\":{\"fillmode\":\"overlay\",\"size\":10,\"solidity\":0.2}},\"type\":\"barpolar\"}],\"pie\":[{\"automargin\":true,\"type\":\"pie\"}]},\"layout\":{\"autotypenumbers\":\"strict\",\"colorway\":[\"#636efa\",\"#EF553B\",\"#00cc96\",\"#ab63fa\",\"#FFA15A\",\"#19d3f3\",\"#FF6692\",\"#B6E880\",\"#FF97FF\",\"#FECB52\"],\"font\":{\"color\":\"#2a3f5f\"},\"hovermode\":\"closest\",\"hoverlabel\":{\"align\":\"left\"},\"paper_bgcolor\":\"white\",\"plot_bgcolor\":\"#E5ECF6\",\"polar\":{\"bgcolor\":\"#E5ECF6\",\"angularaxis\":{\"gridcolor\":\"white\",\"linecolor\":\"white\",\"ticks\":\"\"},\"radialaxis\":{\"gridcolor\":\"white\",\"linecolor\":\"white\",\"ticks\":\"\"}},\"ternary\":{\"bgcolor\":\"#E5ECF6\",\"aaxis\":{\"gridcolor\":\"white\",\"linecolor\":\"white\",\"ticks\":\"\"},\"baxis\":{\"gridcolor\":\"white\",\"linecolor\":\"white\",\"ticks\":\"\"},\"caxis\":{\"gridcolor\":\"white\",\"linecolor\":\"white\",\"ticks\":\"\"}},\"coloraxis\":{\"colorbar\":{\"outlinewidth\":0,\"ticks\":\"\"}},\"colorscale\":{\"sequential\":[[0.0,\"#0d0887\"],[0.1111111111111111,\"#46039f\"],[0.2222222222222222,\"#7201a8\"],[0.3333333333333333,\"#9c179e\"],[0.4444444444444444,\"#bd3786\"],[0.5555555555555556,\"#d8576b\"],[0.6666666666666666,\"#ed7953\"],[0.7777777777777778,\"#fb9f3a\"],[0.8888888888888888,\"#fdca26\"],[1.0,\"#f0f921\"]],\"sequentialminus\":[[0.0,\"#0d0887\"],[0.1111111111111111,\"#46039f\"],[0.2222222222222222,\"#7201a8\"],[0.3333333333333333,\"#9c179e\"],[0.4444444444444444,\"#bd3786\"],[0.5555555555555556,\"#d8576b\"],[0.6666666666666666,\"#ed7953\"],[0.7777777777777778,\"#fb9f3a\"],[0.8888888888888888,\"#fdca26\"],[1.0,\"#f0f921\"]],\"diverging\":[[0,\"#8e0152\"],[0.1,\"#c51b7d\"],[0.2,\"#de77ae\"],[0.3,\"#f1b6da\"],[0.4,\"#fde0ef\"],[0.5,\"#f7f7f7\"],[0.6,\"#e6f5d0\"],[0.7,\"#b8e186\"],[0.8,\"#7fbc41\"],[0.9,\"#4d9221\"],[1,\"#276419\"]]},\"xaxis\":{\"gridcolor\":\"white\",\"linecolor\":\"white\",\"ticks\":\"\",\"title\":{\"standoff\":15},\"zerolinecolor\":\"white\",\"automargin\":true,\"zerolinewidth\":2},\"yaxis\":{\"gridcolor\":\"white\",\"linecolor\":\"white\",\"ticks\":\"\",\"title\":{\"standoff\":15},\"zerolinecolor\":\"white\",\"automargin\":true,\"zerolinewidth\":2},\"scene\":{\"xaxis\":{\"backgroundcolor\":\"#E5ECF6\",\"gridcolor\":\"white\",\"linecolor\":\"white\",\"showbackground\":true,\"ticks\":\"\",\"zerolinecolor\":\"white\",\"gridwidth\":2},\"yaxis\":{\"backgroundcolor\":\"#E5ECF6\",\"gridcolor\":\"white\",\"linecolor\":\"white\",\"showbackground\":true,\"ticks\":\"\",\"zerolinecolor\":\"white\",\"gridwidth\":2},\"zaxis\":{\"backgroundcolor\":\"#E5ECF6\",\"gridcolor\":\"white\",\"linecolor\":\"white\",\"showbackground\":true,\"ticks\":\"\",\"zerolinecolor\":\"white\",\"gridwidth\":2}},\"shapedefaults\":{\"line\":{\"color\":\"#2a3f5f\"}},\"annotationdefaults\":{\"arrowcolor\":\"#2a3f5f\",\"arrowhead\":0,\"arrowwidth\":1},\"geo\":{\"bgcolor\":\"white\",\"landcolor\":\"#E5ECF6\",\"subunitcolor\":\"white\",\"showland\":true,\"showlakes\":true,\"lakecolor\":\"white\"},\"title\":{\"x\":0.05},\"mapbox\":{\"style\":\"light\"}}},\"xaxis\":{\"anchor\":\"y\",\"domain\":[0.0,1.0],\"title\":{\"text\":\"x\"}},\"yaxis\":{\"anchor\":\"x\",\"domain\":[0.0,1.0],\"title\":{\"text\":\"y\"}},\"coloraxis\":{\"colorbar\":{\"title\":{\"text\":\"color\"}},\"colorscale\":[[0.0,\"rgb(103,0,31)\"],[0.1,\"rgb(178,24,43)\"],[0.2,\"rgb(214,96,77)\"],[0.3,\"rgb(244,165,130)\"],[0.4,\"rgb(253,219,199)\"],[0.5,\"rgb(247,247,247)\"],[0.6,\"rgb(209,229,240)\"],[0.7,\"rgb(146,197,222)\"],[0.8,\"rgb(67,147,195)\"],[0.9,\"rgb(33,102,172)\"],[1.0,\"rgb(5,48,97)\"]]},\"legend\":{\"tracegroupgap\":0},\"margin\":{\"t\":60}},                        {\"responsive\": true}                    ).then(function(){\n",
       "                            \n",
       "var gd = document.getElementById('e9696f7a-154c-44b1-9936-f43173aa779b');\n",
       "var x = new MutationObserver(function (mutations, observer) {{\n",
       "        var display = window.getComputedStyle(gd).display;\n",
       "        if (!display || display === 'none') {{\n",
       "            console.log([gd, 'removed!']);\n",
       "            Plotly.purge(gd);\n",
       "            observer.disconnect();\n",
       "        }}\n",
       "}});\n",
       "\n",
       "// Listen for the removal of the full notebook cells\n",
       "var notebookContainer = gd.closest('#notebook-container');\n",
       "if (notebookContainer) {{\n",
       "    x.observe(notebookContainer, {childList: true});\n",
       "}}\n",
       "\n",
       "// Listen for the clearing of the current output cell\n",
       "var outputEl = gd.closest('.output');\n",
       "if (outputEl) {{\n",
       "    x.observe(outputEl, {childList: true});\n",
       "}}\n",
       "\n",
       "                        })                };                });            </script>        </div>"
      ]
     },
     "metadata": {},
     "output_type": "display_data"
    }
   ],
   "source": [
    "px.scatter(x=pca_profile[:, 0], y=pca_profile[:, 1], hover_name=df[\"model\"], opacity=1.0, color=df[\"num_param\"], color_continuous_scale=\"RdBu\")"
   ]
  },
  {
   "cell_type": "code",
   "execution_count": 116,
   "id": "ac94a361-8621-4b1f-832e-854c07005b50",
   "metadata": {},
   "outputs": [
    {
     "data": {
      "application/vnd.plotly.v1+json": {
       "config": {
        "plotlyServerURL": "https://plot.ly"
       },
       "data": [
        {
         "hovertemplate": "variable=wide_variable_0<br>index=%{x}<br>value=%{y}<extra></extra>",
         "legendgroup": "wide_variable_0",
         "line": {
          "color": "#636efa",
          "dash": "solid"
         },
         "marker": {
          "symbol": "circle"
         },
         "mode": "lines",
         "name": "wide_variable_0",
         "orientation": "v",
         "showlegend": true,
         "type": "scatter",
         "visible": "legendonly",
         "x": [
          0,
          1,
          2,
          3,
          4,
          5,
          6,
          7,
          8
         ],
         "xaxis": "x",
         "y": [
          -0.3223389052189354,
          -0.3205390404423163,
          -0.3095816035027189,
          -0.31193268234281407,
          -0.3042186589333762,
          -0.3357019804894152,
          -0.31300119457064884,
          -0.3375322156139126,
          -0.4278633305929031
         ],
         "yaxis": "y"
        },
        {
         "hovertemplate": "variable=wide_variable_1<br>index=%{x}<br>value=%{y}<extra></extra>",
         "legendgroup": "wide_variable_1",
         "line": {
          "color": "#EF553B",
          "dash": "solid"
         },
         "marker": {
          "symbol": "circle"
         },
         "mode": "lines",
         "name": "wide_variable_1",
         "orientation": "v",
         "showlegend": true,
         "type": "scatter",
         "visible": "legendonly",
         "x": [
          0,
          1,
          2,
          3,
          4,
          5,
          6,
          7,
          8
         ],
         "xaxis": "x",
         "y": [
          0.23479898914575195,
          0.10958060468159563,
          0.1945058516999521,
          0.1421926683162785,
          0.1593543119041648,
          0.11918152455737549,
          0.14089870977159497,
          0.10581979860689644,
          -0.896750765706139
         ],
         "yaxis": "y"
        },
        {
         "hovertemplate": "variable=wide_variable_2<br>index=%{x}<br>value=%{y}<extra></extra>",
         "legendgroup": "wide_variable_2",
         "line": {
          "color": "#00cc96",
          "dash": "solid"
         },
         "marker": {
          "symbol": "circle"
         },
         "mode": "lines",
         "name": "wide_variable_2",
         "orientation": "v",
         "showlegend": true,
         "type": "scatter",
         "visible": "legendonly",
         "x": [
          0,
          1,
          2,
          3,
          4,
          5,
          6,
          7,
          8
         ],
         "xaxis": "x",
         "y": [
          0.24400879029661074,
          0.3894124208924449,
          0.41398375123789144,
          0.11275632903742704,
          0.13123184094917673,
          -0.4503496334874808,
          -0.38952224583616046,
          -0.4782626767437466,
          0.06497525880763291
         ],
         "yaxis": "y"
        },
        {
         "hovertemplate": "variable=wide_variable_3<br>index=%{x}<br>value=%{y}<extra></extra>",
         "legendgroup": "wide_variable_3",
         "line": {
          "color": "#ab63fa",
          "dash": "solid"
         },
         "marker": {
          "symbol": "circle"
         },
         "mode": "lines",
         "name": "wide_variable_3",
         "orientation": "v",
         "showlegend": true,
         "type": "scatter",
         "visible": true,
         "x": [
          0,
          1,
          2,
          3,
          4,
          5,
          6,
          7,
          8
         ],
         "xaxis": "x",
         "y": [
          0.45705639122452396,
          0.39485042626468897,
          -0.07363019959477321,
          -0.3800674776237537,
          -0.6827644070853721,
          0.07759949894180722,
          0.04221382295511271,
          0.106531507146089,
          -0.0001248911452858964
         ],
         "yaxis": "y"
        }
       ],
       "layout": {
        "autosize": true,
        "legend": {
         "title": {
          "text": "variable"
         },
         "tracegroupgap": 0
        },
        "margin": {
         "t": 60
        },
        "template": {
         "data": {
          "bar": [
           {
            "error_x": {
             "color": "#2a3f5f"
            },
            "error_y": {
             "color": "#2a3f5f"
            },
            "marker": {
             "line": {
              "color": "#E5ECF6",
              "width": 0.5
             },
             "pattern": {
              "fillmode": "overlay",
              "size": 10,
              "solidity": 0.2
             }
            },
            "type": "bar"
           }
          ],
          "barpolar": [
           {
            "marker": {
             "line": {
              "color": "#E5ECF6",
              "width": 0.5
             },
             "pattern": {
              "fillmode": "overlay",
              "size": 10,
              "solidity": 0.2
             }
            },
            "type": "barpolar"
           }
          ],
          "carpet": [
           {
            "aaxis": {
             "endlinecolor": "#2a3f5f",
             "gridcolor": "white",
             "linecolor": "white",
             "minorgridcolor": "white",
             "startlinecolor": "#2a3f5f"
            },
            "baxis": {
             "endlinecolor": "#2a3f5f",
             "gridcolor": "white",
             "linecolor": "white",
             "minorgridcolor": "white",
             "startlinecolor": "#2a3f5f"
            },
            "type": "carpet"
           }
          ],
          "choropleth": [
           {
            "colorbar": {
             "outlinewidth": 0,
             "ticks": ""
            },
            "type": "choropleth"
           }
          ],
          "contour": [
           {
            "colorbar": {
             "outlinewidth": 0,
             "ticks": ""
            },
            "colorscale": [
             [
              0,
              "#0d0887"
             ],
             [
              0.1111111111111111,
              "#46039f"
             ],
             [
              0.2222222222222222,
              "#7201a8"
             ],
             [
              0.3333333333333333,
              "#9c179e"
             ],
             [
              0.4444444444444444,
              "#bd3786"
             ],
             [
              0.5555555555555556,
              "#d8576b"
             ],
             [
              0.6666666666666666,
              "#ed7953"
             ],
             [
              0.7777777777777778,
              "#fb9f3a"
             ],
             [
              0.8888888888888888,
              "#fdca26"
             ],
             [
              1,
              "#f0f921"
             ]
            ],
            "type": "contour"
           }
          ],
          "contourcarpet": [
           {
            "colorbar": {
             "outlinewidth": 0,
             "ticks": ""
            },
            "type": "contourcarpet"
           }
          ],
          "heatmap": [
           {
            "colorbar": {
             "outlinewidth": 0,
             "ticks": ""
            },
            "colorscale": [
             [
              0,
              "#0d0887"
             ],
             [
              0.1111111111111111,
              "#46039f"
             ],
             [
              0.2222222222222222,
              "#7201a8"
             ],
             [
              0.3333333333333333,
              "#9c179e"
             ],
             [
              0.4444444444444444,
              "#bd3786"
             ],
             [
              0.5555555555555556,
              "#d8576b"
             ],
             [
              0.6666666666666666,
              "#ed7953"
             ],
             [
              0.7777777777777778,
              "#fb9f3a"
             ],
             [
              0.8888888888888888,
              "#fdca26"
             ],
             [
              1,
              "#f0f921"
             ]
            ],
            "type": "heatmap"
           }
          ],
          "heatmapgl": [
           {
            "colorbar": {
             "outlinewidth": 0,
             "ticks": ""
            },
            "colorscale": [
             [
              0,
              "#0d0887"
             ],
             [
              0.1111111111111111,
              "#46039f"
             ],
             [
              0.2222222222222222,
              "#7201a8"
             ],
             [
              0.3333333333333333,
              "#9c179e"
             ],
             [
              0.4444444444444444,
              "#bd3786"
             ],
             [
              0.5555555555555556,
              "#d8576b"
             ],
             [
              0.6666666666666666,
              "#ed7953"
             ],
             [
              0.7777777777777778,
              "#fb9f3a"
             ],
             [
              0.8888888888888888,
              "#fdca26"
             ],
             [
              1,
              "#f0f921"
             ]
            ],
            "type": "heatmapgl"
           }
          ],
          "histogram": [
           {
            "marker": {
             "pattern": {
              "fillmode": "overlay",
              "size": 10,
              "solidity": 0.2
             }
            },
            "type": "histogram"
           }
          ],
          "histogram2d": [
           {
            "colorbar": {
             "outlinewidth": 0,
             "ticks": ""
            },
            "colorscale": [
             [
              0,
              "#0d0887"
             ],
             [
              0.1111111111111111,
              "#46039f"
             ],
             [
              0.2222222222222222,
              "#7201a8"
             ],
             [
              0.3333333333333333,
              "#9c179e"
             ],
             [
              0.4444444444444444,
              "#bd3786"
             ],
             [
              0.5555555555555556,
              "#d8576b"
             ],
             [
              0.6666666666666666,
              "#ed7953"
             ],
             [
              0.7777777777777778,
              "#fb9f3a"
             ],
             [
              0.8888888888888888,
              "#fdca26"
             ],
             [
              1,
              "#f0f921"
             ]
            ],
            "type": "histogram2d"
           }
          ],
          "histogram2dcontour": [
           {
            "colorbar": {
             "outlinewidth": 0,
             "ticks": ""
            },
            "colorscale": [
             [
              0,
              "#0d0887"
             ],
             [
              0.1111111111111111,
              "#46039f"
             ],
             [
              0.2222222222222222,
              "#7201a8"
             ],
             [
              0.3333333333333333,
              "#9c179e"
             ],
             [
              0.4444444444444444,
              "#bd3786"
             ],
             [
              0.5555555555555556,
              "#d8576b"
             ],
             [
              0.6666666666666666,
              "#ed7953"
             ],
             [
              0.7777777777777778,
              "#fb9f3a"
             ],
             [
              0.8888888888888888,
              "#fdca26"
             ],
             [
              1,
              "#f0f921"
             ]
            ],
            "type": "histogram2dcontour"
           }
          ],
          "mesh3d": [
           {
            "colorbar": {
             "outlinewidth": 0,
             "ticks": ""
            },
            "type": "mesh3d"
           }
          ],
          "parcoords": [
           {
            "line": {
             "colorbar": {
              "outlinewidth": 0,
              "ticks": ""
             }
            },
            "type": "parcoords"
           }
          ],
          "pie": [
           {
            "automargin": true,
            "type": "pie"
           }
          ],
          "scatter": [
           {
            "fillpattern": {
             "fillmode": "overlay",
             "size": 10,
             "solidity": 0.2
            },
            "type": "scatter"
           }
          ],
          "scatter3d": [
           {
            "line": {
             "colorbar": {
              "outlinewidth": 0,
              "ticks": ""
             }
            },
            "marker": {
             "colorbar": {
              "outlinewidth": 0,
              "ticks": ""
             }
            },
            "type": "scatter3d"
           }
          ],
          "scattercarpet": [
           {
            "marker": {
             "colorbar": {
              "outlinewidth": 0,
              "ticks": ""
             }
            },
            "type": "scattercarpet"
           }
          ],
          "scattergeo": [
           {
            "marker": {
             "colorbar": {
              "outlinewidth": 0,
              "ticks": ""
             }
            },
            "type": "scattergeo"
           }
          ],
          "scattergl": [
           {
            "marker": {
             "colorbar": {
              "outlinewidth": 0,
              "ticks": ""
             }
            },
            "type": "scattergl"
           }
          ],
          "scattermapbox": [
           {
            "marker": {
             "colorbar": {
              "outlinewidth": 0,
              "ticks": ""
             }
            },
            "type": "scattermapbox"
           }
          ],
          "scatterpolar": [
           {
            "marker": {
             "colorbar": {
              "outlinewidth": 0,
              "ticks": ""
             }
            },
            "type": "scatterpolar"
           }
          ],
          "scatterpolargl": [
           {
            "marker": {
             "colorbar": {
              "outlinewidth": 0,
              "ticks": ""
             }
            },
            "type": "scatterpolargl"
           }
          ],
          "scatterternary": [
           {
            "marker": {
             "colorbar": {
              "outlinewidth": 0,
              "ticks": ""
             }
            },
            "type": "scatterternary"
           }
          ],
          "surface": [
           {
            "colorbar": {
             "outlinewidth": 0,
             "ticks": ""
            },
            "colorscale": [
             [
              0,
              "#0d0887"
             ],
             [
              0.1111111111111111,
              "#46039f"
             ],
             [
              0.2222222222222222,
              "#7201a8"
             ],
             [
              0.3333333333333333,
              "#9c179e"
             ],
             [
              0.4444444444444444,
              "#bd3786"
             ],
             [
              0.5555555555555556,
              "#d8576b"
             ],
             [
              0.6666666666666666,
              "#ed7953"
             ],
             [
              0.7777777777777778,
              "#fb9f3a"
             ],
             [
              0.8888888888888888,
              "#fdca26"
             ],
             [
              1,
              "#f0f921"
             ]
            ],
            "type": "surface"
           }
          ],
          "table": [
           {
            "cells": {
             "fill": {
              "color": "#EBF0F8"
             },
             "line": {
              "color": "white"
             }
            },
            "header": {
             "fill": {
              "color": "#C8D4E3"
             },
             "line": {
              "color": "white"
             }
            },
            "type": "table"
           }
          ]
         },
         "layout": {
          "annotationdefaults": {
           "arrowcolor": "#2a3f5f",
           "arrowhead": 0,
           "arrowwidth": 1
          },
          "autotypenumbers": "strict",
          "coloraxis": {
           "colorbar": {
            "outlinewidth": 0,
            "ticks": ""
           }
          },
          "colorscale": {
           "diverging": [
            [
             0,
             "#8e0152"
            ],
            [
             0.1,
             "#c51b7d"
            ],
            [
             0.2,
             "#de77ae"
            ],
            [
             0.3,
             "#f1b6da"
            ],
            [
             0.4,
             "#fde0ef"
            ],
            [
             0.5,
             "#f7f7f7"
            ],
            [
             0.6,
             "#e6f5d0"
            ],
            [
             0.7,
             "#b8e186"
            ],
            [
             0.8,
             "#7fbc41"
            ],
            [
             0.9,
             "#4d9221"
            ],
            [
             1,
             "#276419"
            ]
           ],
           "sequential": [
            [
             0,
             "#0d0887"
            ],
            [
             0.1111111111111111,
             "#46039f"
            ],
            [
             0.2222222222222222,
             "#7201a8"
            ],
            [
             0.3333333333333333,
             "#9c179e"
            ],
            [
             0.4444444444444444,
             "#bd3786"
            ],
            [
             0.5555555555555556,
             "#d8576b"
            ],
            [
             0.6666666666666666,
             "#ed7953"
            ],
            [
             0.7777777777777778,
             "#fb9f3a"
            ],
            [
             0.8888888888888888,
             "#fdca26"
            ],
            [
             1,
             "#f0f921"
            ]
           ],
           "sequentialminus": [
            [
             0,
             "#0d0887"
            ],
            [
             0.1111111111111111,
             "#46039f"
            ],
            [
             0.2222222222222222,
             "#7201a8"
            ],
            [
             0.3333333333333333,
             "#9c179e"
            ],
            [
             0.4444444444444444,
             "#bd3786"
            ],
            [
             0.5555555555555556,
             "#d8576b"
            ],
            [
             0.6666666666666666,
             "#ed7953"
            ],
            [
             0.7777777777777778,
             "#fb9f3a"
            ],
            [
             0.8888888888888888,
             "#fdca26"
            ],
            [
             1,
             "#f0f921"
            ]
           ]
          },
          "colorway": [
           "#636efa",
           "#EF553B",
           "#00cc96",
           "#ab63fa",
           "#FFA15A",
           "#19d3f3",
           "#FF6692",
           "#B6E880",
           "#FF97FF",
           "#FECB52"
          ],
          "font": {
           "color": "#2a3f5f"
          },
          "geo": {
           "bgcolor": "white",
           "lakecolor": "white",
           "landcolor": "#E5ECF6",
           "showlakes": true,
           "showland": true,
           "subunitcolor": "white"
          },
          "hoverlabel": {
           "align": "left"
          },
          "hovermode": "closest",
          "mapbox": {
           "style": "light"
          },
          "paper_bgcolor": "white",
          "plot_bgcolor": "#E5ECF6",
          "polar": {
           "angularaxis": {
            "gridcolor": "white",
            "linecolor": "white",
            "ticks": ""
           },
           "bgcolor": "#E5ECF6",
           "radialaxis": {
            "gridcolor": "white",
            "linecolor": "white",
            "ticks": ""
           }
          },
          "scene": {
           "xaxis": {
            "backgroundcolor": "#E5ECF6",
            "gridcolor": "white",
            "gridwidth": 2,
            "linecolor": "white",
            "showbackground": true,
            "ticks": "",
            "zerolinecolor": "white"
           },
           "yaxis": {
            "backgroundcolor": "#E5ECF6",
            "gridcolor": "white",
            "gridwidth": 2,
            "linecolor": "white",
            "showbackground": true,
            "ticks": "",
            "zerolinecolor": "white"
           },
           "zaxis": {
            "backgroundcolor": "#E5ECF6",
            "gridcolor": "white",
            "gridwidth": 2,
            "linecolor": "white",
            "showbackground": true,
            "ticks": "",
            "zerolinecolor": "white"
           }
          },
          "shapedefaults": {
           "line": {
            "color": "#2a3f5f"
           }
          },
          "ternary": {
           "aaxis": {
            "gridcolor": "white",
            "linecolor": "white",
            "ticks": ""
           },
           "baxis": {
            "gridcolor": "white",
            "linecolor": "white",
            "ticks": ""
           },
           "bgcolor": "#E5ECF6",
           "caxis": {
            "gridcolor": "white",
            "linecolor": "white",
            "ticks": ""
           }
          },
          "title": {
           "x": 0.05
          },
          "xaxis": {
           "automargin": true,
           "gridcolor": "white",
           "linecolor": "white",
           "ticks": "",
           "title": {
            "standoff": 15
           },
           "zerolinecolor": "white",
           "zerolinewidth": 2
          },
          "yaxis": {
           "automargin": true,
           "gridcolor": "white",
           "linecolor": "white",
           "ticks": "",
           "title": {
            "standoff": 15
           },
           "zerolinecolor": "white",
           "zerolinewidth": 2
          }
         }
        },
        "xaxis": {
         "anchor": "y",
         "autorange": true,
         "domain": [
          0,
          1
         ],
         "range": [
          0,
          8
         ],
         "title": {
          "text": "index"
         },
         "type": "linear"
        },
        "yaxis": {
         "anchor": "x",
         "autorange": true,
         "domain": [
          0,
          1
         ],
         "range": [
          -0.7460877847692552,
          0.5203797689084071
         ],
         "title": {
          "text": "value"
         },
         "type": "linear"
        }
       }
      },
      "image/png": "[encoded data removed]",
      "text/html": [
       "<div>                            <div id=\"5c2011e0-48a1-4522-8f35-08e0890763b7\" class=\"plotly-graph-div\" style=\"height:525px; width:100%;\"></div>            <script type=\"text/javascript\">                require([\"plotly\"], function(Plotly) {                    window.PLOTLYENV=window.PLOTLYENV || {};                                    if (document.getElementById(\"5c2011e0-48a1-4522-8f35-08e0890763b7\")) {                    Plotly.newPlot(                        \"5c2011e0-48a1-4522-8f35-08e0890763b7\",                        [{\"hovertemplate\":\"variable=wide_variable_0\\u003cbr\\u003eindex=%{x}\\u003cbr\\u003evalue=%{y}\\u003cextra\\u003e\\u003c\\u002fextra\\u003e\",\"legendgroup\":\"wide_variable_0\",\"line\":{\"color\":\"#636efa\",\"dash\":\"solid\"},\"marker\":{\"symbol\":\"circle\"},\"mode\":\"lines\",\"name\":\"wide_variable_0\",\"orientation\":\"v\",\"showlegend\":true,\"x\":[0,1,2,3,4,5,6,7,8],\"xaxis\":\"x\",\"y\":[-0.3223389052189354,-0.3205390404423163,-0.3095816035027189,-0.31193268234281407,-0.3042186589333762,-0.3357019804894152,-0.31300119457064884,-0.3375322156139126,-0.4278633305929031],\"yaxis\":\"y\",\"type\":\"scatter\"},{\"hovertemplate\":\"variable=wide_variable_1\\u003cbr\\u003eindex=%{x}\\u003cbr\\u003evalue=%{y}\\u003cextra\\u003e\\u003c\\u002fextra\\u003e\",\"legendgroup\":\"wide_variable_1\",\"line\":{\"color\":\"#EF553B\",\"dash\":\"solid\"},\"marker\":{\"symbol\":\"circle\"},\"mode\":\"lines\",\"name\":\"wide_variable_1\",\"orientation\":\"v\",\"showlegend\":true,\"x\":[0,1,2,3,4,5,6,7,8],\"xaxis\":\"x\",\"y\":[0.23479898914575195,0.10958060468159563,0.1945058516999521,0.1421926683162785,0.1593543119041648,0.11918152455737549,0.14089870977159497,0.10581979860689644,-0.896750765706139],\"yaxis\":\"y\",\"type\":\"scatter\"},{\"hovertemplate\":\"variable=wide_variable_2\\u003cbr\\u003eindex=%{x}\\u003cbr\\u003evalue=%{y}\\u003cextra\\u003e\\u003c\\u002fextra\\u003e\",\"legendgroup\":\"wide_variable_2\",\"line\":{\"color\":\"#00cc96\",\"dash\":\"solid\"},\"marker\":{\"symbol\":\"circle\"},\"mode\":\"lines\",\"name\":\"wide_variable_2\",\"orientation\":\"v\",\"showlegend\":true,\"x\":[0,1,2,3,4,5,6,7,8],\"xaxis\":\"x\",\"y\":[0.24400879029661074,0.3894124208924449,0.41398375123789144,0.11275632903742704,0.13123184094917673,-0.4503496334874808,-0.38952224583616046,-0.4782626767437466,0.06497525880763291],\"yaxis\":\"y\",\"type\":\"scatter\"},{\"hovertemplate\":\"variable=wide_variable_3\\u003cbr\\u003eindex=%{x}\\u003cbr\\u003evalue=%{y}\\u003cextra\\u003e\\u003c\\u002fextra\\u003e\",\"legendgroup\":\"wide_variable_3\",\"line\":{\"color\":\"#ab63fa\",\"dash\":\"solid\"},\"marker\":{\"symbol\":\"circle\"},\"mode\":\"lines\",\"name\":\"wide_variable_3\",\"orientation\":\"v\",\"showlegend\":true,\"x\":[0,1,2,3,4,5,6,7,8],\"xaxis\":\"x\",\"y\":[0.45705639122452396,0.39485042626468897,-0.07363019959477321,-0.3800674776237537,-0.6827644070853721,0.07759949894180722,0.04221382295511271,0.106531507146089,-0.0001248911452858964],\"yaxis\":\"y\",\"type\":\"scatter\"}],                        {\"template\":{\"data\":{\"histogram2dcontour\":[{\"type\":\"histogram2dcontour\",\"colorbar\":{\"outlinewidth\":0,\"ticks\":\"\"},\"colorscale\":[[0.0,\"#0d0887\"],[0.1111111111111111,\"#46039f\"],[0.2222222222222222,\"#7201a8\"],[0.3333333333333333,\"#9c179e\"],[0.4444444444444444,\"#bd3786\"],[0.5555555555555556,\"#d8576b\"],[0.6666666666666666,\"#ed7953\"],[0.7777777777777778,\"#fb9f3a\"],[0.8888888888888888,\"#fdca26\"],[1.0,\"#f0f921\"]]}],\"choropleth\":[{\"type\":\"choropleth\",\"colorbar\":{\"outlinewidth\":0,\"ticks\":\"\"}}],\"histogram2d\":[{\"type\":\"histogram2d\",\"colorbar\":{\"outlinewidth\":0,\"ticks\":\"\"},\"colorscale\":[[0.0,\"#0d0887\"],[0.1111111111111111,\"#46039f\"],[0.2222222222222222,\"#7201a8\"],[0.3333333333333333,\"#9c179e\"],[0.4444444444444444,\"#bd3786\"],[0.5555555555555556,\"#d8576b\"],[0.6666666666666666,\"#ed7953\"],[0.7777777777777778,\"#fb9f3a\"],[0.8888888888888888,\"#fdca26\"],[1.0,\"#f0f921\"]]}],\"heatmap\":[{\"type\":\"heatmap\",\"colorbar\":{\"outlinewidth\":0,\"ticks\":\"\"},\"colorscale\":[[0.0,\"#0d0887\"],[0.1111111111111111,\"#46039f\"],[0.2222222222222222,\"#7201a8\"],[0.3333333333333333,\"#9c179e\"],[0.4444444444444444,\"#bd3786\"],[0.5555555555555556,\"#d8576b\"],[0.6666666666666666,\"#ed7953\"],[0.7777777777777778,\"#fb9f3a\"],[0.8888888888888888,\"#fdca26\"],[1.0,\"#f0f921\"]]}],\"heatmapgl\":[{\"type\":\"heatmapgl\",\"colorbar\":{\"outlinewidth\":0,\"ticks\":\"\"},\"colorscale\":[[0.0,\"#0d0887\"],[0.1111111111111111,\"#46039f\"],[0.2222222222222222,\"#7201a8\"],[0.3333333333333333,\"#9c179e\"],[0.4444444444444444,\"#bd3786\"],[0.5555555555555556,\"#d8576b\"],[0.6666666666666666,\"#ed7953\"],[0.7777777777777778,\"#fb9f3a\"],[0.8888888888888888,\"#fdca26\"],[1.0,\"#f0f921\"]]}],\"contourcarpet\":[{\"type\":\"contourcarpet\",\"colorbar\":{\"outlinewidth\":0,\"ticks\":\"\"}}],\"contour\":[{\"type\":\"contour\",\"colorbar\":{\"outlinewidth\":0,\"ticks\":\"\"},\"colorscale\":[[0.0,\"#0d0887\"],[0.1111111111111111,\"#46039f\"],[0.2222222222222222,\"#7201a8\"],[0.3333333333333333,\"#9c179e\"],[0.4444444444444444,\"#bd3786\"],[0.5555555555555556,\"#d8576b\"],[0.6666666666666666,\"#ed7953\"],[0.7777777777777778,\"#fb9f3a\"],[0.8888888888888888,\"#fdca26\"],[1.0,\"#f0f921\"]]}],\"surface\":[{\"type\":\"surface\",\"colorbar\":{\"outlinewidth\":0,\"ticks\":\"\"},\"colorscale\":[[0.0,\"#0d0887\"],[0.1111111111111111,\"#46039f\"],[0.2222222222222222,\"#7201a8\"],[0.3333333333333333,\"#9c179e\"],[0.4444444444444444,\"#bd3786\"],[0.5555555555555556,\"#d8576b\"],[0.6666666666666666,\"#ed7953\"],[0.7777777777777778,\"#fb9f3a\"],[0.8888888888888888,\"#fdca26\"],[1.0,\"#f0f921\"]]}],\"mesh3d\":[{\"type\":\"mesh3d\",\"colorbar\":{\"outlinewidth\":0,\"ticks\":\"\"}}],\"scatter\":[{\"fillpattern\":{\"fillmode\":\"overlay\",\"size\":10,\"solidity\":0.2},\"type\":\"scatter\"}],\"parcoords\":[{\"type\":\"parcoords\",\"line\":{\"colorbar\":{\"outlinewidth\":0,\"ticks\":\"\"}}}],\"scatterpolargl\":[{\"type\":\"scatterpolargl\",\"marker\":{\"colorbar\":{\"outlinewidth\":0,\"ticks\":\"\"}}}],\"bar\":[{\"error_x\":{\"color\":\"#2a3f5f\"},\"error_y\":{\"color\":\"#2a3f5f\"},\"marker\":{\"line\":{\"color\":\"#E5ECF6\",\"width\":0.5},\"pattern\":{\"fillmode\":\"overlay\",\"size\":10,\"solidity\":0.2}},\"type\":\"bar\"}],\"scattergeo\":[{\"type\":\"scattergeo\",\"marker\":{\"colorbar\":{\"outlinewidth\":0,\"ticks\":\"\"}}}],\"scatterpolar\":[{\"type\":\"scatterpolar\",\"marker\":{\"colorbar\":{\"outlinewidth\":0,\"ticks\":\"\"}}}],\"histogram\":[{\"marker\":{\"pattern\":{\"fillmode\":\"overlay\",\"size\":10,\"solidity\":0.2}},\"type\":\"histogram\"}],\"scattergl\":[{\"type\":\"scattergl\",\"marker\":{\"colorbar\":{\"outlinewidth\":0,\"ticks\":\"\"}}}],\"scatter3d\":[{\"type\":\"scatter3d\",\"line\":{\"colorbar\":{\"outlinewidth\":0,\"ticks\":\"\"}},\"marker\":{\"colorbar\":{\"outlinewidth\":0,\"ticks\":\"\"}}}],\"scattermapbox\":[{\"type\":\"scattermapbox\",\"marker\":{\"colorbar\":{\"outlinewidth\":0,\"ticks\":\"\"}}}],\"scatterternary\":[{\"type\":\"scatterternary\",\"marker\":{\"colorbar\":{\"outlinewidth\":0,\"ticks\":\"\"}}}],\"scattercarpet\":[{\"type\":\"scattercarpet\",\"marker\":{\"colorbar\":{\"outlinewidth\":0,\"ticks\":\"\"}}}],\"carpet\":[{\"aaxis\":{\"endlinecolor\":\"#2a3f5f\",\"gridcolor\":\"white\",\"linecolor\":\"white\",\"minorgridcolor\":\"white\",\"startlinecolor\":\"#2a3f5f\"},\"baxis\":{\"endlinecolor\":\"#2a3f5f\",\"gridcolor\":\"white\",\"linecolor\":\"white\",\"minorgridcolor\":\"white\",\"startlinecolor\":\"#2a3f5f\"},\"type\":\"carpet\"}],\"table\":[{\"cells\":{\"fill\":{\"color\":\"#EBF0F8\"},\"line\":{\"color\":\"white\"}},\"header\":{\"fill\":{\"color\":\"#C8D4E3\"},\"line\":{\"color\":\"white\"}},\"type\":\"table\"}],\"barpolar\":[{\"marker\":{\"line\":{\"color\":\"#E5ECF6\",\"width\":0.5},\"pattern\":{\"fillmode\":\"overlay\",\"size\":10,\"solidity\":0.2}},\"type\":\"barpolar\"}],\"pie\":[{\"automargin\":true,\"type\":\"pie\"}]},\"layout\":{\"autotypenumbers\":\"strict\",\"colorway\":[\"#636efa\",\"#EF553B\",\"#00cc96\",\"#ab63fa\",\"#FFA15A\",\"#19d3f3\",\"#FF6692\",\"#B6E880\",\"#FF97FF\",\"#FECB52\"],\"font\":{\"color\":\"#2a3f5f\"},\"hovermode\":\"closest\",\"hoverlabel\":{\"align\":\"left\"},\"paper_bgcolor\":\"white\",\"plot_bgcolor\":\"#E5ECF6\",\"polar\":{\"bgcolor\":\"#E5ECF6\",\"angularaxis\":{\"gridcolor\":\"white\",\"linecolor\":\"white\",\"ticks\":\"\"},\"radialaxis\":{\"gridcolor\":\"white\",\"linecolor\":\"white\",\"ticks\":\"\"}},\"ternary\":{\"bgcolor\":\"#E5ECF6\",\"aaxis\":{\"gridcolor\":\"white\",\"linecolor\":\"white\",\"ticks\":\"\"},\"baxis\":{\"gridcolor\":\"white\",\"linecolor\":\"white\",\"ticks\":\"\"},\"caxis\":{\"gridcolor\":\"white\",\"linecolor\":\"white\",\"ticks\":\"\"}},\"coloraxis\":{\"colorbar\":{\"outlinewidth\":0,\"ticks\":\"\"}},\"colorscale\":{\"sequential\":[[0.0,\"#0d0887\"],[0.1111111111111111,\"#46039f\"],[0.2222222222222222,\"#7201a8\"],[0.3333333333333333,\"#9c179e\"],[0.4444444444444444,\"#bd3786\"],[0.5555555555555556,\"#d8576b\"],[0.6666666666666666,\"#ed7953\"],[0.7777777777777778,\"#fb9f3a\"],[0.8888888888888888,\"#fdca26\"],[1.0,\"#f0f921\"]],\"sequentialminus\":[[0.0,\"#0d0887\"],[0.1111111111111111,\"#46039f\"],[0.2222222222222222,\"#7201a8\"],[0.3333333333333333,\"#9c179e\"],[0.4444444444444444,\"#bd3786\"],[0.5555555555555556,\"#d8576b\"],[0.6666666666666666,\"#ed7953\"],[0.7777777777777778,\"#fb9f3a\"],[0.8888888888888888,\"#fdca26\"],[1.0,\"#f0f921\"]],\"diverging\":[[0,\"#8e0152\"],[0.1,\"#c51b7d\"],[0.2,\"#de77ae\"],[0.3,\"#f1b6da\"],[0.4,\"#fde0ef\"],[0.5,\"#f7f7f7\"],[0.6,\"#e6f5d0\"],[0.7,\"#b8e186\"],[0.8,\"#7fbc41\"],[0.9,\"#4d9221\"],[1,\"#276419\"]]},\"xaxis\":{\"gridcolor\":\"white\",\"linecolor\":\"white\",\"ticks\":\"\",\"title\":{\"standoff\":15},\"zerolinecolor\":\"white\",\"automargin\":true,\"zerolinewidth\":2},\"yaxis\":{\"gridcolor\":\"white\",\"linecolor\":\"white\",\"ticks\":\"\",\"title\":{\"standoff\":15},\"zerolinecolor\":\"white\",\"automargin\":true,\"zerolinewidth\":2},\"scene\":{\"xaxis\":{\"backgroundcolor\":\"#E5ECF6\",\"gridcolor\":\"white\",\"linecolor\":\"white\",\"showbackground\":true,\"ticks\":\"\",\"zerolinecolor\":\"white\",\"gridwidth\":2},\"yaxis\":{\"backgroundcolor\":\"#E5ECF6\",\"gridcolor\":\"white\",\"linecolor\":\"white\",\"showbackground\":true,\"ticks\":\"\",\"zerolinecolor\":\"white\",\"gridwidth\":2},\"zaxis\":{\"backgroundcolor\":\"#E5ECF6\",\"gridcolor\":\"white\",\"linecolor\":\"white\",\"showbackground\":true,\"ticks\":\"\",\"zerolinecolor\":\"white\",\"gridwidth\":2}},\"shapedefaults\":{\"line\":{\"color\":\"#2a3f5f\"}},\"annotationdefaults\":{\"arrowcolor\":\"#2a3f5f\",\"arrowhead\":0,\"arrowwidth\":1},\"geo\":{\"bgcolor\":\"white\",\"landcolor\":\"#E5ECF6\",\"subunitcolor\":\"white\",\"showland\":true,\"showlakes\":true,\"lakecolor\":\"white\"},\"title\":{\"x\":0.05},\"mapbox\":{\"style\":\"light\"}}},\"xaxis\":{\"anchor\":\"y\",\"domain\":[0.0,1.0],\"title\":{\"text\":\"index\"}},\"yaxis\":{\"anchor\":\"x\",\"domain\":[0.0,1.0],\"title\":{\"text\":\"value\"}},\"legend\":{\"title\":{\"text\":\"variable\"},\"tracegroupgap\":0},\"margin\":{\"t\":60}},                        {\"responsive\": true}                    ).then(function(){\n",
       "                            \n",
       "var gd = document.getElementById('5c2011e0-48a1-4522-8f35-08e0890763b7');\n",
       "var x = new MutationObserver(function (mutations, observer) {{\n",
       "        var display = window.getComputedStyle(gd).display;\n",
       "        if (!display || display === 'none') {{\n",
       "            console.log([gd, 'removed!']);\n",
       "            Plotly.purge(gd);\n",
       "            observer.disconnect();\n",
       "        }}\n",
       "}});\n",
       "\n",
       "// Listen for the removal of the full notebook cells\n",
       "var notebookContainer = gd.closest('#notebook-container');\n",
       "if (notebookContainer) {{\n",
       "    x.observe(notebookContainer, {childList: true});\n",
       "}}\n",
       "\n",
       "// Listen for the clearing of the current output cell\n",
       "var outputEl = gd.closest('.output');\n",
       "if (outputEl) {{\n",
       "    x.observe(outputEl, {childList: true});\n",
       "}}\n",
       "\n",
       "                        })                };                });            </script>        </div>"
      ]
     },
     "metadata": {},
     "output_type": "display_data"
    }
   ],
   "source": [
    "px.line(y=[pca.components_[i] for i in range(4)])"
   ]
  },
  {
   "cell_type": "code",
   "execution_count": 122,
   "id": "beb157aa-d19e-4d95-a6b9-b3cfbe4542e6",
   "metadata": {},
   "outputs": [
    {
     "data": {
      "application/vnd.plotly.v1+json": {
       "config": {
        "plotlyServerURL": "https://plot.ly"
       },
       "data": [
        {
         "hovertemplate": "variable=wide_variable_0<br>index=%{x}<br>value=%{y}<extra></extra>",
         "legendgroup": "wide_variable_0",
         "line": {
          "color": "#636efa",
          "dash": "solid"
         },
         "marker": {
          "symbol": "circle"
         },
         "mode": "lines",
         "name": "wide_variable_0",
         "orientation": "v",
         "showlegend": true,
         "type": "scatter",
         "x": [
          0,
          1,
          2,
          3,
          4,
          5,
          6,
          7,
          8
         ],
         "xaxis": "x",
         "y": [
          0.6295362903225806,
          0.6673387096774194,
          0.688508064516129,
          0.6769153225806451,
          0.7777217741935484,
          0.717741935483871,
          0.7565524193548387,
          0.688508064516129,
          0.7842741935483871
         ],
         "yaxis": "y"
        },
        {
         "hovertemplate": "variable=wide_variable_1<br>index=%{x}<br>value=%{y}<extra></extra>",
         "legendgroup": "wide_variable_1",
         "line": {
          "color": "#EF553B",
          "dash": "solid"
         },
         "marker": {
          "symbol": "circle"
         },
         "mode": "lines",
         "name": "wide_variable_1",
         "orientation": "v",
         "showlegend": true,
         "type": "scatter",
         "x": [
          0,
          1,
          2,
          3,
          4,
          5,
          6,
          7,
          8
         ],
         "xaxis": "x",
         "y": [
          0.6090425531914894,
          0.5877659574468085,
          0.6100398936170213,
          0.5904255319148937,
          0.648936170212766,
          0.5874335106382979,
          0.6366356382978723,
          0.5907579787234043,
          0.6446143617021277
         ],
         "yaxis": "y"
        },
        {
         "hovertemplate": "variable=wide_variable_2<br>index=%{x}<br>value=%{y}<extra></extra>",
         "legendgroup": "wide_variable_2",
         "line": {
          "color": "#00cc96",
          "dash": "solid"
         },
         "marker": {
          "symbol": "circle"
         },
         "mode": "lines",
         "name": "wide_variable_2",
         "orientation": "v",
         "showlegend": true,
         "type": "scatter",
         "x": [
          0,
          1,
          2,
          3,
          4,
          5,
          6,
          7,
          8
         ],
         "xaxis": "x",
         "y": [
          0.6259973404255319,
          0.6795212765957447,
          0.6628989361702128,
          0.645279255319149,
          0.6499335106382979,
          0.6502659574468085,
          0.6559175531914894,
          0.6545877659574468,
          0.6565824468085106
         ],
         "yaxis": "y"
        },
        {
         "hovertemplate": "variable=wide_variable_3<br>index=%{x}<br>value=%{y}<extra></extra>",
         "legendgroup": "wide_variable_3",
         "line": {
          "color": "#ab63fa",
          "dash": "solid"
         },
         "marker": {
          "symbol": "circle"
         },
         "mode": "lines",
         "name": "wide_variable_3",
         "orientation": "v",
         "showlegend": true,
         "type": "scatter",
         "x": [
          0,
          1,
          2,
          3,
          4,
          5,
          6,
          7,
          8
         ],
         "xaxis": "x",
         "y": [
          0.7293346774193549,
          0.7721774193548387,
          0.8004032258064516,
          0.8084677419354839,
          0.8180443548387096,
          0.8230846774193549,
          0.8276209677419355,
          0.8286290322580645,
          0.828125
         ],
         "yaxis": "y"
        },
        {
         "hovertemplate": "variable=wide_variable_4<br>index=%{x}<br>value=%{y}<extra></extra>",
         "legendgroup": "wide_variable_4",
         "line": {
          "color": "#FFA15A",
          "dash": "solid"
         },
         "marker": {
          "symbol": "circle"
         },
         "mode": "lines",
         "name": "wide_variable_4",
         "orientation": "v",
         "showlegend": true,
         "type": "scatter",
         "x": [
          0,
          1,
          2,
          3,
          4,
          5,
          6,
          7,
          8
         ],
         "xaxis": "x",
         "y": [
          0.6389627659574468,
          0.6449468085106383,
          0.6416223404255319,
          0.6539228723404256,
          0.6545877659574468,
          0.636968085106383,
          0.645279255319149,
          0.6496010638297872,
          0.652593085106383
         ],
         "yaxis": "y"
        },
        {
         "hovertemplate": "variable=wide_variable_5<br>index=%{x}<br>value=%{y}<extra></extra>",
         "legendgroup": "wide_variable_5",
         "line": {
          "color": "#19d3f3",
          "dash": "solid"
         },
         "marker": {
          "symbol": "circle"
         },
         "mode": "lines",
         "name": "wide_variable_5",
         "orientation": "v",
         "showlegend": true,
         "type": "scatter",
         "x": [
          0,
          1,
          2,
          3,
          4,
          5,
          6,
          7,
          8
         ],
         "xaxis": "x",
         "y": [
          0.7323588709677419,
          0.719758064516129,
          0.7283266129032258,
          0.7615927419354839,
          0.7817540322580645,
          0.7071572580645161,
          0.7585685483870968,
          0.7610887096774194,
          0.7777217741935484
         ],
         "yaxis": "y"
        },
        {
         "hovertemplate": "variable=wide_variable_6<br>index=%{x}<br>value=%{y}<extra></extra>",
         "legendgroup": "wide_variable_6",
         "line": {
          "color": "#FF6692",
          "dash": "solid"
         },
         "marker": {
          "symbol": "circle"
         },
         "mode": "lines",
         "name": "wide_variable_6",
         "orientation": "v",
         "showlegend": true,
         "type": "scatter",
         "x": [
          0,
          1,
          2,
          3,
          4,
          5,
          6,
          7,
          8
         ],
         "xaxis": "x",
         "y": [
          0.6693548387096774,
          0.6764112903225806,
          0.7111895161290323,
          0.7016129032258065,
          0.7106854838709677,
          0.7182459677419355,
          0.7162298387096774,
          0.7242943548387096,
          0.7580645161290323
         ],
         "yaxis": "y"
        },
        {
         "hovertemplate": "variable=wide_variable_7<br>index=%{x}<br>value=%{y}<extra></extra>",
         "legendgroup": "wide_variable_7",
         "line": {
          "color": "#B6E880",
          "dash": "solid"
         },
         "marker": {
          "symbol": "circle"
         },
         "mode": "lines",
         "name": "wide_variable_7",
         "orientation": "v",
         "showlegend": true,
         "type": "scatter",
         "x": [
          0,
          1,
          2,
          3,
          4,
          5,
          6,
          7,
          8
         ],
         "xaxis": "x",
         "y": [
          0.8019153225806451,
          0.8069556451612904,
          0.8200604838709677,
          0.8200604838709677,
          0.8240927419354839,
          0.829133064516129,
          0.8518145161290323,
          0.8336693548387096,
          0.842741935483871
         ],
         "yaxis": "y"
        },
        {
         "hovertemplate": "variable=wide_variable_8<br>index=%{x}<br>value=%{y}<extra></extra>",
         "legendgroup": "wide_variable_8",
         "line": {
          "color": "#FF97FF",
          "dash": "solid"
         },
         "marker": {
          "symbol": "circle"
         },
         "mode": "lines",
         "name": "wide_variable_8",
         "orientation": "v",
         "showlegend": true,
         "type": "scatter",
         "x": [
          0,
          1,
          2,
          3,
          4,
          5,
          6,
          7,
          8
         ],
         "xaxis": "x",
         "y": [
          0.6559175531914894,
          0.6462765957446809,
          0.6389627659574468,
          0.6466090425531915,
          0.6775265957446809,
          0.6399601063829787,
          0.6545877659574468,
          0.6612367021276596,
          0.6559175531914894
         ],
         "yaxis": "y"
        },
        {
         "hovertemplate": "variable=wide_variable_9<br>index=%{x}<br>value=%{y}<extra></extra>",
         "legendgroup": "wide_variable_9",
         "line": {
          "color": "#FECB52",
          "dash": "solid"
         },
         "marker": {
          "symbol": "circle"
         },
         "mode": "lines",
         "name": "wide_variable_9",
         "orientation": "v",
         "showlegend": true,
         "type": "scatter",
         "x": [
          0,
          1,
          2,
          3,
          4,
          5,
          6,
          7,
          8
         ],
         "xaxis": "x",
         "y": [
          0.8296370967741935,
          0.8366935483870968,
          0.8366935483870968,
          0.8472782258064516,
          0.8503024193548387,
          0.8533266129032258,
          0.8452620967741935,
          0.8412298387096774,
          0.8523185483870968
         ],
         "yaxis": "y"
        },
        {
         "hovertemplate": "variable=wide_variable_10<br>index=%{x}<br>value=%{y}<extra></extra>",
         "legendgroup": "wide_variable_10",
         "line": {
          "color": "#636efa",
          "dash": "solid"
         },
         "marker": {
          "symbol": "circle"
         },
         "mode": "lines",
         "name": "wide_variable_10",
         "orientation": "v",
         "showlegend": true,
         "type": "scatter",
         "x": [
          0,
          1,
          2,
          3,
          4,
          5,
          6,
          7,
          8
         ],
         "xaxis": "x",
         "y": [
          0.5757978723404256,
          0.6389627659574468,
          0.635970744680851,
          0.6170212765957447,
          0.6060505319148937,
          0.6496010638297872,
          0.644281914893617,
          0.6502659574468085,
          0.628656914893617
         ],
         "yaxis": "y"
        },
        {
         "hovertemplate": "variable=wide_variable_11<br>index=%{x}<br>value=%{y}<extra></extra>",
         "legendgroup": "wide_variable_11",
         "line": {
          "color": "#EF553B",
          "dash": "solid"
         },
         "marker": {
          "symbol": "circle"
         },
         "mode": "lines",
         "name": "wide_variable_11",
         "orientation": "v",
         "showlegend": true,
         "type": "scatter",
         "x": [
          0,
          1,
          2,
          3,
          4,
          5,
          6,
          7,
          8
         ],
         "xaxis": "x",
         "y": [
          0.8230846774193549,
          0.8341733870967742,
          0.8235887096774194,
          0.8306451612903226,
          0.8175403225806451,
          0.8361895161290323,
          0.8397177419354839,
          0.8533266129032258,
          0.8623991935483871
         ],
         "yaxis": "y"
        },
        {
         "hovertemplate": "variable=wide_variable_12<br>index=%{x}<br>value=%{y}<extra></extra>",
         "legendgroup": "wide_variable_12",
         "line": {
          "color": "#00cc96",
          "dash": "solid"
         },
         "marker": {
          "symbol": "circle"
         },
         "mode": "lines",
         "name": "wide_variable_12",
         "orientation": "v",
         "showlegend": true,
         "type": "scatter",
         "x": [
          0,
          1,
          2,
          3,
          4,
          5,
          6,
          7,
          8
         ],
         "xaxis": "x",
         "y": [
          0.8084677419354839,
          0.8240927419354839,
          0.8256048387096774,
          0.8150201612903226,
          0.842741935483871,
          0.84375,
          0.8301411290322581,
          0.8301411290322581,
          0.84375
         ],
         "yaxis": "y"
        },
        {
         "hovertemplate": "variable=wide_variable_13<br>index=%{x}<br>value=%{y}<extra></extra>",
         "legendgroup": "wide_variable_13",
         "line": {
          "color": "#ab63fa",
          "dash": "solid"
         },
         "marker": {
          "symbol": "circle"
         },
         "mode": "lines",
         "name": "wide_variable_13",
         "orientation": "v",
         "showlegend": true,
         "type": "scatter",
         "x": [
          0,
          1,
          2,
          3,
          4,
          5,
          6,
          7,
          8
         ],
         "xaxis": "x",
         "y": [
          0.7752016129032258,
          0.8230846774193549,
          0.8009072580645161,
          0.8452620967741935,
          0.8382056451612904,
          0.8392137096774194,
          0.8724798387096774,
          0.8397177419354839,
          0.8361895161290323
         ],
         "yaxis": "y"
        },
        {
         "hovertemplate": "variable=wide_variable_14<br>index=%{x}<br>value=%{y}<extra></extra>",
         "legendgroup": "wide_variable_14",
         "line": {
          "color": "#FFA15A",
          "dash": "solid"
         },
         "marker": {
          "symbol": "circle"
         },
         "mode": "lines",
         "name": "wide_variable_14",
         "orientation": "v",
         "showlegend": true,
         "type": "scatter",
         "x": [
          0,
          1,
          2,
          3,
          4,
          5,
          6,
          7,
          8
         ],
         "xaxis": "x",
         "y": [
          0.8170362903225806,
          0.8104838709677419,
          0.8150201612903226,
          0.8296370967741935,
          0.8311491935483871,
          0.8301411290322581,
          0.8351814516129032,
          0.8563508064516129,
          0.8528225806451613
         ],
         "yaxis": "y"
        },
        {
         "hovertemplate": "variable=wide_variable_15<br>index=%{x}<br>value=%{y}<extra></extra>",
         "legendgroup": "wide_variable_15",
         "line": {
          "color": "#19d3f3",
          "dash": "solid"
         },
         "marker": {
          "symbol": "circle"
         },
         "mode": "lines",
         "name": "wide_variable_15",
         "orientation": "v",
         "showlegend": true,
         "type": "scatter",
         "x": [
          0,
          1,
          2,
          3,
          4,
          5,
          6,
          7,
          8
         ],
         "xaxis": "x",
         "y": [
          0.8361895161290323,
          0.8452620967741935,
          0.8185483870967742,
          0.8306451612903226,
          0.8462701612903226,
          0.8709677419354839,
          0.8523185483870968,
          0.8649193548387096,
          0.8598790322580645
         ],
         "yaxis": "y"
        },
        {
         "hovertemplate": "variable=wide_variable_16<br>index=%{x}<br>value=%{y}<extra></extra>",
         "legendgroup": "wide_variable_16",
         "line": {
          "color": "#FF6692",
          "dash": "solid"
         },
         "marker": {
          "symbol": "circle"
         },
         "mode": "lines",
         "name": "wide_variable_16",
         "orientation": "v",
         "showlegend": true,
         "type": "scatter",
         "x": [
          0,
          1,
          2,
          3,
          4,
          5,
          6,
          7,
          8
         ],
         "xaxis": "x",
         "y": [
          0.8029233870967742,
          0.796875,
          0.8084677419354839,
          0.8170362903225806,
          0.8049395161290323,
          0.8276209677419355,
          0.8417338709677419,
          0.827116935483871,
          0.8361895161290323
         ],
         "yaxis": "y"
        },
        {
         "hovertemplate": "variable=wide_variable_17<br>index=%{x}<br>value=%{y}<extra></extra>",
         "legendgroup": "wide_variable_17",
         "line": {
          "color": "#B6E880",
          "dash": "solid"
         },
         "marker": {
          "symbol": "circle"
         },
         "mode": "lines",
         "name": "wide_variable_17",
         "orientation": "v",
         "showlegend": true,
         "type": "scatter",
         "x": [
          0,
          1,
          2,
          3,
          4,
          5,
          6,
          7,
          8
         ],
         "xaxis": "x",
         "y": [
          0.7817540322580645,
          0.8150201612903226,
          0.7807459677419355,
          0.8296370967741935,
          0.8145161290322581,
          0.842741935483871,
          0.8205645161290323,
          0.8306451612903226,
          0.842741935483871
         ],
         "yaxis": "y"
        },
        {
         "hovertemplate": "variable=wide_variable_18<br>index=%{x}<br>value=%{y}<extra></extra>",
         "legendgroup": "wide_variable_18",
         "line": {
          "color": "#FF97FF",
          "dash": "solid"
         },
         "marker": {
          "symbol": "circle"
         },
         "mode": "lines",
         "name": "wide_variable_18",
         "orientation": "v",
         "showlegend": true,
         "type": "scatter",
         "x": [
          0,
          1,
          2,
          3,
          4,
          5,
          6,
          7,
          8
         ],
         "xaxis": "x",
         "y": [
          0.6441532258064516,
          0.7368951612903226,
          0.7520161290322581,
          0.7555443548387096,
          0.766633064516129,
          0.7676411290322581,
          0.782258064516129,
          0.7731854838709677,
          0.7590725806451613
         ],
         "yaxis": "y"
        },
        {
         "hovertemplate": "variable=wide_variable_19<br>index=%{x}<br>value=%{y}<extra></extra>",
         "legendgroup": "wide_variable_19",
         "line": {
          "color": "#FECB52",
          "dash": "solid"
         },
         "marker": {
          "symbol": "circle"
         },
         "mode": "lines",
         "name": "wide_variable_19",
         "orientation": "v",
         "showlegend": true,
         "type": "scatter",
         "x": [
          0,
          1,
          2,
          3,
          4,
          5,
          6,
          7,
          8
         ],
         "xaxis": "x",
         "y": [
          0.7409274193548387,
          0.7908266129032258,
          0.7807459677419355,
          0.7772177419354839,
          0.7938508064516129,
          0.6839717741935484,
          0.7419354838709677,
          0.6759072580645161,
          0.6774193548387096
         ],
         "yaxis": "y"
        },
        {
         "hovertemplate": "variable=wide_variable_20<br>index=%{x}<br>value=%{y}<extra></extra>",
         "legendgroup": "wide_variable_20",
         "line": {
          "color": "#636efa",
          "dash": "solid"
         },
         "marker": {
          "symbol": "circle"
         },
         "mode": "lines",
         "name": "wide_variable_20",
         "orientation": "v",
         "showlegend": true,
         "type": "scatter",
         "x": [
          0,
          1,
          2,
          3,
          4,
          5,
          6,
          7,
          8
         ],
         "xaxis": "x",
         "y": [
          0.7988911290322581,
          0.7903225806451613,
          0.7580645161290323,
          0.7893145161290323,
          0.8079637096774194,
          0.8442540322580645,
          0.8467741935483871,
          0.8150201612903226,
          0.8195564516129032
         ],
         "yaxis": "y"
        },
        {
         "hovertemplate": "variable=wide_variable_21<br>index=%{x}<br>value=%{y}<extra></extra>",
         "legendgroup": "wide_variable_21",
         "line": {
          "color": "#EF553B",
          "dash": "solid"
         },
         "marker": {
          "symbol": "circle"
         },
         "mode": "lines",
         "name": "wide_variable_21",
         "orientation": "v",
         "showlegend": true,
         "type": "scatter",
         "x": [
          0,
          1,
          2,
          3,
          4,
          5,
          6,
          7,
          8
         ],
         "xaxis": "x",
         "y": [
          0.8200604838709677,
          0.8240927419354839,
          0.8175403225806451,
          0.7636088709677419,
          0.8125,
          0.7908266129032258,
          0.8508064516129032,
          0.8387096774193549,
          0.8523185483870968
         ],
         "yaxis": "y"
        },
        {
         "hovertemplate": "variable=wide_variable_22<br>index=%{x}<br>value=%{y}<extra></extra>",
         "legendgroup": "wide_variable_22",
         "line": {
          "color": "#00cc96",
          "dash": "solid"
         },
         "marker": {
          "symbol": "circle"
         },
         "mode": "lines",
         "name": "wide_variable_22",
         "orientation": "v",
         "showlegend": true,
         "type": "scatter",
         "x": [
          0,
          1,
          2,
          3,
          4,
          5,
          6,
          7,
          8
         ],
         "xaxis": "x",
         "y": [
          0.7817540322580645,
          0.8261088709677419,
          0.8165322580645161,
          0.8417338709677419,
          0.8286290322580645,
          0.8412298387096774,
          0.8387096774193549,
          0.8417338709677419,
          0.8371975806451613
         ],
         "yaxis": "y"
        },
        {
         "hovertemplate": "variable=wide_variable_23<br>index=%{x}<br>value=%{y}<extra></extra>",
         "legendgroup": "wide_variable_23",
         "line": {
          "color": "#ab63fa",
          "dash": "solid"
         },
         "marker": {
          "symbol": "circle"
         },
         "mode": "lines",
         "name": "wide_variable_23",
         "orientation": "v",
         "showlegend": true,
         "type": "scatter",
         "x": [
          0,
          1,
          2,
          3,
          4,
          5,
          6,
          7,
          8
         ],
         "xaxis": "x",
         "y": [
          0.8200604838709677,
          0.8346774193548387,
          0.8150201612903226,
          0.7842741935483871,
          0.842741935483871,
          0.8487903225806451,
          0.8261088709677419,
          0.8533266129032258,
          0.8523185483870968
         ],
         "yaxis": "y"
        },
        {
         "hovertemplate": "variable=wide_variable_24<br>index=%{x}<br>value=%{y}<extra></extra>",
         "legendgroup": "wide_variable_24",
         "line": {
          "color": "#FFA15A",
          "dash": "solid"
         },
         "marker": {
          "symbol": "circle"
         },
         "mode": "lines",
         "name": "wide_variable_24",
         "orientation": "v",
         "showlegend": true,
         "type": "scatter",
         "x": [
          0,
          1,
          2,
          3,
          4,
          5,
          6,
          7,
          8
         ],
         "xaxis": "x",
         "y": [
          0.8180443548387096,
          0.8195564516129032,
          0.8316532258064516,
          0.8432459677419355,
          0.8356854838709677,
          0.8553427419354839,
          0.8170362903225806,
          0.8528225806451613,
          0.8634072580645161
         ],
         "yaxis": "y"
        },
        {
         "hovertemplate": "variable=wide_variable_25<br>index=%{x}<br>value=%{y}<extra></extra>",
         "legendgroup": "wide_variable_25",
         "line": {
          "color": "#19d3f3",
          "dash": "solid"
         },
         "marker": {
          "symbol": "circle"
         },
         "mode": "lines",
         "name": "wide_variable_25",
         "orientation": "v",
         "showlegend": true,
         "type": "scatter",
         "x": [
          0,
          1,
          2,
          3,
          4,
          5,
          6,
          7,
          8
         ],
         "xaxis": "x",
         "y": [
          0.7767137096774194,
          0.7807459677419355,
          0.7872983870967742,
          0.7676411290322581,
          0.8079637096774194,
          0.8457661290322581,
          0.8467741935483871,
          0.8422379032258065,
          0.8371975806451613
         ],
         "yaxis": "y"
        },
        {
         "hovertemplate": "variable=wide_variable_26<br>index=%{x}<br>value=%{y}<extra></extra>",
         "legendgroup": "wide_variable_26",
         "line": {
          "color": "#FF6692",
          "dash": "solid"
         },
         "marker": {
          "symbol": "circle"
         },
         "mode": "lines",
         "name": "wide_variable_26",
         "orientation": "v",
         "showlegend": true,
         "type": "scatter",
         "x": [
          0,
          1,
          2,
          3,
          4,
          5,
          6,
          7,
          8
         ],
         "xaxis": "x",
         "y": [
          0.6589095744680851,
          0.6728723404255319,
          0.6502659574468085,
          0.6542553191489362,
          0.668218085106383,
          0.6565824468085106,
          0.6848404255319149,
          0.6715425531914894,
          0.6785239361702128
         ],
         "yaxis": "y"
        },
        {
         "hovertemplate": "variable=wide_variable_27<br>index=%{x}<br>value=%{y}<extra></extra>",
         "legendgroup": "wide_variable_27",
         "line": {
          "color": "#B6E880",
          "dash": "solid"
         },
         "marker": {
          "symbol": "circle"
         },
         "mode": "lines",
         "name": "wide_variable_27",
         "orientation": "v",
         "showlegend": true,
         "type": "scatter",
         "x": [
          0,
          1,
          2,
          3,
          4,
          5,
          6,
          7,
          8
         ],
         "xaxis": "x",
         "y": [
          0.7273185483870968,
          0.7661290322580645,
          0.7762096774193549,
          0.7610887096774194,
          0.7903225806451613,
          0.7258064516129032,
          0.7807459677419355,
          0.766633064516129,
          0.8019153225806451
         ],
         "yaxis": "y"
        },
        {
         "hovertemplate": "variable=wide_variable_28<br>index=%{x}<br>value=%{y}<extra></extra>",
         "legendgroup": "wide_variable_28",
         "line": {
          "color": "#FF97FF",
          "dash": "solid"
         },
         "marker": {
          "symbol": "circle"
         },
         "mode": "lines",
         "name": "wide_variable_28",
         "orientation": "v",
         "showlegend": true,
         "type": "scatter",
         "x": [
          0,
          1,
          2,
          3,
          4,
          5,
          6,
          7,
          8
         ],
         "xaxis": "x",
         "y": [
          0.7741935483870968,
          0.8296370967741935,
          0.8064516129032258,
          0.8422379032258065,
          0.8049395161290323,
          0.8286290322580645,
          0.8311491935483871,
          0.8326612903225806,
          0.8336693548387096
         ],
         "yaxis": "y"
        },
        {
         "hovertemplate": "variable=wide_variable_29<br>index=%{x}<br>value=%{y}<extra></extra>",
         "legendgroup": "wide_variable_29",
         "line": {
          "color": "#FECB52",
          "dash": "solid"
         },
         "marker": {
          "symbol": "circle"
         },
         "mode": "lines",
         "name": "wide_variable_29",
         "orientation": "v",
         "showlegend": true,
         "type": "scatter",
         "x": [
          0,
          1,
          2,
          3,
          4,
          5,
          6,
          7,
          8
         ],
         "xaxis": "x",
         "y": [
          0.7253024193548387,
          0.7494959677419355,
          0.7792338709677419,
          0.7615927419354839,
          0.7525201612903226,
          0.7605846774193549,
          0.7903225806451613,
          0.7827620967741935,
          0.7762096774193549
         ],
         "yaxis": "y"
        },
        {
         "hovertemplate": "variable=wide_variable_30<br>index=%{x}<br>value=%{y}<extra></extra>",
         "legendgroup": "wide_variable_30",
         "line": {
          "color": "#636efa",
          "dash": "solid"
         },
         "marker": {
          "symbol": "circle"
         },
         "mode": "lines",
         "name": "wide_variable_30",
         "orientation": "v",
         "showlegend": true,
         "type": "scatter",
         "x": [
          0,
          1,
          2,
          3,
          4,
          5,
          6,
          7,
          8
         ],
         "xaxis": "x",
         "y": [
          0.8069556451612904,
          0.8225806451612904,
          0.7862903225806451,
          0.8407258064516129,
          0.8412298387096774,
          0.8523185483870968,
          0.8729838709677419,
          0.8538306451612904,
          0.8523185483870968
         ],
         "yaxis": "y"
        },
        {
         "hovertemplate": "variable=wide_variable_31<br>index=%{x}<br>value=%{y}<extra></extra>",
         "legendgroup": "wide_variable_31",
         "line": {
          "color": "#EF553B",
          "dash": "solid"
         },
         "marker": {
          "symbol": "circle"
         },
         "mode": "lines",
         "name": "wide_variable_31",
         "orientation": "v",
         "showlegend": true,
         "type": "scatter",
         "x": [
          0,
          1,
          2,
          3,
          4,
          5,
          6,
          7,
          8
         ],
         "xaxis": "x",
         "y": [
          0.8407258064516129,
          0.8039314516129032,
          0.8336693548387096,
          0.8503024193548387,
          0.842741935483871,
          0.8513104838709677,
          0.8508064516129032,
          0.8256048387096774,
          0.875
         ],
         "yaxis": "y"
        },
        {
         "hovertemplate": "variable=wide_variable_32<br>index=%{x}<br>value=%{y}<extra></extra>",
         "legendgroup": "wide_variable_32",
         "line": {
          "color": "#00cc96",
          "dash": "solid"
         },
         "marker": {
          "symbol": "circle"
         },
         "mode": "lines",
         "name": "wide_variable_32",
         "orientation": "v",
         "showlegend": true,
         "type": "scatter",
         "x": [
          0,
          1,
          2,
          3,
          4,
          5,
          6,
          7,
          8
         ],
         "xaxis": "x",
         "y": [
          0.7399193548387096,
          0.7872983870967742,
          0.7933467741935484,
          0.7752016129032258,
          0.7837701612903226,
          0.7746975806451613,
          0.7832661290322581,
          0.7651209677419355,
          0.813508064516129
         ],
         "yaxis": "y"
        },
        {
         "hovertemplate": "variable=wide_variable_33<br>index=%{x}<br>value=%{y}<extra></extra>",
         "legendgroup": "wide_variable_33",
         "line": {
          "color": "#ab63fa",
          "dash": "solid"
         },
         "marker": {
          "symbol": "circle"
         },
         "mode": "lines",
         "name": "wide_variable_33",
         "orientation": "v",
         "showlegend": true,
         "type": "scatter",
         "x": [
          0,
          1,
          2,
          3,
          4,
          5,
          6,
          7,
          8
         ],
         "xaxis": "x",
         "y": [
          0.7263104838709677,
          0.7505040322580645,
          0.764616935483871,
          0.7883064516129032,
          0.7847782258064516,
          0.7963709677419355,
          0.71875,
          0.7842741935483871,
          0.7792338709677419
         ],
         "yaxis": "y"
        },
        {
         "hovertemplate": "variable=wide_variable_34<br>index=%{x}<br>value=%{y}<extra></extra>",
         "legendgroup": "wide_variable_34",
         "line": {
          "color": "#FFA15A",
          "dash": "solid"
         },
         "marker": {
          "symbol": "circle"
         },
         "mode": "lines",
         "name": "wide_variable_34",
         "orientation": "v",
         "showlegend": true,
         "type": "scatter",
         "x": [
          0,
          1,
          2,
          3,
          4,
          5,
          6,
          7,
          8
         ],
         "xaxis": "x",
         "y": [
          0.7253024193548387,
          0.7615927419354839,
          0.7681451612903226,
          0.7963709677419355,
          0.7787298387096774,
          0.8094758064516129,
          0.8049395161290323,
          0.7752016129032258,
          0.7550403225806451
         ],
         "yaxis": "y"
        },
        {
         "hovertemplate": "variable=wide_variable_35<br>index=%{x}<br>value=%{y}<extra></extra>",
         "legendgroup": "wide_variable_35",
         "line": {
          "color": "#19d3f3",
          "dash": "solid"
         },
         "marker": {
          "symbol": "circle"
         },
         "mode": "lines",
         "name": "wide_variable_35",
         "orientation": "v",
         "showlegend": true,
         "type": "scatter",
         "x": [
          0,
          1,
          2,
          3,
          4,
          5,
          6,
          7,
          8
         ],
         "xaxis": "x",
         "y": [
          0.5821572580645161,
          0.6436491935483871,
          0.7182459677419355,
          0.7368951612903226,
          0.7454637096774194,
          0.7348790322580645,
          0.7626008064516129,
          0.7605846774193549,
          0.7575604838709677
         ],
         "yaxis": "y"
        },
        {
         "hovertemplate": "variable=wide_variable_36<br>index=%{x}<br>value=%{y}<extra></extra>",
         "legendgroup": "wide_variable_36",
         "line": {
          "color": "#FF6692",
          "dash": "solid"
         },
         "marker": {
          "symbol": "circle"
         },
         "mode": "lines",
         "name": "wide_variable_36",
         "orientation": "v",
         "showlegend": true,
         "type": "scatter",
         "x": [
          0,
          1,
          2,
          3,
          4,
          5,
          6,
          7,
          8
         ],
         "xaxis": "x",
         "y": [
          0.827116935483871,
          0.8432459677419355,
          0.8371975806451613,
          0.828125,
          0.8462701612903226,
          0.8503024193548387,
          0.8175403225806451,
          0.8523185483870968,
          0.8356854838709677
         ],
         "yaxis": "y"
        },
        {
         "hovertemplate": "variable=wide_variable_37<br>index=%{x}<br>value=%{y}<extra></extra>",
         "legendgroup": "wide_variable_37",
         "line": {
          "color": "#B6E880",
          "dash": "solid"
         },
         "marker": {
          "symbol": "circle"
         },
         "mode": "lines",
         "name": "wide_variable_37",
         "orientation": "v",
         "showlegend": true,
         "type": "scatter",
         "x": [
          0,
          1,
          2,
          3,
          4,
          5,
          6,
          7,
          8
         ],
         "xaxis": "x",
         "y": [
          0.7565524193548387,
          0.8210685483870968,
          0.7731854838709677,
          0.7167338709677419,
          0.5897177419354839,
          0.7807459677419355,
          0.797883064516129,
          0.765625,
          0.8024193548387096
         ],
         "yaxis": "y"
        },
        {
         "hovertemplate": "variable=wide_variable_38<br>index=%{x}<br>value=%{y}<extra></extra>",
         "legendgroup": "wide_variable_38",
         "line": {
          "color": "#FF97FF",
          "dash": "solid"
         },
         "marker": {
          "symbol": "circle"
         },
         "mode": "lines",
         "name": "wide_variable_38",
         "orientation": "v",
         "showlegend": true,
         "type": "scatter",
         "x": [
          0,
          1,
          2,
          3,
          4,
          5,
          6,
          7,
          8
         ],
         "xaxis": "x",
         "y": [
          0.829133064516129,
          0.828125,
          0.8185483870967742,
          0.8497983870967742,
          0.8704637096774194,
          0.8467741935483871,
          0.8503024193548387,
          0.8452620967741935,
          0.8785282258064516
         ],
         "yaxis": "y"
        },
        {
         "hovertemplate": "variable=wide_variable_39<br>index=%{x}<br>value=%{y}<extra></extra>",
         "legendgroup": "wide_variable_39",
         "line": {
          "color": "#FECB52",
          "dash": "solid"
         },
         "marker": {
          "symbol": "circle"
         },
         "mode": "lines",
         "name": "wide_variable_39",
         "orientation": "v",
         "showlegend": true,
         "type": "scatter",
         "x": [
          0,
          1,
          2,
          3,
          4,
          5,
          6,
          7,
          8
         ],
         "xaxis": "x",
         "y": [
          0.7540322580645161,
          0.7903225806451613,
          0.7787298387096774,
          0.7842741935483871,
          0.8079637096774194,
          0.7817540322580645,
          0.8230846774193549,
          0.8150201612903226,
          0.8397177419354839
         ],
         "yaxis": "y"
        },
        {
         "hovertemplate": "variable=wide_variable_40<br>index=%{x}<br>value=%{y}<extra></extra>",
         "legendgroup": "wide_variable_40",
         "line": {
          "color": "#636efa",
          "dash": "solid"
         },
         "marker": {
          "symbol": "circle"
         },
         "mode": "lines",
         "name": "wide_variable_40",
         "orientation": "v",
         "showlegend": true,
         "type": "scatter",
         "x": [
          0,
          1,
          2,
          3,
          4,
          5,
          6,
          7,
          8
         ],
         "xaxis": "x",
         "y": [
          0.6582661290322581,
          0.6824596774193549,
          0.6980846774193549,
          0.6950604838709677,
          0.7101814516129032,
          0.7091733870967742,
          0.7076612903225806,
          0.7116935483870968,
          0.7227822580645161
         ],
         "yaxis": "y"
        },
        {
         "hovertemplate": "variable=wide_variable_41<br>index=%{x}<br>value=%{y}<extra></extra>",
         "legendgroup": "wide_variable_41",
         "line": {
          "color": "#EF553B",
          "dash": "solid"
         },
         "marker": {
          "symbol": "circle"
         },
         "mode": "lines",
         "name": "wide_variable_41",
         "orientation": "v",
         "showlegend": true,
         "type": "scatter",
         "x": [
          0,
          1,
          2,
          3,
          4,
          5,
          6,
          7,
          8
         ],
         "xaxis": "x",
         "y": [
          0.795866935483871,
          0.796875,
          0.8276209677419355,
          0.827116935483871,
          0.8361895161290323,
          0.8422379032258065,
          0.8256048387096774,
          0.827116935483871,
          0.8417338709677419
         ],
         "yaxis": "y"
        },
        {
         "hovertemplate": "variable=wide_variable_42<br>index=%{x}<br>value=%{y}<extra></extra>",
         "legendgroup": "wide_variable_42",
         "line": {
          "color": "#00cc96",
          "dash": "solid"
         },
         "marker": {
          "symbol": "circle"
         },
         "mode": "lines",
         "name": "wide_variable_42",
         "orientation": "v",
         "showlegend": true,
         "type": "scatter",
         "x": [
          0,
          1,
          2,
          3,
          4,
          5,
          6,
          7,
          8
         ],
         "xaxis": "x",
         "y": [
          0.7414314516129032,
          0.8165322580645161,
          0.7832661290322581,
          0.7686491935483871,
          0.7993951612903226,
          0.8286290322580645,
          0.827116935483871,
          0.7550403225806451,
          0.8059475806451613
         ],
         "yaxis": "y"
        },
        {
         "hovertemplate": "variable=wide_variable_43<br>index=%{x}<br>value=%{y}<extra></extra>",
         "legendgroup": "wide_variable_43",
         "line": {
          "color": "#ab63fa",
          "dash": "solid"
         },
         "marker": {
          "symbol": "circle"
         },
         "mode": "lines",
         "name": "wide_variable_43",
         "orientation": "v",
         "showlegend": true,
         "type": "scatter",
         "x": [
          0,
          1,
          2,
          3,
          4,
          5,
          6,
          7,
          8
         ],
         "xaxis": "x",
         "y": [
          0.782258064516129,
          0.795866935483871,
          0.7797379032258065,
          0.7540322580645161,
          0.7797379032258065,
          0.7610887096774194,
          0.7913306451612904,
          0.8195564516129032,
          0.8084677419354839
         ],
         "yaxis": "y"
        },
        {
         "hovertemplate": "variable=wide_variable_44<br>index=%{x}<br>value=%{y}<extra></extra>",
         "legendgroup": "wide_variable_44",
         "line": {
          "color": "#FFA15A",
          "dash": "solid"
         },
         "marker": {
          "symbol": "circle"
         },
         "mode": "lines",
         "name": "wide_variable_44",
         "orientation": "v",
         "showlegend": true,
         "type": "scatter",
         "x": [
          0,
          1,
          2,
          3,
          4,
          5,
          6,
          7,
          8
         ],
         "xaxis": "x",
         "y": [
          0.7474798387096774,
          0.7878024193548387,
          0.8140120967741935,
          0.8220766129032258,
          0.8019153225806451,
          0.7983870967741935,
          0.8296370967741935,
          0.8004032258064516,
          0.8225806451612904
         ],
         "yaxis": "y"
        },
        {
         "hovertemplate": "variable=wide_variable_45<br>index=%{x}<br>value=%{y}<extra></extra>",
         "legendgroup": "wide_variable_45",
         "line": {
          "color": "#19d3f3",
          "dash": "solid"
         },
         "marker": {
          "symbol": "circle"
         },
         "mode": "lines",
         "name": "wide_variable_45",
         "orientation": "v",
         "showlegend": true,
         "type": "scatter",
         "x": [
          0,
          1,
          2,
          3,
          4,
          5,
          6,
          7,
          8
         ],
         "xaxis": "x",
         "y": [
          0.7560483870967742,
          0.7832661290322581,
          0.7938508064516129,
          0.860383064516129,
          0.8452620967741935,
          0.8714717741935484,
          0.8664314516129032,
          0.8276209677419355,
          0.860383064516129
         ],
         "yaxis": "y"
        },
        {
         "hovertemplate": "variable=wide_variable_46<br>index=%{x}<br>value=%{y}<extra></extra>",
         "legendgroup": "wide_variable_46",
         "line": {
          "color": "#FF6692",
          "dash": "solid"
         },
         "marker": {
          "symbol": "circle"
         },
         "mode": "lines",
         "name": "wide_variable_46",
         "orientation": "v",
         "showlegend": true,
         "type": "scatter",
         "x": [
          0,
          1,
          2,
          3,
          4,
          5,
          6,
          7,
          8
         ],
         "xaxis": "x",
         "y": [
          0.8079637096774194,
          0.8130040322580645,
          0.8230846774193549,
          0.8125,
          0.8256048387096774,
          0.8356854838709677,
          0.8346774193548387,
          0.8533266129032258,
          0.8407258064516129
         ],
         "yaxis": "y"
        },
        {
         "hovertemplate": "variable=wide_variable_47<br>index=%{x}<br>value=%{y}<extra></extra>",
         "legendgroup": "wide_variable_47",
         "line": {
          "color": "#B6E880",
          "dash": "solid"
         },
         "marker": {
          "symbol": "circle"
         },
         "mode": "lines",
         "name": "wide_variable_47",
         "orientation": "v",
         "showlegend": true,
         "type": "scatter",
         "x": [
          0,
          1,
          2,
          3,
          4,
          5,
          6,
          7,
          8
         ],
         "xaxis": "x",
         "y": [
          0.8044354838709677,
          0.8049395161290323,
          0.8230846774193549,
          0.8316532258064516,
          0.8361895161290323,
          0.8422379032258065,
          0.8180443548387096,
          0.8407258064516129,
          0.8321572580645161
         ],
         "yaxis": "y"
        },
        {
         "hovertemplate": "variable=wide_variable_48<br>index=%{x}<br>value=%{y}<extra></extra>",
         "legendgroup": "wide_variable_48",
         "line": {
          "color": "#FF97FF",
          "dash": "solid"
         },
         "marker": {
          "symbol": "circle"
         },
         "mode": "lines",
         "name": "wide_variable_48",
         "orientation": "v",
         "showlegend": true,
         "type": "scatter",
         "x": [
          0,
          1,
          2,
          3,
          4,
          5,
          6,
          7,
          8
         ],
         "xaxis": "x",
         "y": [
          0.8029233870967742,
          0.8079637096774194,
          0.8200604838709677,
          0.8014112903225806,
          0.7888104838709677,
          0.8316532258064516,
          0.8079637096774194,
          0.8377016129032258,
          0.8029233870967742
         ],
         "yaxis": "y"
        },
        {
         "hovertemplate": "variable=wide_variable_49<br>index=%{x}<br>value=%{y}<extra></extra>",
         "legendgroup": "wide_variable_49",
         "line": {
          "color": "#FECB52",
          "dash": "solid"
         },
         "marker": {
          "symbol": "circle"
         },
         "mode": "lines",
         "name": "wide_variable_49",
         "orientation": "v",
         "showlegend": true,
         "type": "scatter",
         "x": [
          0,
          1,
          2,
          3,
          4,
          5,
          6,
          7,
          8
         ],
         "xaxis": "x",
         "y": [
          0.7631048387096774,
          0.7872983870967742,
          0.7953629032258065,
          0.7993951612903226,
          0.7862903225806451,
          0.7293346774193549,
          0.7913306451612904,
          0.7540322580645161,
          0.7782258064516129
         ],
         "yaxis": "y"
        }
       ],
       "layout": {
        "autosize": true,
        "legend": {
         "title": {
          "text": "variable"
         },
         "tracegroupgap": 0
        },
        "margin": {
         "t": 60
        },
        "template": {
         "data": {
          "bar": [
           {
            "error_x": {
             "color": "#2a3f5f"
            },
            "error_y": {
             "color": "#2a3f5f"
            },
            "marker": {
             "line": {
              "color": "#E5ECF6",
              "width": 0.5
             },
             "pattern": {
              "fillmode": "overlay",
              "size": 10,
              "solidity": 0.2
             }
            },
            "type": "bar"
           }
          ],
          "barpolar": [
           {
            "marker": {
             "line": {
              "color": "#E5ECF6",
              "width": 0.5
             },
             "pattern": {
              "fillmode": "overlay",
              "size": 10,
              "solidity": 0.2
             }
            },
            "type": "barpolar"
           }
          ],
          "carpet": [
           {
            "aaxis": {
             "endlinecolor": "#2a3f5f",
             "gridcolor": "white",
             "linecolor": "white",
             "minorgridcolor": "white",
             "startlinecolor": "#2a3f5f"
            },
            "baxis": {
             "endlinecolor": "#2a3f5f",
             "gridcolor": "white",
             "linecolor": "white",
             "minorgridcolor": "white",
             "startlinecolor": "#2a3f5f"
            },
            "type": "carpet"
           }
          ],
          "choropleth": [
           {
            "colorbar": {
             "outlinewidth": 0,
             "ticks": ""
            },
            "type": "choropleth"
           }
          ],
          "contour": [
           {
            "colorbar": {
             "outlinewidth": 0,
             "ticks": ""
            },
            "colorscale": [
             [
              0,
              "#0d0887"
             ],
             [
              0.1111111111111111,
              "#46039f"
             ],
             [
              0.2222222222222222,
              "#7201a8"
             ],
             [
              0.3333333333333333,
              "#9c179e"
             ],
             [
              0.4444444444444444,
              "#bd3786"
             ],
             [
              0.5555555555555556,
              "#d8576b"
             ],
             [
              0.6666666666666666,
              "#ed7953"
             ],
             [
              0.7777777777777778,
              "#fb9f3a"
             ],
             [
              0.8888888888888888,
              "#fdca26"
             ],
             [
              1,
              "#f0f921"
             ]
            ],
            "type": "contour"
           }
          ],
          "contourcarpet": [
           {
            "colorbar": {
             "outlinewidth": 0,
             "ticks": ""
            },
            "type": "contourcarpet"
           }
          ],
          "heatmap": [
           {
            "colorbar": {
             "outlinewidth": 0,
             "ticks": ""
            },
            "colorscale": [
             [
              0,
              "#0d0887"
             ],
             [
              0.1111111111111111,
              "#46039f"
             ],
             [
              0.2222222222222222,
              "#7201a8"
             ],
             [
              0.3333333333333333,
              "#9c179e"
             ],
             [
              0.4444444444444444,
              "#bd3786"
             ],
             [
              0.5555555555555556,
              "#d8576b"
             ],
             [
              0.6666666666666666,
              "#ed7953"
             ],
             [
              0.7777777777777778,
              "#fb9f3a"
             ],
             [
              0.8888888888888888,
              "#fdca26"
             ],
             [
              1,
              "#f0f921"
             ]
            ],
            "type": "heatmap"
           }
          ],
          "heatmapgl": [
           {
            "colorbar": {
             "outlinewidth": 0,
             "ticks": ""
            },
            "colorscale": [
             [
              0,
              "#0d0887"
             ],
             [
              0.1111111111111111,
              "#46039f"
             ],
             [
              0.2222222222222222,
              "#7201a8"
             ],
             [
              0.3333333333333333,
              "#9c179e"
             ],
             [
              0.4444444444444444,
              "#bd3786"
             ],
             [
              0.5555555555555556,
              "#d8576b"
             ],
             [
              0.6666666666666666,
              "#ed7953"
             ],
             [
              0.7777777777777778,
              "#fb9f3a"
             ],
             [
              0.8888888888888888,
              "#fdca26"
             ],
             [
              1,
              "#f0f921"
             ]
            ],
            "type": "heatmapgl"
           }
          ],
          "histogram": [
           {
            "marker": {
             "pattern": {
              "fillmode": "overlay",
              "size": 10,
              "solidity": 0.2
             }
            },
            "type": "histogram"
           }
          ],
          "histogram2d": [
           {
            "colorbar": {
             "outlinewidth": 0,
             "ticks": ""
            },
            "colorscale": [
             [
              0,
              "#0d0887"
             ],
             [
              0.1111111111111111,
              "#46039f"
             ],
             [
              0.2222222222222222,
              "#7201a8"
             ],
             [
              0.3333333333333333,
              "#9c179e"
             ],
             [
              0.4444444444444444,
              "#bd3786"
             ],
             [
              0.5555555555555556,
              "#d8576b"
             ],
             [
              0.6666666666666666,
              "#ed7953"
             ],
             [
              0.7777777777777778,
              "#fb9f3a"
             ],
             [
              0.8888888888888888,
              "#fdca26"
             ],
             [
              1,
              "#f0f921"
             ]
            ],
            "type": "histogram2d"
           }
          ],
          "histogram2dcontour": [
           {
            "colorbar": {
             "outlinewidth": 0,
             "ticks": ""
            },
            "colorscale": [
             [
              0,
              "#0d0887"
             ],
             [
              0.1111111111111111,
              "#46039f"
             ],
             [
              0.2222222222222222,
              "#7201a8"
             ],
             [
              0.3333333333333333,
              "#9c179e"
             ],
             [
              0.4444444444444444,
              "#bd3786"
             ],
             [
              0.5555555555555556,
              "#d8576b"
             ],
             [
              0.6666666666666666,
              "#ed7953"
             ],
             [
              0.7777777777777778,
              "#fb9f3a"
             ],
             [
              0.8888888888888888,
              "#fdca26"
             ],
             [
              1,
              "#f0f921"
             ]
            ],
            "type": "histogram2dcontour"
           }
          ],
          "mesh3d": [
           {
            "colorbar": {
             "outlinewidth": 0,
             "ticks": ""
            },
            "type": "mesh3d"
           }
          ],
          "parcoords": [
           {
            "line": {
             "colorbar": {
              "outlinewidth": 0,
              "ticks": ""
             }
            },
            "type": "parcoords"
           }
          ],
          "pie": [
           {
            "automargin": true,
            "type": "pie"
           }
          ],
          "scatter": [
           {
            "fillpattern": {
             "fillmode": "overlay",
             "size": 10,
             "solidity": 0.2
            },
            "type": "scatter"
           }
          ],
          "scatter3d": [
           {
            "line": {
             "colorbar": {
              "outlinewidth": 0,
              "ticks": ""
             }
            },
            "marker": {
             "colorbar": {
              "outlinewidth": 0,
              "ticks": ""
             }
            },
            "type": "scatter3d"
           }
          ],
          "scattercarpet": [
           {
            "marker": {
             "colorbar": {
              "outlinewidth": 0,
              "ticks": ""
             }
            },
            "type": "scattercarpet"
           }
          ],
          "scattergeo": [
           {
            "marker": {
             "colorbar": {
              "outlinewidth": 0,
              "ticks": ""
             }
            },
            "type": "scattergeo"
           }
          ],
          "scattergl": [
           {
            "marker": {
             "colorbar": {
              "outlinewidth": 0,
              "ticks": ""
             }
            },
            "type": "scattergl"
           }
          ],
          "scattermapbox": [
           {
            "marker": {
             "colorbar": {
              "outlinewidth": 0,
              "ticks": ""
             }
            },
            "type": "scattermapbox"
           }
          ],
          "scatterpolar": [
           {
            "marker": {
             "colorbar": {
              "outlinewidth": 0,
              "ticks": ""
             }
            },
            "type": "scatterpolar"
           }
          ],
          "scatterpolargl": [
           {
            "marker": {
             "colorbar": {
              "outlinewidth": 0,
              "ticks": ""
             }
            },
            "type": "scatterpolargl"
           }
          ],
          "scatterternary": [
           {
            "marker": {
             "colorbar": {
              "outlinewidth": 0,
              "ticks": ""
             }
            },
            "type": "scatterternary"
           }
          ],
          "surface": [
           {
            "colorbar": {
             "outlinewidth": 0,
             "ticks": ""
            },
            "colorscale": [
             [
              0,
              "#0d0887"
             ],
             [
              0.1111111111111111,
              "#46039f"
             ],
             [
              0.2222222222222222,
              "#7201a8"
             ],
             [
              0.3333333333333333,
              "#9c179e"
             ],
             [
              0.4444444444444444,
              "#bd3786"
             ],
             [
              0.5555555555555556,
              "#d8576b"
             ],
             [
              0.6666666666666666,
              "#ed7953"
             ],
             [
              0.7777777777777778,
              "#fb9f3a"
             ],
             [
              0.8888888888888888,
              "#fdca26"
             ],
             [
              1,
              "#f0f921"
             ]
            ],
            "type": "surface"
           }
          ],
          "table": [
           {
            "cells": {
             "fill": {
              "color": "#EBF0F8"
             },
             "line": {
              "color": "white"
             }
            },
            "header": {
             "fill": {
              "color": "#C8D4E3"
             },
             "line": {
              "color": "white"
             }
            },
            "type": "table"
           }
          ]
         },
         "layout": {
          "annotationdefaults": {
           "arrowcolor": "#2a3f5f",
           "arrowhead": 0,
           "arrowwidth": 1
          },
          "autotypenumbers": "strict",
          "coloraxis": {
           "colorbar": {
            "outlinewidth": 0,
            "ticks": ""
           }
          },
          "colorscale": {
           "diverging": [
            [
             0,
             "#8e0152"
            ],
            [
             0.1,
             "#c51b7d"
            ],
            [
             0.2,
             "#de77ae"
            ],
            [
             0.3,
             "#f1b6da"
            ],
            [
             0.4,
             "#fde0ef"
            ],
            [
             0.5,
             "#f7f7f7"
            ],
            [
             0.6,
             "#e6f5d0"
            ],
            [
             0.7,
             "#b8e186"
            ],
            [
             0.8,
             "#7fbc41"
            ],
            [
             0.9,
             "#4d9221"
            ],
            [
             1,
             "#276419"
            ]
           ],
           "sequential": [
            [
             0,
             "#0d0887"
            ],
            [
             0.1111111111111111,
             "#46039f"
            ],
            [
             0.2222222222222222,
             "#7201a8"
            ],
            [
             0.3333333333333333,
             "#9c179e"
            ],
            [
             0.4444444444444444,
             "#bd3786"
            ],
            [
             0.5555555555555556,
             "#d8576b"
            ],
            [
             0.6666666666666666,
             "#ed7953"
            ],
            [
             0.7777777777777778,
             "#fb9f3a"
            ],
            [
             0.8888888888888888,
             "#fdca26"
            ],
            [
             1,
             "#f0f921"
            ]
           ],
           "sequentialminus": [
            [
             0,
             "#0d0887"
            ],
            [
             0.1111111111111111,
             "#46039f"
            ],
            [
             0.2222222222222222,
             "#7201a8"
            ],
            [
             0.3333333333333333,
             "#9c179e"
            ],
            [
             0.4444444444444444,
             "#bd3786"
            ],
            [
             0.5555555555555556,
             "#d8576b"
            ],
            [
             0.6666666666666666,
             "#ed7953"
            ],
            [
             0.7777777777777778,
             "#fb9f3a"
            ],
            [
             0.8888888888888888,
             "#fdca26"
            ],
            [
             1,
             "#f0f921"
            ]
           ]
          },
          "colorway": [
           "#636efa",
           "#EF553B",
           "#00cc96",
           "#ab63fa",
           "#FFA15A",
           "#19d3f3",
           "#FF6692",
           "#B6E880",
           "#FF97FF",
           "#FECB52"
          ],
          "font": {
           "color": "#2a3f5f"
          },
          "geo": {
           "bgcolor": "white",
           "lakecolor": "white",
           "landcolor": "#E5ECF6",
           "showlakes": true,
           "showland": true,
           "subunitcolor": "white"
          },
          "hoverlabel": {
           "align": "left"
          },
          "hovermode": "closest",
          "mapbox": {
           "style": "light"
          },
          "paper_bgcolor": "white",
          "plot_bgcolor": "#E5ECF6",
          "polar": {
           "angularaxis": {
            "gridcolor": "white",
            "linecolor": "white",
            "ticks": ""
           },
           "bgcolor": "#E5ECF6",
           "radialaxis": {
            "gridcolor": "white",
            "linecolor": "white",
            "ticks": ""
           }
          },
          "scene": {
           "xaxis": {
            "backgroundcolor": "#E5ECF6",
            "gridcolor": "white",
            "gridwidth": 2,
            "linecolor": "white",
            "showbackground": true,
            "ticks": "",
            "zerolinecolor": "white"
           },
           "yaxis": {
            "backgroundcolor": "#E5ECF6",
            "gridcolor": "white",
            "gridwidth": 2,
            "linecolor": "white",
            "showbackground": true,
            "ticks": "",
            "zerolinecolor": "white"
           },
           "zaxis": {
            "backgroundcolor": "#E5ECF6",
            "gridcolor": "white",
            "gridwidth": 2,
            "linecolor": "white",
            "showbackground": true,
            "ticks": "",
            "zerolinecolor": "white"
           }
          },
          "shapedefaults": {
           "line": {
            "color": "#2a3f5f"
           }
          },
          "ternary": {
           "aaxis": {
            "gridcolor": "white",
            "linecolor": "white",
            "ticks": ""
           },
           "baxis": {
            "gridcolor": "white",
            "linecolor": "white",
            "ticks": ""
           },
           "bgcolor": "#E5ECF6",
           "caxis": {
            "gridcolor": "white",
            "linecolor": "white",
            "ticks": ""
           }
          },
          "title": {
           "x": 0.05
          },
          "xaxis": {
           "automargin": true,
           "gridcolor": "white",
           "linecolor": "white",
           "ticks": "",
           "title": {
            "standoff": 15
           },
           "zerolinecolor": "white",
           "zerolinewidth": 2
          },
          "yaxis": {
           "automargin": true,
           "gridcolor": "white",
           "linecolor": "white",
           "ticks": "",
           "title": {
            "standoff": 15
           },
           "zerolinecolor": "white",
           "zerolinewidth": 2
          }
         }
        },
        "xaxis": {
         "anchor": "y",
         "autorange": true,
         "domain": [
          0,
          1
         ],
         "range": [
          0,
          8
         ],
         "title": {
          "text": "index"
         },
         "type": "linear"
        },
        "yaxis": {
         "anchor": "x",
         "autorange": true,
         "domain": [
          0,
          1
         ],
         "range": [
          0.5589795193700908,
          0.8953465787767864
         ],
         "title": {
          "text": "value"
         },
         "type": "linear"
        }
       }
      },
      "image/png": "[encoded data removed]",
      "text/html": [
       "<div>                            <div id=\"28ee3c4f-81d1-4f59-a748-ed4e8839a6b6\" class=\"plotly-graph-div\" style=\"height:525px; width:100%;\"></div>            <script type=\"text/javascript\">                require([\"plotly\"], function(Plotly) {                    window.PLOTLYENV=window.PLOTLYENV || {};                                    if (document.getElementById(\"28ee3c4f-81d1-4f59-a748-ed4e8839a6b6\")) {                    Plotly.newPlot(                        \"28ee3c4f-81d1-4f59-a748-ed4e8839a6b6\",                        [{\"hovertemplate\":\"variable=wide_variable_0\\u003cbr\\u003eindex=%{x}\\u003cbr\\u003evalue=%{y}\\u003cextra\\u003e\\u003c\\u002fextra\\u003e\",\"legendgroup\":\"wide_variable_0\",\"line\":{\"color\":\"#636efa\",\"dash\":\"solid\"},\"marker\":{\"symbol\":\"circle\"},\"mode\":\"lines\",\"name\":\"wide_variable_0\",\"orientation\":\"v\",\"showlegend\":true,\"x\":[0,1,2,3,4,5,6,7,8],\"xaxis\":\"x\",\"y\":[0.6295362903225806,0.6673387096774194,0.688508064516129,0.6769153225806451,0.7777217741935484,0.717741935483871,0.7565524193548387,0.688508064516129,0.7842741935483871],\"yaxis\":\"y\",\"type\":\"scatter\"},{\"hovertemplate\":\"variable=wide_variable_1\\u003cbr\\u003eindex=%{x}\\u003cbr\\u003evalue=%{y}\\u003cextra\\u003e\\u003c\\u002fextra\\u003e\",\"legendgroup\":\"wide_variable_1\",\"line\":{\"color\":\"#EF553B\",\"dash\":\"solid\"},\"marker\":{\"symbol\":\"circle\"},\"mode\":\"lines\",\"name\":\"wide_variable_1\",\"orientation\":\"v\",\"showlegend\":true,\"x\":[0,1,2,3,4,5,6,7,8],\"xaxis\":\"x\",\"y\":[0.6090425531914894,0.5877659574468085,0.6100398936170213,0.5904255319148937,0.648936170212766,0.5874335106382979,0.6366356382978723,0.5907579787234043,0.6446143617021277],\"yaxis\":\"y\",\"type\":\"scatter\"},{\"hovertemplate\":\"variable=wide_variable_2\\u003cbr\\u003eindex=%{x}\\u003cbr\\u003evalue=%{y}\\u003cextra\\u003e\\u003c\\u002fextra\\u003e\",\"legendgroup\":\"wide_variable_2\",\"line\":{\"color\":\"#00cc96\",\"dash\":\"solid\"},\"marker\":{\"symbol\":\"circle\"},\"mode\":\"lines\",\"name\":\"wide_variable_2\",\"orientation\":\"v\",\"showlegend\":true,\"x\":[0,1,2,3,4,5,6,7,8],\"xaxis\":\"x\",\"y\":[0.6259973404255319,0.6795212765957447,0.6628989361702128,0.645279255319149,0.6499335106382979,0.6502659574468085,0.6559175531914894,0.6545877659574468,0.6565824468085106],\"yaxis\":\"y\",\"type\":\"scatter\"},{\"hovertemplate\":\"variable=wide_variable_3\\u003cbr\\u003eindex=%{x}\\u003cbr\\u003evalue=%{y}\\u003cextra\\u003e\\u003c\\u002fextra\\u003e\",\"legendgroup\":\"wide_variable_3\",\"line\":{\"color\":\"#ab63fa\",\"dash\":\"solid\"},\"marker\":{\"symbol\":\"circle\"},\"mode\":\"lines\",\"name\":\"wide_variable_3\",\"orientation\":\"v\",\"showlegend\":true,\"x\":[0,1,2,3,4,5,6,7,8],\"xaxis\":\"x\",\"y\":[0.7293346774193549,0.7721774193548387,0.8004032258064516,0.8084677419354839,0.8180443548387096,0.8230846774193549,0.8276209677419355,0.8286290322580645,0.828125],\"yaxis\":\"y\",\"type\":\"scatter\"},{\"hovertemplate\":\"variable=wide_variable_4\\u003cbr\\u003eindex=%{x}\\u003cbr\\u003evalue=%{y}\\u003cextra\\u003e\\u003c\\u002fextra\\u003e\",\"legendgroup\":\"wide_variable_4\",\"line\":{\"color\":\"#FFA15A\",\"dash\":\"solid\"},\"marker\":{\"symbol\":\"circle\"},\"mode\":\"lines\",\"name\":\"wide_variable_4\",\"orientation\":\"v\",\"showlegend\":true,\"x\":[0,1,2,3,4,5,6,7,8],\"xaxis\":\"x\",\"y\":[0.6389627659574468,0.6449468085106383,0.6416223404255319,0.6539228723404256,0.6545877659574468,0.636968085106383,0.645279255319149,0.6496010638297872,0.652593085106383],\"yaxis\":\"y\",\"type\":\"scatter\"},{\"hovertemplate\":\"variable=wide_variable_5\\u003cbr\\u003eindex=%{x}\\u003cbr\\u003evalue=%{y}\\u003cextra\\u003e\\u003c\\u002fextra\\u003e\",\"legendgroup\":\"wide_variable_5\",\"line\":{\"color\":\"#19d3f3\",\"dash\":\"solid\"},\"marker\":{\"symbol\":\"circle\"},\"mode\":\"lines\",\"name\":\"wide_variable_5\",\"orientation\":\"v\",\"showlegend\":true,\"x\":[0,1,2,3,4,5,6,7,8],\"xaxis\":\"x\",\"y\":[0.7323588709677419,0.719758064516129,0.7283266129032258,0.7615927419354839,0.7817540322580645,0.7071572580645161,0.7585685483870968,0.7610887096774194,0.7777217741935484],\"yaxis\":\"y\",\"type\":\"scatter\"},{\"hovertemplate\":\"variable=wide_variable_6\\u003cbr\\u003eindex=%{x}\\u003cbr\\u003evalue=%{y}\\u003cextra\\u003e\\u003c\\u002fextra\\u003e\",\"legendgroup\":\"wide_variable_6\",\"line\":{\"color\":\"#FF6692\",\"dash\":\"solid\"},\"marker\":{\"symbol\":\"circle\"},\"mode\":\"lines\",\"name\":\"wide_variable_6\",\"orientation\":\"v\",\"showlegend\":true,\"x\":[0,1,2,3,4,5,6,7,8],\"xaxis\":\"x\",\"y\":[0.6693548387096774,0.6764112903225806,0.7111895161290323,0.7016129032258065,0.7106854838709677,0.7182459677419355,0.7162298387096774,0.7242943548387096,0.7580645161290323],\"yaxis\":\"y\",\"type\":\"scatter\"},{\"hovertemplate\":\"variable=wide_variable_7\\u003cbr\\u003eindex=%{x}\\u003cbr\\u003evalue=%{y}\\u003cextra\\u003e\\u003c\\u002fextra\\u003e\",\"legendgroup\":\"wide_variable_7\",\"line\":{\"color\":\"#B6E880\",\"dash\":\"solid\"},\"marker\":{\"symbol\":\"circle\"},\"mode\":\"lines\",\"name\":\"wide_variable_7\",\"orientation\":\"v\",\"showlegend\":true,\"x\":[0,1,2,3,4,5,6,7,8],\"xaxis\":\"x\",\"y\":[0.8019153225806451,0.8069556451612904,0.8200604838709677,0.8200604838709677,0.8240927419354839,0.829133064516129,0.8518145161290323,0.8336693548387096,0.842741935483871],\"yaxis\":\"y\",\"type\":\"scatter\"},{\"hovertemplate\":\"variable=wide_variable_8\\u003cbr\\u003eindex=%{x}\\u003cbr\\u003evalue=%{y}\\u003cextra\\u003e\\u003c\\u002fextra\\u003e\",\"legendgroup\":\"wide_variable_8\",\"line\":{\"color\":\"#FF97FF\",\"dash\":\"solid\"},\"marker\":{\"symbol\":\"circle\"},\"mode\":\"lines\",\"name\":\"wide_variable_8\",\"orientation\":\"v\",\"showlegend\":true,\"x\":[0,1,2,3,4,5,6,7,8],\"xaxis\":\"x\",\"y\":[0.6559175531914894,0.6462765957446809,0.6389627659574468,0.6466090425531915,0.6775265957446809,0.6399601063829787,0.6545877659574468,0.6612367021276596,0.6559175531914894],\"yaxis\":\"y\",\"type\":\"scatter\"},{\"hovertemplate\":\"variable=wide_variable_9\\u003cbr\\u003eindex=%{x}\\u003cbr\\u003evalue=%{y}\\u003cextra\\u003e\\u003c\\u002fextra\\u003e\",\"legendgroup\":\"wide_variable_9\",\"line\":{\"color\":\"#FECB52\",\"dash\":\"solid\"},\"marker\":{\"symbol\":\"circle\"},\"mode\":\"lines\",\"name\":\"wide_variable_9\",\"orientation\":\"v\",\"showlegend\":true,\"x\":[0,1,2,3,4,5,6,7,8],\"xaxis\":\"x\",\"y\":[0.8296370967741935,0.8366935483870968,0.8366935483870968,0.8472782258064516,0.8503024193548387,0.8533266129032258,0.8452620967741935,0.8412298387096774,0.8523185483870968],\"yaxis\":\"y\",\"type\":\"scatter\"},{\"hovertemplate\":\"variable=wide_variable_10\\u003cbr\\u003eindex=%{x}\\u003cbr\\u003evalue=%{y}\\u003cextra\\u003e\\u003c\\u002fextra\\u003e\",\"legendgroup\":\"wide_variable_10\",\"line\":{\"color\":\"#636efa\",\"dash\":\"solid\"},\"marker\":{\"symbol\":\"circle\"},\"mode\":\"lines\",\"name\":\"wide_variable_10\",\"orientation\":\"v\",\"showlegend\":true,\"x\":[0,1,2,3,4,5,6,7,8],\"xaxis\":\"x\",\"y\":[0.5757978723404256,0.6389627659574468,0.635970744680851,0.6170212765957447,0.6060505319148937,0.6496010638297872,0.644281914893617,0.6502659574468085,0.628656914893617],\"yaxis\":\"y\",\"type\":\"scatter\"},{\"hovertemplate\":\"variable=wide_variable_11\\u003cbr\\u003eindex=%{x}\\u003cbr\\u003evalue=%{y}\\u003cextra\\u003e\\u003c\\u002fextra\\u003e\",\"legendgroup\":\"wide_variable_11\",\"line\":{\"color\":\"#EF553B\",\"dash\":\"solid\"},\"marker\":{\"symbol\":\"circle\"},\"mode\":\"lines\",\"name\":\"wide_variable_11\",\"orientation\":\"v\",\"showlegend\":true,\"x\":[0,1,2,3,4,5,6,7,8],\"xaxis\":\"x\",\"y\":[0.8230846774193549,0.8341733870967742,0.8235887096774194,0.8306451612903226,0.8175403225806451,0.8361895161290323,0.8397177419354839,0.8533266129032258,0.8623991935483871],\"yaxis\":\"y\",\"type\":\"scatter\"},{\"hovertemplate\":\"variable=wide_variable_12\\u003cbr\\u003eindex=%{x}\\u003cbr\\u003evalue=%{y}\\u003cextra\\u003e\\u003c\\u002fextra\\u003e\",\"legendgroup\":\"wide_variable_12\",\"line\":{\"color\":\"#00cc96\",\"dash\":\"solid\"},\"marker\":{\"symbol\":\"circle\"},\"mode\":\"lines\",\"name\":\"wide_variable_12\",\"orientation\":\"v\",\"showlegend\":true,\"x\":[0,1,2,3,4,5,6,7,8],\"xaxis\":\"x\",\"y\":[0.8084677419354839,0.8240927419354839,0.8256048387096774,0.8150201612903226,0.842741935483871,0.84375,0.8301411290322581,0.8301411290322581,0.84375],\"yaxis\":\"y\",\"type\":\"scatter\"},{\"hovertemplate\":\"variable=wide_variable_13\\u003cbr\\u003eindex=%{x}\\u003cbr\\u003evalue=%{y}\\u003cextra\\u003e\\u003c\\u002fextra\\u003e\",\"legendgroup\":\"wide_variable_13\",\"line\":{\"color\":\"#ab63fa\",\"dash\":\"solid\"},\"marker\":{\"symbol\":\"circle\"},\"mode\":\"lines\",\"name\":\"wide_variable_13\",\"orientation\":\"v\",\"showlegend\":true,\"x\":[0,1,2,3,4,5,6,7,8],\"xaxis\":\"x\",\"y\":[0.7752016129032258,0.8230846774193549,0.8009072580645161,0.8452620967741935,0.8382056451612904,0.8392137096774194,0.8724798387096774,0.8397177419354839,0.8361895161290323],\"yaxis\":\"y\",\"type\":\"scatter\"},{\"hovertemplate\":\"variable=wide_variable_14\\u003cbr\\u003eindex=%{x}\\u003cbr\\u003evalue=%{y}\\u003cextra\\u003e\\u003c\\u002fextra\\u003e\",\"legendgroup\":\"wide_variable_14\",\"line\":{\"color\":\"#FFA15A\",\"dash\":\"solid\"},\"marker\":{\"symbol\":\"circle\"},\"mode\":\"lines\",\"name\":\"wide_variable_14\",\"orientation\":\"v\",\"showlegend\":true,\"x\":[0,1,2,3,4,5,6,7,8],\"xaxis\":\"x\",\"y\":[0.8170362903225806,0.8104838709677419,0.8150201612903226,0.8296370967741935,0.8311491935483871,0.8301411290322581,0.8351814516129032,0.8563508064516129,0.8528225806451613],\"yaxis\":\"y\",\"type\":\"scatter\"},{\"hovertemplate\":\"variable=wide_variable_15\\u003cbr\\u003eindex=%{x}\\u003cbr\\u003evalue=%{y}\\u003cextra\\u003e\\u003c\\u002fextra\\u003e\",\"legendgroup\":\"wide_variable_15\",\"line\":{\"color\":\"#19d3f3\",\"dash\":\"solid\"},\"marker\":{\"symbol\":\"circle\"},\"mode\":\"lines\",\"name\":\"wide_variable_15\",\"orientation\":\"v\",\"showlegend\":true,\"x\":[0,1,2,3,4,5,6,7,8],\"xaxis\":\"x\",\"y\":[0.8361895161290323,0.8452620967741935,0.8185483870967742,0.8306451612903226,0.8462701612903226,0.8709677419354839,0.8523185483870968,0.8649193548387096,0.8598790322580645],\"yaxis\":\"y\",\"type\":\"scatter\"},{\"hovertemplate\":\"variable=wide_variable_16\\u003cbr\\u003eindex=%{x}\\u003cbr\\u003evalue=%{y}\\u003cextra\\u003e\\u003c\\u002fextra\\u003e\",\"legendgroup\":\"wide_variable_16\",\"line\":{\"color\":\"#FF6692\",\"dash\":\"solid\"},\"marker\":{\"symbol\":\"circle\"},\"mode\":\"lines\",\"name\":\"wide_variable_16\",\"orientation\":\"v\",\"showlegend\":true,\"x\":[0,1,2,3,4,5,6,7,8],\"xaxis\":\"x\",\"y\":[0.8029233870967742,0.796875,0.8084677419354839,0.8170362903225806,0.8049395161290323,0.8276209677419355,0.8417338709677419,0.827116935483871,0.8361895161290323],\"yaxis\":\"y\",\"type\":\"scatter\"},{\"hovertemplate\":\"variable=wide_variable_17\\u003cbr\\u003eindex=%{x}\\u003cbr\\u003evalue=%{y}\\u003cextra\\u003e\\u003c\\u002fextra\\u003e\",\"legendgroup\":\"wide_variable_17\",\"line\":{\"color\":\"#B6E880\",\"dash\":\"solid\"},\"marker\":{\"symbol\":\"circle\"},\"mode\":\"lines\",\"name\":\"wide_variable_17\",\"orientation\":\"v\",\"showlegend\":true,\"x\":[0,1,2,3,4,5,6,7,8],\"xaxis\":\"x\",\"y\":[0.7817540322580645,0.8150201612903226,0.7807459677419355,0.8296370967741935,0.8145161290322581,0.842741935483871,0.8205645161290323,0.8306451612903226,0.842741935483871],\"yaxis\":\"y\",\"type\":\"scatter\"},{\"hovertemplate\":\"variable=wide_variable_18\\u003cbr\\u003eindex=%{x}\\u003cbr\\u003evalue=%{y}\\u003cextra\\u003e\\u003c\\u002fextra\\u003e\",\"legendgroup\":\"wide_variable_18\",\"line\":{\"color\":\"#FF97FF\",\"dash\":\"solid\"},\"marker\":{\"symbol\":\"circle\"},\"mode\":\"lines\",\"name\":\"wide_variable_18\",\"orientation\":\"v\",\"showlegend\":true,\"x\":[0,1,2,3,4,5,6,7,8],\"xaxis\":\"x\",\"y\":[0.6441532258064516,0.7368951612903226,0.7520161290322581,0.7555443548387096,0.766633064516129,0.7676411290322581,0.782258064516129,0.7731854838709677,0.7590725806451613],\"yaxis\":\"y\",\"type\":\"scatter\"},{\"hovertemplate\":\"variable=wide_variable_19\\u003cbr\\u003eindex=%{x}\\u003cbr\\u003evalue=%{y}\\u003cextra\\u003e\\u003c\\u002fextra\\u003e\",\"legendgroup\":\"wide_variable_19\",\"line\":{\"color\":\"#FECB52\",\"dash\":\"solid\"},\"marker\":{\"symbol\":\"circle\"},\"mode\":\"lines\",\"name\":\"wide_variable_19\",\"orientation\":\"v\",\"showlegend\":true,\"x\":[0,1,2,3,4,5,6,7,8],\"xaxis\":\"x\",\"y\":[0.7409274193548387,0.7908266129032258,0.7807459677419355,0.7772177419354839,0.7938508064516129,0.6839717741935484,0.7419354838709677,0.6759072580645161,0.6774193548387096],\"yaxis\":\"y\",\"type\":\"scatter\"},{\"hovertemplate\":\"variable=wide_variable_20\\u003cbr\\u003eindex=%{x}\\u003cbr\\u003evalue=%{y}\\u003cextra\\u003e\\u003c\\u002fextra\\u003e\",\"legendgroup\":\"wide_variable_20\",\"line\":{\"color\":\"#636efa\",\"dash\":\"solid\"},\"marker\":{\"symbol\":\"circle\"},\"mode\":\"lines\",\"name\":\"wide_variable_20\",\"orientation\":\"v\",\"showlegend\":true,\"x\":[0,1,2,3,4,5,6,7,8],\"xaxis\":\"x\",\"y\":[0.7988911290322581,0.7903225806451613,0.7580645161290323,0.7893145161290323,0.8079637096774194,0.8442540322580645,0.8467741935483871,0.8150201612903226,0.8195564516129032],\"yaxis\":\"y\",\"type\":\"scatter\"},{\"hovertemplate\":\"variable=wide_variable_21\\u003cbr\\u003eindex=%{x}\\u003cbr\\u003evalue=%{y}\\u003cextra\\u003e\\u003c\\u002fextra\\u003e\",\"legendgroup\":\"wide_variable_21\",\"line\":{\"color\":\"#EF553B\",\"dash\":\"solid\"},\"marker\":{\"symbol\":\"circle\"},\"mode\":\"lines\",\"name\":\"wide_variable_21\",\"orientation\":\"v\",\"showlegend\":true,\"x\":[0,1,2,3,4,5,6,7,8],\"xaxis\":\"x\",\"y\":[0.8200604838709677,0.8240927419354839,0.8175403225806451,0.7636088709677419,0.8125,0.7908266129032258,0.8508064516129032,0.8387096774193549,0.8523185483870968],\"yaxis\":\"y\",\"type\":\"scatter\"},{\"hovertemplate\":\"variable=wide_variable_22\\u003cbr\\u003eindex=%{x}\\u003cbr\\u003evalue=%{y}\\u003cextra\\u003e\\u003c\\u002fextra\\u003e\",\"legendgroup\":\"wide_variable_22\",\"line\":{\"color\":\"#00cc96\",\"dash\":\"solid\"},\"marker\":{\"symbol\":\"circle\"},\"mode\":\"lines\",\"name\":\"wide_variable_22\",\"orientation\":\"v\",\"showlegend\":true,\"x\":[0,1,2,3,4,5,6,7,8],\"xaxis\":\"x\",\"y\":[0.7817540322580645,0.8261088709677419,0.8165322580645161,0.8417338709677419,0.8286290322580645,0.8412298387096774,0.8387096774193549,0.8417338709677419,0.8371975806451613],\"yaxis\":\"y\",\"type\":\"scatter\"},{\"hovertemplate\":\"variable=wide_variable_23\\u003cbr\\u003eindex=%{x}\\u003cbr\\u003evalue=%{y}\\u003cextra\\u003e\\u003c\\u002fextra\\u003e\",\"legendgroup\":\"wide_variable_23\",\"line\":{\"color\":\"#ab63fa\",\"dash\":\"solid\"},\"marker\":{\"symbol\":\"circle\"},\"mode\":\"lines\",\"name\":\"wide_variable_23\",\"orientation\":\"v\",\"showlegend\":true,\"x\":[0,1,2,3,4,5,6,7,8],\"xaxis\":\"x\",\"y\":[0.8200604838709677,0.8346774193548387,0.8150201612903226,0.7842741935483871,0.842741935483871,0.8487903225806451,0.8261088709677419,0.8533266129032258,0.8523185483870968],\"yaxis\":\"y\",\"type\":\"scatter\"},{\"hovertemplate\":\"variable=wide_variable_24\\u003cbr\\u003eindex=%{x}\\u003cbr\\u003evalue=%{y}\\u003cextra\\u003e\\u003c\\u002fextra\\u003e\",\"legendgroup\":\"wide_variable_24\",\"line\":{\"color\":\"#FFA15A\",\"dash\":\"solid\"},\"marker\":{\"symbol\":\"circle\"},\"mode\":\"lines\",\"name\":\"wide_variable_24\",\"orientation\":\"v\",\"showlegend\":true,\"x\":[0,1,2,3,4,5,6,7,8],\"xaxis\":\"x\",\"y\":[0.8180443548387096,0.8195564516129032,0.8316532258064516,0.8432459677419355,0.8356854838709677,0.8553427419354839,0.8170362903225806,0.8528225806451613,0.8634072580645161],\"yaxis\":\"y\",\"type\":\"scatter\"},{\"hovertemplate\":\"variable=wide_variable_25\\u003cbr\\u003eindex=%{x}\\u003cbr\\u003evalue=%{y}\\u003cextra\\u003e\\u003c\\u002fextra\\u003e\",\"legendgroup\":\"wide_variable_25\",\"line\":{\"color\":\"#19d3f3\",\"dash\":\"solid\"},\"marker\":{\"symbol\":\"circle\"},\"mode\":\"lines\",\"name\":\"wide_variable_25\",\"orientation\":\"v\",\"showlegend\":true,\"x\":[0,1,2,3,4,5,6,7,8],\"xaxis\":\"x\",\"y\":[0.7767137096774194,0.7807459677419355,0.7872983870967742,0.7676411290322581,0.8079637096774194,0.8457661290322581,0.8467741935483871,0.8422379032258065,0.8371975806451613],\"yaxis\":\"y\",\"type\":\"scatter\"},{\"hovertemplate\":\"variable=wide_variable_26\\u003cbr\\u003eindex=%{x}\\u003cbr\\u003evalue=%{y}\\u003cextra\\u003e\\u003c\\u002fextra\\u003e\",\"legendgroup\":\"wide_variable_26\",\"line\":{\"color\":\"#FF6692\",\"dash\":\"solid\"},\"marker\":{\"symbol\":\"circle\"},\"mode\":\"lines\",\"name\":\"wide_variable_26\",\"orientation\":\"v\",\"showlegend\":true,\"x\":[0,1,2,3,4,5,6,7,8],\"xaxis\":\"x\",\"y\":[0.6589095744680851,0.6728723404255319,0.6502659574468085,0.6542553191489362,0.668218085106383,0.6565824468085106,0.6848404255319149,0.6715425531914894,0.6785239361702128],\"yaxis\":\"y\",\"type\":\"scatter\"},{\"hovertemplate\":\"variable=wide_variable_27\\u003cbr\\u003eindex=%{x}\\u003cbr\\u003evalue=%{y}\\u003cextra\\u003e\\u003c\\u002fextra\\u003e\",\"legendgroup\":\"wide_variable_27\",\"line\":{\"color\":\"#B6E880\",\"dash\":\"solid\"},\"marker\":{\"symbol\":\"circle\"},\"mode\":\"lines\",\"name\":\"wide_variable_27\",\"orientation\":\"v\",\"showlegend\":true,\"x\":[0,1,2,3,4,5,6,7,8],\"xaxis\":\"x\",\"y\":[0.7273185483870968,0.7661290322580645,0.7762096774193549,0.7610887096774194,0.7903225806451613,0.7258064516129032,0.7807459677419355,0.766633064516129,0.8019153225806451],\"yaxis\":\"y\",\"type\":\"scatter\"},{\"hovertemplate\":\"variable=wide_variable_28\\u003cbr\\u003eindex=%{x}\\u003cbr\\u003evalue=%{y}\\u003cextra\\u003e\\u003c\\u002fextra\\u003e\",\"legendgroup\":\"wide_variable_28\",\"line\":{\"color\":\"#FF97FF\",\"dash\":\"solid\"},\"marker\":{\"symbol\":\"circle\"},\"mode\":\"lines\",\"name\":\"wide_variable_28\",\"orientation\":\"v\",\"showlegend\":true,\"x\":[0,1,2,3,4,5,6,7,8],\"xaxis\":\"x\",\"y\":[0.7741935483870968,0.8296370967741935,0.8064516129032258,0.8422379032258065,0.8049395161290323,0.8286290322580645,0.8311491935483871,0.8326612903225806,0.8336693548387096],\"yaxis\":\"y\",\"type\":\"scatter\"},{\"hovertemplate\":\"variable=wide_variable_29\\u003cbr\\u003eindex=%{x}\\u003cbr\\u003evalue=%{y}\\u003cextra\\u003e\\u003c\\u002fextra\\u003e\",\"legendgroup\":\"wide_variable_29\",\"line\":{\"color\":\"#FECB52\",\"dash\":\"solid\"},\"marker\":{\"symbol\":\"circle\"},\"mode\":\"lines\",\"name\":\"wide_variable_29\",\"orientation\":\"v\",\"showlegend\":true,\"x\":[0,1,2,3,4,5,6,7,8],\"xaxis\":\"x\",\"y\":[0.7253024193548387,0.7494959677419355,0.7792338709677419,0.7615927419354839,0.7525201612903226,0.7605846774193549,0.7903225806451613,0.7827620967741935,0.7762096774193549],\"yaxis\":\"y\",\"type\":\"scatter\"},{\"hovertemplate\":\"variable=wide_variable_30\\u003cbr\\u003eindex=%{x}\\u003cbr\\u003evalue=%{y}\\u003cextra\\u003e\\u003c\\u002fextra\\u003e\",\"legendgroup\":\"wide_variable_30\",\"line\":{\"color\":\"#636efa\",\"dash\":\"solid\"},\"marker\":{\"symbol\":\"circle\"},\"mode\":\"lines\",\"name\":\"wide_variable_30\",\"orientation\":\"v\",\"showlegend\":true,\"x\":[0,1,2,3,4,5,6,7,8],\"xaxis\":\"x\",\"y\":[0.8069556451612904,0.8225806451612904,0.7862903225806451,0.8407258064516129,0.8412298387096774,0.8523185483870968,0.8729838709677419,0.8538306451612904,0.8523185483870968],\"yaxis\":\"y\",\"type\":\"scatter\"},{\"hovertemplate\":\"variable=wide_variable_31\\u003cbr\\u003eindex=%{x}\\u003cbr\\u003evalue=%{y}\\u003cextra\\u003e\\u003c\\u002fextra\\u003e\",\"legendgroup\":\"wide_variable_31\",\"line\":{\"color\":\"#EF553B\",\"dash\":\"solid\"},\"marker\":{\"symbol\":\"circle\"},\"mode\":\"lines\",\"name\":\"wide_variable_31\",\"orientation\":\"v\",\"showlegend\":true,\"x\":[0,1,2,3,4,5,6,7,8],\"xaxis\":\"x\",\"y\":[0.8407258064516129,0.8039314516129032,0.8336693548387096,0.8503024193548387,0.842741935483871,0.8513104838709677,0.8508064516129032,0.8256048387096774,0.875],\"yaxis\":\"y\",\"type\":\"scatter\"},{\"hovertemplate\":\"variable=wide_variable_32\\u003cbr\\u003eindex=%{x}\\u003cbr\\u003evalue=%{y}\\u003cextra\\u003e\\u003c\\u002fextra\\u003e\",\"legendgroup\":\"wide_variable_32\",\"line\":{\"color\":\"#00cc96\",\"dash\":\"solid\"},\"marker\":{\"symbol\":\"circle\"},\"mode\":\"lines\",\"name\":\"wide_variable_32\",\"orientation\":\"v\",\"showlegend\":true,\"x\":[0,1,2,3,4,5,6,7,8],\"xaxis\":\"x\",\"y\":[0.7399193548387096,0.7872983870967742,0.7933467741935484,0.7752016129032258,0.7837701612903226,0.7746975806451613,0.7832661290322581,0.7651209677419355,0.813508064516129],\"yaxis\":\"y\",\"type\":\"scatter\"},{\"hovertemplate\":\"variable=wide_variable_33\\u003cbr\\u003eindex=%{x}\\u003cbr\\u003evalue=%{y}\\u003cextra\\u003e\\u003c\\u002fextra\\u003e\",\"legendgroup\":\"wide_variable_33\",\"line\":{\"color\":\"#ab63fa\",\"dash\":\"solid\"},\"marker\":{\"symbol\":\"circle\"},\"mode\":\"lines\",\"name\":\"wide_variable_33\",\"orientation\":\"v\",\"showlegend\":true,\"x\":[0,1,2,3,4,5,6,7,8],\"xaxis\":\"x\",\"y\":[0.7263104838709677,0.7505040322580645,0.764616935483871,0.7883064516129032,0.7847782258064516,0.7963709677419355,0.71875,0.7842741935483871,0.7792338709677419],\"yaxis\":\"y\",\"type\":\"scatter\"},{\"hovertemplate\":\"variable=wide_variable_34\\u003cbr\\u003eindex=%{x}\\u003cbr\\u003evalue=%{y}\\u003cextra\\u003e\\u003c\\u002fextra\\u003e\",\"legendgroup\":\"wide_variable_34\",\"line\":{\"color\":\"#FFA15A\",\"dash\":\"solid\"},\"marker\":{\"symbol\":\"circle\"},\"mode\":\"lines\",\"name\":\"wide_variable_34\",\"orientation\":\"v\",\"showlegend\":true,\"x\":[0,1,2,3,4,5,6,7,8],\"xaxis\":\"x\",\"y\":[0.7253024193548387,0.7615927419354839,0.7681451612903226,0.7963709677419355,0.7787298387096774,0.8094758064516129,0.8049395161290323,0.7752016129032258,0.7550403225806451],\"yaxis\":\"y\",\"type\":\"scatter\"},{\"hovertemplate\":\"variable=wide_variable_35\\u003cbr\\u003eindex=%{x}\\u003cbr\\u003evalue=%{y}\\u003cextra\\u003e\\u003c\\u002fextra\\u003e\",\"legendgroup\":\"wide_variable_35\",\"line\":{\"color\":\"#19d3f3\",\"dash\":\"solid\"},\"marker\":{\"symbol\":\"circle\"},\"mode\":\"lines\",\"name\":\"wide_variable_35\",\"orientation\":\"v\",\"showlegend\":true,\"x\":[0,1,2,3,4,5,6,7,8],\"xaxis\":\"x\",\"y\":[0.5821572580645161,0.6436491935483871,0.7182459677419355,0.7368951612903226,0.7454637096774194,0.7348790322580645,0.7626008064516129,0.7605846774193549,0.7575604838709677],\"yaxis\":\"y\",\"type\":\"scatter\"},{\"hovertemplate\":\"variable=wide_variable_36\\u003cbr\\u003eindex=%{x}\\u003cbr\\u003evalue=%{y}\\u003cextra\\u003e\\u003c\\u002fextra\\u003e\",\"legendgroup\":\"wide_variable_36\",\"line\":{\"color\":\"#FF6692\",\"dash\":\"solid\"},\"marker\":{\"symbol\":\"circle\"},\"mode\":\"lines\",\"name\":\"wide_variable_36\",\"orientation\":\"v\",\"showlegend\":true,\"x\":[0,1,2,3,4,5,6,7,8],\"xaxis\":\"x\",\"y\":[0.827116935483871,0.8432459677419355,0.8371975806451613,0.828125,0.8462701612903226,0.8503024193548387,0.8175403225806451,0.8523185483870968,0.8356854838709677],\"yaxis\":\"y\",\"type\":\"scatter\"},{\"hovertemplate\":\"variable=wide_variable_37\\u003cbr\\u003eindex=%{x}\\u003cbr\\u003evalue=%{y}\\u003cextra\\u003e\\u003c\\u002fextra\\u003e\",\"legendgroup\":\"wide_variable_37\",\"line\":{\"color\":\"#B6E880\",\"dash\":\"solid\"},\"marker\":{\"symbol\":\"circle\"},\"mode\":\"lines\",\"name\":\"wide_variable_37\",\"orientation\":\"v\",\"showlegend\":true,\"x\":[0,1,2,3,4,5,6,7,8],\"xaxis\":\"x\",\"y\":[0.7565524193548387,0.8210685483870968,0.7731854838709677,0.7167338709677419,0.5897177419354839,0.7807459677419355,0.797883064516129,0.765625,0.8024193548387096],\"yaxis\":\"y\",\"type\":\"scatter\"},{\"hovertemplate\":\"variable=wide_variable_38\\u003cbr\\u003eindex=%{x}\\u003cbr\\u003evalue=%{y}\\u003cextra\\u003e\\u003c\\u002fextra\\u003e\",\"legendgroup\":\"wide_variable_38\",\"line\":{\"color\":\"#FF97FF\",\"dash\":\"solid\"},\"marker\":{\"symbol\":\"circle\"},\"mode\":\"lines\",\"name\":\"wide_variable_38\",\"orientation\":\"v\",\"showlegend\":true,\"x\":[0,1,2,3,4,5,6,7,8],\"xaxis\":\"x\",\"y\":[0.829133064516129,0.828125,0.8185483870967742,0.8497983870967742,0.8704637096774194,0.8467741935483871,0.8503024193548387,0.8452620967741935,0.8785282258064516],\"yaxis\":\"y\",\"type\":\"scatter\"},{\"hovertemplate\":\"variable=wide_variable_39\\u003cbr\\u003eindex=%{x}\\u003cbr\\u003evalue=%{y}\\u003cextra\\u003e\\u003c\\u002fextra\\u003e\",\"legendgroup\":\"wide_variable_39\",\"line\":{\"color\":\"#FECB52\",\"dash\":\"solid\"},\"marker\":{\"symbol\":\"circle\"},\"mode\":\"lines\",\"name\":\"wide_variable_39\",\"orientation\":\"v\",\"showlegend\":true,\"x\":[0,1,2,3,4,5,6,7,8],\"xaxis\":\"x\",\"y\":[0.7540322580645161,0.7903225806451613,0.7787298387096774,0.7842741935483871,0.8079637096774194,0.7817540322580645,0.8230846774193549,0.8150201612903226,0.8397177419354839],\"yaxis\":\"y\",\"type\":\"scatter\"},{\"hovertemplate\":\"variable=wide_variable_40\\u003cbr\\u003eindex=%{x}\\u003cbr\\u003evalue=%{y}\\u003cextra\\u003e\\u003c\\u002fextra\\u003e\",\"legendgroup\":\"wide_variable_40\",\"line\":{\"color\":\"#636efa\",\"dash\":\"solid\"},\"marker\":{\"symbol\":\"circle\"},\"mode\":\"lines\",\"name\":\"wide_variable_40\",\"orientation\":\"v\",\"showlegend\":true,\"x\":[0,1,2,3,4,5,6,7,8],\"xaxis\":\"x\",\"y\":[0.6582661290322581,0.6824596774193549,0.6980846774193549,0.6950604838709677,0.7101814516129032,0.7091733870967742,0.7076612903225806,0.7116935483870968,0.7227822580645161],\"yaxis\":\"y\",\"type\":\"scatter\"},{\"hovertemplate\":\"variable=wide_variable_41\\u003cbr\\u003eindex=%{x}\\u003cbr\\u003evalue=%{y}\\u003cextra\\u003e\\u003c\\u002fextra\\u003e\",\"legendgroup\":\"wide_variable_41\",\"line\":{\"color\":\"#EF553B\",\"dash\":\"solid\"},\"marker\":{\"symbol\":\"circle\"},\"mode\":\"lines\",\"name\":\"wide_variable_41\",\"orientation\":\"v\",\"showlegend\":true,\"x\":[0,1,2,3,4,5,6,7,8],\"xaxis\":\"x\",\"y\":[0.795866935483871,0.796875,0.8276209677419355,0.827116935483871,0.8361895161290323,0.8422379032258065,0.8256048387096774,0.827116935483871,0.8417338709677419],\"yaxis\":\"y\",\"type\":\"scatter\"},{\"hovertemplate\":\"variable=wide_variable_42\\u003cbr\\u003eindex=%{x}\\u003cbr\\u003evalue=%{y}\\u003cextra\\u003e\\u003c\\u002fextra\\u003e\",\"legendgroup\":\"wide_variable_42\",\"line\":{\"color\":\"#00cc96\",\"dash\":\"solid\"},\"marker\":{\"symbol\":\"circle\"},\"mode\":\"lines\",\"name\":\"wide_variable_42\",\"orientation\":\"v\",\"showlegend\":true,\"x\":[0,1,2,3,4,5,6,7,8],\"xaxis\":\"x\",\"y\":[0.7414314516129032,0.8165322580645161,0.7832661290322581,0.7686491935483871,0.7993951612903226,0.8286290322580645,0.827116935483871,0.7550403225806451,0.8059475806451613],\"yaxis\":\"y\",\"type\":\"scatter\"},{\"hovertemplate\":\"variable=wide_variable_43\\u003cbr\\u003eindex=%{x}\\u003cbr\\u003evalue=%{y}\\u003cextra\\u003e\\u003c\\u002fextra\\u003e\",\"legendgroup\":\"wide_variable_43\",\"line\":{\"color\":\"#ab63fa\",\"dash\":\"solid\"},\"marker\":{\"symbol\":\"circle\"},\"mode\":\"lines\",\"name\":\"wide_variable_43\",\"orientation\":\"v\",\"showlegend\":true,\"x\":[0,1,2,3,4,5,6,7,8],\"xaxis\":\"x\",\"y\":[0.782258064516129,0.795866935483871,0.7797379032258065,0.7540322580645161,0.7797379032258065,0.7610887096774194,0.7913306451612904,0.8195564516129032,0.8084677419354839],\"yaxis\":\"y\",\"type\":\"scatter\"},{\"hovertemplate\":\"variable=wide_variable_44\\u003cbr\\u003eindex=%{x}\\u003cbr\\u003evalue=%{y}\\u003cextra\\u003e\\u003c\\u002fextra\\u003e\",\"legendgroup\":\"wide_variable_44\",\"line\":{\"color\":\"#FFA15A\",\"dash\":\"solid\"},\"marker\":{\"symbol\":\"circle\"},\"mode\":\"lines\",\"name\":\"wide_variable_44\",\"orientation\":\"v\",\"showlegend\":true,\"x\":[0,1,2,3,4,5,6,7,8],\"xaxis\":\"x\",\"y\":[0.7474798387096774,0.7878024193548387,0.8140120967741935,0.8220766129032258,0.8019153225806451,0.7983870967741935,0.8296370967741935,0.8004032258064516,0.8225806451612904],\"yaxis\":\"y\",\"type\":\"scatter\"},{\"hovertemplate\":\"variable=wide_variable_45\\u003cbr\\u003eindex=%{x}\\u003cbr\\u003evalue=%{y}\\u003cextra\\u003e\\u003c\\u002fextra\\u003e\",\"legendgroup\":\"wide_variable_45\",\"line\":{\"color\":\"#19d3f3\",\"dash\":\"solid\"},\"marker\":{\"symbol\":\"circle\"},\"mode\":\"lines\",\"name\":\"wide_variable_45\",\"orientation\":\"v\",\"showlegend\":true,\"x\":[0,1,2,3,4,5,6,7,8],\"xaxis\":\"x\",\"y\":[0.7560483870967742,0.7832661290322581,0.7938508064516129,0.860383064516129,0.8452620967741935,0.8714717741935484,0.8664314516129032,0.8276209677419355,0.860383064516129],\"yaxis\":\"y\",\"type\":\"scatter\"},{\"hovertemplate\":\"variable=wide_variable_46\\u003cbr\\u003eindex=%{x}\\u003cbr\\u003evalue=%{y}\\u003cextra\\u003e\\u003c\\u002fextra\\u003e\",\"legendgroup\":\"wide_variable_46\",\"line\":{\"color\":\"#FF6692\",\"dash\":\"solid\"},\"marker\":{\"symbol\":\"circle\"},\"mode\":\"lines\",\"name\":\"wide_variable_46\",\"orientation\":\"v\",\"showlegend\":true,\"x\":[0,1,2,3,4,5,6,7,8],\"xaxis\":\"x\",\"y\":[0.8079637096774194,0.8130040322580645,0.8230846774193549,0.8125,0.8256048387096774,0.8356854838709677,0.8346774193548387,0.8533266129032258,0.8407258064516129],\"yaxis\":\"y\",\"type\":\"scatter\"},{\"hovertemplate\":\"variable=wide_variable_47\\u003cbr\\u003eindex=%{x}\\u003cbr\\u003evalue=%{y}\\u003cextra\\u003e\\u003c\\u002fextra\\u003e\",\"legendgroup\":\"wide_variable_47\",\"line\":{\"color\":\"#B6E880\",\"dash\":\"solid\"},\"marker\":{\"symbol\":\"circle\"},\"mode\":\"lines\",\"name\":\"wide_variable_47\",\"orientation\":\"v\",\"showlegend\":true,\"x\":[0,1,2,3,4,5,6,7,8],\"xaxis\":\"x\",\"y\":[0.8044354838709677,0.8049395161290323,0.8230846774193549,0.8316532258064516,0.8361895161290323,0.8422379032258065,0.8180443548387096,0.8407258064516129,0.8321572580645161],\"yaxis\":\"y\",\"type\":\"scatter\"},{\"hovertemplate\":\"variable=wide_variable_48\\u003cbr\\u003eindex=%{x}\\u003cbr\\u003evalue=%{y}\\u003cextra\\u003e\\u003c\\u002fextra\\u003e\",\"legendgroup\":\"wide_variable_48\",\"line\":{\"color\":\"#FF97FF\",\"dash\":\"solid\"},\"marker\":{\"symbol\":\"circle\"},\"mode\":\"lines\",\"name\":\"wide_variable_48\",\"orientation\":\"v\",\"showlegend\":true,\"x\":[0,1,2,3,4,5,6,7,8],\"xaxis\":\"x\",\"y\":[0.8029233870967742,0.8079637096774194,0.8200604838709677,0.8014112903225806,0.7888104838709677,0.8316532258064516,0.8079637096774194,0.8377016129032258,0.8029233870967742],\"yaxis\":\"y\",\"type\":\"scatter\"},{\"hovertemplate\":\"variable=wide_variable_49\\u003cbr\\u003eindex=%{x}\\u003cbr\\u003evalue=%{y}\\u003cextra\\u003e\\u003c\\u002fextra\\u003e\",\"legendgroup\":\"wide_variable_49\",\"line\":{\"color\":\"#FECB52\",\"dash\":\"solid\"},\"marker\":{\"symbol\":\"circle\"},\"mode\":\"lines\",\"name\":\"wide_variable_49\",\"orientation\":\"v\",\"showlegend\":true,\"x\":[0,1,2,3,4,5,6,7,8],\"xaxis\":\"x\",\"y\":[0.7631048387096774,0.7872983870967742,0.7953629032258065,0.7993951612903226,0.7862903225806451,0.7293346774193549,0.7913306451612904,0.7540322580645161,0.7782258064516129],\"yaxis\":\"y\",\"type\":\"scatter\"}],                        {\"template\":{\"data\":{\"histogram2dcontour\":[{\"type\":\"histogram2dcontour\",\"colorbar\":{\"outlinewidth\":0,\"ticks\":\"\"},\"colorscale\":[[0.0,\"#0d0887\"],[0.1111111111111111,\"#46039f\"],[0.2222222222222222,\"#7201a8\"],[0.3333333333333333,\"#9c179e\"],[0.4444444444444444,\"#bd3786\"],[0.5555555555555556,\"#d8576b\"],[0.6666666666666666,\"#ed7953\"],[0.7777777777777778,\"#fb9f3a\"],[0.8888888888888888,\"#fdca26\"],[1.0,\"#f0f921\"]]}],\"choropleth\":[{\"type\":\"choropleth\",\"colorbar\":{\"outlinewidth\":0,\"ticks\":\"\"}}],\"histogram2d\":[{\"type\":\"histogram2d\",\"colorbar\":{\"outlinewidth\":0,\"ticks\":\"\"},\"colorscale\":[[0.0,\"#0d0887\"],[0.1111111111111111,\"#46039f\"],[0.2222222222222222,\"#7201a8\"],[0.3333333333333333,\"#9c179e\"],[0.4444444444444444,\"#bd3786\"],[0.5555555555555556,\"#d8576b\"],[0.6666666666666666,\"#ed7953\"],[0.7777777777777778,\"#fb9f3a\"],[0.8888888888888888,\"#fdca26\"],[1.0,\"#f0f921\"]]}],\"heatmap\":[{\"type\":\"heatmap\",\"colorbar\":{\"outlinewidth\":0,\"ticks\":\"\"},\"colorscale\":[[0.0,\"#0d0887\"],[0.1111111111111111,\"#46039f\"],[0.2222222222222222,\"#7201a8\"],[0.3333333333333333,\"#9c179e\"],[0.4444444444444444,\"#bd3786\"],[0.5555555555555556,\"#d8576b\"],[0.6666666666666666,\"#ed7953\"],[0.7777777777777778,\"#fb9f3a\"],[0.8888888888888888,\"#fdca26\"],[1.0,\"#f0f921\"]]}],\"heatmapgl\":[{\"type\":\"heatmapgl\",\"colorbar\":{\"outlinewidth\":0,\"ticks\":\"\"},\"colorscale\":[[0.0,\"#0d0887\"],[0.1111111111111111,\"#46039f\"],[0.2222222222222222,\"#7201a8\"],[0.3333333333333333,\"#9c179e\"],[0.4444444444444444,\"#bd3786\"],[0.5555555555555556,\"#d8576b\"],[0.6666666666666666,\"#ed7953\"],[0.7777777777777778,\"#fb9f3a\"],[0.8888888888888888,\"#fdca26\"],[1.0,\"#f0f921\"]]}],\"contourcarpet\":[{\"type\":\"contourcarpet\",\"colorbar\":{\"outlinewidth\":0,\"ticks\":\"\"}}],\"contour\":[{\"type\":\"contour\",\"colorbar\":{\"outlinewidth\":0,\"ticks\":\"\"},\"colorscale\":[[0.0,\"#0d0887\"],[0.1111111111111111,\"#46039f\"],[0.2222222222222222,\"#7201a8\"],[0.3333333333333333,\"#9c179e\"],[0.4444444444444444,\"#bd3786\"],[0.5555555555555556,\"#d8576b\"],[0.6666666666666666,\"#ed7953\"],[0.7777777777777778,\"#fb9f3a\"],[0.8888888888888888,\"#fdca26\"],[1.0,\"#f0f921\"]]}],\"surface\":[{\"type\":\"surface\",\"colorbar\":{\"outlinewidth\":0,\"ticks\":\"\"},\"colorscale\":[[0.0,\"#0d0887\"],[0.1111111111111111,\"#46039f\"],[0.2222222222222222,\"#7201a8\"],[0.3333333333333333,\"#9c179e\"],[0.4444444444444444,\"#bd3786\"],[0.5555555555555556,\"#d8576b\"],[0.6666666666666666,\"#ed7953\"],[0.7777777777777778,\"#fb9f3a\"],[0.8888888888888888,\"#fdca26\"],[1.0,\"#f0f921\"]]}],\"mesh3d\":[{\"type\":\"mesh3d\",\"colorbar\":{\"outlinewidth\":0,\"ticks\":\"\"}}],\"scatter\":[{\"fillpattern\":{\"fillmode\":\"overlay\",\"size\":10,\"solidity\":0.2},\"type\":\"scatter\"}],\"parcoords\":[{\"type\":\"parcoords\",\"line\":{\"colorbar\":{\"outlinewidth\":0,\"ticks\":\"\"}}}],\"scatterpolargl\":[{\"type\":\"scatterpolargl\",\"marker\":{\"colorbar\":{\"outlinewidth\":0,\"ticks\":\"\"}}}],\"bar\":[{\"error_x\":{\"color\":\"#2a3f5f\"},\"error_y\":{\"color\":\"#2a3f5f\"},\"marker\":{\"line\":{\"color\":\"#E5ECF6\",\"width\":0.5},\"pattern\":{\"fillmode\":\"overlay\",\"size\":10,\"solidity\":0.2}},\"type\":\"bar\"}],\"scattergeo\":[{\"type\":\"scattergeo\",\"marker\":{\"colorbar\":{\"outlinewidth\":0,\"ticks\":\"\"}}}],\"scatterpolar\":[{\"type\":\"scatterpolar\",\"marker\":{\"colorbar\":{\"outlinewidth\":0,\"ticks\":\"\"}}}],\"histogram\":[{\"marker\":{\"pattern\":{\"fillmode\":\"overlay\",\"size\":10,\"solidity\":0.2}},\"type\":\"histogram\"}],\"scattergl\":[{\"type\":\"scattergl\",\"marker\":{\"colorbar\":{\"outlinewidth\":0,\"ticks\":\"\"}}}],\"scatter3d\":[{\"type\":\"scatter3d\",\"line\":{\"colorbar\":{\"outlinewidth\":0,\"ticks\":\"\"}},\"marker\":{\"colorbar\":{\"outlinewidth\":0,\"ticks\":\"\"}}}],\"scattermapbox\":[{\"type\":\"scattermapbox\",\"marker\":{\"colorbar\":{\"outlinewidth\":0,\"ticks\":\"\"}}}],\"scatterternary\":[{\"type\":\"scatterternary\",\"marker\":{\"colorbar\":{\"outlinewidth\":0,\"ticks\":\"\"}}}],\"scattercarpet\":[{\"type\":\"scattercarpet\",\"marker\":{\"colorbar\":{\"outlinewidth\":0,\"ticks\":\"\"}}}],\"carpet\":[{\"aaxis\":{\"endlinecolor\":\"#2a3f5f\",\"gridcolor\":\"white\",\"linecolor\":\"white\",\"minorgridcolor\":\"white\",\"startlinecolor\":\"#2a3f5f\"},\"baxis\":{\"endlinecolor\":\"#2a3f5f\",\"gridcolor\":\"white\",\"linecolor\":\"white\",\"minorgridcolor\":\"white\",\"startlinecolor\":\"#2a3f5f\"},\"type\":\"carpet\"}],\"table\":[{\"cells\":{\"fill\":{\"color\":\"#EBF0F8\"},\"line\":{\"color\":\"white\"}},\"header\":{\"fill\":{\"color\":\"#C8D4E3\"},\"line\":{\"color\":\"white\"}},\"type\":\"table\"}],\"barpolar\":[{\"marker\":{\"line\":{\"color\":\"#E5ECF6\",\"width\":0.5},\"pattern\":{\"fillmode\":\"overlay\",\"size\":10,\"solidity\":0.2}},\"type\":\"barpolar\"}],\"pie\":[{\"automargin\":true,\"type\":\"pie\"}]},\"layout\":{\"autotypenumbers\":\"strict\",\"colorway\":[\"#636efa\",\"#EF553B\",\"#00cc96\",\"#ab63fa\",\"#FFA15A\",\"#19d3f3\",\"#FF6692\",\"#B6E880\",\"#FF97FF\",\"#FECB52\"],\"font\":{\"color\":\"#2a3f5f\"},\"hovermode\":\"closest\",\"hoverlabel\":{\"align\":\"left\"},\"paper_bgcolor\":\"white\",\"plot_bgcolor\":\"#E5ECF6\",\"polar\":{\"bgcolor\":\"#E5ECF6\",\"angularaxis\":{\"gridcolor\":\"white\",\"linecolor\":\"white\",\"ticks\":\"\"},\"radialaxis\":{\"gridcolor\":\"white\",\"linecolor\":\"white\",\"ticks\":\"\"}},\"ternary\":{\"bgcolor\":\"#E5ECF6\",\"aaxis\":{\"gridcolor\":\"white\",\"linecolor\":\"white\",\"ticks\":\"\"},\"baxis\":{\"gridcolor\":\"white\",\"linecolor\":\"white\",\"ticks\":\"\"},\"caxis\":{\"gridcolor\":\"white\",\"linecolor\":\"white\",\"ticks\":\"\"}},\"coloraxis\":{\"colorbar\":{\"outlinewidth\":0,\"ticks\":\"\"}},\"colorscale\":{\"sequential\":[[0.0,\"#0d0887\"],[0.1111111111111111,\"#46039f\"],[0.2222222222222222,\"#7201a8\"],[0.3333333333333333,\"#9c179e\"],[0.4444444444444444,\"#bd3786\"],[0.5555555555555556,\"#d8576b\"],[0.6666666666666666,\"#ed7953\"],[0.7777777777777778,\"#fb9f3a\"],[0.8888888888888888,\"#fdca26\"],[1.0,\"#f0f921\"]],\"sequentialminus\":[[0.0,\"#0d0887\"],[0.1111111111111111,\"#46039f\"],[0.2222222222222222,\"#7201a8\"],[0.3333333333333333,\"#9c179e\"],[0.4444444444444444,\"#bd3786\"],[0.5555555555555556,\"#d8576b\"],[0.6666666666666666,\"#ed7953\"],[0.7777777777777778,\"#fb9f3a\"],[0.8888888888888888,\"#fdca26\"],[1.0,\"#f0f921\"]],\"diverging\":[[0,\"#8e0152\"],[0.1,\"#c51b7d\"],[0.2,\"#de77ae\"],[0.3,\"#f1b6da\"],[0.4,\"#fde0ef\"],[0.5,\"#f7f7f7\"],[0.6,\"#e6f5d0\"],[0.7,\"#b8e186\"],[0.8,\"#7fbc41\"],[0.9,\"#4d9221\"],[1,\"#276419\"]]},\"xaxis\":{\"gridcolor\":\"white\",\"linecolor\":\"white\",\"ticks\":\"\",\"title\":{\"standoff\":15},\"zerolinecolor\":\"white\",\"automargin\":true,\"zerolinewidth\":2},\"yaxis\":{\"gridcolor\":\"white\",\"linecolor\":\"white\",\"ticks\":\"\",\"title\":{\"standoff\":15},\"zerolinecolor\":\"white\",\"automargin\":true,\"zerolinewidth\":2},\"scene\":{\"xaxis\":{\"backgroundcolor\":\"#E5ECF6\",\"gridcolor\":\"white\",\"linecolor\":\"white\",\"showbackground\":true,\"ticks\":\"\",\"zerolinecolor\":\"white\",\"gridwidth\":2},\"yaxis\":{\"backgroundcolor\":\"#E5ECF6\",\"gridcolor\":\"white\",\"linecolor\":\"white\",\"showbackground\":true,\"ticks\":\"\",\"zerolinecolor\":\"white\",\"gridwidth\":2},\"zaxis\":{\"backgroundcolor\":\"#E5ECF6\",\"gridcolor\":\"white\",\"linecolor\":\"white\",\"showbackground\":true,\"ticks\":\"\",\"zerolinecolor\":\"white\",\"gridwidth\":2}},\"shapedefaults\":{\"line\":{\"color\":\"#2a3f5f\"}},\"annotationdefaults\":{\"arrowcolor\":\"#2a3f5f\",\"arrowhead\":0,\"arrowwidth\":1},\"geo\":{\"bgcolor\":\"white\",\"landcolor\":\"#E5ECF6\",\"subunitcolor\":\"white\",\"showland\":true,\"showlakes\":true,\"lakecolor\":\"white\"},\"title\":{\"x\":0.05},\"mapbox\":{\"style\":\"light\"}}},\"xaxis\":{\"anchor\":\"y\",\"domain\":[0.0,1.0],\"title\":{\"text\":\"index\"}},\"yaxis\":{\"anchor\":\"x\",\"domain\":[0.0,1.0],\"title\":{\"text\":\"value\"}},\"legend\":{\"title\":{\"text\":\"variable\"},\"tracegroupgap\":0},\"margin\":{\"t\":60}},                        {\"responsive\": true}                    ).then(function(){\n",
       "                            \n",
       "var gd = document.getElementById('28ee3c4f-81d1-4f59-a748-ed4e8839a6b6');\n",
       "var x = new MutationObserver(function (mutations, observer) {{\n",
       "        var display = window.getComputedStyle(gd).display;\n",
       "        if (!display || display === 'none') {{\n",
       "            console.log([gd, 'removed!']);\n",
       "            Plotly.purge(gd);\n",
       "            observer.disconnect();\n",
       "        }}\n",
       "}});\n",
       "\n",
       "// Listen for the removal of the full notebook cells\n",
       "var notebookContainer = gd.closest('#notebook-container');\n",
       "if (notebookContainer) {{\n",
       "    x.observe(notebookContainer, {childList: true});\n",
       "}}\n",
       "\n",
       "// Listen for the clearing of the current output cell\n",
       "var outputEl = gd.closest('.output');\n",
       "if (outputEl) {{\n",
       "    x.observe(outputEl, {childList: true});\n",
       "}}\n",
       "\n",
       "                        })                };                });            </script>        </div>"
      ]
     },
     "metadata": {},
     "output_type": "display_data"
    }
   ],
   "source": [
    "plot_df = df.iloc[:50]\n",
    "# plot_df = df[df[\"model\"] == \"dm_nfnet_f0\"]\n",
    "px.line(y=plot_df[\"test_profile\"].tolist(), labels=plot_df[\"model\"].tolist())"
   ]
  },
  {
   "cell_type": "code",
   "execution_count": 102,
   "id": "16570ed7-7cd1-447c-a359-bd7fcb83a7e3",
   "metadata": {},
   "outputs": [
    {
     "name": "stdout",
     "output_type": "stream",
     "text": [
      "Help on function line in module plotly.express._chart_types:\n",
      "\n",
      "line(data_frame=None, x=None, y=None, line_group=None, color=None, line_dash=None, symbol=None, hover_name=None, hover_data=None, custom_data=None, text=None, facet_row=None, facet_col=None, facet_col_wrap=0, facet_row_spacing=None, facet_col_spacing=None, error_x=None, error_x_minus=None, error_y=None, error_y_minus=None, animation_frame=None, animation_group=None, category_orders=None, labels=None, orientation=None, color_discrete_sequence=None, color_discrete_map=None, line_dash_sequence=None, line_dash_map=None, symbol_sequence=None, symbol_map=None, markers=False, log_x=False, log_y=False, range_x=None, range_y=None, line_shape=None, render_mode='auto', title=None, template=None, width=None, height=None) -> plotly.graph_objs._figure.Figure\n",
      "        In a 2D line plot, each row of `data_frame` is represented as vertex of\n",
      "        a polyline mark in 2D space.\n",
      "        \n",
      "    Parameters\n",
      "    ----------\n",
      "    data_frame: DataFrame or array-like or dict\n",
      "        This argument needs to be passed for column names (and not keyword\n",
      "        names) to be used. Array-like and dict are transformed internally to a\n",
      "        pandas DataFrame. Optional: if missing, a DataFrame gets constructed\n",
      "        under the hood using the other arguments.\n",
      "    x: str or int or Series or array-like\n",
      "        Either a name of a column in `data_frame`, or a pandas Series or\n",
      "        array_like object. Values from this column or array_like are used to\n",
      "        position marks along the x axis in cartesian coordinates. Either `x` or\n",
      "        `y` can optionally be a list of column references or array_likes,  in\n",
      "        which case the data will be treated as if it were 'wide' rather than\n",
      "        'long'.\n",
      "    y: str or int or Series or array-like\n",
      "        Either a name of a column in `data_frame`, or a pandas Series or\n",
      "        array_like object. Values from this column or array_like are used to\n",
      "        position marks along the y axis in cartesian coordinates. Either `x` or\n",
      "        `y` can optionally be a list of column references or array_likes,  in\n",
      "        which case the data will be treated as if it were 'wide' rather than\n",
      "        'long'.\n",
      "    line_group: str or int or Series or array-like\n",
      "        Either a name of a column in `data_frame`, or a pandas Series or\n",
      "        array_like object. Values from this column or array_like are used to\n",
      "        group rows of `data_frame` into lines.\n",
      "    color: str or int or Series or array-like\n",
      "        Either a name of a column in `data_frame`, or a pandas Series or\n",
      "        array_like object. Values from this column or array_like are used to\n",
      "        assign color to marks.\n",
      "    line_dash: str or int or Series or array-like\n",
      "        Either a name of a column in `data_frame`, or a pandas Series or\n",
      "        array_like object. Values from this column or array_like are used to\n",
      "        assign dash-patterns to lines.\n",
      "    symbol: str or int or Series or array-like\n",
      "        Either a name of a column in `data_frame`, or a pandas Series or\n",
      "        array_like object. Values from this column or array_like are used to\n",
      "        assign symbols to marks.\n",
      "    hover_name: str or int or Series or array-like\n",
      "        Either a name of a column in `data_frame`, or a pandas Series or\n",
      "        array_like object. Values from this column or array_like appear in bold\n",
      "        in the hover tooltip.\n",
      "    hover_data: str, or list of str or int, or Series or array-like, or dict\n",
      "        Either a name or list of names of columns in `data_frame`, or pandas\n",
      "        Series, or array_like objects or a dict with column names as keys, with\n",
      "        values True (for default formatting) False (in order to remove this\n",
      "        column from hover information), or a formatting string, for example\n",
      "        ':.3f' or '|%a' or list-like data to appear in the hover tooltip or\n",
      "        tuples with a bool or formatting string as first element, and list-like\n",
      "        data to appear in hover as second element Values from these columns\n",
      "        appear as extra data in the hover tooltip.\n",
      "    custom_data: str, or list of str or int, or Series or array-like\n",
      "        Either name or list of names of columns in `data_frame`, or pandas\n",
      "        Series, or array_like objects Values from these columns are extra data,\n",
      "        to be used in widgets or Dash callbacks for example. This data is not\n",
      "        user-visible but is included in events emitted by the figure (lasso\n",
      "        selection etc.)\n",
      "    text: str or int or Series or array-like\n",
      "        Either a name of a column in `data_frame`, or a pandas Series or\n",
      "        array_like object. Values from this column or array_like appear in the\n",
      "        figure as text labels.\n",
      "    facet_row: str or int or Series or array-like\n",
      "        Either a name of a column in `data_frame`, or a pandas Series or\n",
      "        array_like object. Values from this column or array_like are used to\n",
      "        assign marks to facetted subplots in the vertical direction.\n",
      "    facet_col: str or int or Series or array-like\n",
      "        Either a name of a column in `data_frame`, or a pandas Series or\n",
      "        array_like object. Values from this column or array_like are used to\n",
      "        assign marks to facetted subplots in the horizontal direction.\n",
      "    facet_col_wrap: int\n",
      "        Maximum number of facet columns. Wraps the column variable at this\n",
      "        width, so that the column facets span multiple rows. Ignored if 0, and\n",
      "        forced to 0 if `facet_row` or a `marginal` is set.\n",
      "    facet_row_spacing: float between 0 and 1\n",
      "        Spacing between facet rows, in paper units. Default is 0.03 or 0.0.7\n",
      "        when facet_col_wrap is used.\n",
      "    facet_col_spacing: float between 0 and 1\n",
      "        Spacing between facet columns, in paper units Default is 0.02.\n",
      "    error_x: str or int or Series or array-like\n",
      "        Either a name of a column in `data_frame`, or a pandas Series or\n",
      "        array_like object. Values from this column or array_like are used to\n",
      "        size x-axis error bars. If `error_x_minus` is `None`, error bars will\n",
      "        be symmetrical, otherwise `error_x` is used for the positive direction\n",
      "        only.\n",
      "    error_x_minus: str or int or Series or array-like\n",
      "        Either a name of a column in `data_frame`, or a pandas Series or\n",
      "        array_like object. Values from this column or array_like are used to\n",
      "        size x-axis error bars in the negative direction. Ignored if `error_x`\n",
      "        is `None`.\n",
      "    error_y: str or int or Series or array-like\n",
      "        Either a name of a column in `data_frame`, or a pandas Series or\n",
      "        array_like object. Values from this column or array_like are used to\n",
      "        size y-axis error bars. If `error_y_minus` is `None`, error bars will\n",
      "        be symmetrical, otherwise `error_y` is used for the positive direction\n",
      "        only.\n",
      "    error_y_minus: str or int or Series or array-like\n",
      "        Either a name of a column in `data_frame`, or a pandas Series or\n",
      "        array_like object. Values from this column or array_like are used to\n",
      "        size y-axis error bars in the negative direction. Ignored if `error_y`\n",
      "        is `None`.\n",
      "    animation_frame: str or int or Series or array-like\n",
      "        Either a name of a column in `data_frame`, or a pandas Series or\n",
      "        array_like object. Values from this column or array_like are used to\n",
      "        assign marks to animation frames.\n",
      "    animation_group: str or int or Series or array-like\n",
      "        Either a name of a column in `data_frame`, or a pandas Series or\n",
      "        array_like object. Values from this column or array_like are used to\n",
      "        provide object-constancy across animation frames: rows with matching\n",
      "        `animation_group`s will be treated as if they describe the same object\n",
      "        in each frame.\n",
      "    category_orders: dict with str keys and list of str values (default `{}`)\n",
      "        By default, in Python 3.6+, the order of categorical values in axes,\n",
      "        legends and facets depends on the order in which these values are first\n",
      "        encountered in `data_frame` (and no order is guaranteed by default in\n",
      "        Python below 3.6). This parameter is used to force a specific ordering\n",
      "        of values per column. The keys of this dict should correspond to column\n",
      "        names, and the values should be lists of strings corresponding to the\n",
      "        specific display order desired.\n",
      "    labels: dict with str keys and str values (default `{}`)\n",
      "        By default, column names are used in the figure for axis titles, legend\n",
      "        entries and hovers. This parameter allows this to be overridden. The\n",
      "        keys of this dict should correspond to column names, and the values\n",
      "        should correspond to the desired label to be displayed.\n",
      "    orientation: str, one of `'h'` for horizontal or `'v'` for vertical. \n",
      "        (default `'v'` if `x` and `y` are provided and both continous or both\n",
      "        categorical,  otherwise `'v'`(`'h'`) if `x`(`y`) is categorical and\n",
      "        `y`(`x`) is continuous,  otherwise `'v'`(`'h'`) if only `x`(`y`) is\n",
      "        provided)\n",
      "    color_discrete_sequence: list of str\n",
      "        Strings should define valid CSS-colors. When `color` is set and the\n",
      "        values in the corresponding column are not numeric, values in that\n",
      "        column are assigned colors by cycling through `color_discrete_sequence`\n",
      "        in the order described in `category_orders`, unless the value of\n",
      "        `color` is a key in `color_discrete_map`. Various useful color\n",
      "        sequences are available in the `plotly.express.colors` submodules,\n",
      "        specifically `plotly.express.colors.qualitative`.\n",
      "    color_discrete_map: dict with str keys and str values (default `{}`)\n",
      "        String values should define valid CSS-colors Used to override\n",
      "        `color_discrete_sequence` to assign a specific colors to marks\n",
      "        corresponding with specific values. Keys in `color_discrete_map` should\n",
      "        be values in the column denoted by `color`. Alternatively, if the\n",
      "        values of `color` are valid colors, the string `'identity'` may be\n",
      "        passed to cause them to be used directly.\n",
      "    line_dash_sequence: list of str\n",
      "        Strings should define valid plotly.js dash-patterns. When `line_dash`\n",
      "        is set, values in that column are assigned dash-patterns by cycling\n",
      "        through `line_dash_sequence` in the order described in\n",
      "        `category_orders`, unless the value of `line_dash` is a key in\n",
      "        `line_dash_map`.\n",
      "    line_dash_map: dict with str keys and str values (default `{}`)\n",
      "        Strings values define plotly.js dash-patterns. Used to override\n",
      "        `line_dash_sequences` to assign a specific dash-patterns to lines\n",
      "        corresponding with specific values. Keys in `line_dash_map` should be\n",
      "        values in the column denoted by `line_dash`. Alternatively, if the\n",
      "        values of `line_dash` are valid line-dash names, the string\n",
      "        `'identity'` may be passed to cause them to be used directly.\n",
      "    symbol_sequence: list of str\n",
      "        Strings should define valid plotly.js symbols. When `symbol` is set,\n",
      "        values in that column are assigned symbols by cycling through\n",
      "        `symbol_sequence` in the order described in `category_orders`, unless\n",
      "        the value of `symbol` is a key in `symbol_map`.\n",
      "    symbol_map: dict with str keys and str values (default `{}`)\n",
      "        String values should define plotly.js symbols Used to override\n",
      "        `symbol_sequence` to assign a specific symbols to marks corresponding\n",
      "        with specific values. Keys in `symbol_map` should be values in the\n",
      "        column denoted by `symbol`. Alternatively, if the values of `symbol`\n",
      "        are valid symbol names, the string `'identity'` may be passed to cause\n",
      "        them to be used directly.\n",
      "    markers: boolean (default `False`)\n",
      "        If `True`, markers are shown on lines.\n",
      "    log_x: boolean (default `False`)\n",
      "        If `True`, the x-axis is log-scaled in cartesian coordinates.\n",
      "    log_y: boolean (default `False`)\n",
      "        If `True`, the y-axis is log-scaled in cartesian coordinates.\n",
      "    range_x: list of two numbers\n",
      "        If provided, overrides auto-scaling on the x-axis in cartesian\n",
      "        coordinates.\n",
      "    range_y: list of two numbers\n",
      "        If provided, overrides auto-scaling on the y-axis in cartesian\n",
      "        coordinates.\n",
      "    line_shape: str (default `'linear'`)\n",
      "        One of `'linear'` or `'spline'`.\n",
      "    render_mode: str\n",
      "        One of `'auto'`, `'svg'` or `'webgl'`, default `'auto'` Controls the\n",
      "        browser API used to draw marks. `'svg`' is appropriate for figures of\n",
      "        less than 1000 data points, and will allow for fully-vectorized output.\n",
      "        `'webgl'` is likely necessary for acceptable performance above 1000\n",
      "        points but rasterizes part of the output.  `'auto'` uses heuristics to\n",
      "        choose the mode.\n",
      "    title: str\n",
      "        The figure title.\n",
      "    template: str or dict or plotly.graph_objects.layout.Template instance\n",
      "        The figure template name (must be a key in plotly.io.templates) or\n",
      "        definition.\n",
      "    width: int (default `None`)\n",
      "        The figure width in pixels.\n",
      "    height: int (default `None`)\n",
      "        The figure height in pixels.\n",
      "    \n",
      "    Returns\n",
      "    -------\n",
      "        plotly.graph_objects.Figure\n",
      "\n"
     ]
    }
   ],
   "source": [
    "help(px.line)"
   ]
  },
  {
   "cell_type": "code",
   "execution_count": 52,
   "id": "70496c46-e73f-4879-b510-690c6b0eb7cb",
   "metadata": {},
   "outputs": [
    {
     "data": {
      "text/html": [
       "<div>\n",
       "<style scoped>\n",
       "    .dataframe tbody tr th:only-of-type {\n",
       "        vertical-align: middle;\n",
       "    }\n",
       "\n",
       "    .dataframe tbody tr th {\n",
       "        vertical-align: top;\n",
       "    }\n",
       "\n",
       "    .dataframe thead th {\n",
       "        text-align: right;\n",
       "    }\n",
       "</style>\n",
       "<table border=\"1\" class=\"dataframe\">\n",
       "  <thead>\n",
       "    <tr style=\"text-align: right;\">\n",
       "      <th></th>\n",
       "      <th>model</th>\n",
       "      <th>num_param</th>\n",
       "      <th>memT</th>\n",
       "      <th>memR</th>\n",
       "      <th>memA</th>\n",
       "      <th>memM</th>\n",
       "      <th>energy</th>\n",
       "      <th>co2</th>\n",
       "      <th>train_time</th>\n",
       "      <th>infer_time</th>\n",
       "      <th>...</th>\n",
       "      <th>test_05</th>\n",
       "      <th>test_06</th>\n",
       "      <th>test_07</th>\n",
       "      <th>test_08</th>\n",
       "      <th>test_09</th>\n",
       "      <th>pretrain</th>\n",
       "      <th>type</th>\n",
       "      <th>efficiency</th>\n",
       "      <th>dataset</th>\n",
       "      <th>test_profile</th>\n",
       "    </tr>\n",
       "  </thead>\n",
       "  <tbody>\n",
       "    <tr>\n",
       "      <th>122</th>\n",
       "      <td>nasnetalarge</td>\n",
       "      <td>88753150</td>\n",
       "      <td>25.435111</td>\n",
       "      <td>21.130904</td>\n",
       "      <td>1.418934</td>\n",
       "      <td>20.245244</td>\n",
       "      <td>0.174988</td>\n",
       "      <td>13.342814</td>\n",
       "      <td>107.049753</td>\n",
       "      <td>0</td>\n",
       "      <td>...</td>\n",
       "      <td>0.826109</td>\n",
       "      <td>0.835181</td>\n",
       "      <td>0.827621</td>\n",
       "      <td>0.847278</td>\n",
       "      <td>0.836190</td>\n",
       "      <td>1.0</td>\n",
       "      <td>Other</td>\n",
       "      <td>0</td>\n",
       "      <td>derma_pt</td>\n",
       "      <td>[0.7636088709677419, 0.7948588709677419, 0.826...</td>\n",
       "    </tr>\n",
       "    <tr>\n",
       "      <th>253</th>\n",
       "      <td>nasnetalarge</td>\n",
       "      <td>88753150</td>\n",
       "      <td>25.435111</td>\n",
       "      <td>21.336424</td>\n",
       "      <td>1.389253</td>\n",
       "      <td>20.229133</td>\n",
       "      <td>0.227686</td>\n",
       "      <td>7.855172</td>\n",
       "      <td>138.659011</td>\n",
       "      <td>0</td>\n",
       "      <td>...</td>\n",
       "      <td>0.681516</td>\n",
       "      <td>0.675199</td>\n",
       "      <td>0.679521</td>\n",
       "      <td>0.650931</td>\n",
       "      <td>0.685173</td>\n",
       "      <td>NaN</td>\n",
       "      <td>Other</td>\n",
       "      <td>0</td>\n",
       "      <td>lidc</td>\n",
       "      <td>[0.7134308510638298, 0.6675531914893617, 0.667...</td>\n",
       "    </tr>\n",
       "    <tr>\n",
       "      <th>384</th>\n",
       "      <td>nasnetalarge</td>\n",
       "      <td>88753150</td>\n",
       "      <td>25.435111</td>\n",
       "      <td>21.149778</td>\n",
       "      <td>1.414126</td>\n",
       "      <td>20.229133</td>\n",
       "      <td>0.038495</td>\n",
       "      <td>4.580926</td>\n",
       "      <td>23.796479</td>\n",
       "      <td>0</td>\n",
       "      <td>...</td>\n",
       "      <td>0.650598</td>\n",
       "      <td>0.620013</td>\n",
       "      <td>0.660239</td>\n",
       "      <td>0.650598</td>\n",
       "      <td>0.654255</td>\n",
       "      <td>0.0</td>\n",
       "      <td>Other</td>\n",
       "      <td>0</td>\n",
       "      <td>lidc_small</td>\n",
       "      <td>[0.6392952127659575, 0.6276595744680851, 0.626...</td>\n",
       "    </tr>\n",
       "    <tr>\n",
       "      <th>515</th>\n",
       "      <td>nasnetalarge</td>\n",
       "      <td>88753150</td>\n",
       "      <td>25.435111</td>\n",
       "      <td>21.130904</td>\n",
       "      <td>1.418934</td>\n",
       "      <td>20.245244</td>\n",
       "      <td>0.174608</td>\n",
       "      <td>9.472494</td>\n",
       "      <td>107.274882</td>\n",
       "      <td>0</td>\n",
       "      <td>...</td>\n",
       "      <td>0.717238</td>\n",
       "      <td>0.725806</td>\n",
       "      <td>0.734879</td>\n",
       "      <td>0.729839</td>\n",
       "      <td>0.710685</td>\n",
       "      <td>0.0</td>\n",
       "      <td>Other</td>\n",
       "      <td>0</td>\n",
       "      <td>derma</td>\n",
       "      <td>[0.6925403225806451, 0.6829637096774194, 0.719...</td>\n",
       "    </tr>\n",
       "    <tr>\n",
       "      <th>646</th>\n",
       "      <td>nasnetalarge</td>\n",
       "      <td>88753150</td>\n",
       "      <td>25.435111</td>\n",
       "      <td>21.130904</td>\n",
       "      <td>1.412227</td>\n",
       "      <td>20.245244</td>\n",
       "      <td>0.027606</td>\n",
       "      <td>3.643978</td>\n",
       "      <td>17.277176</td>\n",
       "      <td>0</td>\n",
       "      <td>...</td>\n",
       "      <td>0.669355</td>\n",
       "      <td>0.669355</td>\n",
       "      <td>0.624496</td>\n",
       "      <td>0.604335</td>\n",
       "      <td>0.666331</td>\n",
       "      <td>0.0</td>\n",
       "      <td>Other</td>\n",
       "      <td>0</td>\n",
       "      <td>derma_small</td>\n",
       "      <td>[0.1078629032258064, 0.6693548387096774, 0.668...</td>\n",
       "    </tr>\n",
       "    <tr>\n",
       "      <th>777</th>\n",
       "      <td>nasnetalarge</td>\n",
       "      <td>88753150</td>\n",
       "      <td>25.435111</td>\n",
       "      <td>21.281898</td>\n",
       "      <td>1.401904</td>\n",
       "      <td>20.245244</td>\n",
       "      <td>0.012814</td>\n",
       "      <td>6.086833</td>\n",
       "      <td>8.538226</td>\n",
       "      <td>0</td>\n",
       "      <td>...</td>\n",
       "      <td>0.109879</td>\n",
       "      <td>0.109879</td>\n",
       "      <td>0.109879</td>\n",
       "      <td>0.106351</td>\n",
       "      <td>0.106855</td>\n",
       "      <td>0.0</td>\n",
       "      <td>Other</td>\n",
       "      <td>0</td>\n",
       "      <td>derma_smallest</td>\n",
       "      <td>[0.6693548387096774, 0.1098790322580645, 0.109...</td>\n",
       "    </tr>\n",
       "    <tr>\n",
       "      <th>908</th>\n",
       "      <td>nasnetalarge</td>\n",
       "      <td>88753150</td>\n",
       "      <td>25.435111</td>\n",
       "      <td>21.181235</td>\n",
       "      <td>1.397316</td>\n",
       "      <td>20.229133</td>\n",
       "      <td>0.112262</td>\n",
       "      <td>6.623444</td>\n",
       "      <td>68.602174</td>\n",
       "      <td>0</td>\n",
       "      <td>...</td>\n",
       "      <td>0.916118</td>\n",
       "      <td>0.937500</td>\n",
       "      <td>0.911184</td>\n",
       "      <td>0.968750</td>\n",
       "      <td>0.927632</td>\n",
       "      <td>0.0</td>\n",
       "      <td>Other</td>\n",
       "      <td>0</td>\n",
       "      <td>pneumonia</td>\n",
       "      <td>[0.9342105263157896, 0.919407894736842, 0.9440...</td>\n",
       "    </tr>\n",
       "    <tr>\n",
       "      <th>1039</th>\n",
       "      <td>nasnetalarge</td>\n",
       "      <td>88753150</td>\n",
       "      <td>25.435111</td>\n",
       "      <td>21.149778</td>\n",
       "      <td>1.404201</td>\n",
       "      <td>20.229133</td>\n",
       "      <td>0.013618</td>\n",
       "      <td>6.468557</td>\n",
       "      <td>9.031973</td>\n",
       "      <td>0</td>\n",
       "      <td>...</td>\n",
       "      <td>0.904605</td>\n",
       "      <td>0.848684</td>\n",
       "      <td>0.876645</td>\n",
       "      <td>0.893092</td>\n",
       "      <td>0.899671</td>\n",
       "      <td>0.0</td>\n",
       "      <td>Other</td>\n",
       "      <td>0</td>\n",
       "      <td>pneumonia_small</td>\n",
       "      <td>[0.789473684210526, 0.876644736842105, 0.74013...</td>\n",
       "    </tr>\n",
       "  </tbody>\n",
       "</table>\n",
       "<p>8 rows × 27 columns</p>\n",
       "</div>"
      ],
      "text/plain": [
       "             model  num_param       memT       memR      memA       memM  \\\n",
       "122   nasnetalarge   88753150  25.435111  21.130904  1.418934  20.245244   \n",
       "253   nasnetalarge   88753150  25.435111  21.336424  1.389253  20.229133   \n",
       "384   nasnetalarge   88753150  25.435111  21.149778  1.414126  20.229133   \n",
       "515   nasnetalarge   88753150  25.435111  21.130904  1.418934  20.245244   \n",
       "646   nasnetalarge   88753150  25.435111  21.130904  1.412227  20.245244   \n",
       "777   nasnetalarge   88753150  25.435111  21.281898  1.401904  20.245244   \n",
       "908   nasnetalarge   88753150  25.435111  21.181235  1.397316  20.229133   \n",
       "1039  nasnetalarge   88753150  25.435111  21.149778  1.404201  20.229133   \n",
       "\n",
       "        energy        co2  train_time  infer_time  ...   test_05   test_06  \\\n",
       "122   0.174988  13.342814  107.049753           0  ...  0.826109  0.835181   \n",
       "253   0.227686   7.855172  138.659011           0  ...  0.681516  0.675199   \n",
       "384   0.038495   4.580926   23.796479           0  ...  0.650598  0.620013   \n",
       "515   0.174608   9.472494  107.274882           0  ...  0.717238  0.725806   \n",
       "646   0.027606   3.643978   17.277176           0  ...  0.669355  0.669355   \n",
       "777   0.012814   6.086833    8.538226           0  ...  0.109879  0.109879   \n",
       "908   0.112262   6.623444   68.602174           0  ...  0.916118  0.937500   \n",
       "1039  0.013618   6.468557    9.031973           0  ...  0.904605  0.848684   \n",
       "\n",
       "       test_07   test_08   test_09  pretrain   type  efficiency  \\\n",
       "122   0.827621  0.847278  0.836190       1.0  Other           0   \n",
       "253   0.679521  0.650931  0.685173       NaN  Other           0   \n",
       "384   0.660239  0.650598  0.654255       0.0  Other           0   \n",
       "515   0.734879  0.729839  0.710685       0.0  Other           0   \n",
       "646   0.624496  0.604335  0.666331       0.0  Other           0   \n",
       "777   0.109879  0.106351  0.106855       0.0  Other           0   \n",
       "908   0.911184  0.968750  0.927632       0.0  Other           0   \n",
       "1039  0.876645  0.893092  0.899671       0.0  Other           0   \n",
       "\n",
       "              dataset                                       test_profile  \n",
       "122          derma_pt  [0.7636088709677419, 0.7948588709677419, 0.826...  \n",
       "253              lidc  [0.7134308510638298, 0.6675531914893617, 0.667...  \n",
       "384        lidc_small  [0.6392952127659575, 0.6276595744680851, 0.626...  \n",
       "515             derma  [0.6925403225806451, 0.6829637096774194, 0.719...  \n",
       "646       derma_small  [0.1078629032258064, 0.6693548387096774, 0.668...  \n",
       "777    derma_smallest  [0.6693548387096774, 0.1098790322580645, 0.109...  \n",
       "908         pneumonia  [0.9342105263157896, 0.919407894736842, 0.9440...  \n",
       "1039  pneumonia_small  [0.789473684210526, 0.876644736842105, 0.74013...  \n",
       "\n",
       "[8 rows x 27 columns]"
      ]
     },
     "execution_count": 52,
     "metadata": {},
     "output_type": "execute_result"
    }
   ],
   "source": [
    "df[df[\"model\"] == \"nasnetalarge\"]"
   ]
  }
 ],
 "metadata": {
  "kernelspec": {
   "display_name": "Python 3 (ipykernel)",
   "language": "python",
   "name": "python3"
  },
  "language_info": {
   "codemirror_mode": {
    "name": "ipython",
    "version": 3
   },
   "file_extension": ".py",
   "mimetype": "text/x-python",
   "name": "python",
   "nbconvert_exporter": "python",
   "pygments_lexer": "ipython3",
   "version": "3.11.5"
  }
 },
 "nbformat": 4,
 "nbformat_minor": 5
}
