{
 "cells": [
  {
   "cell_type": "code",
   "execution_count": 146,
   "id": "1cc2c35d-8ac3-43de-810c-a3683c1bcbb7",
   "metadata": {},
   "outputs": [],
   "source": [
    "from pathlib import Path\n",
    "import pandas as pd\n",
    "import plotly.express as px\n",
    "import plotly.graph_objs as go\n",
    "import numpy as np\n",
    "import scipy\n",
    "import sklearn.decomposition"
   ]
  },
  {
   "cell_type": "code",
   "execution_count": 199,
   "id": "de7c5fa3-3c5a-4488-b674-ea103e7df3fa",
   "metadata": {},
   "outputs": [],
   "source": [
    "csv_files = {x.stem: x for x in (Path(\"../data\").glob(\"*.csv\"))}"
   ]
  },
  {
   "cell_type": "code",
   "execution_count": 200,
   "id": "655206fa-2d20-4fc0-a66e-01e7430bd0f4",
   "metadata": {},
   "outputs": [
    {
     "data": {
      "text/plain": [
       "Index(['model', 'num_param', 'memT', 'memR', 'memA', 'memM', 'energy', 'co2',\n",
       "       'train_time', 'infer_time', 'test_00', 'inf_time', 'tr_acc', 'test_01',\n",
       "       'test_02', 'test_03', 'test_04', 'test_05', 'test_06', 'test_07',\n",
       "       'test_08', 'test_09', 'pretrain', 'type', 'efficient', 'dataset',\n",
       "       'pen'],\n",
       "      dtype='object')"
      ]
     },
     "execution_count": 200,
     "metadata": {},
     "output_type": "execute_result"
    }
   ],
   "source": [
    "all_results_df = pd.read_csv(csv_files[\"all_results\"])\n",
    "all_results_df.columns"
   ]
  },
  {
   "cell_type": "code",
   "execution_count": 201,
   "id": "cfe77bc9-7544-4283-bf88-64a50229a7e8",
   "metadata": {},
   "outputs": [
    {
     "data": {
      "text/html": [
       "<div>\n",
       "<style scoped>\n",
       "    .dataframe tbody tr th:only-of-type {\n",
       "        vertical-align: middle;\n",
       "    }\n",
       "\n",
       "    .dataframe tbody tr th {\n",
       "        vertical-align: top;\n",
       "    }\n",
       "\n",
       "    .dataframe thead th {\n",
       "        text-align: right;\n",
       "    }\n",
       "</style>\n",
       "<table border=\"1\" class=\"dataframe\">\n",
       "  <thead>\n",
       "    <tr style=\"text-align: right;\">\n",
       "      <th></th>\n",
       "      <th>model</th>\n",
       "      <th>num_param</th>\n",
       "      <th>memT</th>\n",
       "      <th>memR</th>\n",
       "      <th>memA</th>\n",
       "      <th>memM</th>\n",
       "      <th>energy</th>\n",
       "      <th>co2</th>\n",
       "      <th>train_time</th>\n",
       "      <th>infer_time</th>\n",
       "      <th>...</th>\n",
       "      <th>test_05</th>\n",
       "      <th>test_06</th>\n",
       "      <th>test_07</th>\n",
       "      <th>test_08</th>\n",
       "      <th>test_09</th>\n",
       "      <th>pretrain</th>\n",
       "      <th>type</th>\n",
       "      <th>efficient</th>\n",
       "      <th>dataset</th>\n",
       "      <th>pen</th>\n",
       "    </tr>\n",
       "  </thead>\n",
       "  <tbody>\n",
       "    <tr>\n",
       "      <th>393</th>\n",
       "      <td>dla46x_c</td>\n",
       "      <td>1068440</td>\n",
       "      <td>25.435111</td>\n",
       "      <td>3.001025</td>\n",
       "      <td>0.038321</td>\n",
       "      <td>2.267537</td>\n",
       "      <td>0.018471</td>\n",
       "      <td>0.969729</td>\n",
       "      <td>11.889799</td>\n",
       "      <td>0</td>\n",
       "      <td>...</td>\n",
       "      <td>0.694052</td>\n",
       "      <td>0.708669</td>\n",
       "      <td>0.722782</td>\n",
       "      <td>0.731855</td>\n",
       "      <td>0.723790</td>\n",
       "      <td>0.0</td>\n",
       "      <td>CNN</td>\n",
       "      <td>0</td>\n",
       "      <td>derma</td>\n",
       "      <td>0.674952</td>\n",
       "    </tr>\n",
       "    <tr>\n",
       "      <th>394</th>\n",
       "      <td>dla46_c</td>\n",
       "      <td>1301400</td>\n",
       "      <td>25.435111</td>\n",
       "      <td>2.520777</td>\n",
       "      <td>0.042073</td>\n",
       "      <td>1.882373</td>\n",
       "      <td>0.016436</td>\n",
       "      <td>1.536767</td>\n",
       "      <td>10.464308</td>\n",
       "      <td>0</td>\n",
       "      <td>...</td>\n",
       "      <td>0.698085</td>\n",
       "      <td>0.711694</td>\n",
       "      <td>0.695565</td>\n",
       "      <td>0.706149</td>\n",
       "      <td>0.704637</td>\n",
       "      <td>0.0</td>\n",
       "      <td>CNN</td>\n",
       "      <td>0</td>\n",
       "      <td>derma</td>\n",
       "      <td>0.662012</td>\n",
       "    </tr>\n",
       "    <tr>\n",
       "      <th>395</th>\n",
       "      <td>mobilevitv2_050</td>\n",
       "      <td>1370593</td>\n",
       "      <td>25.435111</td>\n",
       "      <td>3.091202</td>\n",
       "      <td>0.060189</td>\n",
       "      <td>2.885807</td>\n",
       "      <td>0.015261</td>\n",
       "      <td>1.434517</td>\n",
       "      <td>9.933567</td>\n",
       "      <td>0</td>\n",
       "      <td>...</td>\n",
       "      <td>0.665323</td>\n",
       "      <td>0.693044</td>\n",
       "      <td>0.679435</td>\n",
       "      <td>0.680948</td>\n",
       "      <td>0.681452</td>\n",
       "      <td>0.0</td>\n",
       "      <td>Other</td>\n",
       "      <td>1</td>\n",
       "      <td>derma</td>\n",
       "      <td>0.643010</td>\n",
       "    </tr>\n",
       "    <tr>\n",
       "      <th>396</th>\n",
       "      <td>mobilenetv2_050</td>\n",
       "      <td>1968680</td>\n",
       "      <td>25.435111</td>\n",
       "      <td>2.227175</td>\n",
       "      <td>0.053616</td>\n",
       "      <td>1.934997</td>\n",
       "      <td>0.010583</td>\n",
       "      <td>1.010668</td>\n",
       "      <td>7.320693</td>\n",
       "      <td>0</td>\n",
       "      <td>...</td>\n",
       "      <td>0.652722</td>\n",
       "      <td>0.671875</td>\n",
       "      <td>0.670867</td>\n",
       "      <td>0.673891</td>\n",
       "      <td>0.684476</td>\n",
       "      <td>0.0</td>\n",
       "      <td>CNN</td>\n",
       "      <td>1</td>\n",
       "      <td>derma</td>\n",
       "      <td>0.657229</td>\n",
       "    </tr>\n",
       "    <tr>\n",
       "      <th>397</th>\n",
       "      <td>semnasnet_075</td>\n",
       "      <td>2912278</td>\n",
       "      <td>25.435111</td>\n",
       "      <td>2.791309</td>\n",
       "      <td>0.068774</td>\n",
       "      <td>2.116848</td>\n",
       "      <td>0.014516</td>\n",
       "      <td>1.386263</td>\n",
       "      <td>9.723404</td>\n",
       "      <td>0</td>\n",
       "      <td>...</td>\n",
       "      <td>0.699093</td>\n",
       "      <td>0.696069</td>\n",
       "      <td>0.708669</td>\n",
       "      <td>0.674899</td>\n",
       "      <td>0.701109</td>\n",
       "      <td>0.0</td>\n",
       "      <td>Other</td>\n",
       "      <td>1</td>\n",
       "      <td>derma</td>\n",
       "      <td>0.663386</td>\n",
       "    </tr>\n",
       "    <tr>\n",
       "      <th>...</th>\n",
       "      <td>...</td>\n",
       "      <td>...</td>\n",
       "      <td>...</td>\n",
       "      <td>...</td>\n",
       "      <td>...</td>\n",
       "      <td>...</td>\n",
       "      <td>...</td>\n",
       "      <td>...</td>\n",
       "      <td>...</td>\n",
       "      <td>...</td>\n",
       "      <td>...</td>\n",
       "      <td>...</td>\n",
       "      <td>...</td>\n",
       "      <td>...</td>\n",
       "      <td>...</td>\n",
       "      <td>...</td>\n",
       "      <td>...</td>\n",
       "      <td>...</td>\n",
       "      <td>...</td>\n",
       "      <td>...</td>\n",
       "      <td>...</td>\n",
       "    </tr>\n",
       "    <tr>\n",
       "      <th>519</th>\n",
       "      <td>ecaresnet269d</td>\n",
       "      <td>102093077</td>\n",
       "      <td>25.435111</td>\n",
       "      <td>19.860029</td>\n",
       "      <td>1.667829</td>\n",
       "      <td>19.072327</td>\n",
       "      <td>0.173975</td>\n",
       "      <td>9.177201</td>\n",
       "      <td>105.954078</td>\n",
       "      <td>0</td>\n",
       "      <td>...</td>\n",
       "      <td>0.717742</td>\n",
       "      <td>0.725302</td>\n",
       "      <td>0.727823</td>\n",
       "      <td>0.735383</td>\n",
       "      <td>0.731855</td>\n",
       "      <td>0.0</td>\n",
       "      <td>Other</td>\n",
       "      <td>1</td>\n",
       "      <td>derma</td>\n",
       "      <td>0.435230</td>\n",
       "    </tr>\n",
       "    <tr>\n",
       "      <th>520</th>\n",
       "      <td>legacy_senet154</td>\n",
       "      <td>115088984</td>\n",
       "      <td>25.435111</td>\n",
       "      <td>18.150851</td>\n",
       "      <td>1.861255</td>\n",
       "      <td>16.598430</td>\n",
       "      <td>0.184867</td>\n",
       "      <td>9.566861</td>\n",
       "      <td>112.701546</td>\n",
       "      <td>0</td>\n",
       "      <td>...</td>\n",
       "      <td>0.714718</td>\n",
       "      <td>0.722278</td>\n",
       "      <td>0.726310</td>\n",
       "      <td>0.732359</td>\n",
       "      <td>0.748992</td>\n",
       "      <td>0.0</td>\n",
       "      <td>CNN</td>\n",
       "      <td>0</td>\n",
       "      <td>derma</td>\n",
       "      <td>0.434399</td>\n",
       "    </tr>\n",
       "    <tr>\n",
       "      <th>521</th>\n",
       "      <td>resnetrs270</td>\n",
       "      <td>129861448</td>\n",
       "      <td>25.435111</td>\n",
       "      <td>20.963131</td>\n",
       "      <td>2.113233</td>\n",
       "      <td>20.127319</td>\n",
       "      <td>0.180650</td>\n",
       "      <td>9.393810</td>\n",
       "      <td>110.042049</td>\n",
       "      <td>0</td>\n",
       "      <td>...</td>\n",
       "      <td>0.719254</td>\n",
       "      <td>0.725806</td>\n",
       "      <td>0.738911</td>\n",
       "      <td>0.743448</td>\n",
       "      <td>0.746472</td>\n",
       "      <td>0.0</td>\n",
       "      <td>CNN</td>\n",
       "      <td>0</td>\n",
       "      <td>derma</td>\n",
       "      <td>0.437125</td>\n",
       "    </tr>\n",
       "    <tr>\n",
       "      <th>522</th>\n",
       "      <td>vgg11</td>\n",
       "      <td>132863336</td>\n",
       "      <td>25.435111</td>\n",
       "      <td>6.343885</td>\n",
       "      <td>2.105292</td>\n",
       "      <td>4.500173</td>\n",
       "      <td>0.046186</td>\n",
       "      <td>2.447834</td>\n",
       "      <td>29.097516</td>\n",
       "      <td>0</td>\n",
       "      <td>...</td>\n",
       "      <td>0.683972</td>\n",
       "      <td>0.705141</td>\n",
       "      <td>0.712702</td>\n",
       "      <td>0.707157</td>\n",
       "      <td>0.714718</td>\n",
       "      <td>0.0</td>\n",
       "      <td>CNN</td>\n",
       "      <td>0</td>\n",
       "      <td>derma</td>\n",
       "      <td>0.605217</td>\n",
       "    </tr>\n",
       "    <tr>\n",
       "      <th>523</th>\n",
       "      <td>vgg13</td>\n",
       "      <td>133047848</td>\n",
       "      <td>25.435111</td>\n",
       "      <td>7.941915</td>\n",
       "      <td>2.108507</td>\n",
       "      <td>5.307694</td>\n",
       "      <td>0.063678</td>\n",
       "      <td>3.374925</td>\n",
       "      <td>40.064577</td>\n",
       "      <td>0</td>\n",
       "      <td>...</td>\n",
       "      <td>0.683468</td>\n",
       "      <td>0.694052</td>\n",
       "      <td>0.703629</td>\n",
       "      <td>0.675403</td>\n",
       "      <td>0.655242</td>\n",
       "      <td>0.0</td>\n",
       "      <td>CNN</td>\n",
       "      <td>0</td>\n",
       "      <td>derma</td>\n",
       "      <td>0.524423</td>\n",
       "    </tr>\n",
       "  </tbody>\n",
       "</table>\n",
       "<p>131 rows × 27 columns</p>\n",
       "</div>"
      ],
      "text/plain": [
       "               model  num_param       memT       memR      memA       memM  \\\n",
       "393         dla46x_c    1068440  25.435111   3.001025  0.038321   2.267537   \n",
       "394          dla46_c    1301400  25.435111   2.520777  0.042073   1.882373   \n",
       "395  mobilevitv2_050    1370593  25.435111   3.091202  0.060189   2.885807   \n",
       "396  mobilenetv2_050    1968680  25.435111   2.227175  0.053616   1.934997   \n",
       "397    semnasnet_075    2912278  25.435111   2.791309  0.068774   2.116848   \n",
       "..               ...        ...        ...        ...       ...        ...   \n",
       "519    ecaresnet269d  102093077  25.435111  19.860029  1.667829  19.072327   \n",
       "520  legacy_senet154  115088984  25.435111  18.150851  1.861255  16.598430   \n",
       "521      resnetrs270  129861448  25.435111  20.963131  2.113233  20.127319   \n",
       "522            vgg11  132863336  25.435111   6.343885  2.105292   4.500173   \n",
       "523            vgg13  133047848  25.435111   7.941915  2.108507   5.307694   \n",
       "\n",
       "       energy       co2  train_time  infer_time  ...   test_05   test_06  \\\n",
       "393  0.018471  0.969729   11.889799           0  ...  0.694052  0.708669   \n",
       "394  0.016436  1.536767   10.464308           0  ...  0.698085  0.711694   \n",
       "395  0.015261  1.434517    9.933567           0  ...  0.665323  0.693044   \n",
       "396  0.010583  1.010668    7.320693           0  ...  0.652722  0.671875   \n",
       "397  0.014516  1.386263    9.723404           0  ...  0.699093  0.696069   \n",
       "..        ...       ...         ...         ...  ...       ...       ...   \n",
       "519  0.173975  9.177201  105.954078           0  ...  0.717742  0.725302   \n",
       "520  0.184867  9.566861  112.701546           0  ...  0.714718  0.722278   \n",
       "521  0.180650  9.393810  110.042049           0  ...  0.719254  0.725806   \n",
       "522  0.046186  2.447834   29.097516           0  ...  0.683972  0.705141   \n",
       "523  0.063678  3.374925   40.064577           0  ...  0.683468  0.694052   \n",
       "\n",
       "      test_07   test_08   test_09  pretrain   type  efficient  dataset  \\\n",
       "393  0.722782  0.731855  0.723790       0.0    CNN          0    derma   \n",
       "394  0.695565  0.706149  0.704637       0.0    CNN          0    derma   \n",
       "395  0.679435  0.680948  0.681452       0.0  Other          1    derma   \n",
       "396  0.670867  0.673891  0.684476       0.0    CNN          1    derma   \n",
       "397  0.708669  0.674899  0.701109       0.0  Other          1    derma   \n",
       "..        ...       ...       ...       ...    ...        ...      ...   \n",
       "519  0.727823  0.735383  0.731855       0.0  Other          1    derma   \n",
       "520  0.726310  0.732359  0.748992       0.0    CNN          0    derma   \n",
       "521  0.738911  0.743448  0.746472       0.0    CNN          0    derma   \n",
       "522  0.712702  0.707157  0.714718       0.0    CNN          0    derma   \n",
       "523  0.703629  0.675403  0.655242       0.0    CNN          0    derma   \n",
       "\n",
       "          pen  \n",
       "393  0.674952  \n",
       "394  0.662012  \n",
       "395  0.643010  \n",
       "396  0.657229  \n",
       "397  0.663386  \n",
       "..        ...  \n",
       "519  0.435230  \n",
       "520  0.434399  \n",
       "521  0.437125  \n",
       "522  0.605217  \n",
       "523  0.524423  \n",
       "\n",
       "[131 rows x 27 columns]"
      ]
     },
     "execution_count": 201,
     "metadata": {},
     "output_type": "execute_result"
    }
   ],
   "source": [
    "# idx = (all_results_df[\"dataset\"] == \"derma\") | (all_results_df[\"dataset\"] == \"derma_pt\")\n",
    "idx = (all_results_df[\"dataset\"] == \"derma\")\n",
    "df = pd.DataFrame(all_results_df[idx])\n",
    "df = df.sort_values(\"num_param\")\n",
    "df"
   ]
  },
  {
   "cell_type": "code",
   "execution_count": 202,
   "id": "fe2e647a-201b-4bff-8039-67eb3eceb168",
   "metadata": {},
   "outputs": [],
   "source": [
    "df[\"test_profile\"] = df[[f\"test_{i:02d}\" for i in range(10)]].values.tolist()"
   ]
  },
  {
   "cell_type": "code",
   "execution_count": 203,
   "id": "38c182f2-8565-4f29-88d6-42a3ebe4303b",
   "metadata": {},
   "outputs": [],
   "source": [
    "test_profile = np.array(df[\"test_profile\"].tolist())"
   ]
  },
  {
   "cell_type": "code",
   "execution_count": 204,
   "id": "07c05192-11f0-4f7e-adf2-97b4e03f2d20",
   "metadata": {},
   "outputs": [
    {
     "data": {
      "text/plain": [
       "array([[0.66129032, 0.66129032, 0.66280242, ..., 0.72278226, 0.73185484,\n",
       "        0.73185484],\n",
       "       [0.59828629, 0.66733871, 0.66733871, ..., 0.7172379 , 0.7172379 ,\n",
       "        0.7172379 ],\n",
       "       [0.66481855, 0.69707661, 0.70766129, ..., 0.70766129, 0.70766129,\n",
       "        0.70766129],\n",
       "       ...,\n",
       "       [0.67842742, 0.68397177, 0.69052419, ..., 0.73891129, 0.74344758,\n",
       "        0.74647177],\n",
       "       [0.66935484, 0.67590726, 0.68649194, ..., 0.71270161, 0.71270161,\n",
       "        0.71471774],\n",
       "       [0.66885081, 0.67086694, 0.67540323, ..., 0.70362903, 0.70362903,\n",
       "        0.70362903]])"
      ]
     },
     "execution_count": 204,
     "metadata": {},
     "output_type": "execute_result"
    }
   ],
   "source": [
    "peak_profile = np.zeros_like(test_profile)\n",
    "peak_profile[:, 0] = test_profile[:, 0]\n",
    "for i in range(1, peak_profile.shape[-1]):\n",
    "    peak_profile[:, i] = np.maximum(peak_profile[:, i-1], test_profile[:, i])\n",
    "peak_profile"
   ]
  },
  {
   "cell_type": "code",
   "execution_count": 205,
   "id": "98d354d0-f0fa-4d8e-8660-e5dc82ca8014",
   "metadata": {},
   "outputs": [
    {
     "data": {
      "text/plain": [
       "array([[ 0.        ,  1.18897994,  2.37795987, ...,  8.32285955,\n",
       "         9.51183949, 10.70081942],\n",
       "       [ 0.        ,  1.04643075,  2.09286151, ...,  7.32501528,\n",
       "         8.37144604,  9.41787679],\n",
       "       [ 0.        ,  0.9933567 ,  1.98671341, ...,  6.95349693,\n",
       "         7.94685364,  8.94021034],\n",
       "       ...,\n",
       "       [ 0.        , 11.00420494, 22.00840988, ..., 77.02943459,\n",
       "        88.03363953, 99.03784447],\n",
       "       [ 0.        ,  2.90975156,  5.81950312, ..., 20.36826091,\n",
       "        23.27801247, 26.18776402],\n",
       "       [ 0.        ,  4.00645766,  8.01291533, ..., 28.04520364,\n",
       "        32.0516613 , 36.05811896]])"
      ]
     },
     "execution_count": 205,
     "metadata": {},
     "output_type": "execute_result"
    }
   ],
   "source": [
    "epoch_time = (df[\"train_time\"].values / 10).reshape(-1, 1) * np.arange(10).reshape(1, -1)\n",
    "epoch_time"
   ]
  },
  {
   "cell_type": "code",
   "execution_count": 206,
   "id": "c80db4d9-68d9-4639-912d-145a68266aa1",
   "metadata": {},
   "outputs": [
    {
     "data": {
      "text/plain": [
       "array([[0.66129032, 0.73185484, 0.73185484, ..., 0.73185484, 0.73185484,\n",
       "        0.73185484],\n",
       "       [0.59828629, 0.7172379 , 0.7172379 , ..., 0.7172379 , 0.7172379 ,\n",
       "        0.7172379 ],\n",
       "       [0.66481855, 0.70766129, 0.70766129, ..., 0.70766129, 0.70766129,\n",
       "        0.70766129],\n",
       "       ...,\n",
       "       [0.67842742, 0.68346582, 0.68932829, ..., 0.74398798, 0.74647177,\n",
       "        0.74647177],\n",
       "       [0.66935484, 0.69707661, 0.71174475, ..., 0.71471774, 0.71471774,\n",
       "        0.71471774],\n",
       "       [0.66885081, 0.67965297, 0.68447581, ..., 0.70362903, 0.70362903,\n",
       "        0.70362903]])"
      ]
     },
     "execution_count": 206,
     "metadata": {},
     "output_type": "execute_result"
    }
   ],
   "source": [
    "sample_times = np.arange(0, 120, 10)\n",
    "peak_profile_time = np.zeros((peak_profile.shape[0], sample_times.shape[0]))\n",
    "for i in range(0, peak_profile.shape[0]):\n",
    "    peak_profile_time[i] = np.interp(sample_times, epoch_time[i], peak_profile[i])\n",
    "peak_profile_time"
   ]
  },
  {
   "cell_type": "code",
   "execution_count": 207,
   "id": "68554602-e309-40d0-91bd-13d80fa0216f",
   "metadata": {},
   "outputs": [
    {
     "data": {
      "application/vnd.plotly.v1+json": {
       "config": {
        "plotlyServerURL": "https://plot.ly"
       },
       "data": [
        {
         "hovertemplate": "variable=wide_variable_0<br>x=%{x}<br>value=%{y}<extra></extra>",
         "legendgroup": "wide_variable_0",
         "line": {
          "color": "#636efa",
          "dash": "solid"
         },
         "marker": {
          "symbol": "circle"
         },
         "mode": "lines",
         "name": "wide_variable_0",
         "orientation": "v",
         "showlegend": true,
         "type": "scatter",
         "x": [
          0,
          10,
          20,
          30,
          40,
          50,
          60,
          70,
          80,
          90,
          100,
          110
         ],
         "xaxis": "x",
         "y": [
          0.6612903225806451,
          0.7318548387096774,
          0.7318548387096774,
          0.7318548387096774,
          0.7318548387096774,
          0.7318548387096774,
          0.7318548387096774,
          0.7318548387096774,
          0.7318548387096774,
          0.7318548387096774,
          0.7318548387096774,
          0.7318548387096774
         ],
         "yaxis": "y"
        },
        {
         "hovertemplate": "variable=wide_variable_1<br>x=%{x}<br>value=%{y}<extra></extra>",
         "legendgroup": "wide_variable_1",
         "line": {
          "color": "#EF553B",
          "dash": "solid"
         },
         "marker": {
          "symbol": "circle"
         },
         "mode": "lines",
         "name": "wide_variable_1",
         "orientation": "v",
         "showlegend": true,
         "type": "scatter",
         "x": [
          0,
          10,
          20,
          30,
          40,
          50,
          60,
          70,
          80,
          90,
          100,
          110
         ],
         "xaxis": "x",
         "y": [
          0.5982862903225806,
          0.7172379032258065,
          0.7172379032258065,
          0.7172379032258065,
          0.7172379032258065,
          0.7172379032258065,
          0.7172379032258065,
          0.7172379032258065,
          0.7172379032258065,
          0.7172379032258065,
          0.7172379032258065,
          0.7172379032258065
         ],
         "yaxis": "y"
        },
        {
         "hovertemplate": "variable=wide_variable_2<br>x=%{x}<br>value=%{y}<extra></extra>",
         "legendgroup": "wide_variable_2",
         "line": {
          "color": "#00cc96",
          "dash": "solid"
         },
         "marker": {
          "symbol": "circle"
         },
         "mode": "lines",
         "name": "wide_variable_2",
         "orientation": "v",
         "showlegend": true,
         "type": "scatter",
         "x": [
          0,
          10,
          20,
          30,
          40,
          50,
          60,
          70,
          80,
          90,
          100,
          110
         ],
         "xaxis": "x",
         "y": [
          0.6648185483870968,
          0.7076612903225806,
          0.7076612903225806,
          0.7076612903225806,
          0.7076612903225806,
          0.7076612903225806,
          0.7076612903225806,
          0.7076612903225806,
          0.7076612903225806,
          0.7076612903225806,
          0.7076612903225806,
          0.7076612903225806
         ],
         "yaxis": "y"
        },
        {
         "hovertemplate": "variable=wide_variable_3<br>x=%{x}<br>value=%{y}<extra></extra>",
         "legendgroup": "wide_variable_3",
         "line": {
          "color": "#ab63fa",
          "dash": "solid"
         },
         "marker": {
          "symbol": "circle"
         },
         "mode": "lines",
         "name": "wide_variable_3",
         "orientation": "v",
         "showlegend": true,
         "type": "scatter",
         "x": [
          0,
          10,
          20,
          30,
          40,
          50,
          60,
          70,
          80,
          90,
          100,
          110
         ],
         "xaxis": "x",
         "y": [
          0.6723790322580645,
          0.6844758064516129,
          0.6844758064516129,
          0.6844758064516129,
          0.6844758064516129,
          0.6844758064516129,
          0.6844758064516129,
          0.6844758064516129,
          0.6844758064516129,
          0.6844758064516129,
          0.6844758064516129,
          0.6844758064516129
         ],
         "yaxis": "y"
        },
        {
         "hovertemplate": "variable=wide_variable_4<br>x=%{x}<br>value=%{y}<extra></extra>",
         "legendgroup": "wide_variable_4",
         "line": {
          "color": "#FFA15A",
          "dash": "solid"
         },
         "marker": {
          "symbol": "circle"
         },
         "mode": "lines",
         "name": "wide_variable_4",
         "orientation": "v",
         "showlegend": true,
         "type": "scatter",
         "x": [
          0,
          10,
          20,
          30,
          40,
          50,
          60,
          70,
          80,
          90,
          100,
          110
         ],
         "xaxis": "x",
         "y": [
          0.655241935483871,
          0.7086693548387096,
          0.7086693548387096,
          0.7086693548387096,
          0.7086693548387096,
          0.7086693548387096,
          0.7086693548387096,
          0.7086693548387096,
          0.7086693548387096,
          0.7086693548387096,
          0.7086693548387096,
          0.7086693548387096
         ],
         "yaxis": "y"
        },
        {
         "hovertemplate": "variable=wide_variable_5<br>x=%{x}<br>value=%{y}<extra></extra>",
         "legendgroup": "wide_variable_5",
         "line": {
          "color": "#19d3f3",
          "dash": "solid"
         },
         "marker": {
          "symbol": "circle"
         },
         "mode": "lines",
         "name": "wide_variable_5",
         "orientation": "v",
         "showlegend": true,
         "type": "scatter",
         "x": [
          0,
          10,
          20,
          30,
          40,
          50,
          60,
          70,
          80,
          90,
          100,
          110
         ],
         "xaxis": "x",
         "y": [
          0.6769153225806451,
          0.6859537787161678,
          0.701702997510495,
          0.7082386937633949,
          0.7115178036754308,
          0.7161841132615722,
          0.7227532557183497,
          0.7268312392309711,
          0.731984179667477,
          0.735383064516129,
          0.735383064516129,
          0.735383064516129
         ],
         "yaxis": "y"
        },
        {
         "hovertemplate": "variable=wide_variable_6<br>x=%{x}<br>value=%{y}<extra></extra>",
         "legendgroup": "wide_variable_6",
         "line": {
          "color": "#FF6692",
          "dash": "solid"
         },
         "marker": {
          "symbol": "circle"
         },
         "mode": "lines",
         "name": "wide_variable_6",
         "orientation": "v",
         "showlegend": true,
         "type": "scatter",
         "x": [
          0,
          10,
          20,
          30,
          40,
          50,
          60,
          70,
          80,
          90,
          100,
          110
         ],
         "xaxis": "x",
         "y": [
          0.6723790322580645,
          0.6831124912053996,
          0.6891608783021739,
          0.6971965505941442,
          0.7044802214147496,
          0.7107414058006951,
          0.7171657936331518,
          0.7231294149631368,
          0.7269056099828888,
          0.7322723394565562,
          0.7468794153645674,
          0.748991935483871
         ],
         "yaxis": "y"
        },
        {
         "hovertemplate": "variable=wide_variable_7<br>x=%{x}<br>value=%{y}<extra></extra>",
         "legendgroup": "wide_variable_7",
         "line": {
          "color": "#B6E880",
          "dash": "solid"
         },
         "marker": {
          "symbol": "circle"
         },
         "mode": "lines",
         "name": "wide_variable_7",
         "orientation": "v",
         "showlegend": true,
         "type": "scatter",
         "x": [
          0,
          10,
          20,
          30,
          40,
          50,
          60,
          70,
          80,
          90,
          100,
          110
         ],
         "xaxis": "x",
         "y": [
          0.6784274193548387,
          0.6834658159210051,
          0.689328292176921,
          0.6905241935483871,
          0.7055664228375879,
          0.7169542219283221,
          0.722218747498505,
          0.7305399807223183,
          0.7401358537703322,
          0.7439879790374265,
          0.7464717741935484,
          0.7464717741935484
         ],
         "yaxis": "y"
        },
        {
         "hovertemplate": "variable=wide_variable_8<br>x=%{x}<br>value=%{y}<extra></extra>",
         "legendgroup": "wide_variable_8",
         "line": {
          "color": "#FF97FF",
          "dash": "solid"
         },
         "marker": {
          "symbol": "circle"
         },
         "mode": "lines",
         "name": "wide_variable_8",
         "orientation": "v",
         "showlegend": true,
         "type": "scatter",
         "x": [
          0,
          10,
          20,
          30,
          40,
          50,
          60,
          70,
          80,
          90,
          100,
          110
         ],
         "xaxis": "x",
         "y": [
          0.6693548387096774,
          0.6970766129032258,
          0.7117447509167599,
          0.7147177419354839,
          0.7147177419354839,
          0.7147177419354839,
          0.7147177419354839,
          0.7147177419354839,
          0.7147177419354839,
          0.7147177419354839,
          0.7147177419354839,
          0.7147177419354839
         ],
         "yaxis": "y"
        },
        {
         "hovertemplate": "variable=wide_variable_9<br>x=%{x}<br>value=%{y}<extra></extra>",
         "legendgroup": "wide_variable_9",
         "line": {
          "color": "#FECB52",
          "dash": "solid"
         },
         "marker": {
          "symbol": "circle"
         },
         "mode": "lines",
         "name": "wide_variable_9",
         "orientation": "v",
         "showlegend": true,
         "type": "scatter",
         "x": [
          0,
          10,
          20,
          30,
          40,
          50,
          60,
          70,
          80,
          90,
          100,
          110
         ],
         "xaxis": "x",
         "y": [
          0.6688508064516129,
          0.6796529727449003,
          0.6844758064516129,
          0.7036290322580645,
          0.7036290322580645,
          0.7036290322580645,
          0.7036290322580645,
          0.7036290322580645,
          0.7036290322580645,
          0.7036290322580645,
          0.7036290322580645,
          0.7036290322580645
         ],
         "yaxis": "y"
        }
       ],
       "layout": {
        "autosize": true,
        "legend": {
         "title": {
          "text": "variable"
         },
         "tracegroupgap": 0
        },
        "margin": {
         "t": 60
        },
        "template": {
         "data": {
          "bar": [
           {
            "error_x": {
             "color": "#2a3f5f"
            },
            "error_y": {
             "color": "#2a3f5f"
            },
            "marker": {
             "line": {
              "color": "#E5ECF6",
              "width": 0.5
             },
             "pattern": {
              "fillmode": "overlay",
              "size": 10,
              "solidity": 0.2
             }
            },
            "type": "bar"
           }
          ],
          "barpolar": [
           {
            "marker": {
             "line": {
              "color": "#E5ECF6",
              "width": 0.5
             },
             "pattern": {
              "fillmode": "overlay",
              "size": 10,
              "solidity": 0.2
             }
            },
            "type": "barpolar"
           }
          ],
          "carpet": [
           {
            "aaxis": {
             "endlinecolor": "#2a3f5f",
             "gridcolor": "white",
             "linecolor": "white",
             "minorgridcolor": "white",
             "startlinecolor": "#2a3f5f"
            },
            "baxis": {
             "endlinecolor": "#2a3f5f",
             "gridcolor": "white",
             "linecolor": "white",
             "minorgridcolor": "white",
             "startlinecolor": "#2a3f5f"
            },
            "type": "carpet"
           }
          ],
          "choropleth": [
           {
            "colorbar": {
             "outlinewidth": 0,
             "ticks": ""
            },
            "type": "choropleth"
           }
          ],
          "contour": [
           {
            "colorbar": {
             "outlinewidth": 0,
             "ticks": ""
            },
            "colorscale": [
             [
              0,
              "#0d0887"
             ],
             [
              0.1111111111111111,
              "#46039f"
             ],
             [
              0.2222222222222222,
              "#7201a8"
             ],
             [
              0.3333333333333333,
              "#9c179e"
             ],
             [
              0.4444444444444444,
              "#bd3786"
             ],
             [
              0.5555555555555556,
              "#d8576b"
             ],
             [
              0.6666666666666666,
              "#ed7953"
             ],
             [
              0.7777777777777778,
              "#fb9f3a"
             ],
             [
              0.8888888888888888,
              "#fdca26"
             ],
             [
              1,
              "#f0f921"
             ]
            ],
            "type": "contour"
           }
          ],
          "contourcarpet": [
           {
            "colorbar": {
             "outlinewidth": 0,
             "ticks": ""
            },
            "type": "contourcarpet"
           }
          ],
          "heatmap": [
           {
            "colorbar": {
             "outlinewidth": 0,
             "ticks": ""
            },
            "colorscale": [
             [
              0,
              "#0d0887"
             ],
             [
              0.1111111111111111,
              "#46039f"
             ],
             [
              0.2222222222222222,
              "#7201a8"
             ],
             [
              0.3333333333333333,
              "#9c179e"
             ],
             [
              0.4444444444444444,
              "#bd3786"
             ],
             [
              0.5555555555555556,
              "#d8576b"
             ],
             [
              0.6666666666666666,
              "#ed7953"
             ],
             [
              0.7777777777777778,
              "#fb9f3a"
             ],
             [
              0.8888888888888888,
              "#fdca26"
             ],
             [
              1,
              "#f0f921"
             ]
            ],
            "type": "heatmap"
           }
          ],
          "heatmapgl": [
           {
            "colorbar": {
             "outlinewidth": 0,
             "ticks": ""
            },
            "colorscale": [
             [
              0,
              "#0d0887"
             ],
             [
              0.1111111111111111,
              "#46039f"
             ],
             [
              0.2222222222222222,
              "#7201a8"
             ],
             [
              0.3333333333333333,
              "#9c179e"
             ],
             [
              0.4444444444444444,
              "#bd3786"
             ],
             [
              0.5555555555555556,
              "#d8576b"
             ],
             [
              0.6666666666666666,
              "#ed7953"
             ],
             [
              0.7777777777777778,
              "#fb9f3a"
             ],
             [
              0.8888888888888888,
              "#fdca26"
             ],
             [
              1,
              "#f0f921"
             ]
            ],
            "type": "heatmapgl"
           }
          ],
          "histogram": [
           {
            "marker": {
             "pattern": {
              "fillmode": "overlay",
              "size": 10,
              "solidity": 0.2
             }
            },
            "type": "histogram"
           }
          ],
          "histogram2d": [
           {
            "colorbar": {
             "outlinewidth": 0,
             "ticks": ""
            },
            "colorscale": [
             [
              0,
              "#0d0887"
             ],
             [
              0.1111111111111111,
              "#46039f"
             ],
             [
              0.2222222222222222,
              "#7201a8"
             ],
             [
              0.3333333333333333,
              "#9c179e"
             ],
             [
              0.4444444444444444,
              "#bd3786"
             ],
             [
              0.5555555555555556,
              "#d8576b"
             ],
             [
              0.6666666666666666,
              "#ed7953"
             ],
             [
              0.7777777777777778,
              "#fb9f3a"
             ],
             [
              0.8888888888888888,
              "#fdca26"
             ],
             [
              1,
              "#f0f921"
             ]
            ],
            "type": "histogram2d"
           }
          ],
          "histogram2dcontour": [
           {
            "colorbar": {
             "outlinewidth": 0,
             "ticks": ""
            },
            "colorscale": [
             [
              0,
              "#0d0887"
             ],
             [
              0.1111111111111111,
              "#46039f"
             ],
             [
              0.2222222222222222,
              "#7201a8"
             ],
             [
              0.3333333333333333,
              "#9c179e"
             ],
             [
              0.4444444444444444,
              "#bd3786"
             ],
             [
              0.5555555555555556,
              "#d8576b"
             ],
             [
              0.6666666666666666,
              "#ed7953"
             ],
             [
              0.7777777777777778,
              "#fb9f3a"
             ],
             [
              0.8888888888888888,
              "#fdca26"
             ],
             [
              1,
              "#f0f921"
             ]
            ],
            "type": "histogram2dcontour"
           }
          ],
          "mesh3d": [
           {
            "colorbar": {
             "outlinewidth": 0,
             "ticks": ""
            },
            "type": "mesh3d"
           }
          ],
          "parcoords": [
           {
            "line": {
             "colorbar": {
              "outlinewidth": 0,
              "ticks": ""
             }
            },
            "type": "parcoords"
           }
          ],
          "pie": [
           {
            "automargin": true,
            "type": "pie"
           }
          ],
          "scatter": [
           {
            "fillpattern": {
             "fillmode": "overlay",
             "size": 10,
             "solidity": 0.2
            },
            "type": "scatter"
           }
          ],
          "scatter3d": [
           {
            "line": {
             "colorbar": {
              "outlinewidth": 0,
              "ticks": ""
             }
            },
            "marker": {
             "colorbar": {
              "outlinewidth": 0,
              "ticks": ""
             }
            },
            "type": "scatter3d"
           }
          ],
          "scattercarpet": [
           {
            "marker": {
             "colorbar": {
              "outlinewidth": 0,
              "ticks": ""
             }
            },
            "type": "scattercarpet"
           }
          ],
          "scattergeo": [
           {
            "marker": {
             "colorbar": {
              "outlinewidth": 0,
              "ticks": ""
             }
            },
            "type": "scattergeo"
           }
          ],
          "scattergl": [
           {
            "marker": {
             "colorbar": {
              "outlinewidth": 0,
              "ticks": ""
             }
            },
            "type": "scattergl"
           }
          ],
          "scattermapbox": [
           {
            "marker": {
             "colorbar": {
              "outlinewidth": 0,
              "ticks": ""
             }
            },
            "type": "scattermapbox"
           }
          ],
          "scatterpolar": [
           {
            "marker": {
             "colorbar": {
              "outlinewidth": 0,
              "ticks": ""
             }
            },
            "type": "scatterpolar"
           }
          ],
          "scatterpolargl": [
           {
            "marker": {
             "colorbar": {
              "outlinewidth": 0,
              "ticks": ""
             }
            },
            "type": "scatterpolargl"
           }
          ],
          "scatterternary": [
           {
            "marker": {
             "colorbar": {
              "outlinewidth": 0,
              "ticks": ""
             }
            },
            "type": "scatterternary"
           }
          ],
          "surface": [
           {
            "colorbar": {
             "outlinewidth": 0,
             "ticks": ""
            },
            "colorscale": [
             [
              0,
              "#0d0887"
             ],
             [
              0.1111111111111111,
              "#46039f"
             ],
             [
              0.2222222222222222,
              "#7201a8"
             ],
             [
              0.3333333333333333,
              "#9c179e"
             ],
             [
              0.4444444444444444,
              "#bd3786"
             ],
             [
              0.5555555555555556,
              "#d8576b"
             ],
             [
              0.6666666666666666,
              "#ed7953"
             ],
             [
              0.7777777777777778,
              "#fb9f3a"
             ],
             [
              0.8888888888888888,
              "#fdca26"
             ],
             [
              1,
              "#f0f921"
             ]
            ],
            "type": "surface"
           }
          ],
          "table": [
           {
            "cells": {
             "fill": {
              "color": "#EBF0F8"
             },
             "line": {
              "color": "white"
             }
            },
            "header": {
             "fill": {
              "color": "#C8D4E3"
             },
             "line": {
              "color": "white"
             }
            },
            "type": "table"
           }
          ]
         },
         "layout": {
          "annotationdefaults": {
           "arrowcolor": "#2a3f5f",
           "arrowhead": 0,
           "arrowwidth": 1
          },
          "autotypenumbers": "strict",
          "coloraxis": {
           "colorbar": {
            "outlinewidth": 0,
            "ticks": ""
           }
          },
          "colorscale": {
           "diverging": [
            [
             0,
             "#8e0152"
            ],
            [
             0.1,
             "#c51b7d"
            ],
            [
             0.2,
             "#de77ae"
            ],
            [
             0.3,
             "#f1b6da"
            ],
            [
             0.4,
             "#fde0ef"
            ],
            [
             0.5,
             "#f7f7f7"
            ],
            [
             0.6,
             "#e6f5d0"
            ],
            [
             0.7,
             "#b8e186"
            ],
            [
             0.8,
             "#7fbc41"
            ],
            [
             0.9,
             "#4d9221"
            ],
            [
             1,
             "#276419"
            ]
           ],
           "sequential": [
            [
             0,
             "#0d0887"
            ],
            [
             0.1111111111111111,
             "#46039f"
            ],
            [
             0.2222222222222222,
             "#7201a8"
            ],
            [
             0.3333333333333333,
             "#9c179e"
            ],
            [
             0.4444444444444444,
             "#bd3786"
            ],
            [
             0.5555555555555556,
             "#d8576b"
            ],
            [
             0.6666666666666666,
             "#ed7953"
            ],
            [
             0.7777777777777778,
             "#fb9f3a"
            ],
            [
             0.8888888888888888,
             "#fdca26"
            ],
            [
             1,
             "#f0f921"
            ]
           ],
           "sequentialminus": [
            [
             0,
             "#0d0887"
            ],
            [
             0.1111111111111111,
             "#46039f"
            ],
            [
             0.2222222222222222,
             "#7201a8"
            ],
            [
             0.3333333333333333,
             "#9c179e"
            ],
            [
             0.4444444444444444,
             "#bd3786"
            ],
            [
             0.5555555555555556,
             "#d8576b"
            ],
            [
             0.6666666666666666,
             "#ed7953"
            ],
            [
             0.7777777777777778,
             "#fb9f3a"
            ],
            [
             0.8888888888888888,
             "#fdca26"
            ],
            [
             1,
             "#f0f921"
            ]
           ]
          },
          "colorway": [
           "#636efa",
           "#EF553B",
           "#00cc96",
           "#ab63fa",
           "#FFA15A",
           "#19d3f3",
           "#FF6692",
           "#B6E880",
           "#FF97FF",
           "#FECB52"
          ],
          "font": {
           "color": "#2a3f5f"
          },
          "geo": {
           "bgcolor": "white",
           "lakecolor": "white",
           "landcolor": "#E5ECF6",
           "showlakes": true,
           "showland": true,
           "subunitcolor": "white"
          },
          "hoverlabel": {
           "align": "left"
          },
          "hovermode": "closest",
          "mapbox": {
           "style": "light"
          },
          "paper_bgcolor": "white",
          "plot_bgcolor": "#E5ECF6",
          "polar": {
           "angularaxis": {
            "gridcolor": "white",
            "linecolor": "white",
            "ticks": ""
           },
           "bgcolor": "#E5ECF6",
           "radialaxis": {
            "gridcolor": "white",
            "linecolor": "white",
            "ticks": ""
           }
          },
          "scene": {
           "xaxis": {
            "backgroundcolor": "#E5ECF6",
            "gridcolor": "white",
            "gridwidth": 2,
            "linecolor": "white",
            "showbackground": true,
            "ticks": "",
            "zerolinecolor": "white"
           },
           "yaxis": {
            "backgroundcolor": "#E5ECF6",
            "gridcolor": "white",
            "gridwidth": 2,
            "linecolor": "white",
            "showbackground": true,
            "ticks": "",
            "zerolinecolor": "white"
           },
           "zaxis": {
            "backgroundcolor": "#E5ECF6",
            "gridcolor": "white",
            "gridwidth": 2,
            "linecolor": "white",
            "showbackground": true,
            "ticks": "",
            "zerolinecolor": "white"
           }
          },
          "shapedefaults": {
           "line": {
            "color": "#2a3f5f"
           }
          },
          "ternary": {
           "aaxis": {
            "gridcolor": "white",
            "linecolor": "white",
            "ticks": ""
           },
           "baxis": {
            "gridcolor": "white",
            "linecolor": "white",
            "ticks": ""
           },
           "bgcolor": "#E5ECF6",
           "caxis": {
            "gridcolor": "white",
            "linecolor": "white",
            "ticks": ""
           }
          },
          "title": {
           "x": 0.05
          },
          "xaxis": {
           "automargin": true,
           "gridcolor": "white",
           "linecolor": "white",
           "ticks": "",
           "title": {
            "standoff": 15
           },
           "zerolinecolor": "white",
           "zerolinewidth": 2
          },
          "yaxis": {
           "automargin": true,
           "gridcolor": "white",
           "linecolor": "white",
           "ticks": "",
           "title": {
            "standoff": 15
           },
           "zerolinecolor": "white",
           "zerolinewidth": 2
          }
         }
        },
        "xaxis": {
         "anchor": "y",
         "autorange": true,
         "domain": [
          0,
          1
         ],
         "range": [
          0,
          110
         ],
         "title": {
          "text": "x"
         },
         "type": "linear"
        },
        "yaxis": {
         "anchor": "x",
         "autorange": true,
         "domain": [
          0,
          1
         ],
         "range": [
          0.5899137544802867,
          0.7573644713261649
         ],
         "title": {
          "text": "value"
         },
         "type": "linear"
        }
       }
      },
      "image/png": "[encoded data removed]",
      "text/html": [
       "<div>                            <div id=\"33cfc95a-84e5-4dba-b265-c3a97978f92c\" class=\"plotly-graph-div\" style=\"height:525px; width:100%;\"></div>            <script type=\"text/javascript\">                require([\"plotly\"], function(Plotly) {                    window.PLOTLYENV=window.PLOTLYENV || {};                                    if (document.getElementById(\"33cfc95a-84e5-4dba-b265-c3a97978f92c\")) {                    Plotly.newPlot(                        \"33cfc95a-84e5-4dba-b265-c3a97978f92c\",                        [{\"hovertemplate\":\"variable=wide_variable_0\\u003cbr\\u003ex=%{x}\\u003cbr\\u003evalue=%{y}\\u003cextra\\u003e\\u003c\\u002fextra\\u003e\",\"legendgroup\":\"wide_variable_0\",\"line\":{\"color\":\"#636efa\",\"dash\":\"solid\"},\"marker\":{\"symbol\":\"circle\"},\"mode\":\"lines\",\"name\":\"wide_variable_0\",\"orientation\":\"v\",\"showlegend\":true,\"x\":[0,10,20,30,40,50,60,70,80,90,100,110],\"xaxis\":\"x\",\"y\":[0.6612903225806451,0.7318548387096774,0.7318548387096774,0.7318548387096774,0.7318548387096774,0.7318548387096774,0.7318548387096774,0.7318548387096774,0.7318548387096774,0.7318548387096774,0.7318548387096774,0.7318548387096774],\"yaxis\":\"y\",\"type\":\"scatter\"},{\"hovertemplate\":\"variable=wide_variable_1\\u003cbr\\u003ex=%{x}\\u003cbr\\u003evalue=%{y}\\u003cextra\\u003e\\u003c\\u002fextra\\u003e\",\"legendgroup\":\"wide_variable_1\",\"line\":{\"color\":\"#EF553B\",\"dash\":\"solid\"},\"marker\":{\"symbol\":\"circle\"},\"mode\":\"lines\",\"name\":\"wide_variable_1\",\"orientation\":\"v\",\"showlegend\":true,\"x\":[0,10,20,30,40,50,60,70,80,90,100,110],\"xaxis\":\"x\",\"y\":[0.5982862903225806,0.7172379032258065,0.7172379032258065,0.7172379032258065,0.7172379032258065,0.7172379032258065,0.7172379032258065,0.7172379032258065,0.7172379032258065,0.7172379032258065,0.7172379032258065,0.7172379032258065],\"yaxis\":\"y\",\"type\":\"scatter\"},{\"hovertemplate\":\"variable=wide_variable_2\\u003cbr\\u003ex=%{x}\\u003cbr\\u003evalue=%{y}\\u003cextra\\u003e\\u003c\\u002fextra\\u003e\",\"legendgroup\":\"wide_variable_2\",\"line\":{\"color\":\"#00cc96\",\"dash\":\"solid\"},\"marker\":{\"symbol\":\"circle\"},\"mode\":\"lines\",\"name\":\"wide_variable_2\",\"orientation\":\"v\",\"showlegend\":true,\"x\":[0,10,20,30,40,50,60,70,80,90,100,110],\"xaxis\":\"x\",\"y\":[0.6648185483870968,0.7076612903225806,0.7076612903225806,0.7076612903225806,0.7076612903225806,0.7076612903225806,0.7076612903225806,0.7076612903225806,0.7076612903225806,0.7076612903225806,0.7076612903225806,0.7076612903225806],\"yaxis\":\"y\",\"type\":\"scatter\"},{\"hovertemplate\":\"variable=wide_variable_3\\u003cbr\\u003ex=%{x}\\u003cbr\\u003evalue=%{y}\\u003cextra\\u003e\\u003c\\u002fextra\\u003e\",\"legendgroup\":\"wide_variable_3\",\"line\":{\"color\":\"#ab63fa\",\"dash\":\"solid\"},\"marker\":{\"symbol\":\"circle\"},\"mode\":\"lines\",\"name\":\"wide_variable_3\",\"orientation\":\"v\",\"showlegend\":true,\"x\":[0,10,20,30,40,50,60,70,80,90,100,110],\"xaxis\":\"x\",\"y\":[0.6723790322580645,0.6844758064516129,0.6844758064516129,0.6844758064516129,0.6844758064516129,0.6844758064516129,0.6844758064516129,0.6844758064516129,0.6844758064516129,0.6844758064516129,0.6844758064516129,0.6844758064516129],\"yaxis\":\"y\",\"type\":\"scatter\"},{\"hovertemplate\":\"variable=wide_variable_4\\u003cbr\\u003ex=%{x}\\u003cbr\\u003evalue=%{y}\\u003cextra\\u003e\\u003c\\u002fextra\\u003e\",\"legendgroup\":\"wide_variable_4\",\"line\":{\"color\":\"#FFA15A\",\"dash\":\"solid\"},\"marker\":{\"symbol\":\"circle\"},\"mode\":\"lines\",\"name\":\"wide_variable_4\",\"orientation\":\"v\",\"showlegend\":true,\"x\":[0,10,20,30,40,50,60,70,80,90,100,110],\"xaxis\":\"x\",\"y\":[0.655241935483871,0.7086693548387096,0.7086693548387096,0.7086693548387096,0.7086693548387096,0.7086693548387096,0.7086693548387096,0.7086693548387096,0.7086693548387096,0.7086693548387096,0.7086693548387096,0.7086693548387096],\"yaxis\":\"y\",\"type\":\"scatter\"},{\"hovertemplate\":\"variable=wide_variable_5\\u003cbr\\u003ex=%{x}\\u003cbr\\u003evalue=%{y}\\u003cextra\\u003e\\u003c\\u002fextra\\u003e\",\"legendgroup\":\"wide_variable_5\",\"line\":{\"color\":\"#19d3f3\",\"dash\":\"solid\"},\"marker\":{\"symbol\":\"circle\"},\"mode\":\"lines\",\"name\":\"wide_variable_5\",\"orientation\":\"v\",\"showlegend\":true,\"x\":[0,10,20,30,40,50,60,70,80,90,100,110],\"xaxis\":\"x\",\"y\":[0.6769153225806451,0.6859537787161678,0.701702997510495,0.7082386937633949,0.7115178036754308,0.7161841132615722,0.7227532557183497,0.7268312392309711,0.731984179667477,0.735383064516129,0.735383064516129,0.735383064516129],\"yaxis\":\"y\",\"type\":\"scatter\"},{\"hovertemplate\":\"variable=wide_variable_6\\u003cbr\\u003ex=%{x}\\u003cbr\\u003evalue=%{y}\\u003cextra\\u003e\\u003c\\u002fextra\\u003e\",\"legendgroup\":\"wide_variable_6\",\"line\":{\"color\":\"#FF6692\",\"dash\":\"solid\"},\"marker\":{\"symbol\":\"circle\"},\"mode\":\"lines\",\"name\":\"wide_variable_6\",\"orientation\":\"v\",\"showlegend\":true,\"x\":[0,10,20,30,40,50,60,70,80,90,100,110],\"xaxis\":\"x\",\"y\":[0.6723790322580645,0.6831124912053996,0.6891608783021739,0.6971965505941442,0.7044802214147496,0.7107414058006951,0.7171657936331518,0.7231294149631368,0.7269056099828888,0.7322723394565562,0.7468794153645674,0.748991935483871],\"yaxis\":\"y\",\"type\":\"scatter\"},{\"hovertemplate\":\"variable=wide_variable_7\\u003cbr\\u003ex=%{x}\\u003cbr\\u003evalue=%{y}\\u003cextra\\u003e\\u003c\\u002fextra\\u003e\",\"legendgroup\":\"wide_variable_7\",\"line\":{\"color\":\"#B6E880\",\"dash\":\"solid\"},\"marker\":{\"symbol\":\"circle\"},\"mode\":\"lines\",\"name\":\"wide_variable_7\",\"orientation\":\"v\",\"showlegend\":true,\"x\":[0,10,20,30,40,50,60,70,80,90,100,110],\"xaxis\":\"x\",\"y\":[0.6784274193548387,0.6834658159210051,0.689328292176921,0.6905241935483871,0.7055664228375879,0.7169542219283221,0.722218747498505,0.7305399807223183,0.7401358537703322,0.7439879790374265,0.7464717741935484,0.7464717741935484],\"yaxis\":\"y\",\"type\":\"scatter\"},{\"hovertemplate\":\"variable=wide_variable_8\\u003cbr\\u003ex=%{x}\\u003cbr\\u003evalue=%{y}\\u003cextra\\u003e\\u003c\\u002fextra\\u003e\",\"legendgroup\":\"wide_variable_8\",\"line\":{\"color\":\"#FF97FF\",\"dash\":\"solid\"},\"marker\":{\"symbol\":\"circle\"},\"mode\":\"lines\",\"name\":\"wide_variable_8\",\"orientation\":\"v\",\"showlegend\":true,\"x\":[0,10,20,30,40,50,60,70,80,90,100,110],\"xaxis\":\"x\",\"y\":[0.6693548387096774,0.6970766129032258,0.7117447509167599,0.7147177419354839,0.7147177419354839,0.7147177419354839,0.7147177419354839,0.7147177419354839,0.7147177419354839,0.7147177419354839,0.7147177419354839,0.7147177419354839],\"yaxis\":\"y\",\"type\":\"scatter\"},{\"hovertemplate\":\"variable=wide_variable_9\\u003cbr\\u003ex=%{x}\\u003cbr\\u003evalue=%{y}\\u003cextra\\u003e\\u003c\\u002fextra\\u003e\",\"legendgroup\":\"wide_variable_9\",\"line\":{\"color\":\"#FECB52\",\"dash\":\"solid\"},\"marker\":{\"symbol\":\"circle\"},\"mode\":\"lines\",\"name\":\"wide_variable_9\",\"orientation\":\"v\",\"showlegend\":true,\"x\":[0,10,20,30,40,50,60,70,80,90,100,110],\"xaxis\":\"x\",\"y\":[0.6688508064516129,0.6796529727449003,0.6844758064516129,0.7036290322580645,0.7036290322580645,0.7036290322580645,0.7036290322580645,0.7036290322580645,0.7036290322580645,0.7036290322580645,0.7036290322580645,0.7036290322580645],\"yaxis\":\"y\",\"type\":\"scatter\"}],                        {\"template\":{\"data\":{\"histogram2dcontour\":[{\"type\":\"histogram2dcontour\",\"colorbar\":{\"outlinewidth\":0,\"ticks\":\"\"},\"colorscale\":[[0.0,\"#0d0887\"],[0.1111111111111111,\"#46039f\"],[0.2222222222222222,\"#7201a8\"],[0.3333333333333333,\"#9c179e\"],[0.4444444444444444,\"#bd3786\"],[0.5555555555555556,\"#d8576b\"],[0.6666666666666666,\"#ed7953\"],[0.7777777777777778,\"#fb9f3a\"],[0.8888888888888888,\"#fdca26\"],[1.0,\"#f0f921\"]]}],\"choropleth\":[{\"type\":\"choropleth\",\"colorbar\":{\"outlinewidth\":0,\"ticks\":\"\"}}],\"histogram2d\":[{\"type\":\"histogram2d\",\"colorbar\":{\"outlinewidth\":0,\"ticks\":\"\"},\"colorscale\":[[0.0,\"#0d0887\"],[0.1111111111111111,\"#46039f\"],[0.2222222222222222,\"#7201a8\"],[0.3333333333333333,\"#9c179e\"],[0.4444444444444444,\"#bd3786\"],[0.5555555555555556,\"#d8576b\"],[0.6666666666666666,\"#ed7953\"],[0.7777777777777778,\"#fb9f3a\"],[0.8888888888888888,\"#fdca26\"],[1.0,\"#f0f921\"]]}],\"heatmap\":[{\"type\":\"heatmap\",\"colorbar\":{\"outlinewidth\":0,\"ticks\":\"\"},\"colorscale\":[[0.0,\"#0d0887\"],[0.1111111111111111,\"#46039f\"],[0.2222222222222222,\"#7201a8\"],[0.3333333333333333,\"#9c179e\"],[0.4444444444444444,\"#bd3786\"],[0.5555555555555556,\"#d8576b\"],[0.6666666666666666,\"#ed7953\"],[0.7777777777777778,\"#fb9f3a\"],[0.8888888888888888,\"#fdca26\"],[1.0,\"#f0f921\"]]}],\"heatmapgl\":[{\"type\":\"heatmapgl\",\"colorbar\":{\"outlinewidth\":0,\"ticks\":\"\"},\"colorscale\":[[0.0,\"#0d0887\"],[0.1111111111111111,\"#46039f\"],[0.2222222222222222,\"#7201a8\"],[0.3333333333333333,\"#9c179e\"],[0.4444444444444444,\"#bd3786\"],[0.5555555555555556,\"#d8576b\"],[0.6666666666666666,\"#ed7953\"],[0.7777777777777778,\"#fb9f3a\"],[0.8888888888888888,\"#fdca26\"],[1.0,\"#f0f921\"]]}],\"contourcarpet\":[{\"type\":\"contourcarpet\",\"colorbar\":{\"outlinewidth\":0,\"ticks\":\"\"}}],\"contour\":[{\"type\":\"contour\",\"colorbar\":{\"outlinewidth\":0,\"ticks\":\"\"},\"colorscale\":[[0.0,\"#0d0887\"],[0.1111111111111111,\"#46039f\"],[0.2222222222222222,\"#7201a8\"],[0.3333333333333333,\"#9c179e\"],[0.4444444444444444,\"#bd3786\"],[0.5555555555555556,\"#d8576b\"],[0.6666666666666666,\"#ed7953\"],[0.7777777777777778,\"#fb9f3a\"],[0.8888888888888888,\"#fdca26\"],[1.0,\"#f0f921\"]]}],\"surface\":[{\"type\":\"surface\",\"colorbar\":{\"outlinewidth\":0,\"ticks\":\"\"},\"colorscale\":[[0.0,\"#0d0887\"],[0.1111111111111111,\"#46039f\"],[0.2222222222222222,\"#7201a8\"],[0.3333333333333333,\"#9c179e\"],[0.4444444444444444,\"#bd3786\"],[0.5555555555555556,\"#d8576b\"],[0.6666666666666666,\"#ed7953\"],[0.7777777777777778,\"#fb9f3a\"],[0.8888888888888888,\"#fdca26\"],[1.0,\"#f0f921\"]]}],\"mesh3d\":[{\"type\":\"mesh3d\",\"colorbar\":{\"outlinewidth\":0,\"ticks\":\"\"}}],\"scatter\":[{\"fillpattern\":{\"fillmode\":\"overlay\",\"size\":10,\"solidity\":0.2},\"type\":\"scatter\"}],\"parcoords\":[{\"type\":\"parcoords\",\"line\":{\"colorbar\":{\"outlinewidth\":0,\"ticks\":\"\"}}}],\"scatterpolargl\":[{\"type\":\"scatterpolargl\",\"marker\":{\"colorbar\":{\"outlinewidth\":0,\"ticks\":\"\"}}}],\"bar\":[{\"error_x\":{\"color\":\"#2a3f5f\"},\"error_y\":{\"color\":\"#2a3f5f\"},\"marker\":{\"line\":{\"color\":\"#E5ECF6\",\"width\":0.5},\"pattern\":{\"fillmode\":\"overlay\",\"size\":10,\"solidity\":0.2}},\"type\":\"bar\"}],\"scattergeo\":[{\"type\":\"scattergeo\",\"marker\":{\"colorbar\":{\"outlinewidth\":0,\"ticks\":\"\"}}}],\"scatterpolar\":[{\"type\":\"scatterpolar\",\"marker\":{\"colorbar\":{\"outlinewidth\":0,\"ticks\":\"\"}}}],\"histogram\":[{\"marker\":{\"pattern\":{\"fillmode\":\"overlay\",\"size\":10,\"solidity\":0.2}},\"type\":\"histogram\"}],\"scattergl\":[{\"type\":\"scattergl\",\"marker\":{\"colorbar\":{\"outlinewidth\":0,\"ticks\":\"\"}}}],\"scatter3d\":[{\"type\":\"scatter3d\",\"line\":{\"colorbar\":{\"outlinewidth\":0,\"ticks\":\"\"}},\"marker\":{\"colorbar\":{\"outlinewidth\":0,\"ticks\":\"\"}}}],\"scattermapbox\":[{\"type\":\"scattermapbox\",\"marker\":{\"colorbar\":{\"outlinewidth\":0,\"ticks\":\"\"}}}],\"scatterternary\":[{\"type\":\"scatterternary\",\"marker\":{\"colorbar\":{\"outlinewidth\":0,\"ticks\":\"\"}}}],\"scattercarpet\":[{\"type\":\"scattercarpet\",\"marker\":{\"colorbar\":{\"outlinewidth\":0,\"ticks\":\"\"}}}],\"carpet\":[{\"aaxis\":{\"endlinecolor\":\"#2a3f5f\",\"gridcolor\":\"white\",\"linecolor\":\"white\",\"minorgridcolor\":\"white\",\"startlinecolor\":\"#2a3f5f\"},\"baxis\":{\"endlinecolor\":\"#2a3f5f\",\"gridcolor\":\"white\",\"linecolor\":\"white\",\"minorgridcolor\":\"white\",\"startlinecolor\":\"#2a3f5f\"},\"type\":\"carpet\"}],\"table\":[{\"cells\":{\"fill\":{\"color\":\"#EBF0F8\"},\"line\":{\"color\":\"white\"}},\"header\":{\"fill\":{\"color\":\"#C8D4E3\"},\"line\":{\"color\":\"white\"}},\"type\":\"table\"}],\"barpolar\":[{\"marker\":{\"line\":{\"color\":\"#E5ECF6\",\"width\":0.5},\"pattern\":{\"fillmode\":\"overlay\",\"size\":10,\"solidity\":0.2}},\"type\":\"barpolar\"}],\"pie\":[{\"automargin\":true,\"type\":\"pie\"}]},\"layout\":{\"autotypenumbers\":\"strict\",\"colorway\":[\"#636efa\",\"#EF553B\",\"#00cc96\",\"#ab63fa\",\"#FFA15A\",\"#19d3f3\",\"#FF6692\",\"#B6E880\",\"#FF97FF\",\"#FECB52\"],\"font\":{\"color\":\"#2a3f5f\"},\"hovermode\":\"closest\",\"hoverlabel\":{\"align\":\"left\"},\"paper_bgcolor\":\"white\",\"plot_bgcolor\":\"#E5ECF6\",\"polar\":{\"bgcolor\":\"#E5ECF6\",\"angularaxis\":{\"gridcolor\":\"white\",\"linecolor\":\"white\",\"ticks\":\"\"},\"radialaxis\":{\"gridcolor\":\"white\",\"linecolor\":\"white\",\"ticks\":\"\"}},\"ternary\":{\"bgcolor\":\"#E5ECF6\",\"aaxis\":{\"gridcolor\":\"white\",\"linecolor\":\"white\",\"ticks\":\"\"},\"baxis\":{\"gridcolor\":\"white\",\"linecolor\":\"white\",\"ticks\":\"\"},\"caxis\":{\"gridcolor\":\"white\",\"linecolor\":\"white\",\"ticks\":\"\"}},\"coloraxis\":{\"colorbar\":{\"outlinewidth\":0,\"ticks\":\"\"}},\"colorscale\":{\"sequential\":[[0.0,\"#0d0887\"],[0.1111111111111111,\"#46039f\"],[0.2222222222222222,\"#7201a8\"],[0.3333333333333333,\"#9c179e\"],[0.4444444444444444,\"#bd3786\"],[0.5555555555555556,\"#d8576b\"],[0.6666666666666666,\"#ed7953\"],[0.7777777777777778,\"#fb9f3a\"],[0.8888888888888888,\"#fdca26\"],[1.0,\"#f0f921\"]],\"sequentialminus\":[[0.0,\"#0d0887\"],[0.1111111111111111,\"#46039f\"],[0.2222222222222222,\"#7201a8\"],[0.3333333333333333,\"#9c179e\"],[0.4444444444444444,\"#bd3786\"],[0.5555555555555556,\"#d8576b\"],[0.6666666666666666,\"#ed7953\"],[0.7777777777777778,\"#fb9f3a\"],[0.8888888888888888,\"#fdca26\"],[1.0,\"#f0f921\"]],\"diverging\":[[0,\"#8e0152\"],[0.1,\"#c51b7d\"],[0.2,\"#de77ae\"],[0.3,\"#f1b6da\"],[0.4,\"#fde0ef\"],[0.5,\"#f7f7f7\"],[0.6,\"#e6f5d0\"],[0.7,\"#b8e186\"],[0.8,\"#7fbc41\"],[0.9,\"#4d9221\"],[1,\"#276419\"]]},\"xaxis\":{\"gridcolor\":\"white\",\"linecolor\":\"white\",\"ticks\":\"\",\"title\":{\"standoff\":15},\"zerolinecolor\":\"white\",\"automargin\":true,\"zerolinewidth\":2},\"yaxis\":{\"gridcolor\":\"white\",\"linecolor\":\"white\",\"ticks\":\"\",\"title\":{\"standoff\":15},\"zerolinecolor\":\"white\",\"automargin\":true,\"zerolinewidth\":2},\"scene\":{\"xaxis\":{\"backgroundcolor\":\"#E5ECF6\",\"gridcolor\":\"white\",\"linecolor\":\"white\",\"showbackground\":true,\"ticks\":\"\",\"zerolinecolor\":\"white\",\"gridwidth\":2},\"yaxis\":{\"backgroundcolor\":\"#E5ECF6\",\"gridcolor\":\"white\",\"linecolor\":\"white\",\"showbackground\":true,\"ticks\":\"\",\"zerolinecolor\":\"white\",\"gridwidth\":2},\"zaxis\":{\"backgroundcolor\":\"#E5ECF6\",\"gridcolor\":\"white\",\"linecolor\":\"white\",\"showbackground\":true,\"ticks\":\"\",\"zerolinecolor\":\"white\",\"gridwidth\":2}},\"shapedefaults\":{\"line\":{\"color\":\"#2a3f5f\"}},\"annotationdefaults\":{\"arrowcolor\":\"#2a3f5f\",\"arrowhead\":0,\"arrowwidth\":1},\"geo\":{\"bgcolor\":\"white\",\"landcolor\":\"#E5ECF6\",\"subunitcolor\":\"white\",\"showland\":true,\"showlakes\":true,\"lakecolor\":\"white\"},\"title\":{\"x\":0.05},\"mapbox\":{\"style\":\"light\"}}},\"xaxis\":{\"anchor\":\"y\",\"domain\":[0.0,1.0],\"title\":{\"text\":\"x\"}},\"yaxis\":{\"anchor\":\"x\",\"domain\":[0.0,1.0],\"title\":{\"text\":\"value\"}},\"legend\":{\"title\":{\"text\":\"variable\"},\"tracegroupgap\":0},\"margin\":{\"t\":60}},                        {\"responsive\": true}                    ).then(function(){\n",
       "                            \n",
       "var gd = document.getElementById('33cfc95a-84e5-4dba-b265-c3a97978f92c');\n",
       "var x = new MutationObserver(function (mutations, observer) {{\n",
       "        var display = window.getComputedStyle(gd).display;\n",
       "        if (!display || display === 'none') {{\n",
       "            console.log([gd, 'removed!']);\n",
       "            Plotly.purge(gd);\n",
       "            observer.disconnect();\n",
       "        }}\n",
       "}});\n",
       "\n",
       "// Listen for the removal of the full notebook cells\n",
       "var notebookContainer = gd.closest('#notebook-container');\n",
       "if (notebookContainer) {{\n",
       "    x.observe(notebookContainer, {childList: true});\n",
       "}}\n",
       "\n",
       "// Listen for the clearing of the current output cell\n",
       "var outputEl = gd.closest('.output');\n",
       "if (outputEl) {{\n",
       "    x.observe(outputEl, {childList: true});\n",
       "}}\n",
       "\n",
       "                        })                };                });            </script>        </div>"
      ]
     },
     "metadata": {},
     "output_type": "display_data"
    }
   ],
   "source": [
    "px.line(x=sample_times, y=peak_profile_time[:5].tolist() + peak_profile_time[-5:].tolist())"
   ]
  },
  {
   "cell_type": "code",
   "execution_count": 209,
   "id": "a758cee1-d72b-4baa-bb93-56eab10e0eb9",
   "metadata": {},
   "outputs": [
    {
     "data": {
      "application/vnd.plotly.v1+json": {
       "config": {
        "plotlyServerURL": "https://plot.ly"
       },
       "data": [
        {
         "alignmentgroup": "True",
         "hovertemplate": "variable=wide_variable_0<br>x=%{x}<br>value=%{y}<extra></extra>",
         "legendgroup": "wide_variable_0",
         "marker": {
          "color": "#636efa",
          "pattern": {
           "shape": ""
          }
         },
         "name": "wide_variable_0",
         "offsetgroup": "wide_variable_0",
         "orientation": "v",
         "showlegend": true,
         "textposition": "auto",
         "type": "bar",
         "x": [
          "dla46x_c",
          "dla46_c",
          "mobilevitv2_050",
          "mobilenetv2_050",
          "semnasnet_075",
          "pvt_v2_b0",
          "convnext_atto",
          "mnasnet_100",
          "spnasnet_100",
          "ghostnet_100",
          "hardcorenas_a",
          "efficientnet_b0",
          "fbnetc_100",
          "mobilevit_s",
          "tinynet_a",
          "ese_vovnet19b_dw",
          "densenet121",
          "densenetblur121d",
          "crossvit_9_240",
          "fbnetv3_b",
          "resnet14t",
          "seresnext26ts",
          "gcresnext26ts",
          "eca_botnext26ts_256",
          "bat_resnext26ts",
          "lambda_resnet26rpt_256",
          "resnet18d",
          "halonet26t",
          "botnet26t_256",
          "dpn68",
          "dpn68b",
          "gc_efficientnetv2_rw_t",
          "sehalonet33ts",
          "sebotnet33ts_256",
          "densenet169",
          "maxvit_nano_rw_256",
          "gcresnext50ts",
          "dla34",
          "ecaresnet26t",
          "resnet26d",
          "maxxvit_rmlp_nano_rw_256",
          "seresnext26t_32x4d",
          "seresnext26d_32x4d",
          "dla60x",
          "resnet32ts",
          "edgenext_base",
          "eca_resnet33ts",
          "seresnet33ts",
          "gcresnet33ts",
          "densenet201",
          "cspresnext50",
          "regnetv_040",
          "convmixer_768_32",
          "cs3darknet_focus_l",
          "hrnet_w18",
          "cspresnet50",
          "gluon_resnet34_v1b",
          "resnet34d",
          "cs3sedarknet_l",
          "dla60",
          "lamhalobotnet50ts_256",
          "halo2botnet50ts_256",
          "halonet50ts",
          "adv_inception_v3",
          "gluon_inception_v3",
          "res2next50",
          "resnext50d_32x4d",
          "res2net50_14w_8s",
          "resnetv2_50",
          "resnetblur50",
          "resnetaa50",
          "ecaresnet50t",
          "ecaresnet50d",
          "gcresnet50t",
          "dla102x",
          "xception41p",
          "xception41",
          "gluon_seresnext50_32x4d",
          "cspdarknet53",
          "legacy_seresnet50",
          "repvgg_a2",
          "convnext_tiny_hnf",
          "densenet161",
          "ecaresnetlight",
          "selecsls60",
          "gernet_l",
          "selecsls42b",
          "selecsls60b",
          "dla102",
          "resnetrs50",
          "resnet51q",
          "darknetaa53",
          "resnet61q",
          "dpn92",
          "xception65p",
          "gluon_xception65",
          "dla102x2",
          "xception71",
          "twins_pcpvt_base",
          "gluon_resnext101_32x4d",
          "ecaresnet101d",
          "res2net101_26w_4s",
          "cs3edgenet_x",
          "gluon_seresnext101_32x4d",
          "cs3se_edgenet_x",
          "efficientnetv2_rw_m",
          "dla169",
          "sequencer2d_l",
          "poolformer_m36",
          "gluon_resnet152_v1b",
          "resnet152d",
          "dpn98",
          "resnetrs101",
          "resnet200d",
          "seresnet152d",
          "wide_resnet50_2",
          "dm_nfnet_f0",
          "dpn131",
          "pnasnet5large",
          "resnetrs152",
          "dpn107",
          "swinv2_base_window8_256",
          "nasnetalarge",
          "resnetrs200",
          "seresnext101d_32x8d",
          "seresnextaa101d_32x8d",
          "ecaresnet269d",
          "legacy_senet154",
          "resnetrs270",
          "vgg11",
          "vgg13"
         ],
         "xaxis": "x",
         "y": [
          0.7318548387096774,
          0.7172379032258065,
          0.7076612903225806,
          0.6844758064516129,
          0.7086693548387096,
          0.7328629032258065,
          0.733366935483871,
          0.7016129032258065,
          0.7076612903225806,
          0.6925403225806451,
          0.6875,
          0.6905241935483871,
          0.704133064516129,
          0.7328629032258065,
          0.6880040322580645,
          0.7651209677419355,
          0.7476503297410138,
          0.734375,
          0.7550403225806451,
          0.6859879032258065,
          0.7137096774193549,
          0.7479838709677419,
          0.7479838709677419,
          0.7632863087527658,
          0.7494959677419355,
          0.7525201612903226,
          0.7479838709677419,
          0.7479838709677419,
          0.7449596774193549,
          0.7293346774193549,
          0.7379032258064516,
          0.7279456312575681,
          0.7610887096774194,
          0.7323588709677419,
          0.7395887235888067,
          0.7550403225806451,
          0.7288010225232701,
          0.6960685483870968,
          0.7273185483870968,
          0.7217741935483871,
          0.7269817018968456,
          0.735383064516129,
          0.7449596774193549,
          0.6851459980280405,
          0.734375,
          0.7313508064516129,
          0.7429435483870968,
          0.7318548387096774,
          0.7434475806451613,
          0.7248879905842338,
          0.7318548387096774,
          0.6703629032258065,
          0.6796116503468262,
          0.7202620967741935,
          0.6966699507054993,
          0.7268145161290323,
          0.7615927419354839,
          0.7449596774193549,
          0.7308467741935484,
          0.6784274193548387,
          0.7314350126510599,
          0.7520161290322581,
          0.7496848875608613,
          0.7308467741935484,
          0.7308467741935484,
          0.7239385981042262,
          0.735370056881674,
          0.7404233870967742,
          0.7303427419354839,
          0.7200311067547837,
          0.7296436990964632,
          0.7303698910267514,
          0.7280444048762327,
          0.7395037554157878,
          0.6261924489323395,
          0.7207661290322581,
          0.7127016129032258,
          0.7278685263402924,
          0.6963099834430642,
          0.7520161290322581,
          0.7121975806451613,
          0.6932422526195069,
          0.7214879672956415,
          0.7404233870967742,
          0.7278225806451613,
          0.7303427419354839,
          0.7172379032258065,
          0.7253024193548387,
          0.6834677419354839,
          0.7218870087942418,
          0.7406355521490232,
          0.6890120967741935,
          0.7424395161290323,
          0.7142137096774194,
          0.7182459677419355,
          0.7116935483870968,
          0.6195130647194149,
          0.6910282258064516,
          0.6733870967741935,
          0.7152217741935484,
          0.699636638822812,
          0.7404233870967742,
          0.7123350923158087,
          0.7255515131980932,
          0.707104081936176,
          0.6809475806451613,
          0.6401209677419355,
          0.6693548387096774,
          0.6761393862796967,
          0.7204416503813793,
          0.7215734886422387,
          0.7101284657235304,
          0.7237021790756256,
          0.6983803061609034,
          0.719634263232609,
          0.723184539124157,
          0.6693548387096774,
          0.6980846774193549,
          0.7235769619961652,
          0.7014477234932674,
          0.7148352810060206,
          0.6945564516129032,
          0.7160665039349587,
          0.6850833379772033,
          0.7029343919575742,
          0.6992756928520362,
          0.701702997510495,
          0.6891608783021739,
          0.689328292176921,
          0.7117447509167599,
          0.6844758064516129
         ],
         "yaxis": "y"
        },
        {
         "alignmentgroup": "True",
         "hovertemplate": "variable=wide_variable_1<br>x=%{x}<br>value=%{y}<extra></extra>",
         "legendgroup": "wide_variable_1",
         "marker": {
          "color": "#EF553B",
          "pattern": {
           "shape": ""
          }
         },
         "name": "wide_variable_1",
         "offsetgroup": "wide_variable_1",
         "orientation": "v",
         "showlegend": true,
         "textposition": "auto",
         "type": "bar",
         "x": [
          "dla46x_c",
          "dla46_c",
          "mobilevitv2_050",
          "mobilenetv2_050",
          "semnasnet_075",
          "pvt_v2_b0",
          "convnext_atto",
          "mnasnet_100",
          "spnasnet_100",
          "ghostnet_100",
          "hardcorenas_a",
          "efficientnet_b0",
          "fbnetc_100",
          "mobilevit_s",
          "tinynet_a",
          "ese_vovnet19b_dw",
          "densenet121",
          "densenetblur121d",
          "crossvit_9_240",
          "fbnetv3_b",
          "resnet14t",
          "seresnext26ts",
          "gcresnext26ts",
          "eca_botnext26ts_256",
          "bat_resnext26ts",
          "lambda_resnet26rpt_256",
          "resnet18d",
          "halonet26t",
          "botnet26t_256",
          "dpn68",
          "dpn68b",
          "gc_efficientnetv2_rw_t",
          "sehalonet33ts",
          "sebotnet33ts_256",
          "densenet169",
          "maxvit_nano_rw_256",
          "gcresnext50ts",
          "dla34",
          "ecaresnet26t",
          "resnet26d",
          "maxxvit_rmlp_nano_rw_256",
          "seresnext26t_32x4d",
          "seresnext26d_32x4d",
          "dla60x",
          "resnet32ts",
          "edgenext_base",
          "eca_resnet33ts",
          "seresnet33ts",
          "gcresnet33ts",
          "densenet201",
          "cspresnext50",
          "regnetv_040",
          "convmixer_768_32",
          "cs3darknet_focus_l",
          "hrnet_w18",
          "cspresnet50",
          "gluon_resnet34_v1b",
          "resnet34d",
          "cs3sedarknet_l",
          "dla60",
          "lamhalobotnet50ts_256",
          "halo2botnet50ts_256",
          "halonet50ts",
          "adv_inception_v3",
          "gluon_inception_v3",
          "res2next50",
          "resnext50d_32x4d",
          "res2net50_14w_8s",
          "resnetv2_50",
          "resnetblur50",
          "resnetaa50",
          "ecaresnet50t",
          "ecaresnet50d",
          "gcresnet50t",
          "dla102x",
          "xception41p",
          "xception41",
          "gluon_seresnext50_32x4d",
          "cspdarknet53",
          "legacy_seresnet50",
          "repvgg_a2",
          "convnext_tiny_hnf",
          "densenet161",
          "ecaresnetlight",
          "selecsls60",
          "gernet_l",
          "selecsls42b",
          "selecsls60b",
          "dla102",
          "resnetrs50",
          "resnet51q",
          "darknetaa53",
          "resnet61q",
          "dpn92",
          "xception65p",
          "gluon_xception65",
          "dla102x2",
          "xception71",
          "twins_pcpvt_base",
          "gluon_resnext101_32x4d",
          "ecaresnet101d",
          "res2net101_26w_4s",
          "cs3edgenet_x",
          "gluon_seresnext101_32x4d",
          "cs3se_edgenet_x",
          "efficientnetv2_rw_m",
          "dla169",
          "sequencer2d_l",
          "poolformer_m36",
          "gluon_resnet152_v1b",
          "resnet152d",
          "dpn98",
          "resnetrs101",
          "resnet200d",
          "seresnet152d",
          "wide_resnet50_2",
          "dm_nfnet_f0",
          "dpn131",
          "pnasnet5large",
          "resnetrs152",
          "dpn107",
          "swinv2_base_window8_256",
          "nasnetalarge",
          "resnetrs200",
          "seresnext101d_32x8d",
          "seresnextaa101d_32x8d",
          "ecaresnet269d",
          "legacy_senet154",
          "resnetrs270",
          "vgg11",
          "vgg13"
         ],
         "xaxis": "x",
         "y": [
          0,
          0,
          0,
          0,
          0,
          0,
          0,
          0,
          0,
          0,
          0,
          0,
          0,
          0,
          0,
          0,
          0.000333541226728129,
          0,
          0,
          0,
          0,
          0,
          0,
          0.0048588525375568015,
          0,
          0,
          0,
          0,
          0,
          0,
          0,
          0.00038098164565769643,
          0,
          0,
          0.010915308669257828,
          0,
          0.014142525863826694,
          0,
          0,
          0,
          0.0028570077805737393,
          0,
          0,
          0.0003378729397013336,
          0,
          0,
          0,
          0,
          0,
          0.02309588038350807,
          0,
          0,
          0.028553672233818883,
          0,
          0.02409617832675881,
          0,
          0,
          0,
          0,
          0,
          0.016044826058617456,
          0.0010080645161290036,
          0.021484467277848363,
          0,
          0,
          0.010436401895773773,
          0.015638007634454998,
          0,
          0,
          0.006783409374248595,
          0.010779688000311038,
          0.01610188316679695,
          0.01036285318828345,
          0.005959954261631539,
          0.03963416397088626,
          0,
          0.019657258064516125,
          0.003986312369384959,
          0.018911790750484214,
          0,
          0,
          0.03155613447726735,
          0.019439452059197282,
          0,
          0,
          0,
          0,
          0,
          0.032258064516129004,
          0.020552507334790415,
          0.007852351076783282,
          0,
          0,
          0,
          0.020161290322580627,
          0.0040322580645161255,
          0.0543780643128432,
          0.014616935483870996,
          0,
          0.02368951612903225,
          0.03473836117718798,
          0,
          0.022039907684191284,
          0.019912196479326183,
          0.015174143870275603,
          0.032762096774193616,
          0.03931451612903225,
          0.003024193548387122,
          0.013376742752561399,
          0.00788496252184645,
          0.012801511357761308,
          0.025254598792598615,
          0.026297820924374382,
          0.03498662932296759,
          0.03591009160610059,
          0.007662235069391343,
          0,
          0.03578629032258063,
          0.026927070261899333,
          0.04855227650673255,
          0.02760423512301169,
          0.04233870967741937,
          0.01881252832310576,
          0.04929166202279667,
          0.04303334997790964,
          0.05778075876086708,
          0.033680067005633973,
          0.05983105718169712,
          0.057143482016627334,
          0.0029729910187239472,
          0.019153225806451624
         ],
         "yaxis": "y"
        }
       ],
       "layout": {
        "autosize": true,
        "barmode": "relative",
        "legend": {
         "title": {
          "text": "variable"
         },
         "tracegroupgap": 0
        },
        "margin": {
         "t": 60
        },
        "template": {
         "data": {
          "bar": [
           {
            "error_x": {
             "color": "#2a3f5f"
            },
            "error_y": {
             "color": "#2a3f5f"
            },
            "marker": {
             "line": {
              "color": "#E5ECF6",
              "width": 0.5
             },
             "pattern": {
              "fillmode": "overlay",
              "size": 10,
              "solidity": 0.2
             }
            },
            "type": "bar"
           }
          ],
          "barpolar": [
           {
            "marker": {
             "line": {
              "color": "#E5ECF6",
              "width": 0.5
             },
             "pattern": {
              "fillmode": "overlay",
              "size": 10,
              "solidity": 0.2
             }
            },
            "type": "barpolar"
           }
          ],
          "carpet": [
           {
            "aaxis": {
             "endlinecolor": "#2a3f5f",
             "gridcolor": "white",
             "linecolor": "white",
             "minorgridcolor": "white",
             "startlinecolor": "#2a3f5f"
            },
            "baxis": {
             "endlinecolor": "#2a3f5f",
             "gridcolor": "white",
             "linecolor": "white",
             "minorgridcolor": "white",
             "startlinecolor": "#2a3f5f"
            },
            "type": "carpet"
           }
          ],
          "choropleth": [
           {
            "colorbar": {
             "outlinewidth": 0,
             "ticks": ""
            },
            "type": "choropleth"
           }
          ],
          "contour": [
           {
            "colorbar": {
             "outlinewidth": 0,
             "ticks": ""
            },
            "colorscale": [
             [
              0,
              "#0d0887"
             ],
             [
              0.1111111111111111,
              "#46039f"
             ],
             [
              0.2222222222222222,
              "#7201a8"
             ],
             [
              0.3333333333333333,
              "#9c179e"
             ],
             [
              0.4444444444444444,
              "#bd3786"
             ],
             [
              0.5555555555555556,
              "#d8576b"
             ],
             [
              0.6666666666666666,
              "#ed7953"
             ],
             [
              0.7777777777777778,
              "#fb9f3a"
             ],
             [
              0.8888888888888888,
              "#fdca26"
             ],
             [
              1,
              "#f0f921"
             ]
            ],
            "type": "contour"
           }
          ],
          "contourcarpet": [
           {
            "colorbar": {
             "outlinewidth": 0,
             "ticks": ""
            },
            "type": "contourcarpet"
           }
          ],
          "heatmap": [
           {
            "colorbar": {
             "outlinewidth": 0,
             "ticks": ""
            },
            "colorscale": [
             [
              0,
              "#0d0887"
             ],
             [
              0.1111111111111111,
              "#46039f"
             ],
             [
              0.2222222222222222,
              "#7201a8"
             ],
             [
              0.3333333333333333,
              "#9c179e"
             ],
             [
              0.4444444444444444,
              "#bd3786"
             ],
             [
              0.5555555555555556,
              "#d8576b"
             ],
             [
              0.6666666666666666,
              "#ed7953"
             ],
             [
              0.7777777777777778,
              "#fb9f3a"
             ],
             [
              0.8888888888888888,
              "#fdca26"
             ],
             [
              1,
              "#f0f921"
             ]
            ],
            "type": "heatmap"
           }
          ],
          "heatmapgl": [
           {
            "colorbar": {
             "outlinewidth": 0,
             "ticks": ""
            },
            "colorscale": [
             [
              0,
              "#0d0887"
             ],
             [
              0.1111111111111111,
              "#46039f"
             ],
             [
              0.2222222222222222,
              "#7201a8"
             ],
             [
              0.3333333333333333,
              "#9c179e"
             ],
             [
              0.4444444444444444,
              "#bd3786"
             ],
             [
              0.5555555555555556,
              "#d8576b"
             ],
             [
              0.6666666666666666,
              "#ed7953"
             ],
             [
              0.7777777777777778,
              "#fb9f3a"
             ],
             [
              0.8888888888888888,
              "#fdca26"
             ],
             [
              1,
              "#f0f921"
             ]
            ],
            "type": "heatmapgl"
           }
          ],
          "histogram": [
           {
            "marker": {
             "pattern": {
              "fillmode": "overlay",
              "size": 10,
              "solidity": 0.2
             }
            },
            "type": "histogram"
           }
          ],
          "histogram2d": [
           {
            "colorbar": {
             "outlinewidth": 0,
             "ticks": ""
            },
            "colorscale": [
             [
              0,
              "#0d0887"
             ],
             [
              0.1111111111111111,
              "#46039f"
             ],
             [
              0.2222222222222222,
              "#7201a8"
             ],
             [
              0.3333333333333333,
              "#9c179e"
             ],
             [
              0.4444444444444444,
              "#bd3786"
             ],
             [
              0.5555555555555556,
              "#d8576b"
             ],
             [
              0.6666666666666666,
              "#ed7953"
             ],
             [
              0.7777777777777778,
              "#fb9f3a"
             ],
             [
              0.8888888888888888,
              "#fdca26"
             ],
             [
              1,
              "#f0f921"
             ]
            ],
            "type": "histogram2d"
           }
          ],
          "histogram2dcontour": [
           {
            "colorbar": {
             "outlinewidth": 0,
             "ticks": ""
            },
            "colorscale": [
             [
              0,
              "#0d0887"
             ],
             [
              0.1111111111111111,
              "#46039f"
             ],
             [
              0.2222222222222222,
              "#7201a8"
             ],
             [
              0.3333333333333333,
              "#9c179e"
             ],
             [
              0.4444444444444444,
              "#bd3786"
             ],
             [
              0.5555555555555556,
              "#d8576b"
             ],
             [
              0.6666666666666666,
              "#ed7953"
             ],
             [
              0.7777777777777778,
              "#fb9f3a"
             ],
             [
              0.8888888888888888,
              "#fdca26"
             ],
             [
              1,
              "#f0f921"
             ]
            ],
            "type": "histogram2dcontour"
           }
          ],
          "mesh3d": [
           {
            "colorbar": {
             "outlinewidth": 0,
             "ticks": ""
            },
            "type": "mesh3d"
           }
          ],
          "parcoords": [
           {
            "line": {
             "colorbar": {
              "outlinewidth": 0,
              "ticks": ""
             }
            },
            "type": "parcoords"
           }
          ],
          "pie": [
           {
            "automargin": true,
            "type": "pie"
           }
          ],
          "scatter": [
           {
            "fillpattern": {
             "fillmode": "overlay",
             "size": 10,
             "solidity": 0.2
            },
            "type": "scatter"
           }
          ],
          "scatter3d": [
           {
            "line": {
             "colorbar": {
              "outlinewidth": 0,
              "ticks": ""
             }
            },
            "marker": {
             "colorbar": {
              "outlinewidth": 0,
              "ticks": ""
             }
            },
            "type": "scatter3d"
           }
          ],
          "scattercarpet": [
           {
            "marker": {
             "colorbar": {
              "outlinewidth": 0,
              "ticks": ""
             }
            },
            "type": "scattercarpet"
           }
          ],
          "scattergeo": [
           {
            "marker": {
             "colorbar": {
              "outlinewidth": 0,
              "ticks": ""
             }
            },
            "type": "scattergeo"
           }
          ],
          "scattergl": [
           {
            "marker": {
             "colorbar": {
              "outlinewidth": 0,
              "ticks": ""
             }
            },
            "type": "scattergl"
           }
          ],
          "scattermapbox": [
           {
            "marker": {
             "colorbar": {
              "outlinewidth": 0,
              "ticks": ""
             }
            },
            "type": "scattermapbox"
           }
          ],
          "scatterpolar": [
           {
            "marker": {
             "colorbar": {
              "outlinewidth": 0,
              "ticks": ""
             }
            },
            "type": "scatterpolar"
           }
          ],
          "scatterpolargl": [
           {
            "marker": {
             "colorbar": {
              "outlinewidth": 0,
              "ticks": ""
             }
            },
            "type": "scatterpolargl"
           }
          ],
          "scatterternary": [
           {
            "marker": {
             "colorbar": {
              "outlinewidth": 0,
              "ticks": ""
             }
            },
            "type": "scatterternary"
           }
          ],
          "surface": [
           {
            "colorbar": {
             "outlinewidth": 0,
             "ticks": ""
            },
            "colorscale": [
             [
              0,
              "#0d0887"
             ],
             [
              0.1111111111111111,
              "#46039f"
             ],
             [
              0.2222222222222222,
              "#7201a8"
             ],
             [
              0.3333333333333333,
              "#9c179e"
             ],
             [
              0.4444444444444444,
              "#bd3786"
             ],
             [
              0.5555555555555556,
              "#d8576b"
             ],
             [
              0.6666666666666666,
              "#ed7953"
             ],
             [
              0.7777777777777778,
              "#fb9f3a"
             ],
             [
              0.8888888888888888,
              "#fdca26"
             ],
             [
              1,
              "#f0f921"
             ]
            ],
            "type": "surface"
           }
          ],
          "table": [
           {
            "cells": {
             "fill": {
              "color": "#EBF0F8"
             },
             "line": {
              "color": "white"
             }
            },
            "header": {
             "fill": {
              "color": "#C8D4E3"
             },
             "line": {
              "color": "white"
             }
            },
            "type": "table"
           }
          ]
         },
         "layout": {
          "annotationdefaults": {
           "arrowcolor": "#2a3f5f",
           "arrowhead": 0,
           "arrowwidth": 1
          },
          "autotypenumbers": "strict",
          "coloraxis": {
           "colorbar": {
            "outlinewidth": 0,
            "ticks": ""
           }
          },
          "colorscale": {
           "diverging": [
            [
             0,
             "#8e0152"
            ],
            [
             0.1,
             "#c51b7d"
            ],
            [
             0.2,
             "#de77ae"
            ],
            [
             0.3,
             "#f1b6da"
            ],
            [
             0.4,
             "#fde0ef"
            ],
            [
             0.5,
             "#f7f7f7"
            ],
            [
             0.6,
             "#e6f5d0"
            ],
            [
             0.7,
             "#b8e186"
            ],
            [
             0.8,
             "#7fbc41"
            ],
            [
             0.9,
             "#4d9221"
            ],
            [
             1,
             "#276419"
            ]
           ],
           "sequential": [
            [
             0,
             "#0d0887"
            ],
            [
             0.1111111111111111,
             "#46039f"
            ],
            [
             0.2222222222222222,
             "#7201a8"
            ],
            [
             0.3333333333333333,
             "#9c179e"
            ],
            [
             0.4444444444444444,
             "#bd3786"
            ],
            [
             0.5555555555555556,
             "#d8576b"
            ],
            [
             0.6666666666666666,
             "#ed7953"
            ],
            [
             0.7777777777777778,
             "#fb9f3a"
            ],
            [
             0.8888888888888888,
             "#fdca26"
            ],
            [
             1,
             "#f0f921"
            ]
           ],
           "sequentialminus": [
            [
             0,
             "#0d0887"
            ],
            [
             0.1111111111111111,
             "#46039f"
            ],
            [
             0.2222222222222222,
             "#7201a8"
            ],
            [
             0.3333333333333333,
             "#9c179e"
            ],
            [
             0.4444444444444444,
             "#bd3786"
            ],
            [
             0.5555555555555556,
             "#d8576b"
            ],
            [
             0.6666666666666666,
             "#ed7953"
            ],
            [
             0.7777777777777778,
             "#fb9f3a"
            ],
            [
             0.8888888888888888,
             "#fdca26"
            ],
            [
             1,
             "#f0f921"
            ]
           ]
          },
          "colorway": [
           "#636efa",
           "#EF553B",
           "#00cc96",
           "#ab63fa",
           "#FFA15A",
           "#19d3f3",
           "#FF6692",
           "#B6E880",
           "#FF97FF",
           "#FECB52"
          ],
          "font": {
           "color": "#2a3f5f"
          },
          "geo": {
           "bgcolor": "white",
           "lakecolor": "white",
           "landcolor": "#E5ECF6",
           "showlakes": true,
           "showland": true,
           "subunitcolor": "white"
          },
          "hoverlabel": {
           "align": "left"
          },
          "hovermode": "closest",
          "mapbox": {
           "style": "light"
          },
          "paper_bgcolor": "white",
          "plot_bgcolor": "#E5ECF6",
          "polar": {
           "angularaxis": {
            "gridcolor": "white",
            "linecolor": "white",
            "ticks": ""
           },
           "bgcolor": "#E5ECF6",
           "radialaxis": {
            "gridcolor": "white",
            "linecolor": "white",
            "ticks": ""
           }
          },
          "scene": {
           "xaxis": {
            "backgroundcolor": "#E5ECF6",
            "gridcolor": "white",
            "gridwidth": 2,
            "linecolor": "white",
            "showbackground": true,
            "ticks": "",
            "zerolinecolor": "white"
           },
           "yaxis": {
            "backgroundcolor": "#E5ECF6",
            "gridcolor": "white",
            "gridwidth": 2,
            "linecolor": "white",
            "showbackground": true,
            "ticks": "",
            "zerolinecolor": "white"
           },
           "zaxis": {
            "backgroundcolor": "#E5ECF6",
            "gridcolor": "white",
            "gridwidth": 2,
            "linecolor": "white",
            "showbackground": true,
            "ticks": "",
            "zerolinecolor": "white"
           }
          },
          "shapedefaults": {
           "line": {
            "color": "#2a3f5f"
           }
          },
          "ternary": {
           "aaxis": {
            "gridcolor": "white",
            "linecolor": "white",
            "ticks": ""
           },
           "baxis": {
            "gridcolor": "white",
            "linecolor": "white",
            "ticks": ""
           },
           "bgcolor": "#E5ECF6",
           "caxis": {
            "gridcolor": "white",
            "linecolor": "white",
            "ticks": ""
           }
          },
          "title": {
           "x": 0.05
          },
          "xaxis": {
           "automargin": true,
           "gridcolor": "white",
           "linecolor": "white",
           "ticks": "",
           "title": {
            "standoff": 15
           },
           "zerolinecolor": "white",
           "zerolinewidth": 2
          },
          "yaxis": {
           "automargin": true,
           "gridcolor": "white",
           "linecolor": "white",
           "ticks": "",
           "title": {
            "standoff": 15
           },
           "zerolinecolor": "white",
           "zerolinewidth": 2
          }
         }
        },
        "xaxis": {
         "anchor": "y",
         "autorange": true,
         "domain": [
          0,
          1
         ],
         "range": [
          -0.5,
          130.5
         ],
         "title": {
          "text": "x"
         },
         "type": "category"
        },
        "yaxis": {
         "anchor": "x",
         "autorange": true,
         "domain": [
          0,
          1
         ],
         "range": [
          0,
          0.8117572156196944
         ],
         "title": {
          "text": "value"
         },
         "type": "linear"
        }
       }
      },
      "image/png": "[encoded data removed]",
      "text/html": [
       "<div>                            <div id=\"72fd3c52-ed50-480c-aede-07889142c922\" class=\"plotly-graph-div\" style=\"height:525px; width:100%;\"></div>            <script type=\"text/javascript\">                require([\"plotly\"], function(Plotly) {                    window.PLOTLYENV=window.PLOTLYENV || {};                                    if (document.getElementById(\"72fd3c52-ed50-480c-aede-07889142c922\")) {                    Plotly.newPlot(                        \"72fd3c52-ed50-480c-aede-07889142c922\",                        [{\"alignmentgroup\":\"True\",\"hovertemplate\":\"variable=wide_variable_0\\u003cbr\\u003ex=%{x}\\u003cbr\\u003evalue=%{y}\\u003cextra\\u003e\\u003c\\u002fextra\\u003e\",\"legendgroup\":\"wide_variable_0\",\"marker\":{\"color\":\"#636efa\",\"pattern\":{\"shape\":\"\"}},\"name\":\"wide_variable_0\",\"offsetgroup\":\"wide_variable_0\",\"orientation\":\"v\",\"showlegend\":true,\"textposition\":\"auto\",\"x\":[\"dla46x_c\",\"dla46_c\",\"mobilevitv2_050\",\"mobilenetv2_050\",\"semnasnet_075\",\"pvt_v2_b0\",\"convnext_atto\",\"mnasnet_100\",\"spnasnet_100\",\"ghostnet_100\",\"hardcorenas_a\",\"efficientnet_b0\",\"fbnetc_100\",\"mobilevit_s\",\"tinynet_a\",\"ese_vovnet19b_dw\",\"densenet121\",\"densenetblur121d\",\"crossvit_9_240\",\"fbnetv3_b\",\"resnet14t\",\"seresnext26ts\",\"gcresnext26ts\",\"eca_botnext26ts_256\",\"bat_resnext26ts\",\"lambda_resnet26rpt_256\",\"resnet18d\",\"halonet26t\",\"botnet26t_256\",\"dpn68\",\"dpn68b\",\"gc_efficientnetv2_rw_t\",\"sehalonet33ts\",\"sebotnet33ts_256\",\"densenet169\",\"maxvit_nano_rw_256\",\"gcresnext50ts\",\"dla34\",\"ecaresnet26t\",\"resnet26d\",\"maxxvit_rmlp_nano_rw_256\",\"seresnext26t_32x4d\",\"seresnext26d_32x4d\",\"dla60x\",\"resnet32ts\",\"edgenext_base\",\"eca_resnet33ts\",\"seresnet33ts\",\"gcresnet33ts\",\"densenet201\",\"cspresnext50\",\"regnetv_040\",\"convmixer_768_32\",\"cs3darknet_focus_l\",\"hrnet_w18\",\"cspresnet50\",\"gluon_resnet34_v1b\",\"resnet34d\",\"cs3sedarknet_l\",\"dla60\",\"lamhalobotnet50ts_256\",\"halo2botnet50ts_256\",\"halonet50ts\",\"adv_inception_v3\",\"gluon_inception_v3\",\"res2next50\",\"resnext50d_32x4d\",\"res2net50_14w_8s\",\"resnetv2_50\",\"resnetblur50\",\"resnetaa50\",\"ecaresnet50t\",\"ecaresnet50d\",\"gcresnet50t\",\"dla102x\",\"xception41p\",\"xception41\",\"gluon_seresnext50_32x4d\",\"cspdarknet53\",\"legacy_seresnet50\",\"repvgg_a2\",\"convnext_tiny_hnf\",\"densenet161\",\"ecaresnetlight\",\"selecsls60\",\"gernet_l\",\"selecsls42b\",\"selecsls60b\",\"dla102\",\"resnetrs50\",\"resnet51q\",\"darknetaa53\",\"resnet61q\",\"dpn92\",\"xception65p\",\"gluon_xception65\",\"dla102x2\",\"xception71\",\"twins_pcpvt_base\",\"gluon_resnext101_32x4d\",\"ecaresnet101d\",\"res2net101_26w_4s\",\"cs3edgenet_x\",\"gluon_seresnext101_32x4d\",\"cs3se_edgenet_x\",\"efficientnetv2_rw_m\",\"dla169\",\"sequencer2d_l\",\"poolformer_m36\",\"gluon_resnet152_v1b\",\"resnet152d\",\"dpn98\",\"resnetrs101\",\"resnet200d\",\"seresnet152d\",\"wide_resnet50_2\",\"dm_nfnet_f0\",\"dpn131\",\"pnasnet5large\",\"resnetrs152\",\"dpn107\",\"swinv2_base_window8_256\",\"nasnetalarge\",\"resnetrs200\",\"seresnext101d_32x8d\",\"seresnextaa101d_32x8d\",\"ecaresnet269d\",\"legacy_senet154\",\"resnetrs270\",\"vgg11\",\"vgg13\"],\"xaxis\":\"x\",\"y\":[0.7318548387096774,0.7172379032258065,0.7076612903225806,0.6844758064516129,0.7086693548387096,0.7328629032258065,0.733366935483871,0.7016129032258065,0.7076612903225806,0.6925403225806451,0.6875,0.6905241935483871,0.704133064516129,0.7328629032258065,0.6880040322580645,0.7651209677419355,0.7476503297410138,0.734375,0.7550403225806451,0.6859879032258065,0.7137096774193549,0.7479838709677419,0.7479838709677419,0.7632863087527658,0.7494959677419355,0.7525201612903226,0.7479838709677419,0.7479838709677419,0.7449596774193549,0.7293346774193549,0.7379032258064516,0.7279456312575681,0.7610887096774194,0.7323588709677419,0.7395887235888067,0.7550403225806451,0.7288010225232701,0.6960685483870968,0.7273185483870968,0.7217741935483871,0.7269817018968456,0.735383064516129,0.7449596774193549,0.6851459980280405,0.734375,0.7313508064516129,0.7429435483870968,0.7318548387096774,0.7434475806451613,0.7248879905842338,0.7318548387096774,0.6703629032258065,0.6796116503468262,0.7202620967741935,0.6966699507054993,0.7268145161290323,0.7615927419354839,0.7449596774193549,0.7308467741935484,0.6784274193548387,0.7314350126510599,0.7520161290322581,0.7496848875608613,0.7308467741935484,0.7308467741935484,0.7239385981042262,0.735370056881674,0.7404233870967742,0.7303427419354839,0.7200311067547837,0.7296436990964632,0.7303698910267514,0.7280444048762327,0.7395037554157878,0.6261924489323395,0.7207661290322581,0.7127016129032258,0.7278685263402924,0.6963099834430642,0.7520161290322581,0.7121975806451613,0.6932422526195069,0.7214879672956415,0.7404233870967742,0.7278225806451613,0.7303427419354839,0.7172379032258065,0.7253024193548387,0.6834677419354839,0.7218870087942418,0.7406355521490232,0.6890120967741935,0.7424395161290323,0.7142137096774194,0.7182459677419355,0.7116935483870968,0.6195130647194149,0.6910282258064516,0.6733870967741935,0.7152217741935484,0.699636638822812,0.7404233870967742,0.7123350923158087,0.7255515131980932,0.707104081936176,0.6809475806451613,0.6401209677419355,0.6693548387096774,0.6761393862796967,0.7204416503813793,0.7215734886422387,0.7101284657235304,0.7237021790756256,0.6983803061609034,0.719634263232609,0.723184539124157,0.6693548387096774,0.6980846774193549,0.7235769619961652,0.7014477234932674,0.7148352810060206,0.6945564516129032,0.7160665039349587,0.6850833379772033,0.7029343919575742,0.6992756928520362,0.701702997510495,0.6891608783021739,0.689328292176921,0.7117447509167599,0.6844758064516129],\"yaxis\":\"y\",\"type\":\"bar\"},{\"alignmentgroup\":\"True\",\"hovertemplate\":\"variable=wide_variable_1\\u003cbr\\u003ex=%{x}\\u003cbr\\u003evalue=%{y}\\u003cextra\\u003e\\u003c\\u002fextra\\u003e\",\"legendgroup\":\"wide_variable_1\",\"marker\":{\"color\":\"#EF553B\",\"pattern\":{\"shape\":\"\"}},\"name\":\"wide_variable_1\",\"offsetgroup\":\"wide_variable_1\",\"orientation\":\"v\",\"showlegend\":true,\"textposition\":\"auto\",\"x\":[\"dla46x_c\",\"dla46_c\",\"mobilevitv2_050\",\"mobilenetv2_050\",\"semnasnet_075\",\"pvt_v2_b0\",\"convnext_atto\",\"mnasnet_100\",\"spnasnet_100\",\"ghostnet_100\",\"hardcorenas_a\",\"efficientnet_b0\",\"fbnetc_100\",\"mobilevit_s\",\"tinynet_a\",\"ese_vovnet19b_dw\",\"densenet121\",\"densenetblur121d\",\"crossvit_9_240\",\"fbnetv3_b\",\"resnet14t\",\"seresnext26ts\",\"gcresnext26ts\",\"eca_botnext26ts_256\",\"bat_resnext26ts\",\"lambda_resnet26rpt_256\",\"resnet18d\",\"halonet26t\",\"botnet26t_256\",\"dpn68\",\"dpn68b\",\"gc_efficientnetv2_rw_t\",\"sehalonet33ts\",\"sebotnet33ts_256\",\"densenet169\",\"maxvit_nano_rw_256\",\"gcresnext50ts\",\"dla34\",\"ecaresnet26t\",\"resnet26d\",\"maxxvit_rmlp_nano_rw_256\",\"seresnext26t_32x4d\",\"seresnext26d_32x4d\",\"dla60x\",\"resnet32ts\",\"edgenext_base\",\"eca_resnet33ts\",\"seresnet33ts\",\"gcresnet33ts\",\"densenet201\",\"cspresnext50\",\"regnetv_040\",\"convmixer_768_32\",\"cs3darknet_focus_l\",\"hrnet_w18\",\"cspresnet50\",\"gluon_resnet34_v1b\",\"resnet34d\",\"cs3sedarknet_l\",\"dla60\",\"lamhalobotnet50ts_256\",\"halo2botnet50ts_256\",\"halonet50ts\",\"adv_inception_v3\",\"gluon_inception_v3\",\"res2next50\",\"resnext50d_32x4d\",\"res2net50_14w_8s\",\"resnetv2_50\",\"resnetblur50\",\"resnetaa50\",\"ecaresnet50t\",\"ecaresnet50d\",\"gcresnet50t\",\"dla102x\",\"xception41p\",\"xception41\",\"gluon_seresnext50_32x4d\",\"cspdarknet53\",\"legacy_seresnet50\",\"repvgg_a2\",\"convnext_tiny_hnf\",\"densenet161\",\"ecaresnetlight\",\"selecsls60\",\"gernet_l\",\"selecsls42b\",\"selecsls60b\",\"dla102\",\"resnetrs50\",\"resnet51q\",\"darknetaa53\",\"resnet61q\",\"dpn92\",\"xception65p\",\"gluon_xception65\",\"dla102x2\",\"xception71\",\"twins_pcpvt_base\",\"gluon_resnext101_32x4d\",\"ecaresnet101d\",\"res2net101_26w_4s\",\"cs3edgenet_x\",\"gluon_seresnext101_32x4d\",\"cs3se_edgenet_x\",\"efficientnetv2_rw_m\",\"dla169\",\"sequencer2d_l\",\"poolformer_m36\",\"gluon_resnet152_v1b\",\"resnet152d\",\"dpn98\",\"resnetrs101\",\"resnet200d\",\"seresnet152d\",\"wide_resnet50_2\",\"dm_nfnet_f0\",\"dpn131\",\"pnasnet5large\",\"resnetrs152\",\"dpn107\",\"swinv2_base_window8_256\",\"nasnetalarge\",\"resnetrs200\",\"seresnext101d_32x8d\",\"seresnextaa101d_32x8d\",\"ecaresnet269d\",\"legacy_senet154\",\"resnetrs270\",\"vgg11\",\"vgg13\"],\"xaxis\":\"x\",\"y\":[0.0,0.0,0.0,0.0,0.0,0.0,0.0,0.0,0.0,0.0,0.0,0.0,0.0,0.0,0.0,0.0,0.000333541226728129,0.0,0.0,0.0,0.0,0.0,0.0,0.0048588525375568015,0.0,0.0,0.0,0.0,0.0,0.0,0.0,0.00038098164565769643,0.0,0.0,0.010915308669257828,0.0,0.014142525863826694,0.0,0.0,0.0,0.0028570077805737393,0.0,0.0,0.0003378729397013336,0.0,0.0,0.0,0.0,0.0,0.02309588038350807,0.0,0.0,0.028553672233818883,0.0,0.02409617832675881,0.0,0.0,0.0,0.0,0.0,0.016044826058617456,0.0010080645161290036,0.021484467277848363,0.0,0.0,0.010436401895773773,0.015638007634454998,0.0,0.0,0.006783409374248595,0.010779688000311038,0.01610188316679695,0.01036285318828345,0.005959954261631539,0.03963416397088626,0.0,0.019657258064516125,0.003986312369384959,0.018911790750484214,0.0,0.0,0.03155613447726735,0.019439452059197282,0.0,0.0,0.0,0.0,0.0,0.032258064516129004,0.020552507334790415,0.007852351076783282,0.0,0.0,0.0,0.020161290322580627,0.0040322580645161255,0.0543780643128432,0.014616935483870996,0.0,0.02368951612903225,0.03473836117718798,0.0,0.022039907684191284,0.019912196479326183,0.015174143870275603,0.032762096774193616,0.03931451612903225,0.003024193548387122,0.013376742752561399,0.00788496252184645,0.012801511357761308,0.025254598792598615,0.026297820924374382,0.03498662932296759,0.03591009160610059,0.007662235069391343,0.0,0.03578629032258063,0.026927070261899333,0.04855227650673255,0.02760423512301169,0.04233870967741937,0.01881252832310576,0.04929166202279667,0.04303334997790964,0.05778075876086708,0.033680067005633973,0.05983105718169712,0.057143482016627334,0.0029729910187239472,0.019153225806451624],\"yaxis\":\"y\",\"type\":\"bar\"}],                        {\"template\":{\"data\":{\"histogram2dcontour\":[{\"type\":\"histogram2dcontour\",\"colorbar\":{\"outlinewidth\":0,\"ticks\":\"\"},\"colorscale\":[[0.0,\"#0d0887\"],[0.1111111111111111,\"#46039f\"],[0.2222222222222222,\"#7201a8\"],[0.3333333333333333,\"#9c179e\"],[0.4444444444444444,\"#bd3786\"],[0.5555555555555556,\"#d8576b\"],[0.6666666666666666,\"#ed7953\"],[0.7777777777777778,\"#fb9f3a\"],[0.8888888888888888,\"#fdca26\"],[1.0,\"#f0f921\"]]}],\"choropleth\":[{\"type\":\"choropleth\",\"colorbar\":{\"outlinewidth\":0,\"ticks\":\"\"}}],\"histogram2d\":[{\"type\":\"histogram2d\",\"colorbar\":{\"outlinewidth\":0,\"ticks\":\"\"},\"colorscale\":[[0.0,\"#0d0887\"],[0.1111111111111111,\"#46039f\"],[0.2222222222222222,\"#7201a8\"],[0.3333333333333333,\"#9c179e\"],[0.4444444444444444,\"#bd3786\"],[0.5555555555555556,\"#d8576b\"],[0.6666666666666666,\"#ed7953\"],[0.7777777777777778,\"#fb9f3a\"],[0.8888888888888888,\"#fdca26\"],[1.0,\"#f0f921\"]]}],\"heatmap\":[{\"type\":\"heatmap\",\"colorbar\":{\"outlinewidth\":0,\"ticks\":\"\"},\"colorscale\":[[0.0,\"#0d0887\"],[0.1111111111111111,\"#46039f\"],[0.2222222222222222,\"#7201a8\"],[0.3333333333333333,\"#9c179e\"],[0.4444444444444444,\"#bd3786\"],[0.5555555555555556,\"#d8576b\"],[0.6666666666666666,\"#ed7953\"],[0.7777777777777778,\"#fb9f3a\"],[0.8888888888888888,\"#fdca26\"],[1.0,\"#f0f921\"]]}],\"heatmapgl\":[{\"type\":\"heatmapgl\",\"colorbar\":{\"outlinewidth\":0,\"ticks\":\"\"},\"colorscale\":[[0.0,\"#0d0887\"],[0.1111111111111111,\"#46039f\"],[0.2222222222222222,\"#7201a8\"],[0.3333333333333333,\"#9c179e\"],[0.4444444444444444,\"#bd3786\"],[0.5555555555555556,\"#d8576b\"],[0.6666666666666666,\"#ed7953\"],[0.7777777777777778,\"#fb9f3a\"],[0.8888888888888888,\"#fdca26\"],[1.0,\"#f0f921\"]]}],\"contourcarpet\":[{\"type\":\"contourcarpet\",\"colorbar\":{\"outlinewidth\":0,\"ticks\":\"\"}}],\"contour\":[{\"type\":\"contour\",\"colorbar\":{\"outlinewidth\":0,\"ticks\":\"\"},\"colorscale\":[[0.0,\"#0d0887\"],[0.1111111111111111,\"#46039f\"],[0.2222222222222222,\"#7201a8\"],[0.3333333333333333,\"#9c179e\"],[0.4444444444444444,\"#bd3786\"],[0.5555555555555556,\"#d8576b\"],[0.6666666666666666,\"#ed7953\"],[0.7777777777777778,\"#fb9f3a\"],[0.8888888888888888,\"#fdca26\"],[1.0,\"#f0f921\"]]}],\"surface\":[{\"type\":\"surface\",\"colorbar\":{\"outlinewidth\":0,\"ticks\":\"\"},\"colorscale\":[[0.0,\"#0d0887\"],[0.1111111111111111,\"#46039f\"],[0.2222222222222222,\"#7201a8\"],[0.3333333333333333,\"#9c179e\"],[0.4444444444444444,\"#bd3786\"],[0.5555555555555556,\"#d8576b\"],[0.6666666666666666,\"#ed7953\"],[0.7777777777777778,\"#fb9f3a\"],[0.8888888888888888,\"#fdca26\"],[1.0,\"#f0f921\"]]}],\"mesh3d\":[{\"type\":\"mesh3d\",\"colorbar\":{\"outlinewidth\":0,\"ticks\":\"\"}}],\"scatter\":[{\"fillpattern\":{\"fillmode\":\"overlay\",\"size\":10,\"solidity\":0.2},\"type\":\"scatter\"}],\"parcoords\":[{\"type\":\"parcoords\",\"line\":{\"colorbar\":{\"outlinewidth\":0,\"ticks\":\"\"}}}],\"scatterpolargl\":[{\"type\":\"scatterpolargl\",\"marker\":{\"colorbar\":{\"outlinewidth\":0,\"ticks\":\"\"}}}],\"bar\":[{\"error_x\":{\"color\":\"#2a3f5f\"},\"error_y\":{\"color\":\"#2a3f5f\"},\"marker\":{\"line\":{\"color\":\"#E5ECF6\",\"width\":0.5},\"pattern\":{\"fillmode\":\"overlay\",\"size\":10,\"solidity\":0.2}},\"type\":\"bar\"}],\"scattergeo\":[{\"type\":\"scattergeo\",\"marker\":{\"colorbar\":{\"outlinewidth\":0,\"ticks\":\"\"}}}],\"scatterpolar\":[{\"type\":\"scatterpolar\",\"marker\":{\"colorbar\":{\"outlinewidth\":0,\"ticks\":\"\"}}}],\"histogram\":[{\"marker\":{\"pattern\":{\"fillmode\":\"overlay\",\"size\":10,\"solidity\":0.2}},\"type\":\"histogram\"}],\"scattergl\":[{\"type\":\"scattergl\",\"marker\":{\"colorbar\":{\"outlinewidth\":0,\"ticks\":\"\"}}}],\"scatter3d\":[{\"type\":\"scatter3d\",\"line\":{\"colorbar\":{\"outlinewidth\":0,\"ticks\":\"\"}},\"marker\":{\"colorbar\":{\"outlinewidth\":0,\"ticks\":\"\"}}}],\"scattermapbox\":[{\"type\":\"scattermapbox\",\"marker\":{\"colorbar\":{\"outlinewidth\":0,\"ticks\":\"\"}}}],\"scatterternary\":[{\"type\":\"scatterternary\",\"marker\":{\"colorbar\":{\"outlinewidth\":0,\"ticks\":\"\"}}}],\"scattercarpet\":[{\"type\":\"scattercarpet\",\"marker\":{\"colorbar\":{\"outlinewidth\":0,\"ticks\":\"\"}}}],\"carpet\":[{\"aaxis\":{\"endlinecolor\":\"#2a3f5f\",\"gridcolor\":\"white\",\"linecolor\":\"white\",\"minorgridcolor\":\"white\",\"startlinecolor\":\"#2a3f5f\"},\"baxis\":{\"endlinecolor\":\"#2a3f5f\",\"gridcolor\":\"white\",\"linecolor\":\"white\",\"minorgridcolor\":\"white\",\"startlinecolor\":\"#2a3f5f\"},\"type\":\"carpet\"}],\"table\":[{\"cells\":{\"fill\":{\"color\":\"#EBF0F8\"},\"line\":{\"color\":\"white\"}},\"header\":{\"fill\":{\"color\":\"#C8D4E3\"},\"line\":{\"color\":\"white\"}},\"type\":\"table\"}],\"barpolar\":[{\"marker\":{\"line\":{\"color\":\"#E5ECF6\",\"width\":0.5},\"pattern\":{\"fillmode\":\"overlay\",\"size\":10,\"solidity\":0.2}},\"type\":\"barpolar\"}],\"pie\":[{\"automargin\":true,\"type\":\"pie\"}]},\"layout\":{\"autotypenumbers\":\"strict\",\"colorway\":[\"#636efa\",\"#EF553B\",\"#00cc96\",\"#ab63fa\",\"#FFA15A\",\"#19d3f3\",\"#FF6692\",\"#B6E880\",\"#FF97FF\",\"#FECB52\"],\"font\":{\"color\":\"#2a3f5f\"},\"hovermode\":\"closest\",\"hoverlabel\":{\"align\":\"left\"},\"paper_bgcolor\":\"white\",\"plot_bgcolor\":\"#E5ECF6\",\"polar\":{\"bgcolor\":\"#E5ECF6\",\"angularaxis\":{\"gridcolor\":\"white\",\"linecolor\":\"white\",\"ticks\":\"\"},\"radialaxis\":{\"gridcolor\":\"white\",\"linecolor\":\"white\",\"ticks\":\"\"}},\"ternary\":{\"bgcolor\":\"#E5ECF6\",\"aaxis\":{\"gridcolor\":\"white\",\"linecolor\":\"white\",\"ticks\":\"\"},\"baxis\":{\"gridcolor\":\"white\",\"linecolor\":\"white\",\"ticks\":\"\"},\"caxis\":{\"gridcolor\":\"white\",\"linecolor\":\"white\",\"ticks\":\"\"}},\"coloraxis\":{\"colorbar\":{\"outlinewidth\":0,\"ticks\":\"\"}},\"colorscale\":{\"sequential\":[[0.0,\"#0d0887\"],[0.1111111111111111,\"#46039f\"],[0.2222222222222222,\"#7201a8\"],[0.3333333333333333,\"#9c179e\"],[0.4444444444444444,\"#bd3786\"],[0.5555555555555556,\"#d8576b\"],[0.6666666666666666,\"#ed7953\"],[0.7777777777777778,\"#fb9f3a\"],[0.8888888888888888,\"#fdca26\"],[1.0,\"#f0f921\"]],\"sequentialminus\":[[0.0,\"#0d0887\"],[0.1111111111111111,\"#46039f\"],[0.2222222222222222,\"#7201a8\"],[0.3333333333333333,\"#9c179e\"],[0.4444444444444444,\"#bd3786\"],[0.5555555555555556,\"#d8576b\"],[0.6666666666666666,\"#ed7953\"],[0.7777777777777778,\"#fb9f3a\"],[0.8888888888888888,\"#fdca26\"],[1.0,\"#f0f921\"]],\"diverging\":[[0,\"#8e0152\"],[0.1,\"#c51b7d\"],[0.2,\"#de77ae\"],[0.3,\"#f1b6da\"],[0.4,\"#fde0ef\"],[0.5,\"#f7f7f7\"],[0.6,\"#e6f5d0\"],[0.7,\"#b8e186\"],[0.8,\"#7fbc41\"],[0.9,\"#4d9221\"],[1,\"#276419\"]]},\"xaxis\":{\"gridcolor\":\"white\",\"linecolor\":\"white\",\"ticks\":\"\",\"title\":{\"standoff\":15},\"zerolinecolor\":\"white\",\"automargin\":true,\"zerolinewidth\":2},\"yaxis\":{\"gridcolor\":\"white\",\"linecolor\":\"white\",\"ticks\":\"\",\"title\":{\"standoff\":15},\"zerolinecolor\":\"white\",\"automargin\":true,\"zerolinewidth\":2},\"scene\":{\"xaxis\":{\"backgroundcolor\":\"#E5ECF6\",\"gridcolor\":\"white\",\"linecolor\":\"white\",\"showbackground\":true,\"ticks\":\"\",\"zerolinecolor\":\"white\",\"gridwidth\":2},\"yaxis\":{\"backgroundcolor\":\"#E5ECF6\",\"gridcolor\":\"white\",\"linecolor\":\"white\",\"showbackground\":true,\"ticks\":\"\",\"zerolinecolor\":\"white\",\"gridwidth\":2},\"zaxis\":{\"backgroundcolor\":\"#E5ECF6\",\"gridcolor\":\"white\",\"linecolor\":\"white\",\"showbackground\":true,\"ticks\":\"\",\"zerolinecolor\":\"white\",\"gridwidth\":2}},\"shapedefaults\":{\"line\":{\"color\":\"#2a3f5f\"}},\"annotationdefaults\":{\"arrowcolor\":\"#2a3f5f\",\"arrowhead\":0,\"arrowwidth\":1},\"geo\":{\"bgcolor\":\"white\",\"landcolor\":\"#E5ECF6\",\"subunitcolor\":\"white\",\"showland\":true,\"showlakes\":true,\"lakecolor\":\"white\"},\"title\":{\"x\":0.05},\"mapbox\":{\"style\":\"light\"}}},\"xaxis\":{\"anchor\":\"y\",\"domain\":[0.0,1.0],\"title\":{\"text\":\"x\"}},\"yaxis\":{\"anchor\":\"x\",\"domain\":[0.0,1.0],\"title\":{\"text\":\"value\"}},\"legend\":{\"title\":{\"text\":\"variable\"},\"tracegroupgap\":0},\"margin\":{\"t\":60},\"barmode\":\"relative\"},                        {\"responsive\": true}                    ).then(function(){\n",
       "                            \n",
       "var gd = document.getElementById('72fd3c52-ed50-480c-aede-07889142c922');\n",
       "var x = new MutationObserver(function (mutations, observer) {{\n",
       "        var display = window.getComputedStyle(gd).display;\n",
       "        if (!display || display === 'none') {{\n",
       "            console.log([gd, 'removed!']);\n",
       "            Plotly.purge(gd);\n",
       "            observer.disconnect();\n",
       "        }}\n",
       "}});\n",
       "\n",
       "// Listen for the removal of the full notebook cells\n",
       "var notebookContainer = gd.closest('#notebook-container');\n",
       "if (notebookContainer) {{\n",
       "    x.observe(notebookContainer, {childList: true});\n",
       "}}\n",
       "\n",
       "// Listen for the clearing of the current output cell\n",
       "var outputEl = gd.closest('.output');\n",
       "if (outputEl) {{\n",
       "    x.observe(outputEl, {childList: true});\n",
       "}}\n",
       "\n",
       "                        })                };                });            </script>        </div>"
      ]
     },
     "metadata": {},
     "output_type": "display_data"
    }
   ],
   "source": [
    "px.bar(y=[peak_profile_time[:, 2], peak_profile_time[:, -1]-peak_profile_time[:, 2]], x=df[\"model\"])"
   ]
  },
  {
   "cell_type": "code",
   "execution_count": 117,
   "id": "2bfd3a80-6efe-4c85-ba46-f7ea2abe22d5",
   "metadata": {},
   "outputs": [
    {
     "data": {
      "text/plain": [
       "(array([0.77722393, 0.09270233, 0.03353497, 0.02643649, 0.0195411 ,\n",
       "        0.01705595, 0.01424864, 0.01051721, 0.00873938]),\n",
       " array([0.75158143, 0.76947167, 0.77264715, 0.77839166, 0.78257365,\n",
       "        0.78813904, 0.79223229, 0.79351197, 0.79400127]))"
      ]
     },
     "execution_count": 117,
     "metadata": {},
     "output_type": "execute_result"
    }
   ],
   "source": [
    "pca = sklearn.decomposition.PCA()\n",
    "pca_profile = pca.fit_transform(test_profile)\n",
    "pca.explained_variance_ratio_, pca.mean_"
   ]
  },
  {
   "cell_type": "code",
   "execution_count": 128,
   "id": "33dc06b7-89ba-4109-a364-6d21794ac451",
   "metadata": {},
   "outputs": [
    {
     "data": {
      "text/plain": [
       "array([[1.        , 0.85227128, 0.80103747, 0.79154638, 0.78125983,\n",
       "        0.80613639, 0.79391088, 0.799557  , 0.59661009],\n",
       "       [0.85227128, 1.        , 0.82849703, 0.82941304, 0.75843499,\n",
       "        0.81320895, 0.77753577, 0.78160116, 0.6696136 ],\n",
       "       [0.80103747, 0.82849703, 1.        , 0.80964559, 0.79801394,\n",
       "        0.75801227, 0.78228198, 0.7856716 , 0.60807928],\n",
       "       [0.79154638, 0.82941304, 0.80964559, 1.        , 0.85110014,\n",
       "        0.83759285, 0.80343379, 0.80565307, 0.65079551],\n",
       "       [0.78125983, 0.75843499, 0.79801394, 0.85110014, 1.        ,\n",
       "        0.79510812, 0.78095797, 0.77968602, 0.62320192],\n",
       "       [0.80613639, 0.81320895, 0.75801227, 0.83759285, 0.79510812,\n",
       "        1.        , 0.8678793 , 0.89452844, 0.67207382],\n",
       "       [0.79391088, 0.77753577, 0.78228198, 0.80343379, 0.78095797,\n",
       "        0.8678793 , 1.        , 0.85716777, 0.64403158],\n",
       "       [0.799557  , 0.78160116, 0.7856716 , 0.80565307, 0.77968602,\n",
       "        0.89452844, 0.85716777, 1.        , 0.67528792],\n",
       "       [0.59661009, 0.6696136 , 0.60807928, 0.65079551, 0.62320192,\n",
       "        0.67207382, 0.64403158, 0.67528792, 1.        ]])"
      ]
     },
     "execution_count": 128,
     "metadata": {},
     "output_type": "execute_result"
    }
   ],
   "source": [
    "np.corrcoef(test_profile, rowvar=False)"
   ]
  },
  {
   "cell_type": "code",
   "execution_count": 130,
   "id": "6a0efe75-38eb-4ed7-ac71-501592ab5df8",
   "metadata": {},
   "outputs": [
    {
     "data": {
      "text/plain": [
       "array([0.05015733, 0.02393127, 0.01345405, 0.03149693, 0.00616995,\n",
       "       0.02491411, 0.02465786, 0.0150217 , 0.01126486, 0.00765797,\n",
       "       0.02293898, 0.01375729, 0.01191811, 0.02628794, 0.01494467,\n",
       "       0.01593969, 0.01492829, 0.02172405, 0.03893123, 0.04678053,\n",
       "       0.02632788, 0.02675729, 0.01833465, 0.0210892 , 0.01637758,\n",
       "       0.03106892, 0.01114895, 0.02435609, 0.02011223, 0.01909829,\n",
       "       0.02529751, 0.01858931, 0.01902161, 0.02652348, 0.02505683,\n",
       "       0.05840564, 0.01100951, 0.06526453, 0.01840074, 0.02487467,\n",
       "       0.01818832, 0.01617932, 0.02975873, 0.01969528, 0.02338081,\n",
       "       0.0395651 , 0.0141431 , 0.01347652, 0.01473544, 0.02165971,\n",
       "       0.02420171, 0.02712528, 0.02030514, 0.01504799, 0.03126876,\n",
       "       0.02336511, 0.03498212, 0.03528741, 0.02007773, 0.04131296,\n",
       "       0.01863481, 0.01936008, 0.02608854, 0.05580537, 0.01648561,\n",
       "       0.03868222, 0.03876071, 0.01957419, 0.02972962, 0.02743375,\n",
       "       0.02006445, 0.02205333, 0.02320374, 0.0175002 , 0.02963643,\n",
       "       0.02731092, 0.02063593, 0.01840892, 0.03519254, 0.0464742 ,\n",
       "       0.01756817, 0.02805841, 0.02922947, 0.01767709, 0.0216049 ,\n",
       "       0.02568361, 0.02269327, 0.01859758, 0.02288704, 0.0238951 ,\n",
       "       0.0158918 , 0.04700186, 0.01789312, 0.03256183, 0.00874947,\n",
       "       0.01494026, 0.04115825, 0.02568752, 0.00827869, 0.01572395,\n",
       "       0.03637871, 0.0339681 , 0.02202928, 0.01685308, 0.02735028,\n",
       "       0.01159585, 0.05258662, 0.01463484, 0.05135623, 0.02249964,\n",
       "       0.01426894, 0.02523494, 0.04615076, 0.02103962, 0.01815916,\n",
       "       0.01680444, 0.20272556, 0.06897414, 0.01550703, 0.01533415,\n",
       "       0.02644449, 0.01003012, 0.02383004, 0.02523308, 0.0208032 ,\n",
       "       0.02849234, 0.01785979, 0.01647705, 0.02434024, 0.01555973,\n",
       "       0.02600871])"
      ]
     },
     "execution_count": 130,
     "metadata": {},
     "output_type": "execute_result"
    }
   ],
   "source": [
    "np.std(test_profile, axis=1)"
   ]
  },
  {
   "cell_type": "code",
   "execution_count": 121,
   "id": "ba359872-d592-434f-a99f-0cdb59f74497",
   "metadata": {},
   "outputs": [
    {
     "data": {
      "application/vnd.plotly.v1+json": {
       "config": {
        "plotlyServerURL": "https://plot.ly"
       },
       "data": [
        {
         "hovertemplate": "<b>%{hovertext}</b><br><br>x=%{x}<br>y=%{y}<br>color=%{marker.color}<extra></extra>",
         "hovertext": [
          "dla46x_c",
          "dla46_c",
          "mobilevitv2_050",
          "mobilenetv2_050",
          "semnasnet_075",
          "pvt_v2_b0",
          "convnext_atto",
          "mnasnet_100",
          "spnasnet_100",
          "ghostnet_100",
          "hardcorenas_a",
          "efficientnet_b0",
          "fbnetc_100",
          "mobilevit_s",
          "tinynet_a",
          "ese_vovnet19b_dw",
          "densenet121",
          "densenetblur121d",
          "crossvit_9_240",
          "fbnetv3_b",
          "resnet14t",
          "seresnext26ts",
          "gcresnext26ts",
          "eca_botnext26ts_256",
          "bat_resnext26ts",
          "lambda_resnet26rpt_256",
          "resnet18d",
          "halonet26t",
          "botnet26t_256",
          "dpn68",
          "dpn68b",
          "gc_efficientnetv2_rw_t",
          "sehalonet33ts",
          "sebotnet33ts_256",
          "densenet169",
          "maxvit_nano_rw_256",
          "gcresnext50ts",
          "dla34",
          "ecaresnet26t",
          "resnet26d",
          "maxxvit_rmlp_nano_rw_256",
          "seresnext26t_32x4d",
          "seresnext26d_32x4d",
          "dla60x",
          "resnet32ts",
          "edgenext_base",
          "eca_resnet33ts",
          "seresnet33ts",
          "gcresnet33ts",
          "densenet201",
          "cspresnext50",
          "regnetv_040",
          "convmixer_768_32",
          "cs3darknet_focus_l",
          "hrnet_w18",
          "cspresnet50",
          "gluon_resnet34_v1b",
          "resnet34d",
          "cs3sedarknet_l",
          "dla60",
          "lamhalobotnet50ts_256",
          "halo2botnet50ts_256",
          "halonet50ts",
          "adv_inception_v3",
          "gluon_inception_v3",
          "res2next50",
          "resnext50d_32x4d",
          "res2net50_14w_8s",
          "resnetv2_50",
          "resnetblur50",
          "resnetaa50",
          "ecaresnet50t",
          "ecaresnet50d",
          "gcresnet50t",
          "dla102x",
          "xception41p",
          "xception41",
          "gluon_seresnext50_32x4d",
          "cspdarknet53",
          "legacy_seresnet50",
          "repvgg_a2",
          "convnext_tiny_hnf",
          "densenet161",
          "ecaresnetlight",
          "selecsls60",
          "gernet_l",
          "selecsls42b",
          "selecsls60b",
          "dla102",
          "resnetrs50",
          "resnet51q",
          "darknetaa53",
          "resnet61q",
          "dpn92",
          "xception65p",
          "gluon_xception65",
          "dla102x2",
          "xception71",
          "twins_pcpvt_base",
          "gluon_resnext101_32x4d",
          "ecaresnet101d",
          "res2net101_26w_4s",
          "cs3edgenet_x",
          "gluon_seresnext101_32x4d",
          "cs3se_edgenet_x",
          "efficientnetv2_rw_m",
          "dla169",
          "sequencer2d_l",
          "poolformer_m36",
          "gluon_resnet152_v1b",
          "resnet152d",
          "dpn98",
          "resnetrs101",
          "resnet200d",
          "seresnet152d",
          "wide_resnet50_2",
          "dm_nfnet_f0",
          "dpn131",
          "pnasnet5large",
          "resnetrs152",
          "dpn107",
          "swinv2_base_window8_256",
          "nasnetalarge",
          "resnetrs200",
          "seresnext101d_32x8d",
          "seresnextaa101d_32x8d",
          "ecaresnet269d",
          "legacy_senet154",
          "resnetrs270",
          "vgg11",
          "vgg13"
         ],
         "legendgroup": "",
         "marker": {
          "color": [
           1068440,
           1301400,
           1370593,
           1968680,
           2912278,
           3666760,
           3695520,
           4383312,
           4421616,
           5182508,
           5260232,
           5288548,
           5572200,
           5578632,
           6187972,
           6543080,
           7978856,
           7998088,
           8553296,
           8598464,
           10081632,
           10388064,
           10476600,
           10593301,
           10731200,
           10988688,
           11708744,
           12480288,
           12488672,
           12611602,
           12611602,
           13677713,
           13691712,
           13701984,
           14149480,
           15451148,
           15667320,
           15742104,
           16011916,
           16014408,
           16779628,
           16806976,
           16809512,
           17352344,
           17963616,
           18511292,
           19676302,
           19779200,
           19880698,
           20013928,
           20569896,
           20640640,
           21110248,
           21151720,
           21299004,
           21616168,
           21797672,
           21816904,
           21913592,
           22036632,
           22569824,
           22635360,
           22733280,
           23834568,
           23834568,
           24671464,
           25048136,
           25059816,
           25549352,
           25557032,
           25557032,
           25573814,
           25576350,
           25897080,
           26309272,
           26907752,
           26969560,
           27559896,
           27642184,
           28088024,
           28210600,
           28589128,
           28681000,
           30162046,
           30670768,
           31078280,
           32458248,
           32774064,
           33268888,
           35691912,
           35696920,
           36022984,
           36846968,
           37668392,
           39819560,
           39916312,
           41282200,
           42338736,
           43828456,
           44177704,
           44568563,
           45206688,
           47821120,
           48955416,
           50721584,
           53236442,
           53389720,
           54298216,
           56172520,
           60192808,
           60212040,
           61570728,
           63618696,
           64693064,
           66841080,
           68883240,
           71489284,
           79254504,
           86057668,
           86621576,
           86917800,
           87918816,
           88753150,
           93209992,
           93588280,
           93588280,
           102093077,
           115088984,
           129861448,
           132863336,
           133047848
          ],
          "coloraxis": "coloraxis",
          "opacity": 1,
          "symbol": "circle"
         },
         "mode": "markers",
         "name": "",
         "orientation": "v",
         "showlegend": false,
         "type": "scatter",
         "x": [
          0.20565958222207328,
          0.50224997881244,
          0.3798018100141176,
          -0.0717230843545895,
          0.40036371666565224,
          0.09697346206524923,
          0.207171291532994,
          -0.13536652897572612,
          0.38133081504345384,
          -0.18816765662155402,
          0.4567569539063461,
          -0.16694333469643513,
          -0.1461529208900735,
          -0.14724112314335042,
          -0.15204621014954134,
          -0.2003554862961276,
          -0.11342315349887837,
          -0.11312205111586598,
          0.09524224930487386,
          0.13130595396428354,
          -0.0826535212027743,
          -0.1174161776141391,
          -0.14236439422818709,
          -0.1523369814543394,
          -0.17217231108740758,
          -0.09196729953934223,
          0.34058856436528007,
          0.04103618404094685,
          -0.11971949640622949,
          0.0483061743041006,
          -0.16851664965683052,
          -0.18443670968913212,
          0.0008232216292888044,
          0.042621313748775855,
          0.01966113868380984,
          0.1898781559996921,
          -0.16934439283742217,
          0.06611976500044471,
          -0.19851393009196705,
          -0.05324918040333184,
          0.2401379483567495,
          -0.13196014069908904,
          -0.03381635705850202,
          -0.01770042661756663,
          -0.06657243238732882,
          -0.14818719963692464,
          -0.14090084295160343,
          -0.13544728503735046,
          -0.0909085658215803,
          0.01595503761453191,
          -0.1365425096822864,
          -0.06252022269988969,
          -0.13611716060449605,
          -0.07413182574065706,
          0.0308650169514074,
          -0.05065631214637498,
          0.0723712018318619,
          -0.06918153283619836,
          -0.08256228618575887,
          0.054172524147230894,
          -0.10143320161047215,
          0.10489517029862205,
          0.06661642842742792,
          0.07001696273417414,
          -0.01790711980018055,
          0.03887965305353679,
          -0.052186682091860295,
          0.023167155847377174,
          -0.059169981186583974,
          0.015785331486010034,
          -0.026751331772108842,
          -0.1625762380758677,
          -0.08621986659887017,
          -0.18088226325914053,
          0.0051401765411942775,
          -0.03264026755399039,
          -0.15525263493804065,
          -0.07399660820047334,
          -0.10288089717584391,
          0.01874148820704639,
          0.06717708066822518,
          0.21438547406796077,
          0.009228505151395968,
          0.014951522651348408,
          0.10944253508249484,
          -0.02689153627505529,
          0.056993747812722866,
          0.04504869734952552,
          0.1547184526253568,
          -0.07959579442509294,
          -0.1957362699499715,
          0.015838543853337075,
          -0.17939441824171043,
          0.07775394963964613,
          -0.19080553436536618,
          -0.066338337535979,
          0.05039631301993351,
          -0.06281409637029615,
          0.31618966688264116,
          -0.02039436683978696,
          -0.03803335357508166,
          0.15741010138585265,
          -0.051384493149394736,
          -0.04845631908909008,
          -0.04392007830923585,
          -0.195589173742431,
          0.11106754826606133,
          0.3033819612685626,
          0.0168401648290256,
          0.06715348799989265,
          -0.18115944759062622,
          0.15593934895326195,
          -0.01877381252254435,
          -0.1558127281781944,
          -0.19457288188056648,
          -0.08760553899279545,
          0.5941996150945015,
          0.2510189612100842,
          -0.13252650489470508,
          -0.06865256557197705,
          0.21478463179944904,
          0.29736927878433184,
          -0.10447327514775254,
          -0.07748340091554226,
          -0.026048832613124392,
          -0.053742260564657376,
          -0.19971151577485088,
          -0.11344639810426241,
          -0.05819419959569894,
          0.3547902806361977,
          0.16917762470529382
         ],
         "xaxis": "x",
         "y": [
          -0.08722178160293478,
          -0.06636690421773517,
          -0.027863883592088596,
          -0.007332598038684597,
          -0.03081000545436681,
          -0.024328064109871032,
          -0.057968161704666864,
          0.011511287865930808,
          -0.024666981598385897,
          0.02673345715818625,
          -0.03747758440717749,
          0.0042005800691212025,
          0.015672202288503738,
          0.01974245713955183,
          0.008091014531581849,
          0.021497599432811113,
          0.00848826127142019,
          -0.003251280272235418,
          -0.013272506188758148,
          0.07564239038344388,
          0.009888000021346616,
          -0.005476823506825634,
          0.017415219988260375,
          0.007925613116118517,
          0.0057968365206694334,
          -0.006523590428066851,
          -0.03218574177841389,
          -0.025584337822495144,
          0.009999384602633813,
          -0.002991887338028989,
          0.012799425927576406,
          0.0029318473667075736,
          -0.020383873021571536,
          -0.004920212374028685,
          0.031368712336263045,
          -0.057292506626244355,
          0.035414503291478765,
          -0.04315864570206875,
          0.0025703531956977744,
          -0.026208308360741006,
          -0.03545259140382736,
          0.011467648518218026,
          0.0010913842249559182,
          -0.006008910870706014,
          -2.2449726972082113e-05,
          -0.007199301797486741,
          0.015602790911596894,
          0.023088602300556278,
          0.03384012727064808,
          0.01548979468128448,
          0.007470987292025172,
          -0.022949680140272627,
          0.011104323276157308,
          0.0032242837984980638,
          -0.015223806326295925,
          0.038745832775187214,
          -0.025485716279043516,
          -0.03002457421103292,
          0.004591620199107373,
          0.0304147427347931,
          0.0179634244630206,
          -0.0012471519772788242,
          -0.019731146115385133,
          -0.060195670513743804,
          0.015181048840774975,
          0.035503453836849865,
          -0.01047349005590269,
          -0.0041015970740905265,
          0.012632172730190485,
          -0.016294316914115353,
          -0.007770621283721411,
          0.0019999080383912124,
          -0.0062762411082962375,
          0.011340282743942217,
          -0.003528547271232954,
          -0.03572032885822494,
          0.016540677752953276,
          0.01830092054359508,
          0.001406879753571265,
          0.0013619285967377956,
          0.00030771723936189065,
          -0.04604695338010511,
          -0.019816342914211856,
          -0.0016196978110457488,
          0.005925748207257234,
          -0.008126671849385028,
          0.03973466158783533,
          -0.015166676398734851,
          0.004297560610705397,
          0.021411014749960097,
          0.023535723006748954,
          -0.05609417977161477,
          0.012516519768054549,
          -0.03112665695287511,
          0.022109917292322877,
          -0.0008156578087726771,
          -0.05127304777707804,
          -0.02530929406348948,
          -0.02403926443557474,
          0.017084149593737823,
          -0.005399575654408895,
          -0.05821809655100368,
          -0.00034986964385889973,
          -0.007934015876214296,
          0.023109965147986244,
          0.03024777999192493,
          0.06309817130190394,
          -0.04865036366948338,
          -0.05285808817919609,
          0.0015558776857705241,
          0.02900647154648149,
          -0.04958189426092976,
          0.008088432581967292,
          0.0427763910328411,
          0.0016506639025801496,
          0.013874539423096202,
          0.5576744242166504,
          -0.07684941317699862,
          -0.006663955302922527,
          0.01241178949738428,
          -0.03910883687015146,
          -0.024144891429791114,
          -0.01010260267039731,
          -0.016117082814177928,
          0.021664174503019586,
          0.016410304463943964,
          0.01633002824956938,
          0.01795270214551805,
          0.0006601898804206303,
          -0.046944794562954126,
          -0.02413715551902988
         ],
         "yaxis": "y"
        }
       ],
       "layout": {
        "autosize": true,
        "coloraxis": {
         "colorbar": {
          "title": {
           "text": "color"
          }
         },
         "colorscale": [
          [
           0,
           "rgb(103,0,31)"
          ],
          [
           0.1,
           "rgb(178,24,43)"
          ],
          [
           0.2,
           "rgb(214,96,77)"
          ],
          [
           0.3,
           "rgb(244,165,130)"
          ],
          [
           0.4,
           "rgb(253,219,199)"
          ],
          [
           0.5,
           "rgb(247,247,247)"
          ],
          [
           0.6,
           "rgb(209,229,240)"
          ],
          [
           0.7,
           "rgb(146,197,222)"
          ],
          [
           0.8,
           "rgb(67,147,195)"
          ],
          [
           0.9,
           "rgb(33,102,172)"
          ],
          [
           1,
           "rgb(5,48,97)"
          ]
         ]
        },
        "legend": {
         "tracegroupgap": 0
        },
        "margin": {
         "t": 60
        },
        "template": {
         "data": {
          "bar": [
           {
            "error_x": {
             "color": "#2a3f5f"
            },
            "error_y": {
             "color": "#2a3f5f"
            },
            "marker": {
             "line": {
              "color": "#E5ECF6",
              "width": 0.5
             },
             "pattern": {
              "fillmode": "overlay",
              "size": 10,
              "solidity": 0.2
             }
            },
            "type": "bar"
           }
          ],
          "barpolar": [
           {
            "marker": {
             "line": {
              "color": "#E5ECF6",
              "width": 0.5
             },
             "pattern": {
              "fillmode": "overlay",
              "size": 10,
              "solidity": 0.2
             }
            },
            "type": "barpolar"
           }
          ],
          "carpet": [
           {
            "aaxis": {
             "endlinecolor": "#2a3f5f",
             "gridcolor": "white",
             "linecolor": "white",
             "minorgridcolor": "white",
             "startlinecolor": "#2a3f5f"
            },
            "baxis": {
             "endlinecolor": "#2a3f5f",
             "gridcolor": "white",
             "linecolor": "white",
             "minorgridcolor": "white",
             "startlinecolor": "#2a3f5f"
            },
            "type": "carpet"
           }
          ],
          "choropleth": [
           {
            "colorbar": {
             "outlinewidth": 0,
             "ticks": ""
            },
            "type": "choropleth"
           }
          ],
          "contour": [
           {
            "colorbar": {
             "outlinewidth": 0,
             "ticks": ""
            },
            "colorscale": [
             [
              0,
              "#0d0887"
             ],
             [
              0.1111111111111111,
              "#46039f"
             ],
             [
              0.2222222222222222,
              "#7201a8"
             ],
             [
              0.3333333333333333,
              "#9c179e"
             ],
             [
              0.4444444444444444,
              "#bd3786"
             ],
             [
              0.5555555555555556,
              "#d8576b"
             ],
             [
              0.6666666666666666,
              "#ed7953"
             ],
             [
              0.7777777777777778,
              "#fb9f3a"
             ],
             [
              0.8888888888888888,
              "#fdca26"
             ],
             [
              1,
              "#f0f921"
             ]
            ],
            "type": "contour"
           }
          ],
          "contourcarpet": [
           {
            "colorbar": {
             "outlinewidth": 0,
             "ticks": ""
            },
            "type": "contourcarpet"
           }
          ],
          "heatmap": [
           {
            "colorbar": {
             "outlinewidth": 0,
             "ticks": ""
            },
            "colorscale": [
             [
              0,
              "#0d0887"
             ],
             [
              0.1111111111111111,
              "#46039f"
             ],
             [
              0.2222222222222222,
              "#7201a8"
             ],
             [
              0.3333333333333333,
              "#9c179e"
             ],
             [
              0.4444444444444444,
              "#bd3786"
             ],
             [
              0.5555555555555556,
              "#d8576b"
             ],
             [
              0.6666666666666666,
              "#ed7953"
             ],
             [
              0.7777777777777778,
              "#fb9f3a"
             ],
             [
              0.8888888888888888,
              "#fdca26"
             ],
             [
              1,
              "#f0f921"
             ]
            ],
            "type": "heatmap"
           }
          ],
          "heatmapgl": [
           {
            "colorbar": {
             "outlinewidth": 0,
             "ticks": ""
            },
            "colorscale": [
             [
              0,
              "#0d0887"
             ],
             [
              0.1111111111111111,
              "#46039f"
             ],
             [
              0.2222222222222222,
              "#7201a8"
             ],
             [
              0.3333333333333333,
              "#9c179e"
             ],
             [
              0.4444444444444444,
              "#bd3786"
             ],
             [
              0.5555555555555556,
              "#d8576b"
             ],
             [
              0.6666666666666666,
              "#ed7953"
             ],
             [
              0.7777777777777778,
              "#fb9f3a"
             ],
             [
              0.8888888888888888,
              "#fdca26"
             ],
             [
              1,
              "#f0f921"
             ]
            ],
            "type": "heatmapgl"
           }
          ],
          "histogram": [
           {
            "marker": {
             "pattern": {
              "fillmode": "overlay",
              "size": 10,
              "solidity": 0.2
             }
            },
            "type": "histogram"
           }
          ],
          "histogram2d": [
           {
            "colorbar": {
             "outlinewidth": 0,
             "ticks": ""
            },
            "colorscale": [
             [
              0,
              "#0d0887"
             ],
             [
              0.1111111111111111,
              "#46039f"
             ],
             [
              0.2222222222222222,
              "#7201a8"
             ],
             [
              0.3333333333333333,
              "#9c179e"
             ],
             [
              0.4444444444444444,
              "#bd3786"
             ],
             [
              0.5555555555555556,
              "#d8576b"
             ],
             [
              0.6666666666666666,
              "#ed7953"
             ],
             [
              0.7777777777777778,
              "#fb9f3a"
             ],
             [
              0.8888888888888888,
              "#fdca26"
             ],
             [
              1,
              "#f0f921"
             ]
            ],
            "type": "histogram2d"
           }
          ],
          "histogram2dcontour": [
           {
            "colorbar": {
             "outlinewidth": 0,
             "ticks": ""
            },
            "colorscale": [
             [
              0,
              "#0d0887"
             ],
             [
              0.1111111111111111,
              "#46039f"
             ],
             [
              0.2222222222222222,
              "#7201a8"
             ],
             [
              0.3333333333333333,
              "#9c179e"
             ],
             [
              0.4444444444444444,
              "#bd3786"
             ],
             [
              0.5555555555555556,
              "#d8576b"
             ],
             [
              0.6666666666666666,
              "#ed7953"
             ],
             [
              0.7777777777777778,
              "#fb9f3a"
             ],
             [
              0.8888888888888888,
              "#fdca26"
             ],
             [
              1,
              "#f0f921"
             ]
            ],
            "type": "histogram2dcontour"
           }
          ],
          "mesh3d": [
           {
            "colorbar": {
             "outlinewidth": 0,
             "ticks": ""
            },
            "type": "mesh3d"
           }
          ],
          "parcoords": [
           {
            "line": {
             "colorbar": {
              "outlinewidth": 0,
              "ticks": ""
             }
            },
            "type": "parcoords"
           }
          ],
          "pie": [
           {
            "automargin": true,
            "type": "pie"
           }
          ],
          "scatter": [
           {
            "fillpattern": {
             "fillmode": "overlay",
             "size": 10,
             "solidity": 0.2
            },
            "type": "scatter"
           }
          ],
          "scatter3d": [
           {
            "line": {
             "colorbar": {
              "outlinewidth": 0,
              "ticks": ""
             }
            },
            "marker": {
             "colorbar": {
              "outlinewidth": 0,
              "ticks": ""
             }
            },
            "type": "scatter3d"
           }
          ],
          "scattercarpet": [
           {
            "marker": {
             "colorbar": {
              "outlinewidth": 0,
              "ticks": ""
             }
            },
            "type": "scattercarpet"
           }
          ],
          "scattergeo": [
           {
            "marker": {
             "colorbar": {
              "outlinewidth": 0,
              "ticks": ""
             }
            },
            "type": "scattergeo"
           }
          ],
          "scattergl": [
           {
            "marker": {
             "colorbar": {
              "outlinewidth": 0,
              "ticks": ""
             }
            },
            "type": "scattergl"
           }
          ],
          "scattermapbox": [
           {
            "marker": {
             "colorbar": {
              "outlinewidth": 0,
              "ticks": ""
             }
            },
            "type": "scattermapbox"
           }
          ],
          "scatterpolar": [
           {
            "marker": {
             "colorbar": {
              "outlinewidth": 0,
              "ticks": ""
             }
            },
            "type": "scatterpolar"
           }
          ],
          "scatterpolargl": [
           {
            "marker": {
             "colorbar": {
              "outlinewidth": 0,
              "ticks": ""
             }
            },
            "type": "scatterpolargl"
           }
          ],
          "scatterternary": [
           {
            "marker": {
             "colorbar": {
              "outlinewidth": 0,
              "ticks": ""
             }
            },
            "type": "scatterternary"
           }
          ],
          "surface": [
           {
            "colorbar": {
             "outlinewidth": 0,
             "ticks": ""
            },
            "colorscale": [
             [
              0,
              "#0d0887"
             ],
             [
              0.1111111111111111,
              "#46039f"
             ],
             [
              0.2222222222222222,
              "#7201a8"
             ],
             [
              0.3333333333333333,
              "#9c179e"
             ],
             [
              0.4444444444444444,
              "#bd3786"
             ],
             [
              0.5555555555555556,
              "#d8576b"
             ],
             [
              0.6666666666666666,
              "#ed7953"
             ],
             [
              0.7777777777777778,
              "#fb9f3a"
             ],
             [
              0.8888888888888888,
              "#fdca26"
             ],
             [
              1,
              "#f0f921"
             ]
            ],
            "type": "surface"
           }
          ],
          "table": [
           {
            "cells": {
             "fill": {
              "color": "#EBF0F8"
             },
             "line": {
              "color": "white"
             }
            },
            "header": {
             "fill": {
              "color": "#C8D4E3"
             },
             "line": {
              "color": "white"
             }
            },
            "type": "table"
           }
          ]
         },
         "layout": {
          "annotationdefaults": {
           "arrowcolor": "#2a3f5f",
           "arrowhead": 0,
           "arrowwidth": 1
          },
          "autotypenumbers": "strict",
          "coloraxis": {
           "colorbar": {
            "outlinewidth": 0,
            "ticks": ""
           }
          },
          "colorscale": {
           "diverging": [
            [
             0,
             "#8e0152"
            ],
            [
             0.1,
             "#c51b7d"
            ],
            [
             0.2,
             "#de77ae"
            ],
            [
             0.3,
             "#f1b6da"
            ],
            [
             0.4,
             "#fde0ef"
            ],
            [
             0.5,
             "#f7f7f7"
            ],
            [
             0.6,
             "#e6f5d0"
            ],
            [
             0.7,
             "#b8e186"
            ],
            [
             0.8,
             "#7fbc41"
            ],
            [
             0.9,
             "#4d9221"
            ],
            [
             1,
             "#276419"
            ]
           ],
           "sequential": [
            [
             0,
             "#0d0887"
            ],
            [
             0.1111111111111111,
             "#46039f"
            ],
            [
             0.2222222222222222,
             "#7201a8"
            ],
            [
             0.3333333333333333,
             "#9c179e"
            ],
            [
             0.4444444444444444,
             "#bd3786"
            ],
            [
             0.5555555555555556,
             "#d8576b"
            ],
            [
             0.6666666666666666,
             "#ed7953"
            ],
            [
             0.7777777777777778,
             "#fb9f3a"
            ],
            [
             0.8888888888888888,
             "#fdca26"
            ],
            [
             1,
             "#f0f921"
            ]
           ],
           "sequentialminus": [
            [
             0,
             "#0d0887"
            ],
            [
             0.1111111111111111,
             "#46039f"
            ],
            [
             0.2222222222222222,
             "#7201a8"
            ],
            [
             0.3333333333333333,
             "#9c179e"
            ],
            [
             0.4444444444444444,
             "#bd3786"
            ],
            [
             0.5555555555555556,
             "#d8576b"
            ],
            [
             0.6666666666666666,
             "#ed7953"
            ],
            [
             0.7777777777777778,
             "#fb9f3a"
            ],
            [
             0.8888888888888888,
             "#fdca26"
            ],
            [
             1,
             "#f0f921"
            ]
           ]
          },
          "colorway": [
           "#636efa",
           "#EF553B",
           "#00cc96",
           "#ab63fa",
           "#FFA15A",
           "#19d3f3",
           "#FF6692",
           "#B6E880",
           "#FF97FF",
           "#FECB52"
          ],
          "font": {
           "color": "#2a3f5f"
          },
          "geo": {
           "bgcolor": "white",
           "lakecolor": "white",
           "landcolor": "#E5ECF6",
           "showlakes": true,
           "showland": true,
           "subunitcolor": "white"
          },
          "hoverlabel": {
           "align": "left"
          },
          "hovermode": "closest",
          "mapbox": {
           "style": "light"
          },
          "paper_bgcolor": "white",
          "plot_bgcolor": "#E5ECF6",
          "polar": {
           "angularaxis": {
            "gridcolor": "white",
            "linecolor": "white",
            "ticks": ""
           },
           "bgcolor": "#E5ECF6",
           "radialaxis": {
            "gridcolor": "white",
            "linecolor": "white",
            "ticks": ""
           }
          },
          "scene": {
           "xaxis": {
            "backgroundcolor": "#E5ECF6",
            "gridcolor": "white",
            "gridwidth": 2,
            "linecolor": "white",
            "showbackground": true,
            "ticks": "",
            "zerolinecolor": "white"
           },
           "yaxis": {
            "backgroundcolor": "#E5ECF6",
            "gridcolor": "white",
            "gridwidth": 2,
            "linecolor": "white",
            "showbackground": true,
            "ticks": "",
            "zerolinecolor": "white"
           },
           "zaxis": {
            "backgroundcolor": "#E5ECF6",
            "gridcolor": "white",
            "gridwidth": 2,
            "linecolor": "white",
            "showbackground": true,
            "ticks": "",
            "zerolinecolor": "white"
           }
          },
          "shapedefaults": {
           "line": {
            "color": "#2a3f5f"
           }
          },
          "ternary": {
           "aaxis": {
            "gridcolor": "white",
            "linecolor": "white",
            "ticks": ""
           },
           "baxis": {
            "gridcolor": "white",
            "linecolor": "white",
            "ticks": ""
           },
           "bgcolor": "#E5ECF6",
           "caxis": {
            "gridcolor": "white",
            "linecolor": "white",
            "ticks": ""
           }
          },
          "title": {
           "x": 0.05
          },
          "xaxis": {
           "automargin": true,
           "gridcolor": "white",
           "linecolor": "white",
           "ticks": "",
           "title": {
            "standoff": 15
           },
           "zerolinecolor": "white",
           "zerolinewidth": 2
          },
          "yaxis": {
           "automargin": true,
           "gridcolor": "white",
           "linecolor": "white",
           "ticks": "",
           "title": {
            "standoff": 15
           },
           "zerolinecolor": "white",
           "zerolinewidth": 2
          }
         }
        },
        "xaxis": {
         "anchor": "y",
         "autorange": true,
         "domain": [
          0,
          1
         ],
         "range": [
          -0.2492336971112879,
          0.6430778259096618
         ],
         "title": {
          "text": "x"
         },
         "type": "linear"
        },
        "yaxis": {
         "anchor": "x",
         "autorange": true,
         "domain": [
          0,
          1
         ],
         "range": [
          -0.13715468992754834,
          0.6076073325412639
         ],
         "title": {
          "text": "y"
         },
         "type": "linear"
        }
       }
      },
      "image/png": "[encoded data removed]",
      "text/html": [
       "<div>                            <div id=\"e9696f7a-154c-44b1-9936-f43173aa779b\" class=\"plotly-graph-div\" style=\"height:525px; width:100%;\"></div>            <script type=\"text/javascript\">                require([\"plotly\"], function(Plotly) {                    window.PLOTLYENV=window.PLOTLYENV || {};                                    if (document.getElementById(\"e9696f7a-154c-44b1-9936-f43173aa779b\")) {                    Plotly.newPlot(                        \"e9696f7a-154c-44b1-9936-f43173aa779b\",                        [{\"hovertemplate\":\"\\u003cb\\u003e%{hovertext}\\u003c\\u002fb\\u003e\\u003cbr\\u003e\\u003cbr\\u003ex=%{x}\\u003cbr\\u003ey=%{y}\\u003cbr\\u003ecolor=%{marker.color}\\u003cextra\\u003e\\u003c\\u002fextra\\u003e\",\"hovertext\":[\"dla46x_c\",\"dla46_c\",\"mobilevitv2_050\",\"mobilenetv2_050\",\"semnasnet_075\",\"pvt_v2_b0\",\"convnext_atto\",\"mnasnet_100\",\"spnasnet_100\",\"ghostnet_100\",\"hardcorenas_a\",\"efficientnet_b0\",\"fbnetc_100\",\"mobilevit_s\",\"tinynet_a\",\"ese_vovnet19b_dw\",\"densenet121\",\"densenetblur121d\",\"crossvit_9_240\",\"fbnetv3_b\",\"resnet14t\",\"seresnext26ts\",\"gcresnext26ts\",\"eca_botnext26ts_256\",\"bat_resnext26ts\",\"lambda_resnet26rpt_256\",\"resnet18d\",\"halonet26t\",\"botnet26t_256\",\"dpn68\",\"dpn68b\",\"gc_efficientnetv2_rw_t\",\"sehalonet33ts\",\"sebotnet33ts_256\",\"densenet169\",\"maxvit_nano_rw_256\",\"gcresnext50ts\",\"dla34\",\"ecaresnet26t\",\"resnet26d\",\"maxxvit_rmlp_nano_rw_256\",\"seresnext26t_32x4d\",\"seresnext26d_32x4d\",\"dla60x\",\"resnet32ts\",\"edgenext_base\",\"eca_resnet33ts\",\"seresnet33ts\",\"gcresnet33ts\",\"densenet201\",\"cspresnext50\",\"regnetv_040\",\"convmixer_768_32\",\"cs3darknet_focus_l\",\"hrnet_w18\",\"cspresnet50\",\"gluon_resnet34_v1b\",\"resnet34d\",\"cs3sedarknet_l\",\"dla60\",\"lamhalobotnet50ts_256\",\"halo2botnet50ts_256\",\"halonet50ts\",\"adv_inception_v3\",\"gluon_inception_v3\",\"res2next50\",\"resnext50d_32x4d\",\"res2net50_14w_8s\",\"resnetv2_50\",\"resnetblur50\",\"resnetaa50\",\"ecaresnet50t\",\"ecaresnet50d\",\"gcresnet50t\",\"dla102x\",\"xception41p\",\"xception41\",\"gluon_seresnext50_32x4d\",\"cspdarknet53\",\"legacy_seresnet50\",\"repvgg_a2\",\"convnext_tiny_hnf\",\"densenet161\",\"ecaresnetlight\",\"selecsls60\",\"gernet_l\",\"selecsls42b\",\"selecsls60b\",\"dla102\",\"resnetrs50\",\"resnet51q\",\"darknetaa53\",\"resnet61q\",\"dpn92\",\"xception65p\",\"gluon_xception65\",\"dla102x2\",\"xception71\",\"twins_pcpvt_base\",\"gluon_resnext101_32x4d\",\"ecaresnet101d\",\"res2net101_26w_4s\",\"cs3edgenet_x\",\"gluon_seresnext101_32x4d\",\"cs3se_edgenet_x\",\"efficientnetv2_rw_m\",\"dla169\",\"sequencer2d_l\",\"poolformer_m36\",\"gluon_resnet152_v1b\",\"resnet152d\",\"dpn98\",\"resnetrs101\",\"resnet200d\",\"seresnet152d\",\"wide_resnet50_2\",\"dm_nfnet_f0\",\"dpn131\",\"pnasnet5large\",\"resnetrs152\",\"dpn107\",\"swinv2_base_window8_256\",\"nasnetalarge\",\"resnetrs200\",\"seresnext101d_32x8d\",\"seresnextaa101d_32x8d\",\"ecaresnet269d\",\"legacy_senet154\",\"resnetrs270\",\"vgg11\",\"vgg13\"],\"legendgroup\":\"\",\"marker\":{\"color\":[1068440,1301400,1370593,1968680,2912278,3666760,3695520,4383312,4421616,5182508,5260232,5288548,5572200,5578632,6187972,6543080,7978856,7998088,8553296,8598464,10081632,10388064,10476600,10593301,10731200,10988688,11708744,12480288,12488672,12611602,12611602,13677713,13691712,13701984,14149480,15451148,15667320,15742104,16011916,16014408,16779628,16806976,16809512,17352344,17963616,18511292,19676302,19779200,19880698,20013928,20569896,20640640,21110248,21151720,21299004,21616168,21797672,21816904,21913592,22036632,22569824,22635360,22733280,23834568,23834568,24671464,25048136,25059816,25549352,25557032,25557032,25573814,25576350,25897080,26309272,26907752,26969560,27559896,27642184,28088024,28210600,28589128,28681000,30162046,30670768,31078280,32458248,32774064,33268888,35691912,35696920,36022984,36846968,37668392,39819560,39916312,41282200,42338736,43828456,44177704,44568563,45206688,47821120,48955416,50721584,53236442,53389720,54298216,56172520,60192808,60212040,61570728,63618696,64693064,66841080,68883240,71489284,79254504,86057668,86621576,86917800,87918816,88753150,93209992,93588280,93588280,102093077,115088984,129861448,132863336,133047848],\"coloraxis\":\"coloraxis\",\"opacity\":1.0,\"symbol\":\"circle\"},\"mode\":\"markers\",\"name\":\"\",\"orientation\":\"v\",\"showlegend\":false,\"x\":[0.20565958222207328,0.50224997881244,0.3798018100141176,-0.0717230843545895,0.40036371666565224,0.09697346206524923,0.207171291532994,-0.13536652897572612,0.38133081504345384,-0.18816765662155402,0.4567569539063461,-0.16694333469643513,-0.1461529208900735,-0.14724112314335042,-0.15204621014954134,-0.2003554862961276,-0.11342315349887837,-0.11312205111586598,0.09524224930487386,0.13130595396428354,-0.0826535212027743,-0.1174161776141391,-0.14236439422818709,-0.1523369814543394,-0.17217231108740758,-0.09196729953934223,0.34058856436528007,0.04103618404094685,-0.11971949640622949,0.0483061743041006,-0.16851664965683052,-0.18443670968913212,0.0008232216292888044,0.042621313748775855,0.01966113868380984,0.1898781559996921,-0.16934439283742217,0.06611976500044471,-0.19851393009196705,-0.05324918040333184,0.2401379483567495,-0.13196014069908904,-0.03381635705850202,-0.01770042661756663,-0.06657243238732882,-0.14818719963692464,-0.14090084295160343,-0.13544728503735046,-0.0909085658215803,0.01595503761453191,-0.1365425096822864,-0.06252022269988969,-0.13611716060449605,-0.07413182574065706,0.0308650169514074,-0.05065631214637498,0.0723712018318619,-0.06918153283619836,-0.08256228618575887,0.054172524147230894,-0.10143320161047215,0.10489517029862205,0.06661642842742792,0.07001696273417414,-0.01790711980018055,0.03887965305353679,-0.052186682091860295,0.023167155847377174,-0.059169981186583974,0.015785331486010034,-0.026751331772108842,-0.1625762380758677,-0.08621986659887017,-0.18088226325914053,0.0051401765411942775,-0.03264026755399039,-0.15525263493804065,-0.07399660820047334,-0.10288089717584391,0.01874148820704639,0.06717708066822518,0.21438547406796077,0.009228505151395968,0.014951522651348408,0.10944253508249484,-0.02689153627505529,0.056993747812722866,0.04504869734952552,0.1547184526253568,-0.07959579442509294,-0.1957362699499715,0.015838543853337075,-0.17939441824171043,0.07775394963964613,-0.19080553436536618,-0.066338337535979,0.05039631301993351,-0.06281409637029615,0.31618966688264116,-0.02039436683978696,-0.03803335357508166,0.15741010138585265,-0.051384493149394736,-0.04845631908909008,-0.04392007830923585,-0.195589173742431,0.11106754826606133,0.3033819612685626,0.0168401648290256,0.06715348799989265,-0.18115944759062622,0.15593934895326195,-0.01877381252254435,-0.1558127281781944,-0.19457288188056648,-0.08760553899279545,0.5941996150945015,0.2510189612100842,-0.13252650489470508,-0.06865256557197705,0.21478463179944904,0.29736927878433184,-0.10447327514775254,-0.07748340091554226,-0.026048832613124392,-0.053742260564657376,-0.19971151577485088,-0.11344639810426241,-0.05819419959569894,0.3547902806361977,0.16917762470529382],\"xaxis\":\"x\",\"y\":[-0.08722178160293478,-0.06636690421773517,-0.027863883592088596,-0.007332598038684597,-0.03081000545436681,-0.024328064109871032,-0.057968161704666864,0.011511287865930808,-0.024666981598385897,0.02673345715818625,-0.03747758440717749,0.0042005800691212025,0.015672202288503738,0.01974245713955183,0.008091014531581849,0.021497599432811113,0.00848826127142019,-0.003251280272235418,-0.013272506188758148,0.07564239038344388,0.009888000021346616,-0.005476823506825634,0.017415219988260375,0.007925613116118517,0.0057968365206694334,-0.006523590428066851,-0.03218574177841389,-0.025584337822495144,0.009999384602633813,-0.002991887338028989,0.012799425927576406,0.0029318473667075736,-0.020383873021571536,-0.004920212374028685,0.031368712336263045,-0.057292506626244355,0.035414503291478765,-0.04315864570206875,0.0025703531956977744,-0.026208308360741006,-0.03545259140382736,0.011467648518218026,0.0010913842249559182,-0.006008910870706014,-2.2449726972082113e-05,-0.007199301797486741,0.015602790911596894,0.023088602300556278,0.03384012727064808,0.01548979468128448,0.007470987292025172,-0.022949680140272627,0.011104323276157308,0.0032242837984980638,-0.015223806326295925,0.038745832775187214,-0.025485716279043516,-0.03002457421103292,0.004591620199107373,0.0304147427347931,0.0179634244630206,-0.0012471519772788242,-0.019731146115385133,-0.060195670513743804,0.015181048840774975,0.035503453836849865,-0.01047349005590269,-0.0041015970740905265,0.012632172730190485,-0.016294316914115353,-0.007770621283721411,0.0019999080383912124,-0.0062762411082962375,0.011340282743942217,-0.003528547271232954,-0.03572032885822494,0.016540677752953276,0.01830092054359508,0.001406879753571265,0.0013619285967377956,0.00030771723936189065,-0.04604695338010511,-0.019816342914211856,-0.0016196978110457488,0.005925748207257234,-0.008126671849385028,0.03973466158783533,-0.015166676398734851,0.004297560610705397,0.021411014749960097,0.023535723006748954,-0.05609417977161477,0.012516519768054549,-0.03112665695287511,0.022109917292322877,-0.0008156578087726771,-0.05127304777707804,-0.02530929406348948,-0.02403926443557474,0.017084149593737823,-0.005399575654408895,-0.05821809655100368,-0.00034986964385889973,-0.007934015876214296,0.023109965147986244,0.03024777999192493,0.06309817130190394,-0.04865036366948338,-0.05285808817919609,0.0015558776857705241,0.02900647154648149,-0.04958189426092976,0.008088432581967292,0.0427763910328411,0.0016506639025801496,0.013874539423096202,0.5576744242166504,-0.07684941317699862,-0.006663955302922527,0.01241178949738428,-0.03910883687015146,-0.024144891429791114,-0.01010260267039731,-0.016117082814177928,0.021664174503019586,0.016410304463943964,0.01633002824956938,0.01795270214551805,0.0006601898804206303,-0.046944794562954126,-0.02413715551902988],\"yaxis\":\"y\",\"type\":\"scatter\"}],                        {\"template\":{\"data\":{\"histogram2dcontour\":[{\"type\":\"histogram2dcontour\",\"colorbar\":{\"outlinewidth\":0,\"ticks\":\"\"},\"colorscale\":[[0.0,\"#0d0887\"],[0.1111111111111111,\"#46039f\"],[0.2222222222222222,\"#7201a8\"],[0.3333333333333333,\"#9c179e\"],[0.4444444444444444,\"#bd3786\"],[0.5555555555555556,\"#d8576b\"],[0.6666666666666666,\"#ed7953\"],[0.7777777777777778,\"#fb9f3a\"],[0.8888888888888888,\"#fdca26\"],[1.0,\"#f0f921\"]]}],\"choropleth\":[{\"type\":\"choropleth\",\"colorbar\":{\"outlinewidth\":0,\"ticks\":\"\"}}],\"histogram2d\":[{\"type\":\"histogram2d\",\"colorbar\":{\"outlinewidth\":0,\"ticks\":\"\"},\"colorscale\":[[0.0,\"#0d0887\"],[0.1111111111111111,\"#46039f\"],[0.2222222222222222,\"#7201a8\"],[0.3333333333333333,\"#9c179e\"],[0.4444444444444444,\"#bd3786\"],[0.5555555555555556,\"#d8576b\"],[0.6666666666666666,\"#ed7953\"],[0.7777777777777778,\"#fb9f3a\"],[0.8888888888888888,\"#fdca26\"],[1.0,\"#f0f921\"]]}],\"heatmap\":[{\"type\":\"heatmap\",\"colorbar\":{\"outlinewidth\":0,\"ticks\":\"\"},\"colorscale\":[[0.0,\"#0d0887\"],[0.1111111111111111,\"#46039f\"],[0.2222222222222222,\"#7201a8\"],[0.3333333333333333,\"#9c179e\"],[0.4444444444444444,\"#bd3786\"],[0.5555555555555556,\"#d8576b\"],[0.6666666666666666,\"#ed7953\"],[0.7777777777777778,\"#fb9f3a\"],[0.8888888888888888,\"#fdca26\"],[1.0,\"#f0f921\"]]}],\"heatmapgl\":[{\"type\":\"heatmapgl\",\"colorbar\":{\"outlinewidth\":0,\"ticks\":\"\"},\"colorscale\":[[0.0,\"#0d0887\"],[0.1111111111111111,\"#46039f\"],[0.2222222222222222,\"#7201a8\"],[0.3333333333333333,\"#9c179e\"],[0.4444444444444444,\"#bd3786\"],[0.5555555555555556,\"#d8576b\"],[0.6666666666666666,\"#ed7953\"],[0.7777777777777778,\"#fb9f3a\"],[0.8888888888888888,\"#fdca26\"],[1.0,\"#f0f921\"]]}],\"contourcarpet\":[{\"type\":\"contourcarpet\",\"colorbar\":{\"outlinewidth\":0,\"ticks\":\"\"}}],\"contour\":[{\"type\":\"contour\",\"colorbar\":{\"outlinewidth\":0,\"ticks\":\"\"},\"colorscale\":[[0.0,\"#0d0887\"],[0.1111111111111111,\"#46039f\"],[0.2222222222222222,\"#7201a8\"],[0.3333333333333333,\"#9c179e\"],[0.4444444444444444,\"#bd3786\"],[0.5555555555555556,\"#d8576b\"],[0.6666666666666666,\"#ed7953\"],[0.7777777777777778,\"#fb9f3a\"],[0.8888888888888888,\"#fdca26\"],[1.0,\"#f0f921\"]]}],\"surface\":[{\"type\":\"surface\",\"colorbar\":{\"outlinewidth\":0,\"ticks\":\"\"},\"colorscale\":[[0.0,\"#0d0887\"],[0.1111111111111111,\"#46039f\"],[0.2222222222222222,\"#7201a8\"],[0.3333333333333333,\"#9c179e\"],[0.4444444444444444,\"#bd3786\"],[0.5555555555555556,\"#d8576b\"],[0.6666666666666666,\"#ed7953\"],[0.7777777777777778,\"#fb9f3a\"],[0.8888888888888888,\"#fdca26\"],[1.0,\"#f0f921\"]]}],\"mesh3d\":[{\"type\":\"mesh3d\",\"colorbar\":{\"outlinewidth\":0,\"ticks\":\"\"}}],\"scatter\":[{\"fillpattern\":{\"fillmode\":\"overlay\",\"size\":10,\"solidity\":0.2},\"type\":\"scatter\"}],\"parcoords\":[{\"type\":\"parcoords\",\"line\":{\"colorbar\":{\"outlinewidth\":0,\"ticks\":\"\"}}}],\"scatterpolargl\":[{\"type\":\"scatterpolargl\",\"marker\":{\"colorbar\":{\"outlinewidth\":0,\"ticks\":\"\"}}}],\"bar\":[{\"error_x\":{\"color\":\"#2a3f5f\"},\"error_y\":{\"color\":\"#2a3f5f\"},\"marker\":{\"line\":{\"color\":\"#E5ECF6\",\"width\":0.5},\"pattern\":{\"fillmode\":\"overlay\",\"size\":10,\"solidity\":0.2}},\"type\":\"bar\"}],\"scattergeo\":[{\"type\":\"scattergeo\",\"marker\":{\"colorbar\":{\"outlinewidth\":0,\"ticks\":\"\"}}}],\"scatterpolar\":[{\"type\":\"scatterpolar\",\"marker\":{\"colorbar\":{\"outlinewidth\":0,\"ticks\":\"\"}}}],\"histogram\":[{\"marker\":{\"pattern\":{\"fillmode\":\"overlay\",\"size\":10,\"solidity\":0.2}},\"type\":\"histogram\"}],\"scattergl\":[{\"type\":\"scattergl\",\"marker\":{\"colorbar\":{\"outlinewidth\":0,\"ticks\":\"\"}}}],\"scatter3d\":[{\"type\":\"scatter3d\",\"line\":{\"colorbar\":{\"outlinewidth\":0,\"ticks\":\"\"}},\"marker\":{\"colorbar\":{\"outlinewidth\":0,\"ticks\":\"\"}}}],\"scattermapbox\":[{\"type\":\"scattermapbox\",\"marker\":{\"colorbar\":{\"outlinewidth\":0,\"ticks\":\"\"}}}],\"scatterternary\":[{\"type\":\"scatterternary\",\"marker\":{\"colorbar\":{\"outlinewidth\":0,\"ticks\":\"\"}}}],\"scattercarpet\":[{\"type\":\"scattercarpet\",\"marker\":{\"colorbar\":{\"outlinewidth\":0,\"ticks\":\"\"}}}],\"carpet\":[{\"aaxis\":{\"endlinecolor\":\"#2a3f5f\",\"gridcolor\":\"white\",\"linecolor\":\"white\",\"minorgridcolor\":\"white\",\"startlinecolor\":\"#2a3f5f\"},\"baxis\":{\"endlinecolor\":\"#2a3f5f\",\"gridcolor\":\"white\",\"linecolor\":\"white\",\"minorgridcolor\":\"white\",\"startlinecolor\":\"#2a3f5f\"},\"type\":\"carpet\"}],\"table\":[{\"cells\":{\"fill\":{\"color\":\"#EBF0F8\"},\"line\":{\"color\":\"white\"}},\"header\":{\"fill\":{\"color\":\"#C8D4E3\"},\"line\":{\"color\":\"white\"}},\"type\":\"table\"}],\"barpolar\":[{\"marker\":{\"line\":{\"color\":\"#E5ECF6\",\"width\":0.5},\"pattern\":{\"fillmode\":\"overlay\",\"size\":10,\"solidity\":0.2}},\"type\":\"barpolar\"}],\"pie\":[{\"automargin\":true,\"type\":\"pie\"}]},\"layout\":{\"autotypenumbers\":\"strict\",\"colorway\":[\"#636efa\",\"#EF553B\",\"#00cc96\",\"#ab63fa\",\"#FFA15A\",\"#19d3f3\",\"#FF6692\",\"#B6E880\",\"#FF97FF\",\"#FECB52\"],\"font\":{\"color\":\"#2a3f5f\"},\"hovermode\":\"closest\",\"hoverlabel\":{\"align\":\"left\"},\"paper_bgcolor\":\"white\",\"plot_bgcolor\":\"#E5ECF6\",\"polar\":{\"bgcolor\":\"#E5ECF6\",\"angularaxis\":{\"gridcolor\":\"white\",\"linecolor\":\"white\",\"ticks\":\"\"},\"radialaxis\":{\"gridcolor\":\"white\",\"linecolor\":\"white\",\"ticks\":\"\"}},\"ternary\":{\"bgcolor\":\"#E5ECF6\",\"aaxis\":{\"gridcolor\":\"white\",\"linecolor\":\"white\",\"ticks\":\"\"},\"baxis\":{\"gridcolor\":\"white\",\"linecolor\":\"white\",\"ticks\":\"\"},\"caxis\":{\"gridcolor\":\"white\",\"linecolor\":\"white\",\"ticks\":\"\"}},\"coloraxis\":{\"colorbar\":{\"outlinewidth\":0,\"ticks\":\"\"}},\"colorscale\":{\"sequential\":[[0.0,\"#0d0887\"],[0.1111111111111111,\"#46039f\"],[0.2222222222222222,\"#7201a8\"],[0.3333333333333333,\"#9c179e\"],[0.4444444444444444,\"#bd3786\"],[0.5555555555555556,\"#d8576b\"],[0.6666666666666666,\"#ed7953\"],[0.7777777777777778,\"#fb9f3a\"],[0.8888888888888888,\"#fdca26\"],[1.0,\"#f0f921\"]],\"sequentialminus\":[[0.0,\"#0d0887\"],[0.1111111111111111,\"#46039f\"],[0.2222222222222222,\"#7201a8\"],[0.3333333333333333,\"#9c179e\"],[0.4444444444444444,\"#bd3786\"],[0.5555555555555556,\"#d8576b\"],[0.6666666666666666,\"#ed7953\"],[0.7777777777777778,\"#fb9f3a\"],[0.8888888888888888,\"#fdca26\"],[1.0,\"#f0f921\"]],\"diverging\":[[0,\"#8e0152\"],[0.1,\"#c51b7d\"],[0.2,\"#de77ae\"],[0.3,\"#f1b6da\"],[0.4,\"#fde0ef\"],[0.5,\"#f7f7f7\"],[0.6,\"#e6f5d0\"],[0.7,\"#b8e186\"],[0.8,\"#7fbc41\"],[0.9,\"#4d9221\"],[1,\"#276419\"]]},\"xaxis\":{\"gridcolor\":\"white\",\"linecolor\":\"white\",\"ticks\":\"\",\"title\":{\"standoff\":15},\"zerolinecolor\":\"white\",\"automargin\":true,\"zerolinewidth\":2},\"yaxis\":{\"gridcolor\":\"white\",\"linecolor\":\"white\",\"ticks\":\"\",\"title\":{\"standoff\":15},\"zerolinecolor\":\"white\",\"automargin\":true,\"zerolinewidth\":2},\"scene\":{\"xaxis\":{\"backgroundcolor\":\"#E5ECF6\",\"gridcolor\":\"white\",\"linecolor\":\"white\",\"showbackground\":true,\"ticks\":\"\",\"zerolinecolor\":\"white\",\"gridwidth\":2},\"yaxis\":{\"backgroundcolor\":\"#E5ECF6\",\"gridcolor\":\"white\",\"linecolor\":\"white\",\"showbackground\":true,\"ticks\":\"\",\"zerolinecolor\":\"white\",\"gridwidth\":2},\"zaxis\":{\"backgroundcolor\":\"#E5ECF6\",\"gridcolor\":\"white\",\"linecolor\":\"white\",\"showbackground\":true,\"ticks\":\"\",\"zerolinecolor\":\"white\",\"gridwidth\":2}},\"shapedefaults\":{\"line\":{\"color\":\"#2a3f5f\"}},\"annotationdefaults\":{\"arrowcolor\":\"#2a3f5f\",\"arrowhead\":0,\"arrowwidth\":1},\"geo\":{\"bgcolor\":\"white\",\"landcolor\":\"#E5ECF6\",\"subunitcolor\":\"white\",\"showland\":true,\"showlakes\":true,\"lakecolor\":\"white\"},\"title\":{\"x\":0.05},\"mapbox\":{\"style\":\"light\"}}},\"xaxis\":{\"anchor\":\"y\",\"domain\":[0.0,1.0],\"title\":{\"text\":\"x\"}},\"yaxis\":{\"anchor\":\"x\",\"domain\":[0.0,1.0],\"title\":{\"text\":\"y\"}},\"coloraxis\":{\"colorbar\":{\"title\":{\"text\":\"color\"}},\"colorscale\":[[0.0,\"rgb(103,0,31)\"],[0.1,\"rgb(178,24,43)\"],[0.2,\"rgb(214,96,77)\"],[0.3,\"rgb(244,165,130)\"],[0.4,\"rgb(253,219,199)\"],[0.5,\"rgb(247,247,247)\"],[0.6,\"rgb(209,229,240)\"],[0.7,\"rgb(146,197,222)\"],[0.8,\"rgb(67,147,195)\"],[0.9,\"rgb(33,102,172)\"],[1.0,\"rgb(5,48,97)\"]]},\"legend\":{\"tracegroupgap\":0},\"margin\":{\"t\":60}},                        {\"responsive\": true}                    ).then(function(){\n",
       "                            \n",
       "var gd = document.getElementById('e9696f7a-154c-44b1-9936-f43173aa779b');\n",
       "var x = new MutationObserver(function (mutations, observer) {{\n",
       "        var display = window.getComputedStyle(gd).display;\n",
       "        if (!display || display === 'none') {{\n",
       "            console.log([gd, 'removed!']);\n",
       "            Plotly.purge(gd);\n",
       "            observer.disconnect();\n",
       "        }}\n",
       "}});\n",
       "\n",
       "// Listen for the removal of the full notebook cells\n",
       "var notebookContainer = gd.closest('#notebook-container');\n",
       "if (notebookContainer) {{\n",
       "    x.observe(notebookContainer, {childList: true});\n",
       "}}\n",
       "\n",
       "// Listen for the clearing of the current output cell\n",
       "var outputEl = gd.closest('.output');\n",
       "if (outputEl) {{\n",
       "    x.observe(outputEl, {childList: true});\n",
       "}}\n",
       "\n",
       "                        })                };                });            </script>        </div>"
      ]
     },
     "metadata": {},
     "output_type": "display_data"
    }
   ],
   "source": [
    "px.scatter(x=pca_profile[:, 0], y=pca_profile[:, 1], hover_name=df[\"model\"], opacity=1.0, color=df[\"num_param\"], color_continuous_scale=\"RdBu\")"
   ]
  },
  {
   "cell_type": "code",
   "execution_count": 116,
   "id": "ac94a361-8621-4b1f-832e-854c07005b50",
   "metadata": {},
   "outputs": [
    {
     "data": {
      "application/vnd.plotly.v1+json": {
       "config": {
        "plotlyServerURL": "https://plot.ly"
       },
       "data": [
        {
         "hovertemplate": "variable=wide_variable_0<br>index=%{x}<br>value=%{y}<extra></extra>",
         "legendgroup": "wide_variable_0",
         "line": {
          "color": "#636efa",
          "dash": "solid"
         },
         "marker": {
          "symbol": "circle"
         },
         "mode": "lines",
         "name": "wide_variable_0",
         "orientation": "v",
         "showlegend": true,
         "type": "scatter",
         "visible": "legendonly",
         "x": [
          0,
          1,
          2,
          3,
          4,
          5,
          6,
          7,
          8
         ],
         "xaxis": "x",
         "y": [
          -0.3223389052189354,
          -0.3205390404423163,
          -0.3095816035027189,
          -0.31193268234281407,
          -0.3042186589333762,
          -0.3357019804894152,
          -0.31300119457064884,
          -0.3375322156139126,
          -0.4278633305929031
         ],
         "yaxis": "y"
        },
        {
         "hovertemplate": "variable=wide_variable_1<br>index=%{x}<br>value=%{y}<extra></extra>",
         "legendgroup": "wide_variable_1",
         "line": {
          "color": "#EF553B",
          "dash": "solid"
         },
         "marker": {
          "symbol": "circle"
         },
         "mode": "lines",
         "name": "wide_variable_1",
         "orientation": "v",
         "showlegend": true,
         "type": "scatter",
         "visible": "legendonly",
         "x": [
          0,
          1,
          2,
          3,
          4,
          5,
          6,
          7,
          8
         ],
         "xaxis": "x",
         "y": [
          0.23479898914575195,
          0.10958060468159563,
          0.1945058516999521,
          0.1421926683162785,
          0.1593543119041648,
          0.11918152455737549,
          0.14089870977159497,
          0.10581979860689644,
          -0.896750765706139
         ],
         "yaxis": "y"
        },
        {
         "hovertemplate": "variable=wide_variable_2<br>index=%{x}<br>value=%{y}<extra></extra>",
         "legendgroup": "wide_variable_2",
         "line": {
          "color": "#00cc96",
          "dash": "solid"
         },
         "marker": {
          "symbol": "circle"
         },
         "mode": "lines",
         "name": "wide_variable_2",
         "orientation": "v",
         "showlegend": true,
         "type": "scatter",
         "visible": "legendonly",
         "x": [
          0,
          1,
          2,
          3,
          4,
          5,
          6,
          7,
          8
         ],
         "xaxis": "x",
         "y": [
          0.24400879029661074,
          0.3894124208924449,
          0.41398375123789144,
          0.11275632903742704,
          0.13123184094917673,
          -0.4503496334874808,
          -0.38952224583616046,
          -0.4782626767437466,
          0.06497525880763291
         ],
         "yaxis": "y"
        },
        {
         "hovertemplate": "variable=wide_variable_3<br>index=%{x}<br>value=%{y}<extra></extra>",
         "legendgroup": "wide_variable_3",
         "line": {
          "color": "#ab63fa",
          "dash": "solid"
         },
         "marker": {
          "symbol": "circle"
         },
         "mode": "lines",
         "name": "wide_variable_3",
         "orientation": "v",
         "showlegend": true,
         "type": "scatter",
         "visible": true,
         "x": [
          0,
          1,
          2,
          3,
          4,
          5,
          6,
          7,
          8
         ],
         "xaxis": "x",
         "y": [
          0.45705639122452396,
          0.39485042626468897,
          -0.07363019959477321,
          -0.3800674776237537,
          -0.6827644070853721,
          0.07759949894180722,
          0.04221382295511271,
          0.106531507146089,
          -0.0001248911452858964
         ],
         "yaxis": "y"
        }
       ],
       "layout": {
        "autosize": true,
        "legend": {
         "title": {
          "text": "variable"
         },
         "tracegroupgap": 0
        },
        "margin": {
         "t": 60
        },
        "template": {
         "data": {
          "bar": [
           {
            "error_x": {
             "color": "#2a3f5f"
            },
            "error_y": {
             "color": "#2a3f5f"
            },
            "marker": {
             "line": {
              "color": "#E5ECF6",
              "width": 0.5
             },
             "pattern": {
              "fillmode": "overlay",
              "size": 10,
              "solidity": 0.2
             }
            },
            "type": "bar"
           }
          ],
          "barpolar": [
           {
            "marker": {
             "line": {
              "color": "#E5ECF6",
              "width": 0.5
             },
             "pattern": {
              "fillmode": "overlay",
              "size": 10,
              "solidity": 0.2
             }
            },
            "type": "barpolar"
           }
          ],
          "carpet": [
           {
            "aaxis": {
             "endlinecolor": "#2a3f5f",
             "gridcolor": "white",
             "linecolor": "white",
             "minorgridcolor": "white",
             "startlinecolor": "#2a3f5f"
            },
            "baxis": {
             "endlinecolor": "#2a3f5f",
             "gridcolor": "white",
             "linecolor": "white",
             "minorgridcolor": "white",
             "startlinecolor": "#2a3f5f"
            },
            "type": "carpet"
           }
          ],
          "choropleth": [
           {
            "colorbar": {
             "outlinewidth": 0,
             "ticks": ""
            },
            "type": "choropleth"
           }
          ],
          "contour": [
           {
            "colorbar": {
             "outlinewidth": 0,
             "ticks": ""
            },
            "colorscale": [
             [
              0,
              "#0d0887"
             ],
             [
              0.1111111111111111,
              "#46039f"
             ],
             [
              0.2222222222222222,
              "#7201a8"
             ],
             [
              0.3333333333333333,
              "#9c179e"
             ],
             [
              0.4444444444444444,
              "#bd3786"
             ],
             [
              0.5555555555555556,
              "#d8576b"
             ],
             [
              0.6666666666666666,
              "#ed7953"
             ],
             [
              0.7777777777777778,
              "#fb9f3a"
             ],
             [
              0.8888888888888888,
              "#fdca26"
             ],
             [
              1,
              "#f0f921"
             ]
            ],
            "type": "contour"
           }
          ],
          "contourcarpet": [
           {
            "colorbar": {
             "outlinewidth": 0,
             "ticks": ""
            },
            "type": "contourcarpet"
           }
          ],
          "heatmap": [
           {
            "colorbar": {
             "outlinewidth": 0,
             "ticks": ""
            },
            "colorscale": [
             [
              0,
              "#0d0887"
             ],
             [
              0.1111111111111111,
              "#46039f"
             ],
             [
              0.2222222222222222,
              "#7201a8"
             ],
             [
              0.3333333333333333,
              "#9c179e"
             ],
             [
              0.4444444444444444,
              "#bd3786"
             ],
             [
              0.5555555555555556,
              "#d8576b"
             ],
             [
              0.6666666666666666,
              "#ed7953"
             ],
             [
              0.7777777777777778,
              "#fb9f3a"
             ],
             [
              0.8888888888888888,
              "#fdca26"
             ],
             [
              1,
              "#f0f921"
             ]
            ],
            "type": "heatmap"
           }
          ],
          "heatmapgl": [
           {
            "colorbar": {
             "outlinewidth": 0,
             "ticks": ""
            },
            "colorscale": [
             [
              0,
              "#0d0887"
             ],
             [
              0.1111111111111111,
              "#46039f"
             ],
             [
              0.2222222222222222,
              "#7201a8"
             ],
             [
              0.3333333333333333,
              "#9c179e"
             ],
             [
              0.4444444444444444,
              "#bd3786"
             ],
             [
              0.5555555555555556,
              "#d8576b"
             ],
             [
              0.6666666666666666,
              "#ed7953"
             ],
             [
              0.7777777777777778,
              "#fb9f3a"
             ],
             [
              0.8888888888888888,
              "#fdca26"
             ],
             [
              1,
              "#f0f921"
             ]
            ],
            "type": "heatmapgl"
           }
          ],
          "histogram": [
           {
            "marker": {
             "pattern": {
              "fillmode": "overlay",
              "size": 10,
              "solidity": 0.2
             }
            },
            "type": "histogram"
           }
          ],
          "histogram2d": [
           {
            "colorbar": {
             "outlinewidth": 0,
             "ticks": ""
            },
            "colorscale": [
             [
              0,
              "#0d0887"
             ],
             [
              0.1111111111111111,
              "#46039f"
             ],
             [
              0.2222222222222222,
              "#7201a8"
             ],
             [
              0.3333333333333333,
              "#9c179e"
             ],
             [
              0.4444444444444444,
              "#bd3786"
             ],
             [
              0.5555555555555556,
              "#d8576b"
             ],
             [
              0.6666666666666666,
              "#ed7953"
             ],
             [
              0.7777777777777778,
              "#fb9f3a"
             ],
             [
              0.8888888888888888,
              "#fdca26"
             ],
             [
              1,
              "#f0f921"
             ]
            ],
            "type": "histogram2d"
           }
          ],
          "histogram2dcontour": [
           {
            "colorbar": {
             "outlinewidth": 0,
             "ticks": ""
            },
            "colorscale": [
             [
              0,
              "#0d0887"
             ],
             [
              0.1111111111111111,
              "#46039f"
             ],
             [
              0.2222222222222222,
              "#7201a8"
             ],
             [
              0.3333333333333333,
              "#9c179e"
             ],
             [
              0.4444444444444444,
              "#bd3786"
             ],
             [
              0.5555555555555556,
              "#d8576b"
             ],
             [
              0.6666666666666666,
              "#ed7953"
             ],
             [
              0.7777777777777778,
              "#fb9f3a"
             ],
             [
              0.8888888888888888,
              "#fdca26"
             ],
             [
              1,
              "#f0f921"
             ]
            ],
            "type": "histogram2dcontour"
           }
          ],
          "mesh3d": [
           {
            "colorbar": {
             "outlinewidth": 0,
             "ticks": ""
            },
            "type": "mesh3d"
           }
          ],
          "parcoords": [
           {
            "line": {
             "colorbar": {
              "outlinewidth": 0,
              "ticks": ""
             }
            },
            "type": "parcoords"
           }
          ],
          "pie": [
           {
            "automargin": true,
            "type": "pie"
           }
          ],
          "scatter": [
           {
            "fillpattern": {
             "fillmode": "overlay",
             "size": 10,
             "solidity": 0.2
            },
            "type": "scatter"
           }
          ],
          "scatter3d": [
           {
            "line": {
             "colorbar": {
              "outlinewidth": 0,
              "ticks": ""
             }
            },
            "marker": {
             "colorbar": {
              "outlinewidth": 0,
              "ticks": ""
             }
            },
            "type": "scatter3d"
           }
          ],
          "scattercarpet": [
           {
            "marker": {
             "colorbar": {
              "outlinewidth": 0,
              "ticks": ""
             }
            },
            "type": "scattercarpet"
           }
          ],
          "scattergeo": [
           {
            "marker": {
             "colorbar": {
              "outlinewidth": 0,
              "ticks": ""
             }
            },
            "type": "scattergeo"
           }
          ],
          "scattergl": [
           {
            "marker": {
             "colorbar": {
              "outlinewidth": 0,
              "ticks": ""
             }
            },
            "type": "scattergl"
           }
          ],
          "scattermapbox": [
           {
            "marker": {
             "colorbar": {
              "outlinewidth": 0,
              "ticks": ""
             }
            },
            "type": "scattermapbox"
           }
          ],
          "scatterpolar": [
           {
            "marker": {
             "colorbar": {
              "outlinewidth": 0,
              "ticks": ""
             }
            },
            "type": "scatterpolar"
           }
          ],
          "scatterpolargl": [
           {
            "marker": {
             "colorbar": {
              "outlinewidth": 0,
              "ticks": ""
             }
            },
            "type": "scatterpolargl"
           }
          ],
          "scatterternary": [
           {
            "marker": {
             "colorbar": {
              "outlinewidth": 0,
              "ticks": ""
             }
            },
            "type": "scatterternary"
           }
          ],
          "surface": [
           {
            "colorbar": {
             "outlinewidth": 0,
             "ticks": ""
            },
            "colorscale": [
             [
              0,
              "#0d0887"
             ],
             [
              0.1111111111111111,
              "#46039f"
             ],
             [
              0.2222222222222222,
              "#7201a8"
             ],
             [
              0.3333333333333333,
              "#9c179e"
             ],
             [
              0.4444444444444444,
              "#bd3786"
             ],
             [
              0.5555555555555556,
              "#d8576b"
             ],
             [
              0.6666666666666666,
              "#ed7953"
             ],
             [
              0.7777777777777778,
              "#fb9f3a"
             ],
             [
              0.8888888888888888,
              "#fdca26"
             ],
             [
              1,
              "#f0f921"
             ]
            ],
            "type": "surface"
           }
          ],
          "table": [
           {
            "cells": {
             "fill": {
              "color": "#EBF0F8"
             },
             "line": {
              "color": "white"
             }
            },
            "header": {
             "fill": {
              "color": "#C8D4E3"
             },
             "line": {
              "color": "white"
             }
            },
            "type": "table"
           }
          ]
         },
         "layout": {
          "annotationdefaults": {
           "arrowcolor": "#2a3f5f",
           "arrowhead": 0,
           "arrowwidth": 1
          },
          "autotypenumbers": "strict",
          "coloraxis": {
           "colorbar": {
            "outlinewidth": 0,
            "ticks": ""
           }
          },
          "colorscale": {
           "diverging": [
            [
             0,
             "#8e0152"
            ],
            [
             0.1,
             "#c51b7d"
            ],
            [
             0.2,
             "#de77ae"
            ],
            [
             0.3,
             "#f1b6da"
            ],
            [
             0.4,
             "#fde0ef"
            ],
            [
             0.5,
             "#f7f7f7"
            ],
            [
             0.6,
             "#e6f5d0"
            ],
            [
             0.7,
             "#b8e186"
            ],
            [
             0.8,
             "#7fbc41"
            ],
            [
             0.9,
             "#4d9221"
            ],
            [
             1,
             "#276419"
            ]
           ],
           "sequential": [
            [
             0,
             "#0d0887"
            ],
            [
             0.1111111111111111,
             "#46039f"
            ],
            [
             0.2222222222222222,
             "#7201a8"
            ],
            [
             0.3333333333333333,
             "#9c179e"
            ],
            [
             0.4444444444444444,
             "#bd3786"
            ],
            [
             0.5555555555555556,
             "#d8576b"
            ],
            [
             0.6666666666666666,
             "#ed7953"
            ],
            [
             0.7777777777777778,
             "#fb9f3a"
            ],
            [
             0.8888888888888888,
             "#fdca26"
            ],
            [
             1,
             "#f0f921"
            ]
           ],
           "sequentialminus": [
            [
             0,
             "#0d0887"
            ],
            [
             0.1111111111111111,
             "#46039f"
            ],
            [
             0.2222222222222222,
             "#7201a8"
            ],
            [
             0.3333333333333333,
             "#9c179e"
            ],
            [
             0.4444444444444444,
             "#bd3786"
            ],
            [
             0.5555555555555556,
             "#d8576b"
            ],
            [
             0.6666666666666666,
             "#ed7953"
            ],
            [
             0.7777777777777778,
             "#fb9f3a"
            ],
            [
             0.8888888888888888,
             "#fdca26"
            ],
            [
             1,
             "#f0f921"
            ]
           ]
          },
          "colorway": [
           "#636efa",
           "#EF553B",
           "#00cc96",
           "#ab63fa",
           "#FFA15A",
           "#19d3f3",
           "#FF6692",
           "#B6E880",
           "#FF97FF",
           "#FECB52"
          ],
          "font": {
           "color": "#2a3f5f"
          },
          "geo": {
           "bgcolor": "white",
           "lakecolor": "white",
           "landcolor": "#E5ECF6",
           "showlakes": true,
           "showland": true,
           "subunitcolor": "white"
          },
          "hoverlabel": {
           "align": "left"
          },
          "hovermode": "closest",
          "mapbox": {
           "style": "light"
          },
          "paper_bgcolor": "white",
          "plot_bgcolor": "#E5ECF6",
          "polar": {
           "angularaxis": {
            "gridcolor": "white",
            "linecolor": "white",
            "ticks": ""
           },
           "bgcolor": "#E5ECF6",
           "radialaxis": {
            "gridcolor": "white",
            "linecolor": "white",
            "ticks": ""
           }
          },
          "scene": {
           "xaxis": {
            "backgroundcolor": "#E5ECF6",
            "gridcolor": "white",
            "gridwidth": 2,
            "linecolor": "white",
            "showbackground": true,
            "ticks": "",
            "zerolinecolor": "white"
           },
           "yaxis": {
            "backgroundcolor": "#E5ECF6",
            "gridcolor": "white",
            "gridwidth": 2,
            "linecolor": "white",
            "showbackground": true,
            "ticks": "",
            "zerolinecolor": "white"
           },
           "zaxis": {
            "backgroundcolor": "#E5ECF6",
            "gridcolor": "white",
            "gridwidth": 2,
            "linecolor": "white",
            "showbackground": true,
            "ticks": "",
            "zerolinecolor": "white"
           }
          },
          "shapedefaults": {
           "line": {
            "color": "#2a3f5f"
           }
          },
          "ternary": {
           "aaxis": {
            "gridcolor": "white",
            "linecolor": "white",
            "ticks": ""
           },
           "baxis": {
            "gridcolor": "white",
            "linecolor": "white",
            "ticks": ""
           },
           "bgcolor": "#E5ECF6",
           "caxis": {
            "gridcolor": "white",
            "linecolor": "white",
            "ticks": ""
           }
          },
          "title": {
           "x": 0.05
          },
          "xaxis": {
           "automargin": true,
           "gridcolor": "white",
           "linecolor": "white",
           "ticks": "",
           "title": {
            "standoff": 15
           },
           "zerolinecolor": "white",
           "zerolinewidth": 2
          },
          "yaxis": {
           "automargin": true,
           "gridcolor": "white",
           "linecolor": "white",
           "ticks": "",
           "title": {
            "standoff": 15
           },
           "zerolinecolor": "white",
           "zerolinewidth": 2
          }
         }
        },
        "xaxis": {
         "anchor": "y",
         "autorange": true,
         "domain": [
          0,
          1
         ],
         "range": [
          0,
          8
         ],
         "title": {
          "text": "index"
         },
         "type": "linear"
        },
        "yaxis": {
         "anchor": "x",
         "autorange": true,
         "domain": [
          0,
          1
         ],
         "range": [
          -0.7460877847692552,
          0.5203797689084071
         ],
         "title": {
          "text": "value"
         },
         "type": "linear"
        }
       }
      },
      "image/png": "[encoded data removed]",
      "text/html": [
       "<div>                            <div id=\"5c2011e0-48a1-4522-8f35-08e0890763b7\" class=\"plotly-graph-div\" style=\"height:525px; width:100%;\"></div>            <script type=\"text/javascript\">                require([\"plotly\"], function(Plotly) {                    window.PLOTLYENV=window.PLOTLYENV || {};                                    if (document.getElementById(\"5c2011e0-48a1-4522-8f35-08e0890763b7\")) {                    Plotly.newPlot(                        \"5c2011e0-48a1-4522-8f35-08e0890763b7\",                        [{\"hovertemplate\":\"variable=wide_variable_0\\u003cbr\\u003eindex=%{x}\\u003cbr\\u003evalue=%{y}\\u003cextra\\u003e\\u003c\\u002fextra\\u003e\",\"legendgroup\":\"wide_variable_0\",\"line\":{\"color\":\"#636efa\",\"dash\":\"solid\"},\"marker\":{\"symbol\":\"circle\"},\"mode\":\"lines\",\"name\":\"wide_variable_0\",\"orientation\":\"v\",\"showlegend\":true,\"x\":[0,1,2,3,4,5,6,7,8],\"xaxis\":\"x\",\"y\":[-0.3223389052189354,-0.3205390404423163,-0.3095816035027189,-0.31193268234281407,-0.3042186589333762,-0.3357019804894152,-0.31300119457064884,-0.3375322156139126,-0.4278633305929031],\"yaxis\":\"y\",\"type\":\"scatter\"},{\"hovertemplate\":\"variable=wide_variable_1\\u003cbr\\u003eindex=%{x}\\u003cbr\\u003evalue=%{y}\\u003cextra\\u003e\\u003c\\u002fextra\\u003e\",\"legendgroup\":\"wide_variable_1\",\"line\":{\"color\":\"#EF553B\",\"dash\":\"solid\"},\"marker\":{\"symbol\":\"circle\"},\"mode\":\"lines\",\"name\":\"wide_variable_1\",\"orientation\":\"v\",\"showlegend\":true,\"x\":[0,1,2,3,4,5,6,7,8],\"xaxis\":\"x\",\"y\":[0.23479898914575195,0.10958060468159563,0.1945058516999521,0.1421926683162785,0.1593543119041648,0.11918152455737549,0.14089870977159497,0.10581979860689644,-0.896750765706139],\"yaxis\":\"y\",\"type\":\"scatter\"},{\"hovertemplate\":\"variable=wide_variable_2\\u003cbr\\u003eindex=%{x}\\u003cbr\\u003evalue=%{y}\\u003cextra\\u003e\\u003c\\u002fextra\\u003e\",\"legendgroup\":\"wide_variable_2\",\"line\":{\"color\":\"#00cc96\",\"dash\":\"solid\"},\"marker\":{\"symbol\":\"circle\"},\"mode\":\"lines\",\"name\":\"wide_variable_2\",\"orientation\":\"v\",\"showlegend\":true,\"x\":[0,1,2,3,4,5,6,7,8],\"xaxis\":\"x\",\"y\":[0.24400879029661074,0.3894124208924449,0.41398375123789144,0.11275632903742704,0.13123184094917673,-0.4503496334874808,-0.38952224583616046,-0.4782626767437466,0.06497525880763291],\"yaxis\":\"y\",\"type\":\"scatter\"},{\"hovertemplate\":\"variable=wide_variable_3\\u003cbr\\u003eindex=%{x}\\u003cbr\\u003evalue=%{y}\\u003cextra\\u003e\\u003c\\u002fextra\\u003e\",\"legendgroup\":\"wide_variable_3\",\"line\":{\"color\":\"#ab63fa\",\"dash\":\"solid\"},\"marker\":{\"symbol\":\"circle\"},\"mode\":\"lines\",\"name\":\"wide_variable_3\",\"orientation\":\"v\",\"showlegend\":true,\"x\":[0,1,2,3,4,5,6,7,8],\"xaxis\":\"x\",\"y\":[0.45705639122452396,0.39485042626468897,-0.07363019959477321,-0.3800674776237537,-0.6827644070853721,0.07759949894180722,0.04221382295511271,0.106531507146089,-0.0001248911452858964],\"yaxis\":\"y\",\"type\":\"scatter\"}],                        {\"template\":{\"data\":{\"histogram2dcontour\":[{\"type\":\"histogram2dcontour\",\"colorbar\":{\"outlinewidth\":0,\"ticks\":\"\"},\"colorscale\":[[0.0,\"#0d0887\"],[0.1111111111111111,\"#46039f\"],[0.2222222222222222,\"#7201a8\"],[0.3333333333333333,\"#9c179e\"],[0.4444444444444444,\"#bd3786\"],[0.5555555555555556,\"#d8576b\"],[0.6666666666666666,\"#ed7953\"],[0.7777777777777778,\"#fb9f3a\"],[0.8888888888888888,\"#fdca26\"],[1.0,\"#f0f921\"]]}],\"choropleth\":[{\"type\":\"choropleth\",\"colorbar\":{\"outlinewidth\":0,\"ticks\":\"\"}}],\"histogram2d\":[{\"type\":\"histogram2d\",\"colorbar\":{\"outlinewidth\":0,\"ticks\":\"\"},\"colorscale\":[[0.0,\"#0d0887\"],[0.1111111111111111,\"#46039f\"],[0.2222222222222222,\"#7201a8\"],[0.3333333333333333,\"#9c179e\"],[0.4444444444444444,\"#bd3786\"],[0.5555555555555556,\"#d8576b\"],[0.6666666666666666,\"#ed7953\"],[0.7777777777777778,\"#fb9f3a\"],[0.8888888888888888,\"#fdca26\"],[1.0,\"#f0f921\"]]}],\"heatmap\":[{\"type\":\"heatmap\",\"colorbar\":{\"outlinewidth\":0,\"ticks\":\"\"},\"colorscale\":[[0.0,\"#0d0887\"],[0.1111111111111111,\"#46039f\"],[0.2222222222222222,\"#7201a8\"],[0.3333333333333333,\"#9c179e\"],[0.4444444444444444,\"#bd3786\"],[0.5555555555555556,\"#d8576b\"],[0.6666666666666666,\"#ed7953\"],[0.7777777777777778,\"#fb9f3a\"],[0.8888888888888888,\"#fdca26\"],[1.0,\"#f0f921\"]]}],\"heatmapgl\":[{\"type\":\"heatmapgl\",\"colorbar\":{\"outlinewidth\":0,\"ticks\":\"\"},\"colorscale\":[[0.0,\"#0d0887\"],[0.1111111111111111,\"#46039f\"],[0.2222222222222222,\"#7201a8\"],[0.3333333333333333,\"#9c179e\"],[0.4444444444444444,\"#bd3786\"],[0.5555555555555556,\"#d8576b\"],[0.6666666666666666,\"#ed7953\"],[0.7777777777777778,\"#fb9f3a\"],[0.8888888888888888,\"#fdca26\"],[1.0,\"#f0f921\"]]}],\"contourcarpet\":[{\"type\":\"contourcarpet\",\"colorbar\":{\"outlinewidth\":0,\"ticks\":\"\"}}],\"contour\":[{\"type\":\"contour\",\"colorbar\":{\"outlinewidth\":0,\"ticks\":\"\"},\"colorscale\":[[0.0,\"#0d0887\"],[0.1111111111111111,\"#46039f\"],[0.2222222222222222,\"#7201a8\"],[0.3333333333333333,\"#9c179e\"],[0.4444444444444444,\"#bd3786\"],[0.5555555555555556,\"#d8576b\"],[0.6666666666666666,\"#ed7953\"],[0.7777777777777778,\"#fb9f3a\"],[0.8888888888888888,\"#fdca26\"],[1.0,\"#f0f921\"]]}],\"surface\":[{\"type\":\"surface\",\"colorbar\":{\"outlinewidth\":0,\"ticks\":\"\"},\"colorscale\":[[0.0,\"#0d0887\"],[0.1111111111111111,\"#46039f\"],[0.2222222222222222,\"#7201a8\"],[0.3333333333333333,\"#9c179e\"],[0.4444444444444444,\"#bd3786\"],[0.5555555555555556,\"#d8576b\"],[0.6666666666666666,\"#ed7953\"],[0.7777777777777778,\"#fb9f3a\"],[0.8888888888888888,\"#fdca26\"],[1.0,\"#f0f921\"]]}],\"mesh3d\":[{\"type\":\"mesh3d\",\"colorbar\":{\"outlinewidth\":0,\"ticks\":\"\"}}],\"scatter\":[{\"fillpattern\":{\"fillmode\":\"overlay\",\"size\":10,\"solidity\":0.2},\"type\":\"scatter\"}],\"parcoords\":[{\"type\":\"parcoords\",\"line\":{\"colorbar\":{\"outlinewidth\":0,\"ticks\":\"\"}}}],\"scatterpolargl\":[{\"type\":\"scatterpolargl\",\"marker\":{\"colorbar\":{\"outlinewidth\":0,\"ticks\":\"\"}}}],\"bar\":[{\"error_x\":{\"color\":\"#2a3f5f\"},\"error_y\":{\"color\":\"#2a3f5f\"},\"marker\":{\"line\":{\"color\":\"#E5ECF6\",\"width\":0.5},\"pattern\":{\"fillmode\":\"overlay\",\"size\":10,\"solidity\":0.2}},\"type\":\"bar\"}],\"scattergeo\":[{\"type\":\"scattergeo\",\"marker\":{\"colorbar\":{\"outlinewidth\":0,\"ticks\":\"\"}}}],\"scatterpolar\":[{\"type\":\"scatterpolar\",\"marker\":{\"colorbar\":{\"outlinewidth\":0,\"ticks\":\"\"}}}],\"histogram\":[{\"marker\":{\"pattern\":{\"fillmode\":\"overlay\",\"size\":10,\"solidity\":0.2}},\"type\":\"histogram\"}],\"scattergl\":[{\"type\":\"scattergl\",\"marker\":{\"colorbar\":{\"outlinewidth\":0,\"ticks\":\"\"}}}],\"scatter3d\":[{\"type\":\"scatter3d\",\"line\":{\"colorbar\":{\"outlinewidth\":0,\"ticks\":\"\"}},\"marker\":{\"colorbar\":{\"outlinewidth\":0,\"ticks\":\"\"}}}],\"scattermapbox\":[{\"type\":\"scattermapbox\",\"marker\":{\"colorbar\":{\"outlinewidth\":0,\"ticks\":\"\"}}}],\"scatterternary\":[{\"type\":\"scatterternary\",\"marker\":{\"colorbar\":{\"outlinewidth\":0,\"ticks\":\"\"}}}],\"scattercarpet\":[{\"type\":\"scattercarpet\",\"marker\":{\"colorbar\":{\"outlinewidth\":0,\"ticks\":\"\"}}}],\"carpet\":[{\"aaxis\":{\"endlinecolor\":\"#2a3f5f\",\"gridcolor\":\"white\",\"linecolor\":\"white\",\"minorgridcolor\":\"white\",\"startlinecolor\":\"#2a3f5f\"},\"baxis\":{\"endlinecolor\":\"#2a3f5f\",\"gridcolor\":\"white\",\"linecolor\":\"white\",\"minorgridcolor\":\"white\",\"startlinecolor\":\"#2a3f5f\"},\"type\":\"carpet\"}],\"table\":[{\"cells\":{\"fill\":{\"color\":\"#EBF0F8\"},\"line\":{\"color\":\"white\"}},\"header\":{\"fill\":{\"color\":\"#C8D4E3\"},\"line\":{\"color\":\"white\"}},\"type\":\"table\"}],\"barpolar\":[{\"marker\":{\"line\":{\"color\":\"#E5ECF6\",\"width\":0.5},\"pattern\":{\"fillmode\":\"overlay\",\"size\":10,\"solidity\":0.2}},\"type\":\"barpolar\"}],\"pie\":[{\"automargin\":true,\"type\":\"pie\"}]},\"layout\":{\"autotypenumbers\":\"strict\",\"colorway\":[\"#636efa\",\"#EF553B\",\"#00cc96\",\"#ab63fa\",\"#FFA15A\",\"#19d3f3\",\"#FF6692\",\"#B6E880\",\"#FF97FF\",\"#FECB52\"],\"font\":{\"color\":\"#2a3f5f\"},\"hovermode\":\"closest\",\"hoverlabel\":{\"align\":\"left\"},\"paper_bgcolor\":\"white\",\"plot_bgcolor\":\"#E5ECF6\",\"polar\":{\"bgcolor\":\"#E5ECF6\",\"angularaxis\":{\"gridcolor\":\"white\",\"linecolor\":\"white\",\"ticks\":\"\"},\"radialaxis\":{\"gridcolor\":\"white\",\"linecolor\":\"white\",\"ticks\":\"\"}},\"ternary\":{\"bgcolor\":\"#E5ECF6\",\"aaxis\":{\"gridcolor\":\"white\",\"linecolor\":\"white\",\"ticks\":\"\"},\"baxis\":{\"gridcolor\":\"white\",\"linecolor\":\"white\",\"ticks\":\"\"},\"caxis\":{\"gridcolor\":\"white\",\"linecolor\":\"white\",\"ticks\":\"\"}},\"coloraxis\":{\"colorbar\":{\"outlinewidth\":0,\"ticks\":\"\"}},\"colorscale\":{\"sequential\":[[0.0,\"#0d0887\"],[0.1111111111111111,\"#46039f\"],[0.2222222222222222,\"#7201a8\"],[0.3333333333333333,\"#9c179e\"],[0.4444444444444444,\"#bd3786\"],[0.5555555555555556,\"#d8576b\"],[0.6666666666666666,\"#ed7953\"],[0.7777777777777778,\"#fb9f3a\"],[0.8888888888888888,\"#fdca26\"],[1.0,\"#f0f921\"]],\"sequentialminus\":[[0.0,\"#0d0887\"],[0.1111111111111111,\"#46039f\"],[0.2222222222222222,\"#7201a8\"],[0.3333333333333333,\"#9c179e\"],[0.4444444444444444,\"#bd3786\"],[0.5555555555555556,\"#d8576b\"],[0.6666666666666666,\"#ed7953\"],[0.7777777777777778,\"#fb9f3a\"],[0.8888888888888888,\"#fdca26\"],[1.0,\"#f0f921\"]],\"diverging\":[[0,\"#8e0152\"],[0.1,\"#c51b7d\"],[0.2,\"#de77ae\"],[0.3,\"#f1b6da\"],[0.4,\"#fde0ef\"],[0.5,\"#f7f7f7\"],[0.6,\"#e6f5d0\"],[0.7,\"#b8e186\"],[0.8,\"#7fbc41\"],[0.9,\"#4d9221\"],[1,\"#276419\"]]},\"xaxis\":{\"gridcolor\":\"white\",\"linecolor\":\"white\",\"ticks\":\"\",\"title\":{\"standoff\":15},\"zerolinecolor\":\"white\",\"automargin\":true,\"zerolinewidth\":2},\"yaxis\":{\"gridcolor\":\"white\",\"linecolor\":\"white\",\"ticks\":\"\",\"title\":{\"standoff\":15},\"zerolinecolor\":\"white\",\"automargin\":true,\"zerolinewidth\":2},\"scene\":{\"xaxis\":{\"backgroundcolor\":\"#E5ECF6\",\"gridcolor\":\"white\",\"linecolor\":\"white\",\"showbackground\":true,\"ticks\":\"\",\"zerolinecolor\":\"white\",\"gridwidth\":2},\"yaxis\":{\"backgroundcolor\":\"#E5ECF6\",\"gridcolor\":\"white\",\"linecolor\":\"white\",\"showbackground\":true,\"ticks\":\"\",\"zerolinecolor\":\"white\",\"gridwidth\":2},\"zaxis\":{\"backgroundcolor\":\"#E5ECF6\",\"gridcolor\":\"white\",\"linecolor\":\"white\",\"showbackground\":true,\"ticks\":\"\",\"zerolinecolor\":\"white\",\"gridwidth\":2}},\"shapedefaults\":{\"line\":{\"color\":\"#2a3f5f\"}},\"annotationdefaults\":{\"arrowcolor\":\"#2a3f5f\",\"arrowhead\":0,\"arrowwidth\":1},\"geo\":{\"bgcolor\":\"white\",\"landcolor\":\"#E5ECF6\",\"subunitcolor\":\"white\",\"showland\":true,\"showlakes\":true,\"lakecolor\":\"white\"},\"title\":{\"x\":0.05},\"mapbox\":{\"style\":\"light\"}}},\"xaxis\":{\"anchor\":\"y\",\"domain\":[0.0,1.0],\"title\":{\"text\":\"index\"}},\"yaxis\":{\"anchor\":\"x\",\"domain\":[0.0,1.0],\"title\":{\"text\":\"value\"}},\"legend\":{\"title\":{\"text\":\"variable\"},\"tracegroupgap\":0},\"margin\":{\"t\":60}},                        {\"responsive\": true}                    ).then(function(){\n",
       "                            \n",
       "var gd = document.getElementById('5c2011e0-48a1-4522-8f35-08e0890763b7');\n",
       "var x = new MutationObserver(function (mutations, observer) {{\n",
       "        var display = window.getComputedStyle(gd).display;\n",
       "        if (!display || display === 'none') {{\n",
       "            console.log([gd, 'removed!']);\n",
       "            Plotly.purge(gd);\n",
       "            observer.disconnect();\n",
       "        }}\n",
       "}});\n",
       "\n",
       "// Listen for the removal of the full notebook cells\n",
       "var notebookContainer = gd.closest('#notebook-container');\n",
       "if (notebookContainer) {{\n",
       "    x.observe(notebookContainer, {childList: true});\n",
       "}}\n",
       "\n",
       "// Listen for the clearing of the current output cell\n",
       "var outputEl = gd.closest('.output');\n",
       "if (outputEl) {{\n",
       "    x.observe(outputEl, {childList: true});\n",
       "}}\n",
       "\n",
       "                        })                };                });            </script>        </div>"
      ]
     },
     "metadata": {},
     "output_type": "display_data"
    }
   ],
   "source": [
    "px.line(y=[pca.components_[i] for i in range(4)])"
   ]
  },
  {
   "cell_type": "code",
   "execution_count": 122,
   "id": "beb157aa-d19e-4d95-a6b9-b3cfbe4542e6",
   "metadata": {},
   "outputs": [
    {
     "data": {
      "application/vnd.plotly.v1+json": {
       "config": {
        "plotlyServerURL": "https://plot.ly"
       },
       "data": [
        {
         "hovertemplate": "variable=wide_variable_0<br>index=%{x}<br>value=%{y}<extra></extra>",
         "legendgroup": "wide_variable_0",
         "line": {
          "color": "#636efa",
          "dash": "solid"
         },
         "marker": {
          "symbol": "circle"
         },
         "mode": "lines",
         "name": "wide_variable_0",
         "orientation": "v",
         "showlegend": true,
         "type": "scatter",
         "x": [
          0,
          1,
          2,
          3,
          4,
          5,
          6,
          7,
          8
         ],
         "xaxis": "x",
         "y": [
          0.6295362903225806,
          0.6673387096774194,
          0.688508064516129,
          0.6769153225806451,
          0.7777217741935484,
          0.717741935483871,
          0.7565524193548387,
          0.688508064516129,
          0.7842741935483871
         ],
         "yaxis": "y"
        },
        {
         "hovertemplate": "variable=wide_variable_1<br>index=%{x}<br>value=%{y}<extra></extra>",
         "legendgroup": "wide_variable_1",
         "line": {
          "color": "#EF553B",
          "dash": "solid"
         },
         "marker": {
          "symbol": "circle"
         },
         "mode": "lines",
         "name": "wide_variable_1",
         "orientation": "v",
         "showlegend": true,
         "type": "scatter",
         "x": [
          0,
          1,
          2,
          3,
          4,
          5,
          6,
          7,
          8
         ],
         "xaxis": "x",
         "y": [
          0.6090425531914894,
          0.5877659574468085,
          0.6100398936170213,
          0.5904255319148937,
          0.648936170212766,
          0.5874335106382979,
          0.6366356382978723,
          0.5907579787234043,
          0.6446143617021277
         ],
         "yaxis": "y"
        },
        {
         "hovertemplate": "variable=wide_variable_2<br>index=%{x}<br>value=%{y}<extra></extra>",
         "legendgroup": "wide_variable_2",
         "line": {
          "color": "#00cc96",
          "dash": "solid"
         },
         "marker": {
          "symbol": "circle"
         },
         "mode": "lines",
         "name": "wide_variable_2",
         "orientation": "v",
         "showlegend": true,
         "type": "scatter",
         "x": [
          0,
          1,
          2,
          3,
          4,
          5,
          6,
          7,
          8
         ],
         "xaxis": "x",
         "y": [
          0.6259973404255319,
          0.6795212765957447,
          0.6628989361702128,
          0.645279255319149,
          0.6499335106382979,
          0.6502659574468085,
          0.6559175531914894,
          0.6545877659574468,
          0.6565824468085106
         ],
         "yaxis": "y"
        },
        {
         "hovertemplate": "variable=wide_variable_3<br>index=%{x}<br>value=%{y}<extra></extra>",
         "legendgroup": "wide_variable_3",
         "line": {
          "color": "#ab63fa",
          "dash": "solid"
         },
         "marker": {
          "symbol": "circle"
         },
         "mode": "lines",
         "name": "wide_variable_3",
         "orientation": "v",
         "showlegend": true,
         "type": "scatter",
         "x": [
          0,
          1,
          2,
          3,
          4,
          5,
          6,
          7,
          8
         ],
         "xaxis": "x",
         "y": [
          0.7293346774193549,
          0.7721774193548387,
          0.8004032258064516,
          0.8084677419354839,
          0.8180443548387096,
          0.8230846774193549,
          0.8276209677419355,
          0.8286290322580645,
          0.828125
         ],
         "yaxis": "y"
        },
        {
         "hovertemplate": "variable=wide_variable_4<br>index=%{x}<br>value=%{y}<extra></extra>",
         "legendgroup": "wide_variable_4",
         "line": {
          "color": "#FFA15A",
          "dash": "solid"
         },
         "marker": {
          "symbol": "circle"
         },
         "mode": "lines",
         "name": "wide_variable_4",
         "orientation": "v",
         "showlegend": true,
         "type": "scatter",
         "x": [
          0,
          1,
          2,
          3,
          4,
          5,
          6,
          7,
          8
         ],
         "xaxis": "x",
         "y": [
          0.6389627659574468,
          0.6449468085106383,
          0.6416223404255319,
          0.6539228723404256,
          0.6545877659574468,
          0.636968085106383,
          0.645279255319149,
          0.6496010638297872,
          0.652593085106383
         ],
         "yaxis": "y"
        },
        {
         "hovertemplate": "variable=wide_variable_5<br>index=%{x}<br>value=%{y}<extra></extra>",
         "legendgroup": "wide_variable_5",
         "line": {
          "color": "#19d3f3",
          "dash": "solid"
         },
         "marker": {
          "symbol": "circle"
         },
         "mode": "lines",
         "name": "wide_variable_5",
         "orientation": "v",
         "showlegend": true,
         "type": "scatter",
         "x": [
          0,
          1,
          2,
          3,
          4,
          5,
          6,
          7,
          8
         ],
         "xaxis": "x",
         "y": [
          0.7323588709677419,
          0.719758064516129,
          0.7283266129032258,
          0.7615927419354839,
          0.7817540322580645,
          0.7071572580645161,
          0.7585685483870968,
          0.7610887096774194,
          0.7777217741935484
         ],
         "yaxis": "y"
        },
        {
         "hovertemplate": "variable=wide_variable_6<br>index=%{x}<br>value=%{y}<extra></extra>",
         "legendgroup": "wide_variable_6",
         "line": {
          "color": "#FF6692",
          "dash": "solid"
         },
         "marker": {
          "symbol": "circle"
         },
         "mode": "lines",
         "name": "wide_variable_6",
         "orientation": "v",
         "showlegend": true,
         "type": "scatter",
         "x": [
          0,
          1,
          2,
          3,
          4,
          5,
          6,
          7,
          8
         ],
         "xaxis": "x",
         "y": [
          0.6693548387096774,
          0.6764112903225806,
          0.7111895161290323,
          0.7016129032258065,
          0.7106854838709677,
          0.7182459677419355,
          0.7162298387096774,
          0.7242943548387096,
          0.7580645161290323
         ],
         "yaxis": "y"
        },
        {
         "hovertemplate": "variable=wide_variable_7<br>index=%{x}<br>value=%{y}<extra></extra>",
         "legendgroup": "wide_variable_7",
         "line": {
          "color": "#B6E880",
          "dash": "solid"
         },
         "marker": {
          "symbol": "circle"
         },
         "mode": "lines",
         "name": "wide_variable_7",
         "orientation": "v",
         "showlegend": true,
         "type": "scatter",
         "x": [
          0,
          1,
          2,
          3,
          4,
          5,
          6,
          7,
          8
         ],
         "xaxis": "x",
         "y": [
          0.8019153225806451,
          0.8069556451612904,
          0.8200604838709677,
          0.8200604838709677,
          0.8240927419354839,
          0.829133064516129,
          0.8518145161290323,
          0.8336693548387096,
          0.842741935483871
         ],
         "yaxis": "y"
        },
        {
         "hovertemplate": "variable=wide_variable_8<br>index=%{x}<br>value=%{y}<extra></extra>",
         "legendgroup": "wide_variable_8",
         "line": {
          "color": "#FF97FF",
          "dash": "solid"
         },
         "marker": {
          "symbol": "circle"
         },
         "mode": "lines",
         "name": "wide_variable_8",
         "orientation": "v",
         "showlegend": true,
         "type": "scatter",
         "x": [
          0,
          1,
          2,
          3,
          4,
          5,
          6,
          7,
          8
         ],
         "xaxis": "x",
         "y": [
          0.6559175531914894,
          0.6462765957446809,
          0.6389627659574468,
          0.6466090425531915,
          0.6775265957446809,
          0.6399601063829787,
          0.6545877659574468,
          0.6612367021276596,
          0.6559175531914894
         ],
         "yaxis": "y"
        },
        {
         "hovertemplate": "variable=wide_variable_9<br>index=%{x}<br>value=%{y}<extra></extra>",
         "legendgroup": "wide_variable_9",
         "line": {
          "color": "#FECB52",
          "dash": "solid"
         },
         "marker": {
          "symbol": "circle"
         },
         "mode": "lines",
         "name": "wide_variable_9",
         "orientation": "v",
         "showlegend": true,
         "type": "scatter",
         "x": [
          0,
          1,
          2,
          3,
          4,
          5,
          6,
          7,
          8
         ],
         "xaxis": "x",
         "y": [
          0.8296370967741935,
          0.8366935483870968,
          0.8366935483870968,
          0.8472782258064516,
          0.8503024193548387,
          0.8533266129032258,
          0.8452620967741935,
          0.8412298387096774,
          0.8523185483870968
         ],
         "yaxis": "y"
        },
        {
         "hovertemplate": "variable=wide_variable_10<br>index=%{x}<br>value=%{y}<extra></extra>",
         "legendgroup": "wide_variable_10",
         "line": {
          "color": "#636efa",
          "dash": "solid"
         },
         "marker": {
          "symbol": "circle"
         },
         "mode": "lines",
         "name": "wide_variable_10",
         "orientation": "v",
         "showlegend": true,
         "type": "scatter",
         "x": [
          0,
          1,
          2,
          3,
          4,
          5,
          6,
          7,
          8
         ],
         "xaxis": "x",
         "y": [
          0.5757978723404256,
          0.6389627659574468,
          0.635970744680851,
          0.6170212765957447,
          0.6060505319148937,
          0.6496010638297872,
          0.644281914893617,
          0.6502659574468085,
          0.628656914893617
         ],
         "yaxis": "y"
        },
        {
         "hovertemplate": "variable=wide_variable_11<br>index=%{x}<br>value=%{y}<extra></extra>",
         "legendgroup": "wide_variable_11",
         "line": {
          "color": "#EF553B",
          "dash": "solid"
         },
         "marker": {
          "symbol": "circle"
         },
         "mode": "lines",
         "name": "wide_variable_11",
         "orientation": "v",
         "showlegend": true,
         "type": "scatter",
         "x": [
          0,
          1,
          2,
          3,
          4,
          5,
          6,
          7,
          8
         ],
         "xaxis": "x",
         "y": [
          0.8230846774193549,
          0.8341733870967742,
          0.8235887096774194,
          0.8306451612903226,
          0.8175403225806451,
          0.8361895161290323,
          0.8397177419354839,
          0.8533266129032258,
          0.8623991935483871
         ],
         "yaxis": "y"
        },
        {
         "hovertemplate": "variable=wide_variable_12<br>index=%{x}<br>value=%{y}<extra></extra>",
         "legendgroup": "wide_variable_12",
         "line": {
          "color": "#00cc96",
          "dash": "solid"
         },
         "marker": {
          "symbol": "circle"
         },
         "mode": "lines",
         "name": "wide_variable_12",
         "orientation": "v",
         "showlegend": true,
         "type": "scatter",
         "x": [
          0,
          1,
          2,
          3,
          4,
          5,
          6,
          7,
          8
         ],
         "xaxis": "x",
         "y": [
          0.8084677419354839,
          0.8240927419354839,
          0.8256048387096774,
          0.8150201612903226,
          0.842741935483871,
          0.84375,
          0.8301411290322581,
          0.8301411290322581,
          0.84375
         ],
         "yaxis": "y"
        },
        {
         "hovertemplate": "variable=wide_variable_13<br>index=%{x}<br>value=%{y}<extra></extra>",
         "legendgroup": "wide_variable_13",
         "line": {
          "color": "#ab63fa",
          "dash": "solid"
         },
         "marker": {
          "symbol": "circle"
         },
         "mode": "lines",
         "name": "wide_variable_13",
         "orientation": "v",
         "showlegend": true,
         "type": "scatter",
         "x": [
          0,
          1,
          2,
          3,
          4,
          5,
          6,
          7,
          8
         ],
         "xaxis": "x",
         "y": [
          0.7752016129032258,
          0.8230846774193549,
          0.8009072580645161,
          0.8452620967741935,
          0.8382056451612904,
          0.8392137096774194,
          0.8724798387096774,
          0.8397177419354839,
          0.8361895161290323
         ],
         "yaxis": "y"
        },
        {
         "hovertemplate": "variable=wide_variable_14<br>index=%{x}<br>value=%{y}<extra></extra>",
         "legendgroup": "wide_variable_14",
         "line": {
          "color": "#FFA15A",
          "dash": "solid"
         },
         "marker": {
          "symbol": "circle"
         },
         "mode": "lines",
         "name": "wide_variable_14",
         "orientation": "v",
         "showlegend": true,
         "type": "scatter",
         "x": [
          0,
          1,
          2,
          3,
          4,
          5,
          6,
          7,
          8
         ],
         "xaxis": "x",
         "y": [
          0.8170362903225806,
          0.8104838709677419,
          0.8150201612903226,
          0.8296370967741935,
          0.8311491935483871,
          0.8301411290322581,
          0.8351814516129032,
          0.8563508064516129,
          0.8528225806451613
         ],
         "yaxis": "y"
        },
        {
         "hovertemplate": "variable=wide_variable_15<br>index=%{x}<br>value=%{y}<extra></extra>",
         "legendgroup": "wide_variable_15",
         "line": {
          "color": "#19d3f3",
          "dash": "solid"
         },
         "marker": {
          "symbol": "circle"
         },
         "mode": "lines",
         "name": "wide_variable_15",
         "orientation": "v",
         "showlegend": true,
         "type": "scatter",
         "x": [
          0,
          1,
          2,
          3,
          4,
          5,
          6,
          7,
          8
         ],
         "xaxis": "x",
         "y": [
          0.8361895161290323,
          0.8452620967741935,
          0.8185483870967742,
          0.8306451612903226,
          0.8462701612903226,
          0.8709677419354839,
          0.8523185483870968,
          0.8649193548387096,
          0.8598790322580645
         ],
         "yaxis": "y"
        },
        {
         "hovertemplate": "variable=wide_variable_16<br>index=%{x}<br>value=%{y}<extra></extra>",
         "legendgroup": "wide_variable_16",
         "line": {
          "color": "#FF6692",
          "dash": "solid"
         },
         "marker": {
          "symbol": "circle"
         },
         "mode": "lines",
         "name": "wide_variable_16",
         "orientation": "v",
         "showlegend": true,
         "type": "scatter",
         "x": [
          0,
          1,
          2,
          3,
          4,
          5,
          6,
          7,
          8
         ],
         "xaxis": "x",
         "y": [
          0.8029233870967742,
          0.796875,
          0.8084677419354839,
          0.8170362903225806,
          0.8049395161290323,
          0.8276209677419355,
          0.8417338709677419,
          0.827116935483871,
          0.8361895161290323
         ],
         "yaxis": "y"
        },
        {
         "hovertemplate": "variable=wide_variable_17<br>index=%{x}<br>value=%{y}<extra></extra>",
         "legendgroup": "wide_variable_17",
         "line": {
          "color": "#B6E880",
          "dash": "solid"
         },
         "marker": {
          "symbol": "circle"
         },
         "mode": "lines",
         "name": "wide_variable_17",
         "orientation": "v",
         "showlegend": true,
         "type": "scatter",
         "x": [
          0,
          1,
          2,
          3,
          4,
          5,
          6,
          7,
          8
         ],
         "xaxis": "x",
         "y": [
          0.7817540322580645,
          0.8150201612903226,
          0.7807459677419355,
          0.8296370967741935,
          0.8145161290322581,
          0.842741935483871,
          0.8205645161290323,
          0.8306451612903226,
          0.842741935483871
         ],
         "yaxis": "y"
        },
        {
         "hovertemplate": "variable=wide_variable_18<br>index=%{x}<br>value=%{y}<extra></extra>",
         "legendgroup": "wide_variable_18",
         "line": {
          "color": "#FF97FF",
          "dash": "solid"
         },
         "marker": {
          "symbol": "circle"
         },
         "mode": "lines",
         "name": "wide_variable_18",
         "orientation": "v",
         "showlegend": true,
         "type": "scatter",
         "x": [
          0,
          1,
          2,
          3,
          4,
          5,
          6,
          7,
          8
         ],
         "xaxis": "x",
         "y": [
          0.6441532258064516,
          0.7368951612903226,
          0.7520161290322581,
          0.7555443548387096,
          0.766633064516129,
          0.7676411290322581,
          0.782258064516129,
          0.7731854838709677,
          0.7590725806451613
         ],
         "yaxis": "y"
        },
        {
         "hovertemplate": "variable=wide_variable_19<br>index=%{x}<br>value=%{y}<extra></extra>",
         "legendgroup": "wide_variable_19",
         "line": {
          "color": "#FECB52",
          "dash": "solid"
         },
         "marker": {
          "symbol": "circle"
         },
         "mode": "lines",
         "name": "wide_variable_19",
         "orientation": "v",
         "showlegend": true,
         "type": "scatter",
         "x": [
          0,
          1,
          2,
          3,
          4,
          5,
          6,
          7,
          8
         ],
         "xaxis": "x",
         "y": [
          0.7409274193548387,
          0.7908266129032258,
          0.7807459677419355,
          0.7772177419354839,
          0.7938508064516129,
          0.6839717741935484,
          0.7419354838709677,
          0.6759072580645161,
          0.6774193548387096
         ],
         "yaxis": "y"
        },
        {
         "hovertemplate": "variable=wide_variable_20<br>index=%{x}<br>value=%{y}<extra></extra>",
         "legendgroup": "wide_variable_20",
         "line": {
          "color": "#636efa",
          "dash": "solid"
         },
         "marker": {
          "symbol": "circle"
         },
         "mode": "lines",
         "name": "wide_variable_20",
         "orientation": "v",
         "showlegend": true,
         "type": "scatter",
         "x": [
          0,
          1,
          2,
          3,
          4,
          5,
          6,
          7,
          8
         ],
         "xaxis": "x",
         "y": [
          0.7988911290322581,
          0.7903225806451613,
          0.7580645161290323,
          0.7893145161290323,
          0.8079637096774194,
          0.8442540322580645,
          0.8467741935483871,
          0.8150201612903226,
          0.8195564516129032
         ],
         "yaxis": "y"
        },
        {
         "hovertemplate": "variable=wide_variable_21<br>index=%{x}<br>value=%{y}<extra></extra>",
         "legendgroup": "wide_variable_21",
         "line": {
          "color": "#EF553B",
          "dash": "solid"
         },
         "marker": {
          "symbol": "circle"
         },
         "mode": "lines",
         "name": "wide_variable_21",
         "orientation": "v",
         "showlegend": true,
         "type": "scatter",
         "x": [
          0,
          1,
          2,
          3,
          4,
          5,
          6,
          7,
          8
         ],
         "xaxis": "x",
         "y": [
          0.8200604838709677,
          0.8240927419354839,
          0.8175403225806451,
          0.7636088709677419,
          0.8125,
          0.7908266129032258,
          0.8508064516129032,
          0.8387096774193549,
          0.8523185483870968
         ],
         "yaxis": "y"
        },
        {
         "hovertemplate": "variable=wide_variable_22<br>index=%{x}<br>value=%{y}<extra></extra>",
         "legendgroup": "wide_variable_22",
         "line": {
          "color": "#00cc96",
          "dash": "solid"
         },
         "marker": {
          "symbol": "circle"
         },
         "mode": "lines",
         "name": "wide_variable_22",
         "orientation": "v",
         "showlegend": true,
         "type": "scatter",
         "x": [
          0,
          1,
          2,
          3,
          4,
          5,
          6,
          7,
          8
         ],
         "xaxis": "x",
         "y": [
          0.7817540322580645,
          0.8261088709677419,
          0.8165322580645161,
          0.8417338709677419,
          0.8286290322580645,
          0.8412298387096774,
          0.8387096774193549,
          0.8417338709677419,
          0.8371975806451613
         ],
         "yaxis": "y"
        },
        {
         "hovertemplate": "variable=wide_variable_23<br>index=%{x}<br>value=%{y}<extra></extra>",
         "legendgroup": "wide_variable_23",
         "line": {
          "color": "#ab63fa",
          "dash": "solid"
         },
         "marker": {
          "symbol": "circle"
         },
         "mode": "lines",
         "name": "wide_variable_23",
         "orientation": "v",
         "showlegend": true,
         "type": "scatter",
         "x": [
          0,
          1,
          2,
          3,
          4,
          5,
          6,
          7,
          8
         ],
         "xaxis": "x",
         "y": [
          0.8200604838709677,
          0.8346774193548387,
          0.8150201612903226,
          0.7842741935483871,
          0.842741935483871,
          0.8487903225806451,
          0.8261088709677419,
          0.8533266129032258,
          0.8523185483870968
         ],
         "yaxis": "y"
        },
        {
         "hovertemplate": "variable=wide_variable_24<br>index=%{x}<br>value=%{y}<extra></extra>",
         "legendgroup": "wide_variable_24",
         "line": {
          "color": "#FFA15A",
          "dash": "solid"
         },
         "marker": {
          "symbol": "circle"
         },
         "mode": "lines",
         "name": "wide_variable_24",
         "orientation": "v",
         "showlegend": true,
         "type": "scatter",
         "x": [
          0,
          1,
          2,
          3,
          4,
          5,
          6,
          7,
          8
         ],
         "xaxis": "x",
         "y": [
          0.8180443548387096,
          0.8195564516129032,
          0.8316532258064516,
          0.8432459677419355,
          0.8356854838709677,
          0.8553427419354839,
          0.8170362903225806,
          0.8528225806451613,
          0.8634072580645161
         ],
         "yaxis": "y"
        },
        {
         "hovertemplate": "variable=wide_variable_25<br>index=%{x}<br>value=%{y}<extra></extra>",
         "legendgroup": "wide_variable_25",
         "line": {
          "color": "#19d3f3",
          "dash": "solid"
         },
         "marker": {
          "symbol": "circle"
         },
         "mode": "lines",
         "name": "wide_variable_25",
         "orientation": "v",
         "showlegend": true,
         "type": "scatter",
         "x": [
          0,
          1,
          2,
          3,
          4,
          5,
          6,
          7,
          8
         ],
         "xaxis": "x",
         "y": [
          0.7767137096774194,
          0.7807459677419355,
          0.7872983870967742,
          0.7676411290322581,
          0.8079637096774194,
          0.8457661290322581,
          0.8467741935483871,
          0.8422379032258065,
          0.8371975806451613
         ],
         "yaxis": "y"
        },
        {
         "hovertemplate": "variable=wide_variable_26<br>index=%{x}<br>value=%{y}<extra></extra>",
         "legendgroup": "wide_variable_26",
         "line": {
          "color": "#FF6692",
          "dash": "solid"
         },
         "marker": {
          "symbol": "circle"
         },
         "mode": "lines",
         "name": "wide_variable_26",
         "orientation": "v",
         "showlegend": true,
         "type": "scatter",
         "x": [
          0,
          1,
          2,
          3,
          4,
          5,
          6,
          7,
          8
         ],
         "xaxis": "x",
         "y": [
          0.6589095744680851,
          0.6728723404255319,
          0.6502659574468085,
          0.6542553191489362,
          0.668218085106383,
          0.6565824468085106,
          0.6848404255319149,
          0.6715425531914894,
          0.6785239361702128
         ],
         "yaxis": "y"
        },
        {
         "hovertemplate": "variable=wide_variable_27<br>index=%{x}<br>value=%{y}<extra></extra>",
         "legendgroup": "wide_variable_27",
         "line": {
          "color": "#B6E880",
          "dash": "solid"
         },
         "marker": {
          "symbol": "circle"
         },
         "mode": "lines",
         "name": "wide_variable_27",
         "orientation": "v",
         "showlegend": true,
         "type": "scatter",
         "x": [
          0,
          1,
          2,
          3,
          4,
          5,
          6,
          7,
          8
         ],
         "xaxis": "x",
         "y": [
          0.7273185483870968,
          0.7661290322580645,
          0.7762096774193549,
          0.7610887096774194,
          0.7903225806451613,
          0.7258064516129032,
          0.7807459677419355,
          0.766633064516129,
          0.8019153225806451
         ],
         "yaxis": "y"
        },
        {
         "hovertemplate": "variable=wide_variable_28<br>index=%{x}<br>value=%{y}<extra></extra>",
         "legendgroup": "wide_variable_28",
         "line": {
          "color": "#FF97FF",
          "dash": "solid"
         },
         "marker": {
          "symbol": "circle"
         },
         "mode": "lines",
         "name": "wide_variable_28",
         "orientation": "v",
         "showlegend": true,
         "type": "scatter",
         "x": [
          0,
          1,
          2,
          3,
          4,
          5,
          6,
          7,
          8
         ],
         "xaxis": "x",
         "y": [
          0.7741935483870968,
          0.8296370967741935,
          0.8064516129032258,
          0.8422379032258065,
          0.8049395161290323,
          0.8286290322580645,
          0.8311491935483871,
          0.8326612903225806,
          0.8336693548387096
         ],
         "yaxis": "y"
        },
        {
         "hovertemplate": "variable=wide_variable_29<br>index=%{x}<br>value=%{y}<extra></extra>",
         "legendgroup": "wide_variable_29",
         "line": {
          "color": "#FECB52",
          "dash": "solid"
         },
         "marker": {
          "symbol": "circle"
         },
         "mode": "lines",
         "name": "wide_variable_29",
         "orientation": "v",
         "showlegend": true,
         "type": "scatter",
         "x": [
          0,
          1,
          2,
          3,
          4,
          5,
          6,
          7,
          8
         ],
         "xaxis": "x",
         "y": [
          0.7253024193548387,
          0.7494959677419355,
          0.7792338709677419,
          0.7615927419354839,
          0.7525201612903226,
          0.7605846774193549,
          0.7903225806451613,
          0.7827620967741935,
          0.7762096774193549
         ],
         "yaxis": "y"
        },
        {
         "hovertemplate": "variable=wide_variable_30<br>index=%{x}<br>value=%{y}<extra></extra>",
         "legendgroup": "wide_variable_30",
         "line": {
          "color": "#636efa",
          "dash": "solid"
         },
         "marker": {
          "symbol": "circle"
         },
         "mode": "lines",
         "name": "wide_variable_30",
         "orientation": "v",
         "showlegend": true,
         "type": "scatter",
         "x": [
          0,
          1,
          2,
          3,
          4,
          5,
          6,
          7,
          8
         ],
         "xaxis": "x",
         "y": [
          0.8069556451612904,
          0.8225806451612904,
          0.7862903225806451,
          0.8407258064516129,
          0.8412298387096774,
          0.8523185483870968,
          0.8729838709677419,
          0.8538306451612904,
          0.8523185483870968
         ],
         "yaxis": "y"
        },
        {
         "hovertemplate": "variable=wide_variable_31<br>index=%{x}<br>value=%{y}<extra></extra>",
         "legendgroup": "wide_variable_31",
         "line": {
          "color": "#EF553B",
          "dash": "solid"
         },
         "marker": {
          "symbol": "circle"
         },
         "mode": "lines",
         "name": "wide_variable_31",
         "orientation": "v",
         "showlegend": true,
         "type": "scatter",
         "x": [
          0,
          1,
          2,
          3,
          4,
          5,
          6,
          7,
          8
         ],
         "xaxis": "x",
         "y": [
          0.8407258064516129,
          0.8039314516129032,
          0.8336693548387096,
          0.8503024193548387,
          0.842741935483871,
          0.8513104838709677,
          0.8508064516129032,
          0.8256048387096774,
          0.875
         ],
         "yaxis": "y"
        },
        {
         "hovertemplate": "variable=wide_variable_32<br>index=%{x}<br>value=%{y}<extra></extra>",
         "legendgroup": "wide_variable_32",
         "line": {
          "color": "#00cc96",
          "dash": "solid"
         },
         "marker": {
          "symbol": "circle"
         },
         "mode": "lines",
         "name": "wide_variable_32",
         "orientation": "v",
         "showlegend": true,
         "type": "scatter",
         "x": [
          0,
          1,
          2,
          3,
          4,
          5,
          6,
          7,
          8
         ],
         "xaxis": "x",
         "y": [
          0.7399193548387096,
          0.7872983870967742,
          0.7933467741935484,
          0.7752016129032258,
          0.7837701612903226,
          0.7746975806451613,
          0.7832661290322581,
          0.7651209677419355,
          0.813508064516129
         ],
         "yaxis": "y"
        },
        {
         "hovertemplate": "variable=wide_variable_33<br>index=%{x}<br>value=%{y}<extra></extra>",
         "legendgroup": "wide_variable_33",
         "line": {
          "color": "#ab63fa",
          "dash": "solid"
         },
         "marker": {
          "symbol": "circle"
         },
         "mode": "lines",
         "name": "wide_variable_33",
         "orientation": "v",
         "showlegend": true,
         "type": "scatter",
         "x": [
          0,
          1,
          2,
          3,
          4,
          5,
          6,
          7,
          8
         ],
         "xaxis": "x",
         "y": [
          0.7263104838709677,
          0.7505040322580645,
          0.764616935483871,
          0.7883064516129032,
          0.7847782258064516,
          0.7963709677419355,
          0.71875,
          0.7842741935483871,
          0.7792338709677419
         ],
         "yaxis": "y"
        },
        {
         "hovertemplate": "variable=wide_variable_34<br>index=%{x}<br>value=%{y}<extra></extra>",
         "legendgroup": "wide_variable_34",
         "line": {
          "color": "#FFA15A",
          "dash": "solid"
         },
         "marker": {
          "symbol": "circle"
         },
         "mode": "lines",
         "name": "wide_variable_34",
         "orientation": "v",
         "showlegend": true,
         "type": "scatter",
         "x": [
          0,
          1,
          2,
          3,
          4,
          5,
          6,
          7,
          8
         ],
         "xaxis": "x",
         "y": [
          0.7253024193548387,
          0.7615927419354839,
          0.7681451612903226,
          0.7963709677419355,
          0.7787298387096774,
          0.8094758064516129,
          0.8049395161290323,
          0.7752016129032258,
          0.7550403225806451
         ],
         "yaxis": "y"
        },
        {
         "hovertemplate": "variable=wide_variable_35<br>index=%{x}<br>value=%{y}<extra></extra>",
         "legendgroup": "wide_variable_35",
         "line": {
          "color": "#19d3f3",
          "dash": "solid"
         },
         "marker": {
          "symbol": "circle"
         },
         "mode": "lines",
         "name": "wide_variable_35",
         "orientation": "v",
         "showlegend": true,
         "type": "scatter",
         "x": [
          0,
          1,
          2,
          3,
          4,
          5,
          6,
          7,
          8
         ],
         "xaxis": "x",
         "y": [
          0.5821572580645161,
          0.6436491935483871,
          0.7182459677419355,
          0.7368951612903226,
          0.7454637096774194,
          0.7348790322580645,
          0.7626008064516129,
          0.7605846774193549,
          0.7575604838709677
         ],
         "yaxis": "y"
        },
        {
         "hovertemplate": "variable=wide_variable_36<br>index=%{x}<br>value=%{y}<extra></extra>",
         "legendgroup": "wide_variable_36",
         "line": {
          "color": "#FF6692",
          "dash": "solid"
         },
         "marker": {
          "symbol": "circle"
         },
         "mode": "lines",
         "name": "wide_variable_36",
         "orientation": "v",
         "showlegend": true,
         "type": "scatter",
         "x": [
          0,
          1,
          2,
          3,
          4,
          5,
          6,
          7,
          8
         ],
         "xaxis": "x",
         "y": [
          0.827116935483871,
          0.8432459677419355,
          0.8371975806451613,
          0.828125,
          0.8462701612903226,
          0.8503024193548387,
          0.8175403225806451,
          0.8523185483870968,
          0.8356854838709677
         ],
         "yaxis": "y"
        },
        {
         "hovertemplate": "variable=wide_variable_37<br>index=%{x}<br>value=%{y}<extra></extra>",
         "legendgroup": "wide_variable_37",
         "line": {
          "color": "#B6E880",
          "dash": "solid"
         },
         "marker": {
          "symbol": "circle"
         },
         "mode": "lines",
         "name": "wide_variable_37",
         "orientation": "v",
         "showlegend": true,
         "type": "scatter",
         "x": [
          0,
          1,
          2,
          3,
          4,
          5,
          6,
          7,
          8
         ],
         "xaxis": "x",
         "y": [
          0.7565524193548387,
          0.8210685483870968,
          0.7731854838709677,
          0.7167338709677419,
          0.5897177419354839,
          0.7807459677419355,
          0.797883064516129,
          0.765625,
          0.8024193548387096
         ],
         "yaxis": "y"
        },
        {
         "hovertemplate": "variable=wide_variable_38<br>index=%{x}<br>value=%{y}<extra></extra>",
         "legendgroup": "wide_variable_38",
         "line": {
          "color": "#FF97FF",
          "dash": "solid"
         },
         "marker": {
          "symbol": "circle"
         },
         "mode": "lines",
         "name": "wide_variable_38",
         "orientation": "v",
         "showlegend": true,
         "type": "scatter",
         "x": [
          0,
          1,
          2,
          3,
          4,
          5,
          6,
          7,
          8
         ],
         "xaxis": "x",
         "y": [
          0.829133064516129,
          0.828125,
          0.8185483870967742,
          0.8497983870967742,
          0.8704637096774194,
          0.8467741935483871,
          0.8503024193548387,
          0.8452620967741935,
          0.8785282258064516
         ],
         "yaxis": "y"
        },
        {
         "hovertemplate": "variable=wide_variable_39<br>index=%{x}<br>value=%{y}<extra></extra>",
         "legendgroup": "wide_variable_39",
         "line": {
          "color": "#FECB52",
          "dash": "solid"
         },
         "marker": {
          "symbol": "circle"
         },
         "mode": "lines",
         "name": "wide_variable_39",
         "orientation": "v",
         "showlegend": true,
         "type": "scatter",
         "x": [
          0,
          1,
          2,
          3,
          4,
          5,
          6,
          7,
          8
         ],
         "xaxis": "x",
         "y": [
          0.7540322580645161,
          0.7903225806451613,
          0.7787298387096774,
          0.7842741935483871,
          0.8079637096774194,
          0.7817540322580645,
          0.8230846774193549,
          0.8150201612903226,
          0.8397177419354839
         ],
         "yaxis": "y"
        },
        {
         "hovertemplate": "variable=wide_variable_40<br>index=%{x}<br>value=%{y}<extra></extra>",
         "legendgroup": "wide_variable_40",
         "line": {
          "color": "#636efa",
          "dash": "solid"
         },
         "marker": {
          "symbol": "circle"
         },
         "mode": "lines",
         "name": "wide_variable_40",
         "orientation": "v",
         "showlegend": true,
         "type": "scatter",
         "x": [
          0,
          1,
          2,
          3,
          4,
          5,
          6,
          7,
          8
         ],
         "xaxis": "x",
         "y": [
          0.6582661290322581,
          0.6824596774193549,
          0.6980846774193549,
          0.6950604838709677,
          0.7101814516129032,
          0.7091733870967742,
          0.7076612903225806,
          0.7116935483870968,
          0.7227822580645161
         ],
         "yaxis": "y"
        },
        {
         "hovertemplate": "variable=wide_variable_41<br>index=%{x}<br>value=%{y}<extra></extra>",
         "legendgroup": "wide_variable_41",
         "line": {
          "color": "#EF553B",
          "dash": "solid"
         },
         "marker": {
          "symbol": "circle"
         },
         "mode": "lines",
         "name": "wide_variable_41",
         "orientation": "v",
         "showlegend": true,
         "type": "scatter",
         "x": [
          0,
          1,
          2,
          3,
          4,
          5,
          6,
          7,
          8
         ],
         "xaxis": "x",
         "y": [
          0.795866935483871,
          0.796875,
          0.8276209677419355,
          0.827116935483871,
          0.8361895161290323,
          0.8422379032258065,
          0.8256048387096774,
          0.827116935483871,
          0.8417338709677419
         ],
         "yaxis": "y"
        },
        {
         "hovertemplate": "variable=wide_variable_42<br>index=%{x}<br>value=%{y}<extra></extra>",
         "legendgroup": "wide_variable_42",
         "line": {
          "color": "#00cc96",
          "dash": "solid"
         },
         "marker": {
          "symbol": "circle"
         },
         "mode": "lines",
         "name": "wide_variable_42",
         "orientation": "v",
         "showlegend": true,
         "type": "scatter",
         "x": [
          0,
          1,
          2,
          3,
          4,
          5,
          6,
          7,
          8
         ],
         "xaxis": "x",
         "y": [
          0.7414314516129032,
          0.8165322580645161,
          0.7832661290322581,
          0.7686491935483871,
          0.7993951612903226,
          0.8286290322580645,
          0.827116935483871,
          0.7550403225806451,
          0.8059475806451613
         ],
         "yaxis": "y"
        },
        {
         "hovertemplate": "variable=wide_variable_43<br>index=%{x}<br>value=%{y}<extra></extra>",
         "legendgroup": "wide_variable_43",
         "line": {
          "color": "#ab63fa",
          "dash": "solid"
         },
         "marker": {
          "symbol": "circle"
         },
         "mode": "lines",
         "name": "wide_variable_43",
         "orientation": "v",
         "showlegend": true,
         "type": "scatter",
         "x": [
          0,
          1,
          2,
          3,
          4,
          5,
          6,
          7,
          8
         ],
         "xaxis": "x",
         "y": [
          0.782258064516129,
          0.795866935483871,
          0.7797379032258065,
          0.7540322580645161,
          0.7797379032258065,
          0.7610887096774194,
          0.7913306451612904,
          0.8195564516129032,
          0.8084677419354839
         ],
         "yaxis": "y"
        },
        {
         "hovertemplate": "variable=wide_variable_44<br>index=%{x}<br>value=%{y}<extra></extra>",
         "legendgroup": "wide_variable_44",
         "line": {
          "color": "#FFA15A",
          "dash": "solid"
         },
         "marker": {
          "symbol": "circle"
         },
         "mode": "lines",
         "name": "wide_variable_44",
         "orientation": "v",
         "showlegend": true,
         "type": "scatter",
         "x": [
          0,
          1,
          2,
          3,
          4,
          5,
          6,
          7,
          8
         ],
         "xaxis": "x",
         "y": [
          0.7474798387096774,
          0.7878024193548387,
          0.8140120967741935,
          0.8220766129032258,
          0.8019153225806451,
          0.7983870967741935,
          0.8296370967741935,
          0.8004032258064516,
          0.8225806451612904
         ],
         "yaxis": "y"
        },
        {
         "hovertemplate": "variable=wide_variable_45<br>index=%{x}<br>value=%{y}<extra></extra>",
         "legendgroup": "wide_variable_45",
         "line": {
          "color": "#19d3f3",
          "dash": "solid"
         },
         "marker": {
          "symbol": "circle"
         },
         "mode": "lines",
         "name": "wide_variable_45",
         "orientation": "v",
         "showlegend": true,
         "type": "scatter",
         "x": [
          0,
          1,
          2,
          3,
          4,
          5,
          6,
          7,
          8
         ],
         "xaxis": "x",
         "y": [
          0.7560483870967742,
          0.7832661290322581,
          0.7938508064516129,
          0.860383064516129,
          0.8452620967741935,
          0.8714717741935484,
          0.8664314516129032,
          0.8276209677419355,
          0.860383064516129
         ],
         "yaxis": "y"
        },
        {
         "hovertemplate": "variable=wide_variable_46<br>index=%{x}<br>value=%{y}<extra></extra>",
         "legendgroup": "wide_variable_46",
         "line": {
          "color": "#FF6692",
          "dash": "solid"
         },
         "marker": {
          "symbol": "circle"
         },
         "mode": "lines",
         "name": "wide_variable_46",
         "orientation": "v",
         "showlegend": true,
         "type": "scatter",
         "x": [
          0,
          1,
          2,
          3,
          4,
          5,
          6,
          7,
          8
         ],
         "xaxis": "x",
         "y": [
          0.8079637096774194,
          0.8130040322580645,
          0.8230846774193549,
          0.8125,
          0.8256048387096774,
          0.8356854838709677,
          0.8346774193548387,
          0.8533266129032258,
          0.8407258064516129
         ],
         "yaxis": "y"
        },
        {
         "hovertemplate": "variable=wide_variable_47<br>index=%{x}<br>value=%{y}<extra></extra>",
         "legendgroup": "wide_variable_47",
         "line": {
          "color": "#B6E880",
          "dash": "solid"
         },
         "marker": {
          "symbol": "circle"
         },
         "mode": "lines",
         "name": "wide_variable_47",
         "orientation": "v",
         "showlegend": true,
         "type": "scatter",
         "x": [
          0,
          1,
          2,
          3,
          4,
          5,
          6,
          7,
          8
         ],
         "xaxis": "x",
         "y": [
          0.8044354838709677,
          0.8049395161290323,
          0.8230846774193549,
          0.8316532258064516,
          0.8361895161290323,
          0.8422379032258065,
          0.8180443548387096,
          0.8407258064516129,
          0.8321572580645161
         ],
         "yaxis": "y"
        },
        {
         "hovertemplate": "variable=wide_variable_48<br>index=%{x}<br>value=%{y}<extra></extra>",
         "legendgroup": "wide_variable_48",
         "line": {
          "color": "#FF97FF",
          "dash": "solid"
         },
         "marker": {
          "symbol": "circle"
         },
         "mode": "lines",
         "name": "wide_variable_48",
         "orientation": "v",
         "showlegend": true,
         "type": "scatter",
         "x": [
          0,
          1,
          2,
          3,
          4,
          5,
          6,
          7,
          8
         ],
         "xaxis": "x",
         "y": [
          0.8029233870967742,
          0.8079637096774194,
          0.8200604838709677,
          0.8014112903225806,
          0.7888104838709677,
          0.8316532258064516,
          0.8079637096774194,
          0.8377016129032258,
          0.8029233870967742
         ],
         "yaxis": "y"
        },
        {
         "hovertemplate": "variable=wide_variable_49<br>index=%{x}<br>value=%{y}<extra></extra>",
         "legendgroup": "wide_variable_49",
         "line": {
          "color": "#FECB52",
          "dash": "solid"
         },
         "marker": {
          "symbol": "circle"
         },
         "mode": "lines",
         "name": "wide_variable_49",
         "orientation": "v",
         "showlegend": true,
         "type": "scatter",
         "x": [
          0,
          1,
          2,
          3,
          4,
          5,
          6,
          7,
          8
         ],
         "xaxis": "x",
         "y": [
          0.7631048387096774,
          0.7872983870967742,
          0.7953629032258065,
          0.7993951612903226,
          0.7862903225806451,
          0.7293346774193549,
          0.7913306451612904,
          0.7540322580645161,
          0.7782258064516129
         ],
         "yaxis": "y"
        }
       ],
       "layout": {
        "autosize": true,
        "legend": {
         "title": {
          "text": "variable"
         },
         "tracegroupgap": 0
        },
        "margin": {
         "t": 60
        },
        "template": {
         "data": {
          "bar": [
           {
            "error_x": {
             "color": "#2a3f5f"
            },
            "error_y": {
             "color": "#2a3f5f"
            },
            "marker": {
             "line": {
              "color": "#E5ECF6",
              "width": 0.5
             },
             "pattern": {
              "fillmode": "overlay",
              "size": 10,
              "solidity": 0.2
             }
            },
            "type": "bar"
           }
          ],
          "barpolar": [
           {
            "marker": {
             "line": {
              "color": "#E5ECF6",
              "width": 0.5
             },
             "pattern": {
              "fillmode": "overlay",
              "size": 10,
              "solidity": 0.2
             }
            },
            "type": "barpolar"
           }
          ],
          "carpet": [
           {
            "aaxis": {
             "endlinecolor": "#2a3f5f",
             "gridcolor": "white",
             "linecolor": "white",
             "minorgridcolor": "white",
             "startlinecolor": "#2a3f5f"
            },
            "baxis": {
             "endlinecolor": "#2a3f5f",
             "gridcolor": "white",
             "linecolor": "white",
             "minorgridcolor": "white",
             "startlinecolor": "#2a3f5f"
            },
            "type": "carpet"
           }
          ],
          "choropleth": [
           {
            "colorbar": {
             "outlinewidth": 0,
             "ticks": ""
            },
            "type": "choropleth"
           }
          ],
          "contour": [
           {
            "colorbar": {
             "outlinewidth": 0,
             "ticks": ""
            },
            "colorscale": [
             [
              0,
              "#0d0887"
             ],
             [
              0.1111111111111111,
              "#46039f"
             ],
             [
              0.2222222222222222,
              "#7201a8"
             ],
             [
              0.3333333333333333,
              "#9c179e"
             ],
             [
              0.4444444444444444,
              "#bd3786"
             ],
             [
              0.5555555555555556,
              "#d8576b"
             ],
             [
              0.6666666666666666,
              "#ed7953"
             ],
             [
              0.7777777777777778,
              "#fb9f3a"
             ],
             [
              0.8888888888888888,
              "#fdca26"
             ],
             [
              1,
              "#f0f921"
             ]
            ],
            "type": "contour"
           }
          ],
          "contourcarpet": [
           {
            "colorbar": {
             "outlinewidth": 0,
             "ticks": ""
            },
            "type": "contourcarpet"
           }
          ],
          "heatmap": [
           {
            "colorbar": {
             "outlinewidth": 0,
             "ticks": ""
            },
            "colorscale": [
             [
              0,
              "#0d0887"
             ],
             [
              0.1111111111111111,
              "#46039f"
             ],
             [
              0.2222222222222222,
              "#7201a8"
             ],
             [
              0.3333333333333333,
              "#9c179e"
             ],
             [
              0.4444444444444444,
              "#bd3786"
             ],
             [
              0.5555555555555556,
              "#d8576b"
             ],
             [
              0.6666666666666666,
              "#ed7953"
             ],
             [
              0.7777777777777778,
              "#fb9f3a"
             ],
             [
              0.8888888888888888,
              "#fdca26"
             ],
             [
              1,
              "#f0f921"
             ]
            ],
            "type": "heatmap"
           }
          ],
          "heatmapgl": [
           {
            "colorbar": {
             "outlinewidth": 0,
             "ticks": ""
            },
            "colorscale": [
             [
              0,
              "#0d0887"
             ],
             [
              0.1111111111111111,
              "#46039f"
             ],
             [
              0.2222222222222222,
              "#7201a8"
             ],
             [
              0.3333333333333333,
              "#9c179e"
             ],
             [
              0.4444444444444444,
              "#bd3786"
             ],
             [
              0.5555555555555556,
              "#d8576b"
             ],
             [
              0.6666666666666666,
              "#ed7953"
             ],
             [
              0.7777777777777778,
              "#fb9f3a"
             ],
             [
              0.8888888888888888,
              "#fdca26"
             ],
             [
              1,
              "#f0f921"
             ]
            ],
            "type": "heatmapgl"
           }
          ],
          "histogram": [
           {
            "marker": {
             "pattern": {
              "fillmode": "overlay",
              "size": 10,
              "solidity": 0.2
             }
            },
            "type": "histogram"
           }
          ],
          "histogram2d": [
           {
            "colorbar": {
             "outlinewidth": 0,
             "ticks": ""
            },
            "colorscale": [
             [
              0,
              "#0d0887"
             ],
             [
              0.1111111111111111,
              "#46039f"
             ],
             [
              0.2222222222222222,
              "#7201a8"
             ],
             [
              0.3333333333333333,
              "#9c179e"
             ],
             [
              0.4444444444444444,
              "#bd3786"
             ],
             [
              0.5555555555555556,
              "#d8576b"
             ],
             [
              0.6666666666666666,
              "#ed7953"
             ],
             [
              0.7777777777777778,
              "#fb9f3a"
             ],
             [
              0.8888888888888888,
              "#fdca26"
             ],
             [
              1,
              "#f0f921"
             ]
            ],
            "type": "histogram2d"
           }
          ],
          "histogram2dcontour": [
           {
            "colorbar": {
             "outlinewidth": 0,
             "ticks": ""
            },
            "colorscale": [
             [
              0,
              "#0d0887"
             ],
             [
              0.1111111111111111,
              "#46039f"
             ],
             [
              0.2222222222222222,
              "#7201a8"
             ],
             [
              0.3333333333333333,
              "#9c179e"
             ],
             [
              0.4444444444444444,
              "#bd3786"
             ],
             [
              0.5555555555555556,
              "#d8576b"
             ],
             [
              0.6666666666666666,
              "#ed7953"
             ],
             [
              0.7777777777777778,
              "#fb9f3a"
             ],
             [
              0.8888888888888888,
              "#fdca26"
             ],
             [
              1,
              "#f0f921"
             ]
            ],
            "type": "histogram2dcontour"
           }
          ],
          "mesh3d": [
           {
            "colorbar": {
             "outlinewidth": 0,
             "ticks": ""
            },
            "type": "mesh3d"
           }
          ],
          "parcoords": [
           {
            "line": {
             "colorbar": {
              "outlinewidth": 0,
              "ticks": ""
             }
            },
            "type": "parcoords"
           }
          ],
          "pie": [
           {
            "automargin": true,
            "type": "pie"
           }
          ],
          "scatter": [
           {
            "fillpattern": {
             "fillmode": "overlay",
             "size": 10,
             "solidity": 0.2
            },
            "type": "scatter"
           }
          ],
          "scatter3d": [
           {
            "line": {
             "colorbar": {
              "outlinewidth": 0,
              "ticks": ""
             }
            },
            "marker": {
             "colorbar": {
              "outlinewidth": 0,
              "ticks": ""
             }
            },
            "type": "scatter3d"
           }
          ],
          "scattercarpet": [
           {
            "marker": {
             "colorbar": {
              "outlinewidth": 0,
              "ticks": ""
             }
            },
            "type": "scattercarpet"
           }
          ],
          "scattergeo": [
           {
            "marker": {
             "colorbar": {
              "outlinewidth": 0,
              "ticks": ""
             }
            },
            "type": "scattergeo"
           }
          ],
          "scattergl": [
           {
            "marker": {
             "colorbar": {
              "outlinewidth": 0,
              "ticks": ""
             }
            },
            "type": "scattergl"
           }
          ],
          "scattermapbox": [
           {
            "marker": {
             "colorbar": {
              "outlinewidth": 0,
              "ticks": ""
             }
            },
            "type": "scattermapbox"
           }
          ],
          "scatterpolar": [
           {
            "marker": {
             "colorbar": {
              "outlinewidth": 0,
              "ticks": ""
             }
            },
            "type": "scatterpolar"
           }
          ],
          "scatterpolargl": [
           {
            "marker": {
             "colorbar": {
              "outlinewidth": 0,
              "ticks": ""
             }
            },
            "type": "scatterpolargl"
           }
          ],
          "scatterternary": [
           {
            "marker": {
             "colorbar": {
              "outlinewidth": 0,
              "ticks": ""
             }
            },
            "type": "scatterternary"
           }
          ],
          "surface": [
           {
            "colorbar": {
             "outlinewidth": 0,
             "ticks": ""
            },
            "colorscale": [
             [
              0,
              "#0d0887"
             ],
             [
              0.1111111111111111,
              "#46039f"
             ],
             [
              0.2222222222222222,
              "#7201a8"
             ],
             [
              0.3333333333333333,
              "#9c179e"
             ],
             [
              0.4444444444444444,
              "#bd3786"
             ],
             [
              0.5555555555555556,
              "#d8576b"
             ],
             [
              0.6666666666666666,
              "#ed7953"
             ],
             [
              0.7777777777777778,
              "#fb9f3a"
             ],
             [
              0.8888888888888888,
              "#fdca26"
             ],
             [
              1,
              "#f0f921"
             ]
            ],
            "type": "surface"
           }
          ],
          "table": [
           {
            "cells": {
             "fill": {
              "color": "#EBF0F8"
             },
             "line": {
              "color": "white"
             }
            },
            "header": {
             "fill": {
              "color": "#C8D4E3"
             },
             "line": {
              "color": "white"
             }
            },
            "type": "table"
           }
          ]
         },
         "layout": {
          "annotationdefaults": {
           "arrowcolor": "#2a3f5f",
           "arrowhead": 0,
           "arrowwidth": 1
          },
          "autotypenumbers": "strict",
          "coloraxis": {
           "colorbar": {
            "outlinewidth": 0,
            "ticks": ""
           }
          },
          "colorscale": {
           "diverging": [
            [
             0,
             "#8e0152"
            ],
            [
             0.1,
             "#c51b7d"
            ],
            [
             0.2,
             "#de77ae"
            ],
            [
             0.3,
             "#f1b6da"
            ],
            [
             0.4,
             "#fde0ef"
            ],
            [
             0.5,
             "#f7f7f7"
            ],
            [
             0.6,
             "#e6f5d0"
            ],
            [
             0.7,
             "#b8e186"
            ],
            [
             0.8,
             "#7fbc41"
            ],
            [
             0.9,
             "#4d9221"
            ],
            [
             1,
             "#276419"
            ]
           ],
           "sequential": [
            [
             0,
             "#0d0887"
            ],
            [
             0.1111111111111111,
             "#46039f"
            ],
            [
             0.2222222222222222,
             "#7201a8"
            ],
            [
             0.3333333333333333,
             "#9c179e"
            ],
            [
             0.4444444444444444,
             "#bd3786"
            ],
            [
             0.5555555555555556,
             "#d8576b"
            ],
            [
             0.6666666666666666,
             "#ed7953"
            ],
            [
             0.7777777777777778,
             "#fb9f3a"
            ],
            [
             0.8888888888888888,
             "#fdca26"
            ],
            [
             1,
             "#f0f921"
            ]
           ],
           "sequentialminus": [
            [
             0,
             "#0d0887"
            ],
            [
             0.1111111111111111,
             "#46039f"
            ],
            [
             0.2222222222222222,
             "#7201a8"
            ],
            [
             0.3333333333333333,
             "#9c179e"
            ],
            [
             0.4444444444444444,
             "#bd3786"
            ],
            [
             0.5555555555555556,
             "#d8576b"
            ],
            [
             0.6666666666666666,
             "#ed7953"
            ],
            [
             0.7777777777777778,
             "#fb9f3a"
            ],
            [
             0.8888888888888888,
             "#fdca26"
            ],
            [
             1,
             "#f0f921"
            ]
           ]
          },
          "colorway": [
           "#636efa",
           "#EF553B",
           "#00cc96",
           "#ab63fa",
           "#FFA15A",
           "#19d3f3",
           "#FF6692",
           "#B6E880",
           "#FF97FF",
           "#FECB52"
          ],
          "font": {
           "color": "#2a3f5f"
          },
          "geo": {
           "bgcolor": "white",
           "lakecolor": "white",
           "landcolor": "#E5ECF6",
           "showlakes": true,
           "showland": true,
           "subunitcolor": "white"
          },
          "hoverlabel": {
           "align": "left"
          },
          "hovermode": "closest",
          "mapbox": {
           "style": "light"
          },
          "paper_bgcolor": "white",
          "plot_bgcolor": "#E5ECF6",
          "polar": {
           "angularaxis": {
            "gridcolor": "white",
            "linecolor": "white",
            "ticks": ""
           },
           "bgcolor": "#E5ECF6",
           "radialaxis": {
            "gridcolor": "white",
            "linecolor": "white",
            "ticks": ""
           }
          },
          "scene": {
           "xaxis": {
            "backgroundcolor": "#E5ECF6",
            "gridcolor": "white",
            "gridwidth": 2,
            "linecolor": "white",
            "showbackground": true,
            "ticks": "",
            "zerolinecolor": "white"
           },
           "yaxis": {
            "backgroundcolor": "#E5ECF6",
            "gridcolor": "white",
            "gridwidth": 2,
            "linecolor": "white",
            "showbackground": true,
            "ticks": "",
            "zerolinecolor": "white"
           },
           "zaxis": {
            "backgroundcolor": "#E5ECF6",
            "gridcolor": "white",
            "gridwidth": 2,
            "linecolor": "white",
            "showbackground": true,
            "ticks": "",
            "zerolinecolor": "white"
           }
          },
          "shapedefaults": {
           "line": {
            "color": "#2a3f5f"
           }
          },
          "ternary": {
           "aaxis": {
            "gridcolor": "white",
            "linecolor": "white",
            "ticks": ""
           },
           "baxis": {
            "gridcolor": "white",
            "linecolor": "white",
            "ticks": ""
           },
           "bgcolor": "#E5ECF6",
           "caxis": {
            "gridcolor": "white",
            "linecolor": "white",
            "ticks": ""
           }
          },
          "title": {
           "x": 0.05
          },
          "xaxis": {
           "automargin": true,
           "gridcolor": "white",
           "linecolor": "white",
           "ticks": "",
           "title": {
            "standoff": 15
           },
           "zerolinecolor": "white",
           "zerolinewidth": 2
          },
          "yaxis": {
           "automargin": true,
           "gridcolor": "white",
           "linecolor": "white",
           "ticks": "",
           "title": {
            "standoff": 15
           },
           "zerolinecolor": "white",
           "zerolinewidth": 2
          }
         }
        },
        "xaxis": {
         "anchor": "y",
         "autorange": true,
         "domain": [
          0,
          1
         ],
         "range": [
          0,
          8
         ],
         "title": {
          "text": "index"
         },
         "type": "linear"
        },
        "yaxis": {
         "anchor": "x",
         "autorange": true,
         "domain": [
          0,
          1
         ],
         "range": [
          0.5589795193700908,
          0.8953465787767864
         ],
         "title": {
          "text": "value"
         },
         "type": "linear"
        }
       }
      },
      "image/png": "[encoded data removed]",
      "text/html": [
       "<div>                            <div id=\"28ee3c4f-81d1-4f59-a748-ed4e8839a6b6\" class=\"plotly-graph-div\" style=\"height:525px; width:100%;\"></div>            <script type=\"text/javascript\">                require([\"plotly\"], function(Plotly) {                    window.PLOTLYENV=window.PLOTLYENV || {};                                    if (document.getElementById(\"28ee3c4f-81d1-4f59-a748-ed4e8839a6b6\")) {                    Plotly.newPlot(                        \"28ee3c4f-81d1-4f59-a748-ed4e8839a6b6\",                        [{\"hovertemplate\":\"variable=wide_variable_0\\u003cbr\\u003eindex=%{x}\\u003cbr\\u003evalue=%{y}\\u003cextra\\u003e\\u003c\\u002fextra\\u003e\",\"legendgroup\":\"wide_variable_0\",\"line\":{\"color\":\"#636efa\",\"dash\":\"solid\"},\"marker\":{\"symbol\":\"circle\"},\"mode\":\"lines\",\"name\":\"wide_variable_0\",\"orientation\":\"v\",\"showlegend\":true,\"x\":[0,1,2,3,4,5,6,7,8],\"xaxis\":\"x\",\"y\":[0.6295362903225806,0.6673387096774194,0.688508064516129,0.6769153225806451,0.7777217741935484,0.717741935483871,0.7565524193548387,0.688508064516129,0.7842741935483871],\"yaxis\":\"y\",\"type\":\"scatter\"},{\"hovertemplate\":\"variable=wide_variable_1\\u003cbr\\u003eindex=%{x}\\u003cbr\\u003evalue=%{y}\\u003cextra\\u003e\\u003c\\u002fextra\\u003e\",\"legendgroup\":\"wide_variable_1\",\"line\":{\"color\":\"#EF553B\",\"dash\":\"solid\"},\"marker\":{\"symbol\":\"circle\"},\"mode\":\"lines\",\"name\":\"wide_variable_1\",\"orientation\":\"v\",\"showlegend\":true,\"x\":[0,1,2,3,4,5,6,7,8],\"xaxis\":\"x\",\"y\":[0.6090425531914894,0.5877659574468085,0.6100398936170213,0.5904255319148937,0.648936170212766,0.5874335106382979,0.6366356382978723,0.5907579787234043,0.6446143617021277],\"yaxis\":\"y\",\"type\":\"scatter\"},{\"hovertemplate\":\"variable=wide_variable_2\\u003cbr\\u003eindex=%{x}\\u003cbr\\u003evalue=%{y}\\u003cextra\\u003e\\u003c\\u002fextra\\u003e\",\"legendgroup\":\"wide_variable_2\",\"line\":{\"color\":\"#00cc96\",\"dash\":\"solid\"},\"marker\":{\"symbol\":\"circle\"},\"mode\":\"lines\",\"name\":\"wide_variable_2\",\"orientation\":\"v\",\"showlegend\":true,\"x\":[0,1,2,3,4,5,6,7,8],\"xaxis\":\"x\",\"y\":[0.6259973404255319,0.6795212765957447,0.6628989361702128,0.645279255319149,0.6499335106382979,0.6502659574468085,0.6559175531914894,0.6545877659574468,0.6565824468085106],\"yaxis\":\"y\",\"type\":\"scatter\"},{\"hovertemplate\":\"variable=wide_variable_3\\u003cbr\\u003eindex=%{x}\\u003cbr\\u003evalue=%{y}\\u003cextra\\u003e\\u003c\\u002fextra\\u003e\",\"legendgroup\":\"wide_variable_3\",\"line\":{\"color\":\"#ab63fa\",\"dash\":\"solid\"},\"marker\":{\"symbol\":\"circle\"},\"mode\":\"lines\",\"name\":\"wide_variable_3\",\"orientation\":\"v\",\"showlegend\":true,\"x\":[0,1,2,3,4,5,6,7,8],\"xaxis\":\"x\",\"y\":[0.7293346774193549,0.7721774193548387,0.8004032258064516,0.8084677419354839,0.8180443548387096,0.8230846774193549,0.8276209677419355,0.8286290322580645,0.828125],\"yaxis\":\"y\",\"type\":\"scatter\"},{\"hovertemplate\":\"variable=wide_variable_4\\u003cbr\\u003eindex=%{x}\\u003cbr\\u003evalue=%{y}\\u003cextra\\u003e\\u003c\\u002fextra\\u003e\",\"legendgroup\":\"wide_variable_4\",\"line\":{\"color\":\"#FFA15A\",\"dash\":\"solid\"},\"marker\":{\"symbol\":\"circle\"},\"mode\":\"lines\",\"name\":\"wide_variable_4\",\"orientation\":\"v\",\"showlegend\":true,\"x\":[0,1,2,3,4,5,6,7,8],\"xaxis\":\"x\",\"y\":[0.6389627659574468,0.6449468085106383,0.6416223404255319,0.6539228723404256,0.6545877659574468,0.636968085106383,0.645279255319149,0.6496010638297872,0.652593085106383],\"yaxis\":\"y\",\"type\":\"scatter\"},{\"hovertemplate\":\"variable=wide_variable_5\\u003cbr\\u003eindex=%{x}\\u003cbr\\u003evalue=%{y}\\u003cextra\\u003e\\u003c\\u002fextra\\u003e\",\"legendgroup\":\"wide_variable_5\",\"line\":{\"color\":\"#19d3f3\",\"dash\":\"solid\"},\"marker\":{\"symbol\":\"circle\"},\"mode\":\"lines\",\"name\":\"wide_variable_5\",\"orientation\":\"v\",\"showlegend\":true,\"x\":[0,1,2,3,4,5,6,7,8],\"xaxis\":\"x\",\"y\":[0.7323588709677419,0.719758064516129,0.7283266129032258,0.7615927419354839,0.7817540322580645,0.7071572580645161,0.7585685483870968,0.7610887096774194,0.7777217741935484],\"yaxis\":\"y\",\"type\":\"scatter\"},{\"hovertemplate\":\"variable=wide_variable_6\\u003cbr\\u003eindex=%{x}\\u003cbr\\u003evalue=%{y}\\u003cextra\\u003e\\u003c\\u002fextra\\u003e\",\"legendgroup\":\"wide_variable_6\",\"line\":{\"color\":\"#FF6692\",\"dash\":\"solid\"},\"marker\":{\"symbol\":\"circle\"},\"mode\":\"lines\",\"name\":\"wide_variable_6\",\"orientation\":\"v\",\"showlegend\":true,\"x\":[0,1,2,3,4,5,6,7,8],\"xaxis\":\"x\",\"y\":[0.6693548387096774,0.6764112903225806,0.7111895161290323,0.7016129032258065,0.7106854838709677,0.7182459677419355,0.7162298387096774,0.7242943548387096,0.7580645161290323],\"yaxis\":\"y\",\"type\":\"scatter\"},{\"hovertemplate\":\"variable=wide_variable_7\\u003cbr\\u003eindex=%{x}\\u003cbr\\u003evalue=%{y}\\u003cextra\\u003e\\u003c\\u002fextra\\u003e\",\"legendgroup\":\"wide_variable_7\",\"line\":{\"color\":\"#B6E880\",\"dash\":\"solid\"},\"marker\":{\"symbol\":\"circle\"},\"mode\":\"lines\",\"name\":\"wide_variable_7\",\"orientation\":\"v\",\"showlegend\":true,\"x\":[0,1,2,3,4,5,6,7,8],\"xaxis\":\"x\",\"y\":[0.8019153225806451,0.8069556451612904,0.8200604838709677,0.8200604838709677,0.8240927419354839,0.829133064516129,0.8518145161290323,0.8336693548387096,0.842741935483871],\"yaxis\":\"y\",\"type\":\"scatter\"},{\"hovertemplate\":\"variable=wide_variable_8\\u003cbr\\u003eindex=%{x}\\u003cbr\\u003evalue=%{y}\\u003cextra\\u003e\\u003c\\u002fextra\\u003e\",\"legendgroup\":\"wide_variable_8\",\"line\":{\"color\":\"#FF97FF\",\"dash\":\"solid\"},\"marker\":{\"symbol\":\"circle\"},\"mode\":\"lines\",\"name\":\"wide_variable_8\",\"orientation\":\"v\",\"showlegend\":true,\"x\":[0,1,2,3,4,5,6,7,8],\"xaxis\":\"x\",\"y\":[0.6559175531914894,0.6462765957446809,0.6389627659574468,0.6466090425531915,0.6775265957446809,0.6399601063829787,0.6545877659574468,0.6612367021276596,0.6559175531914894],\"yaxis\":\"y\",\"type\":\"scatter\"},{\"hovertemplate\":\"variable=wide_variable_9\\u003cbr\\u003eindex=%{x}\\u003cbr\\u003evalue=%{y}\\u003cextra\\u003e\\u003c\\u002fextra\\u003e\",\"legendgroup\":\"wide_variable_9\",\"line\":{\"color\":\"#FECB52\",\"dash\":\"solid\"},\"marker\":{\"symbol\":\"circle\"},\"mode\":\"lines\",\"name\":\"wide_variable_9\",\"orientation\":\"v\",\"showlegend\":true,\"x\":[0,1,2,3,4,5,6,7,8],\"xaxis\":\"x\",\"y\":[0.8296370967741935,0.8366935483870968,0.8366935483870968,0.8472782258064516,0.8503024193548387,0.8533266129032258,0.8452620967741935,0.8412298387096774,0.8523185483870968],\"yaxis\":\"y\",\"type\":\"scatter\"},{\"hovertemplate\":\"variable=wide_variable_10\\u003cbr\\u003eindex=%{x}\\u003cbr\\u003evalue=%{y}\\u003cextra\\u003e\\u003c\\u002fextra\\u003e\",\"legendgroup\":\"wide_variable_10\",\"line\":{\"color\":\"#636efa\",\"dash\":\"solid\"},\"marker\":{\"symbol\":\"circle\"},\"mode\":\"lines\",\"name\":\"wide_variable_10\",\"orientation\":\"v\",\"showlegend\":true,\"x\":[0,1,2,3,4,5,6,7,8],\"xaxis\":\"x\",\"y\":[0.5757978723404256,0.6389627659574468,0.635970744680851,0.6170212765957447,0.6060505319148937,0.6496010638297872,0.644281914893617,0.6502659574468085,0.628656914893617],\"yaxis\":\"y\",\"type\":\"scatter\"},{\"hovertemplate\":\"variable=wide_variable_11\\u003cbr\\u003eindex=%{x}\\u003cbr\\u003evalue=%{y}\\u003cextra\\u003e\\u003c\\u002fextra\\u003e\",\"legendgroup\":\"wide_variable_11\",\"line\":{\"color\":\"#EF553B\",\"dash\":\"solid\"},\"marker\":{\"symbol\":\"circle\"},\"mode\":\"lines\",\"name\":\"wide_variable_11\",\"orientation\":\"v\",\"showlegend\":true,\"x\":[0,1,2,3,4,5,6,7,8],\"xaxis\":\"x\",\"y\":[0.8230846774193549,0.8341733870967742,0.8235887096774194,0.8306451612903226,0.8175403225806451,0.8361895161290323,0.8397177419354839,0.8533266129032258,0.8623991935483871],\"yaxis\":\"y\",\"type\":\"scatter\"},{\"hovertemplate\":\"variable=wide_variable_12\\u003cbr\\u003eindex=%{x}\\u003cbr\\u003evalue=%{y}\\u003cextra\\u003e\\u003c\\u002fextra\\u003e\",\"legendgroup\":\"wide_variable_12\",\"line\":{\"color\":\"#00cc96\",\"dash\":\"solid\"},\"marker\":{\"symbol\":\"circle\"},\"mode\":\"lines\",\"name\":\"wide_variable_12\",\"orientation\":\"v\",\"showlegend\":true,\"x\":[0,1,2,3,4,5,6,7,8],\"xaxis\":\"x\",\"y\":[0.8084677419354839,0.8240927419354839,0.8256048387096774,0.8150201612903226,0.842741935483871,0.84375,0.8301411290322581,0.8301411290322581,0.84375],\"yaxis\":\"y\",\"type\":\"scatter\"},{\"hovertemplate\":\"variable=wide_variable_13\\u003cbr\\u003eindex=%{x}\\u003cbr\\u003evalue=%{y}\\u003cextra\\u003e\\u003c\\u002fextra\\u003e\",\"legendgroup\":\"wide_variable_13\",\"line\":{\"color\":\"#ab63fa\",\"dash\":\"solid\"},\"marker\":{\"symbol\":\"circle\"},\"mode\":\"lines\",\"name\":\"wide_variable_13\",\"orientation\":\"v\",\"showlegend\":true,\"x\":[0,1,2,3,4,5,6,7,8],\"xaxis\":\"x\",\"y\":[0.7752016129032258,0.8230846774193549,0.8009072580645161,0.8452620967741935,0.8382056451612904,0.8392137096774194,0.8724798387096774,0.8397177419354839,0.8361895161290323],\"yaxis\":\"y\",\"type\":\"scatter\"},{\"hovertemplate\":\"variable=wide_variable_14\\u003cbr\\u003eindex=%{x}\\u003cbr\\u003evalue=%{y}\\u003cextra\\u003e\\u003c\\u002fextra\\u003e\",\"legendgroup\":\"wide_variable_14\",\"line\":{\"color\":\"#FFA15A\",\"dash\":\"solid\"},\"marker\":{\"symbol\":\"circle\"},\"mode\":\"lines\",\"name\":\"wide_variable_14\",\"orientation\":\"v\",\"showlegend\":true,\"x\":[0,1,2,3,4,5,6,7,8],\"xaxis\":\"x\",\"y\":[0.8170362903225806,0.8104838709677419,0.8150201612903226,0.8296370967741935,0.8311491935483871,0.8301411290322581,0.8351814516129032,0.8563508064516129,0.8528225806451613],\"yaxis\":\"y\",\"type\":\"scatter\"},{\"hovertemplate\":\"variable=wide_variable_15\\u003cbr\\u003eindex=%{x}\\u003cbr\\u003evalue=%{y}\\u003cextra\\u003e\\u003c\\u002fextra\\u003e\",\"legendgroup\":\"wide_variable_15\",\"line\":{\"color\":\"#19d3f3\",\"dash\":\"solid\"},\"marker\":{\"symbol\":\"circle\"},\"mode\":\"lines\",\"name\":\"wide_variable_15\",\"orientation\":\"v\",\"showlegend\":true,\"x\":[0,1,2,3,4,5,6,7,8],\"xaxis\":\"x\",\"y\":[0.8361895161290323,0.8452620967741935,0.8185483870967742,0.8306451612903226,0.8462701612903226,0.8709677419354839,0.8523185483870968,0.8649193548387096,0.8598790322580645],\"yaxis\":\"y\",\"type\":\"scatter\"},{\"hovertemplate\":\"variable=wide_variable_16\\u003cbr\\u003eindex=%{x}\\u003cbr\\u003evalue=%{y}\\u003cextra\\u003e\\u003c\\u002fextra\\u003e\",\"legendgroup\":\"wide_variable_16\",\"line\":{\"color\":\"#FF6692\",\"dash\":\"solid\"},\"marker\":{\"symbol\":\"circle\"},\"mode\":\"lines\",\"name\":\"wide_variable_16\",\"orientation\":\"v\",\"showlegend\":true,\"x\":[0,1,2,3,4,5,6,7,8],\"xaxis\":\"x\",\"y\":[0.8029233870967742,0.796875,0.8084677419354839,0.8170362903225806,0.8049395161290323,0.8276209677419355,0.8417338709677419,0.827116935483871,0.8361895161290323],\"yaxis\":\"y\",\"type\":\"scatter\"},{\"hovertemplate\":\"variable=wide_variable_17\\u003cbr\\u003eindex=%{x}\\u003cbr\\u003evalue=%{y}\\u003cextra\\u003e\\u003c\\u002fextra\\u003e\",\"legendgroup\":\"wide_variable_17\",\"line\":{\"color\":\"#B6E880\",\"dash\":\"solid\"},\"marker\":{\"symbol\":\"circle\"},\"mode\":\"lines\",\"name\":\"wide_variable_17\",\"orientation\":\"v\",\"showlegend\":true,\"x\":[0,1,2,3,4,5,6,7,8],\"xaxis\":\"x\",\"y\":[0.7817540322580645,0.8150201612903226,0.7807459677419355,0.8296370967741935,0.8145161290322581,0.842741935483871,0.8205645161290323,0.8306451612903226,0.842741935483871],\"yaxis\":\"y\",\"type\":\"scatter\"},{\"hovertemplate\":\"variable=wide_variable_18\\u003cbr\\u003eindex=%{x}\\u003cbr\\u003evalue=%{y}\\u003cextra\\u003e\\u003c\\u002fextra\\u003e\",\"legendgroup\":\"wide_variable_18\",\"line\":{\"color\":\"#FF97FF\",\"dash\":\"solid\"},\"marker\":{\"symbol\":\"circle\"},\"mode\":\"lines\",\"name\":\"wide_variable_18\",\"orientation\":\"v\",\"showlegend\":true,\"x\":[0,1,2,3,4,5,6,7,8],\"xaxis\":\"x\",\"y\":[0.6441532258064516,0.7368951612903226,0.7520161290322581,0.7555443548387096,0.766633064516129,0.7676411290322581,0.782258064516129,0.7731854838709677,0.7590725806451613],\"yaxis\":\"y\",\"type\":\"scatter\"},{\"hovertemplate\":\"variable=wide_variable_19\\u003cbr\\u003eindex=%{x}\\u003cbr\\u003evalue=%{y}\\u003cextra\\u003e\\u003c\\u002fextra\\u003e\",\"legendgroup\":\"wide_variable_19\",\"line\":{\"color\":\"#FECB52\",\"dash\":\"solid\"},\"marker\":{\"symbol\":\"circle\"},\"mode\":\"lines\",\"name\":\"wide_variable_19\",\"orientation\":\"v\",\"showlegend\":true,\"x\":[0,1,2,3,4,5,6,7,8],\"xaxis\":\"x\",\"y\":[0.7409274193548387,0.7908266129032258,0.7807459677419355,0.7772177419354839,0.7938508064516129,0.6839717741935484,0.7419354838709677,0.6759072580645161,0.6774193548387096],\"yaxis\":\"y\",\"type\":\"scatter\"},{\"hovertemplate\":\"variable=wide_variable_20\\u003cbr\\u003eindex=%{x}\\u003cbr\\u003evalue=%{y}\\u003cextra\\u003e\\u003c\\u002fextra\\u003e\",\"legendgroup\":\"wide_variable_20\",\"line\":{\"color\":\"#636efa\",\"dash\":\"solid\"},\"marker\":{\"symbol\":\"circle\"},\"mode\":\"lines\",\"name\":\"wide_variable_20\",\"orientation\":\"v\",\"showlegend\":true,\"x\":[0,1,2,3,4,5,6,7,8],\"xaxis\":\"x\",\"y\":[0.7988911290322581,0.7903225806451613,0.7580645161290323,0.7893145161290323,0.8079637096774194,0.8442540322580645,0.8467741935483871,0.8150201612903226,0.8195564516129032],\"yaxis\":\"y\",\"type\":\"scatter\"},{\"hovertemplate\":\"variable=wide_variable_21\\u003cbr\\u003eindex=%{x}\\u003cbr\\u003evalue=%{y}\\u003cextra\\u003e\\u003c\\u002fextra\\u003e\",\"legendgroup\":\"wide_variable_21\",\"line\":{\"color\":\"#EF553B\",\"dash\":\"solid\"},\"marker\":{\"symbol\":\"circle\"},\"mode\":\"lines\",\"name\":\"wide_variable_21\",\"orientation\":\"v\",\"showlegend\":true,\"x\":[0,1,2,3,4,5,6,7,8],\"xaxis\":\"x\",\"y\":[0.8200604838709677,0.8240927419354839,0.8175403225806451,0.7636088709677419,0.8125,0.7908266129032258,0.8508064516129032,0.8387096774193549,0.8523185483870968],\"yaxis\":\"y\",\"type\":\"scatter\"},{\"hovertemplate\":\"variable=wide_variable_22\\u003cbr\\u003eindex=%{x}\\u003cbr\\u003evalue=%{y}\\u003cextra\\u003e\\u003c\\u002fextra\\u003e\",\"legendgroup\":\"wide_variable_22\",\"line\":{\"color\":\"#00cc96\",\"dash\":\"solid\"},\"marker\":{\"symbol\":\"circle\"},\"mode\":\"lines\",\"name\":\"wide_variable_22\",\"orientation\":\"v\",\"showlegend\":true,\"x\":[0,1,2,3,4,5,6,7,8],\"xaxis\":\"x\",\"y\":[0.7817540322580645,0.8261088709677419,0.8165322580645161,0.8417338709677419,0.8286290322580645,0.8412298387096774,0.8387096774193549,0.8417338709677419,0.8371975806451613],\"yaxis\":\"y\",\"type\":\"scatter\"},{\"hovertemplate\":\"variable=wide_variable_23\\u003cbr\\u003eindex=%{x}\\u003cbr\\u003evalue=%{y}\\u003cextra\\u003e\\u003c\\u002fextra\\u003e\",\"legendgroup\":\"wide_variable_23\",\"line\":{\"color\":\"#ab63fa\",\"dash\":\"solid\"},\"marker\":{\"symbol\":\"circle\"},\"mode\":\"lines\",\"name\":\"wide_variable_23\",\"orientation\":\"v\",\"showlegend\":true,\"x\":[0,1,2,3,4,5,6,7,8],\"xaxis\":\"x\",\"y\":[0.8200604838709677,0.8346774193548387,0.8150201612903226,0.7842741935483871,0.842741935483871,0.8487903225806451,0.8261088709677419,0.8533266129032258,0.8523185483870968],\"yaxis\":\"y\",\"type\":\"scatter\"},{\"hovertemplate\":\"variable=wide_variable_24\\u003cbr\\u003eindex=%{x}\\u003cbr\\u003evalue=%{y}\\u003cextra\\u003e\\u003c\\u002fextra\\u003e\",\"legendgroup\":\"wide_variable_24\",\"line\":{\"color\":\"#FFA15A\",\"dash\":\"solid\"},\"marker\":{\"symbol\":\"circle\"},\"mode\":\"lines\",\"name\":\"wide_variable_24\",\"orientation\":\"v\",\"showlegend\":true,\"x\":[0,1,2,3,4,5,6,7,8],\"xaxis\":\"x\",\"y\":[0.8180443548387096,0.8195564516129032,0.8316532258064516,0.8432459677419355,0.8356854838709677,0.8553427419354839,0.8170362903225806,0.8528225806451613,0.8634072580645161],\"yaxis\":\"y\",\"type\":\"scatter\"},{\"hovertemplate\":\"variable=wide_variable_25\\u003cbr\\u003eindex=%{x}\\u003cbr\\u003evalue=%{y}\\u003cextra\\u003e\\u003c\\u002fextra\\u003e\",\"legendgroup\":\"wide_variable_25\",\"line\":{\"color\":\"#19d3f3\",\"dash\":\"solid\"},\"marker\":{\"symbol\":\"circle\"},\"mode\":\"lines\",\"name\":\"wide_variable_25\",\"orientation\":\"v\",\"showlegend\":true,\"x\":[0,1,2,3,4,5,6,7,8],\"xaxis\":\"x\",\"y\":[0.7767137096774194,0.7807459677419355,0.7872983870967742,0.7676411290322581,0.8079637096774194,0.8457661290322581,0.8467741935483871,0.8422379032258065,0.8371975806451613],\"yaxis\":\"y\",\"type\":\"scatter\"},{\"hovertemplate\":\"variable=wide_variable_26\\u003cbr\\u003eindex=%{x}\\u003cbr\\u003evalue=%{y}\\u003cextra\\u003e\\u003c\\u002fextra\\u003e\",\"legendgroup\":\"wide_variable_26\",\"line\":{\"color\":\"#FF6692\",\"dash\":\"solid\"},\"marker\":{\"symbol\":\"circle\"},\"mode\":\"lines\",\"name\":\"wide_variable_26\",\"orientation\":\"v\",\"showlegend\":true,\"x\":[0,1,2,3,4,5,6,7,8],\"xaxis\":\"x\",\"y\":[0.6589095744680851,0.6728723404255319,0.6502659574468085,0.6542553191489362,0.668218085106383,0.6565824468085106,0.6848404255319149,0.6715425531914894,0.6785239361702128],\"yaxis\":\"y\",\"type\":\"scatter\"},{\"hovertemplate\":\"variable=wide_variable_27\\u003cbr\\u003eindex=%{x}\\u003cbr\\u003evalue=%{y}\\u003cextra\\u003e\\u003c\\u002fextra\\u003e\",\"legendgroup\":\"wide_variable_27\",\"line\":{\"color\":\"#B6E880\",\"dash\":\"solid\"},\"marker\":{\"symbol\":\"circle\"},\"mode\":\"lines\",\"name\":\"wide_variable_27\",\"orientation\":\"v\",\"showlegend\":true,\"x\":[0,1,2,3,4,5,6,7,8],\"xaxis\":\"x\",\"y\":[0.7273185483870968,0.7661290322580645,0.7762096774193549,0.7610887096774194,0.7903225806451613,0.7258064516129032,0.7807459677419355,0.766633064516129,0.8019153225806451],\"yaxis\":\"y\",\"type\":\"scatter\"},{\"hovertemplate\":\"variable=wide_variable_28\\u003cbr\\u003eindex=%{x}\\u003cbr\\u003evalue=%{y}\\u003cextra\\u003e\\u003c\\u002fextra\\u003e\",\"legendgroup\":\"wide_variable_28\",\"line\":{\"color\":\"#FF97FF\",\"dash\":\"solid\"},\"marker\":{\"symbol\":\"circle\"},\"mode\":\"lines\",\"name\":\"wide_variable_28\",\"orientation\":\"v\",\"showlegend\":true,\"x\":[0,1,2,3,4,5,6,7,8],\"xaxis\":\"x\",\"y\":[0.7741935483870968,0.8296370967741935,0.8064516129032258,0.8422379032258065,0.8049395161290323,0.8286290322580645,0.8311491935483871,0.8326612903225806,0.8336693548387096],\"yaxis\":\"y\",\"type\":\"scatter\"},{\"hovertemplate\":\"variable=wide_variable_29\\u003cbr\\u003eindex=%{x}\\u003cbr\\u003evalue=%{y}\\u003cextra\\u003e\\u003c\\u002fextra\\u003e\",\"legendgroup\":\"wide_variable_29\",\"line\":{\"color\":\"#FECB52\",\"dash\":\"solid\"},\"marker\":{\"symbol\":\"circle\"},\"mode\":\"lines\",\"name\":\"wide_variable_29\",\"orientation\":\"v\",\"showlegend\":true,\"x\":[0,1,2,3,4,5,6,7,8],\"xaxis\":\"x\",\"y\":[0.7253024193548387,0.7494959677419355,0.7792338709677419,0.7615927419354839,0.7525201612903226,0.7605846774193549,0.7903225806451613,0.7827620967741935,0.7762096774193549],\"yaxis\":\"y\",\"type\":\"scatter\"},{\"hovertemplate\":\"variable=wide_variable_30\\u003cbr\\u003eindex=%{x}\\u003cbr\\u003evalue=%{y}\\u003cextra\\u003e\\u003c\\u002fextra\\u003e\",\"legendgroup\":\"wide_variable_30\",\"line\":{\"color\":\"#636efa\",\"dash\":\"solid\"},\"marker\":{\"symbol\":\"circle\"},\"mode\":\"lines\",\"name\":\"wide_variable_30\",\"orientation\":\"v\",\"showlegend\":true,\"x\":[0,1,2,3,4,5,6,7,8],\"xaxis\":\"x\",\"y\":[0.8069556451612904,0.8225806451612904,0.7862903225806451,0.8407258064516129,0.8412298387096774,0.8523185483870968,0.8729838709677419,0.8538306451612904,0.8523185483870968],\"yaxis\":\"y\",\"type\":\"scatter\"},{\"hovertemplate\":\"variable=wide_variable_31\\u003cbr\\u003eindex=%{x}\\u003cbr\\u003evalue=%{y}\\u003cextra\\u003e\\u003c\\u002fextra\\u003e\",\"legendgroup\":\"wide_variable_31\",\"line\":{\"color\":\"#EF553B\",\"dash\":\"solid\"},\"marker\":{\"symbol\":\"circle\"},\"mode\":\"lines\",\"name\":\"wide_variable_31\",\"orientation\":\"v\",\"showlegend\":true,\"x\":[0,1,2,3,4,5,6,7,8],\"xaxis\":\"x\",\"y\":[0.8407258064516129,0.8039314516129032,0.8336693548387096,0.8503024193548387,0.842741935483871,0.8513104838709677,0.8508064516129032,0.8256048387096774,0.875],\"yaxis\":\"y\",\"type\":\"scatter\"},{\"hovertemplate\":\"variable=wide_variable_32\\u003cbr\\u003eindex=%{x}\\u003cbr\\u003evalue=%{y}\\u003cextra\\u003e\\u003c\\u002fextra\\u003e\",\"legendgroup\":\"wide_variable_32\",\"line\":{\"color\":\"#00cc96\",\"dash\":\"solid\"},\"marker\":{\"symbol\":\"circle\"},\"mode\":\"lines\",\"name\":\"wide_variable_32\",\"orientation\":\"v\",\"showlegend\":true,\"x\":[0,1,2,3,4,5,6,7,8],\"xaxis\":\"x\",\"y\":[0.7399193548387096,0.7872983870967742,0.7933467741935484,0.7752016129032258,0.7837701612903226,0.7746975806451613,0.7832661290322581,0.7651209677419355,0.813508064516129],\"yaxis\":\"y\",\"type\":\"scatter\"},{\"hovertemplate\":\"variable=wide_variable_33\\u003cbr\\u003eindex=%{x}\\u003cbr\\u003evalue=%{y}\\u003cextra\\u003e\\u003c\\u002fextra\\u003e\",\"legendgroup\":\"wide_variable_33\",\"line\":{\"color\":\"#ab63fa\",\"dash\":\"solid\"},\"marker\":{\"symbol\":\"circle\"},\"mode\":\"lines\",\"name\":\"wide_variable_33\",\"orientation\":\"v\",\"showlegend\":true,\"x\":[0,1,2,3,4,5,6,7,8],\"xaxis\":\"x\",\"y\":[0.7263104838709677,0.7505040322580645,0.764616935483871,0.7883064516129032,0.7847782258064516,0.7963709677419355,0.71875,0.7842741935483871,0.7792338709677419],\"yaxis\":\"y\",\"type\":\"scatter\"},{\"hovertemplate\":\"variable=wide_variable_34\\u003cbr\\u003eindex=%{x}\\u003cbr\\u003evalue=%{y}\\u003cextra\\u003e\\u003c\\u002fextra\\u003e\",\"legendgroup\":\"wide_variable_34\",\"line\":{\"color\":\"#FFA15A\",\"dash\":\"solid\"},\"marker\":{\"symbol\":\"circle\"},\"mode\":\"lines\",\"name\":\"wide_variable_34\",\"orientation\":\"v\",\"showlegend\":true,\"x\":[0,1,2,3,4,5,6,7,8],\"xaxis\":\"x\",\"y\":[0.7253024193548387,0.7615927419354839,0.7681451612903226,0.7963709677419355,0.7787298387096774,0.8094758064516129,0.8049395161290323,0.7752016129032258,0.7550403225806451],\"yaxis\":\"y\",\"type\":\"scatter\"},{\"hovertemplate\":\"variable=wide_variable_35\\u003cbr\\u003eindex=%{x}\\u003cbr\\u003evalue=%{y}\\u003cextra\\u003e\\u003c\\u002fextra\\u003e\",\"legendgroup\":\"wide_variable_35\",\"line\":{\"color\":\"#19d3f3\",\"dash\":\"solid\"},\"marker\":{\"symbol\":\"circle\"},\"mode\":\"lines\",\"name\":\"wide_variable_35\",\"orientation\":\"v\",\"showlegend\":true,\"x\":[0,1,2,3,4,5,6,7,8],\"xaxis\":\"x\",\"y\":[0.5821572580645161,0.6436491935483871,0.7182459677419355,0.7368951612903226,0.7454637096774194,0.7348790322580645,0.7626008064516129,0.7605846774193549,0.7575604838709677],\"yaxis\":\"y\",\"type\":\"scatter\"},{\"hovertemplate\":\"variable=wide_variable_36\\u003cbr\\u003eindex=%{x}\\u003cbr\\u003evalue=%{y}\\u003cextra\\u003e\\u003c\\u002fextra\\u003e\",\"legendgroup\":\"wide_variable_36\",\"line\":{\"color\":\"#FF6692\",\"dash\":\"solid\"},\"marker\":{\"symbol\":\"circle\"},\"mode\":\"lines\",\"name\":\"wide_variable_36\",\"orientation\":\"v\",\"showlegend\":true,\"x\":[0,1,2,3,4,5,6,7,8],\"xaxis\":\"x\",\"y\":[0.827116935483871,0.8432459677419355,0.8371975806451613,0.828125,0.8462701612903226,0.8503024193548387,0.8175403225806451,0.8523185483870968,0.8356854838709677],\"yaxis\":\"y\",\"type\":\"scatter\"},{\"hovertemplate\":\"variable=wide_variable_37\\u003cbr\\u003eindex=%{x}\\u003cbr\\u003evalue=%{y}\\u003cextra\\u003e\\u003c\\u002fextra\\u003e\",\"legendgroup\":\"wide_variable_37\",\"line\":{\"color\":\"#B6E880\",\"dash\":\"solid\"},\"marker\":{\"symbol\":\"circle\"},\"mode\":\"lines\",\"name\":\"wide_variable_37\",\"orientation\":\"v\",\"showlegend\":true,\"x\":[0,1,2,3,4,5,6,7,8],\"xaxis\":\"x\",\"y\":[0.7565524193548387,0.8210685483870968,0.7731854838709677,0.7167338709677419,0.5897177419354839,0.7807459677419355,0.797883064516129,0.765625,0.8024193548387096],\"yaxis\":\"y\",\"type\":\"scatter\"},{\"hovertemplate\":\"variable=wide_variable_38\\u003cbr\\u003eindex=%{x}\\u003cbr\\u003evalue=%{y}\\u003cextra\\u003e\\u003c\\u002fextra\\u003e\",\"legendgroup\":\"wide_variable_38\",\"line\":{\"color\":\"#FF97FF\",\"dash\":\"solid\"},\"marker\":{\"symbol\":\"circle\"},\"mode\":\"lines\",\"name\":\"wide_variable_38\",\"orientation\":\"v\",\"showlegend\":true,\"x\":[0,1,2,3,4,5,6,7,8],\"xaxis\":\"x\",\"y\":[0.829133064516129,0.828125,0.8185483870967742,0.8497983870967742,0.8704637096774194,0.8467741935483871,0.8503024193548387,0.8452620967741935,0.8785282258064516],\"yaxis\":\"y\",\"type\":\"scatter\"},{\"hovertemplate\":\"variable=wide_variable_39\\u003cbr\\u003eindex=%{x}\\u003cbr\\u003evalue=%{y}\\u003cextra\\u003e\\u003c\\u002fextra\\u003e\",\"legendgroup\":\"wide_variable_39\",\"line\":{\"color\":\"#FECB52\",\"dash\":\"solid\"},\"marker\":{\"symbol\":\"circle\"},\"mode\":\"lines\",\"name\":\"wide_variable_39\",\"orientation\":\"v\",\"showlegend\":true,\"x\":[0,1,2,3,4,5,6,7,8],\"xaxis\":\"x\",\"y\":[0.7540322580645161,0.7903225806451613,0.7787298387096774,0.7842741935483871,0.8079637096774194,0.7817540322580645,0.8230846774193549,0.8150201612903226,0.8397177419354839],\"yaxis\":\"y\",\"type\":\"scatter\"},{\"hovertemplate\":\"variable=wide_variable_40\\u003cbr\\u003eindex=%{x}\\u003cbr\\u003evalue=%{y}\\u003cextra\\u003e\\u003c\\u002fextra\\u003e\",\"legendgroup\":\"wide_variable_40\",\"line\":{\"color\":\"#636efa\",\"dash\":\"solid\"},\"marker\":{\"symbol\":\"circle\"},\"mode\":\"lines\",\"name\":\"wide_variable_40\",\"orientation\":\"v\",\"showlegend\":true,\"x\":[0,1,2,3,4,5,6,7,8],\"xaxis\":\"x\",\"y\":[0.6582661290322581,0.6824596774193549,0.6980846774193549,0.6950604838709677,0.7101814516129032,0.7091733870967742,0.7076612903225806,0.7116935483870968,0.7227822580645161],\"yaxis\":\"y\",\"type\":\"scatter\"},{\"hovertemplate\":\"variable=wide_variable_41\\u003cbr\\u003eindex=%{x}\\u003cbr\\u003evalue=%{y}\\u003cextra\\u003e\\u003c\\u002fextra\\u003e\",\"legendgroup\":\"wide_variable_41\",\"line\":{\"color\":\"#EF553B\",\"dash\":\"solid\"},\"marker\":{\"symbol\":\"circle\"},\"mode\":\"lines\",\"name\":\"wide_variable_41\",\"orientation\":\"v\",\"showlegend\":true,\"x\":[0,1,2,3,4,5,6,7,8],\"xaxis\":\"x\",\"y\":[0.795866935483871,0.796875,0.8276209677419355,0.827116935483871,0.8361895161290323,0.8422379032258065,0.8256048387096774,0.827116935483871,0.8417338709677419],\"yaxis\":\"y\",\"type\":\"scatter\"},{\"hovertemplate\":\"variable=wide_variable_42\\u003cbr\\u003eindex=%{x}\\u003cbr\\u003evalue=%{y}\\u003cextra\\u003e\\u003c\\u002fextra\\u003e\",\"legendgroup\":\"wide_variable_42\",\"line\":{\"color\":\"#00cc96\",\"dash\":\"solid\"},\"marker\":{\"symbol\":\"circle\"},\"mode\":\"lines\",\"name\":\"wide_variable_42\",\"orientation\":\"v\",\"showlegend\":true,\"x\":[0,1,2,3,4,5,6,7,8],\"xaxis\":\"x\",\"y\":[0.7414314516129032,0.8165322580645161,0.7832661290322581,0.7686491935483871,0.7993951612903226,0.8286290322580645,0.827116935483871,0.7550403225806451,0.8059475806451613],\"yaxis\":\"y\",\"type\":\"scatter\"},{\"hovertemplate\":\"variable=wide_variable_43\\u003cbr\\u003eindex=%{x}\\u003cbr\\u003evalue=%{y}\\u003cextra\\u003e\\u003c\\u002fextra\\u003e\",\"legendgroup\":\"wide_variable_43\",\"line\":{\"color\":\"#ab63fa\",\"dash\":\"solid\"},\"marker\":{\"symbol\":\"circle\"},\"mode\":\"lines\",\"name\":\"wide_variable_43\",\"orientation\":\"v\",\"showlegend\":true,\"x\":[0,1,2,3,4,5,6,7,8],\"xaxis\":\"x\",\"y\":[0.782258064516129,0.795866935483871,0.7797379032258065,0.7540322580645161,0.7797379032258065,0.7610887096774194,0.7913306451612904,0.8195564516129032,0.8084677419354839],\"yaxis\":\"y\",\"type\":\"scatter\"},{\"hovertemplate\":\"variable=wide_variable_44\\u003cbr\\u003eindex=%{x}\\u003cbr\\u003evalue=%{y}\\u003cextra\\u003e\\u003c\\u002fextra\\u003e\",\"legendgroup\":\"wide_variable_44\",\"line\":{\"color\":\"#FFA15A\",\"dash\":\"solid\"},\"marker\":{\"symbol\":\"circle\"},\"mode\":\"lines\",\"name\":\"wide_variable_44\",\"orientation\":\"v\",\"showlegend\":true,\"x\":[0,1,2,3,4,5,6,7,8],\"xaxis\":\"x\",\"y\":[0.7474798387096774,0.7878024193548387,0.8140120967741935,0.8220766129032258,0.8019153225806451,0.7983870967741935,0.8296370967741935,0.8004032258064516,0.8225806451612904],\"yaxis\":\"y\",\"type\":\"scatter\"},{\"hovertemplate\":\"variable=wide_variable_45\\u003cbr\\u003eindex=%{x}\\u003cbr\\u003evalue=%{y}\\u003cextra\\u003e\\u003c\\u002fextra\\u003e\",\"legendgroup\":\"wide_variable_45\",\"line\":{\"color\":\"#19d3f3\",\"dash\":\"solid\"},\"marker\":{\"symbol\":\"circle\"},\"mode\":\"lines\",\"name\":\"wide_variable_45\",\"orientation\":\"v\",\"showlegend\":true,\"x\":[0,1,2,3,4,5,6,7,8],\"xaxis\":\"x\",\"y\":[0.7560483870967742,0.7832661290322581,0.7938508064516129,0.860383064516129,0.8452620967741935,0.8714717741935484,0.8664314516129032,0.8276209677419355,0.860383064516129],\"yaxis\":\"y\",\"type\":\"scatter\"},{\"hovertemplate\":\"variable=wide_variable_46\\u003cbr\\u003eindex=%{x}\\u003cbr\\u003evalue=%{y}\\u003cextra\\u003e\\u003c\\u002fextra\\u003e\",\"legendgroup\":\"wide_variable_46\",\"line\":{\"color\":\"#FF6692\",\"dash\":\"solid\"},\"marker\":{\"symbol\":\"circle\"},\"mode\":\"lines\",\"name\":\"wide_variable_46\",\"orientation\":\"v\",\"showlegend\":true,\"x\":[0,1,2,3,4,5,6,7,8],\"xaxis\":\"x\",\"y\":[0.8079637096774194,0.8130040322580645,0.8230846774193549,0.8125,0.8256048387096774,0.8356854838709677,0.8346774193548387,0.8533266129032258,0.8407258064516129],\"yaxis\":\"y\",\"type\":\"scatter\"},{\"hovertemplate\":\"variable=wide_variable_47\\u003cbr\\u003eindex=%{x}\\u003cbr\\u003evalue=%{y}\\u003cextra\\u003e\\u003c\\u002fextra\\u003e\",\"legendgroup\":\"wide_variable_47\",\"line\":{\"color\":\"#B6E880\",\"dash\":\"solid\"},\"marker\":{\"symbol\":\"circle\"},\"mode\":\"lines\",\"name\":\"wide_variable_47\",\"orientation\":\"v\",\"showlegend\":true,\"x\":[0,1,2,3,4,5,6,7,8],\"xaxis\":\"x\",\"y\":[0.8044354838709677,0.8049395161290323,0.8230846774193549,0.8316532258064516,0.8361895161290323,0.8422379032258065,0.8180443548387096,0.8407258064516129,0.8321572580645161],\"yaxis\":\"y\",\"type\":\"scatter\"},{\"hovertemplate\":\"variable=wide_variable_48\\u003cbr\\u003eindex=%{x}\\u003cbr\\u003evalue=%{y}\\u003cextra\\u003e\\u003c\\u002fextra\\u003e\",\"legendgroup\":\"wide_variable_48\",\"line\":{\"color\":\"#FF97FF\",\"dash\":\"solid\"},\"marker\":{\"symbol\":\"circle\"},\"mode\":\"lines\",\"name\":\"wide_variable_48\",\"orientation\":\"v\",\"showlegend\":true,\"x\":[0,1,2,3,4,5,6,7,8],\"xaxis\":\"x\",\"y\":[0.8029233870967742,0.8079637096774194,0.8200604838709677,0.8014112903225806,0.7888104838709677,0.8316532258064516,0.8079637096774194,0.8377016129032258,0.8029233870967742],\"yaxis\":\"y\",\"type\":\"scatter\"},{\"hovertemplate\":\"variable=wide_variable_49\\u003cbr\\u003eindex=%{x}\\u003cbr\\u003evalue=%{y}\\u003cextra\\u003e\\u003c\\u002fextra\\u003e\",\"legendgroup\":\"wide_variable_49\",\"line\":{\"color\":\"#FECB52\",\"dash\":\"solid\"},\"marker\":{\"symbol\":\"circle\"},\"mode\":\"lines\",\"name\":\"wide_variable_49\",\"orientation\":\"v\",\"showlegend\":true,\"x\":[0,1,2,3,4,5,6,7,8],\"xaxis\":\"x\",\"y\":[0.7631048387096774,0.7872983870967742,0.7953629032258065,0.7993951612903226,0.7862903225806451,0.7293346774193549,0.7913306451612904,0.7540322580645161,0.7782258064516129],\"yaxis\":\"y\",\"type\":\"scatter\"}],                        {\"template\":{\"data\":{\"histogram2dcontour\":[{\"type\":\"histogram2dcontour\",\"colorbar\":{\"outlinewidth\":0,\"ticks\":\"\"},\"colorscale\":[[0.0,\"#0d0887\"],[0.1111111111111111,\"#46039f\"],[0.2222222222222222,\"#7201a8\"],[0.3333333333333333,\"#9c179e\"],[0.4444444444444444,\"#bd3786\"],[0.5555555555555556,\"#d8576b\"],[0.6666666666666666,\"#ed7953\"],[0.7777777777777778,\"#fb9f3a\"],[0.8888888888888888,\"#fdca26\"],[1.0,\"#f0f921\"]]}],\"choropleth\":[{\"type\":\"choropleth\",\"colorbar\":{\"outlinewidth\":0,\"ticks\":\"\"}}],\"histogram2d\":[{\"type\":\"histogram2d\",\"colorbar\":{\"outlinewidth\":0,\"ticks\":\"\"},\"colorscale\":[[0.0,\"#0d0887\"],[0.1111111111111111,\"#46039f\"],[0.2222222222222222,\"#7201a8\"],[0.3333333333333333,\"#9c179e\"],[0.4444444444444444,\"#bd3786\"],[0.5555555555555556,\"#d8576b\"],[0.6666666666666666,\"#ed7953\"],[0.7777777777777778,\"#fb9f3a\"],[0.8888888888888888,\"#fdca26\"],[1.0,\"#f0f921\"]]}],\"heatmap\":[{\"type\":\"heatmap\",\"colorbar\":{\"outlinewidth\":0,\"ticks\":\"\"},\"colorscale\":[[0.0,\"#0d0887\"],[0.1111111111111111,\"#46039f\"],[0.2222222222222222,\"#7201a8\"],[0.3333333333333333,\"#9c179e\"],[0.4444444444444444,\"#bd3786\"],[0.5555555555555556,\"#d8576b\"],[0.6666666666666666,\"#ed7953\"],[0.7777777777777778,\"#fb9f3a\"],[0.8888888888888888,\"#fdca26\"],[1.0,\"#f0f921\"]]}],\"heatmapgl\":[{\"type\":\"heatmapgl\",\"colorbar\":{\"outlinewidth\":0,\"ticks\":\"\"},\"colorscale\":[[0.0,\"#0d0887\"],[0.1111111111111111,\"#46039f\"],[0.2222222222222222,\"#7201a8\"],[0.3333333333333333,\"#9c179e\"],[0.4444444444444444,\"#bd3786\"],[0.5555555555555556,\"#d8576b\"],[0.6666666666666666,\"#ed7953\"],[0.7777777777777778,\"#fb9f3a\"],[0.8888888888888888,\"#fdca26\"],[1.0,\"#f0f921\"]]}],\"contourcarpet\":[{\"type\":\"contourcarpet\",\"colorbar\":{\"outlinewidth\":0,\"ticks\":\"\"}}],\"contour\":[{\"type\":\"contour\",\"colorbar\":{\"outlinewidth\":0,\"ticks\":\"\"},\"colorscale\":[[0.0,\"#0d0887\"],[0.1111111111111111,\"#46039f\"],[0.2222222222222222,\"#7201a8\"],[0.3333333333333333,\"#9c179e\"],[0.4444444444444444,\"#bd3786\"],[0.5555555555555556,\"#d8576b\"],[0.6666666666666666,\"#ed7953\"],[0.7777777777777778,\"#fb9f3a\"],[0.8888888888888888,\"#fdca26\"],[1.0,\"#f0f921\"]]}],\"surface\":[{\"type\":\"surface\",\"colorbar\":{\"outlinewidth\":0,\"ticks\":\"\"},\"colorscale\":[[0.0,\"#0d0887\"],[0.1111111111111111,\"#46039f\"],[0.2222222222222222,\"#7201a8\"],[0.3333333333333333,\"#9c179e\"],[0.4444444444444444,\"#bd3786\"],[0.5555555555555556,\"#d8576b\"],[0.6666666666666666,\"#ed7953\"],[0.7777777777777778,\"#fb9f3a\"],[0.8888888888888888,\"#fdca26\"],[1.0,\"#f0f921\"]]}],\"mesh3d\":[{\"type\":\"mesh3d\",\"colorbar\":{\"outlinewidth\":0,\"ticks\":\"\"}}],\"scatter\":[{\"fillpattern\":{\"fillmode\":\"overlay\",\"size\":10,\"solidity\":0.2},\"type\":\"scatter\"}],\"parcoords\":[{\"type\":\"parcoords\",\"line\":{\"colorbar\":{\"outlinewidth\":0,\"ticks\":\"\"}}}],\"scatterpolargl\":[{\"type\":\"scatterpolargl\",\"marker\":{\"colorbar\":{\"outlinewidth\":0,\"ticks\":\"\"}}}],\"bar\":[{\"error_x\":{\"color\":\"#2a3f5f\"},\"error_y\":{\"color\":\"#2a3f5f\"},\"marker\":{\"line\":{\"color\":\"#E5ECF6\",\"width\":0.5},\"pattern\":{\"fillmode\":\"overlay\",\"size\":10,\"solidity\":0.2}},\"type\":\"bar\"}],\"scattergeo\":[{\"type\":\"scattergeo\",\"marker\":{\"colorbar\":{\"outlinewidth\":0,\"ticks\":\"\"}}}],\"scatterpolar\":[{\"type\":\"scatterpolar\",\"marker\":{\"colorbar\":{\"outlinewidth\":0,\"ticks\":\"\"}}}],\"histogram\":[{\"marker\":{\"pattern\":{\"fillmode\":\"overlay\",\"size\":10,\"solidity\":0.2}},\"type\":\"histogram\"}],\"scattergl\":[{\"type\":\"scattergl\",\"marker\":{\"colorbar\":{\"outlinewidth\":0,\"ticks\":\"\"}}}],\"scatter3d\":[{\"type\":\"scatter3d\",\"line\":{\"colorbar\":{\"outlinewidth\":0,\"ticks\":\"\"}},\"marker\":{\"colorbar\":{\"outlinewidth\":0,\"ticks\":\"\"}}}],\"scattermapbox\":[{\"type\":\"scattermapbox\",\"marker\":{\"colorbar\":{\"outlinewidth\":0,\"ticks\":\"\"}}}],\"scatterternary\":[{\"type\":\"scatterternary\",\"marker\":{\"colorbar\":{\"outlinewidth\":0,\"ticks\":\"\"}}}],\"scattercarpet\":[{\"type\":\"scattercarpet\",\"marker\":{\"colorbar\":{\"outlinewidth\":0,\"ticks\":\"\"}}}],\"carpet\":[{\"aaxis\":{\"endlinecolor\":\"#2a3f5f\",\"gridcolor\":\"white\",\"linecolor\":\"white\",\"minorgridcolor\":\"white\",\"startlinecolor\":\"#2a3f5f\"},\"baxis\":{\"endlinecolor\":\"#2a3f5f\",\"gridcolor\":\"white\",\"linecolor\":\"white\",\"minorgridcolor\":\"white\",\"startlinecolor\":\"#2a3f5f\"},\"type\":\"carpet\"}],\"table\":[{\"cells\":{\"fill\":{\"color\":\"#EBF0F8\"},\"line\":{\"color\":\"white\"}},\"header\":{\"fill\":{\"color\":\"#C8D4E3\"},\"line\":{\"color\":\"white\"}},\"type\":\"table\"}],\"barpolar\":[{\"marker\":{\"line\":{\"color\":\"#E5ECF6\",\"width\":0.5},\"pattern\":{\"fillmode\":\"overlay\",\"size\":10,\"solidity\":0.2}},\"type\":\"barpolar\"}],\"pie\":[{\"automargin\":true,\"type\":\"pie\"}]},\"layout\":{\"autotypenumbers\":\"strict\",\"colorway\":[\"#636efa\",\"#EF553B\",\"#00cc96\",\"#ab63fa\",\"#FFA15A\",\"#19d3f3\",\"#FF6692\",\"#B6E880\",\"#FF97FF\",\"#FECB52\"],\"font\":{\"color\":\"#2a3f5f\"},\"hovermode\":\"closest\",\"hoverlabel\":{\"align\":\"left\"},\"paper_bgcolor\":\"white\",\"plot_bgcolor\":\"#E5ECF6\",\"polar\":{\"bgcolor\":\"#E5ECF6\",\"angularaxis\":{\"gridcolor\":\"white\",\"linecolor\":\"white\",\"ticks\":\"\"},\"radialaxis\":{\"gridcolor\":\"white\",\"linecolor\":\"white\",\"ticks\":\"\"}},\"ternary\":{\"bgcolor\":\"#E5ECF6\",\"aaxis\":{\"gridcolor\":\"white\",\"linecolor\":\"white\",\"ticks\":\"\"},\"baxis\":{\"gridcolor\":\"white\",\"linecolor\":\"white\",\"ticks\":\"\"},\"caxis\":{\"gridcolor\":\"white\",\"linecolor\":\"white\",\"ticks\":\"\"}},\"coloraxis\":{\"colorbar\":{\"outlinewidth\":0,\"ticks\":\"\"}},\"colorscale\":{\"sequential\":[[0.0,\"#0d0887\"],[0.1111111111111111,\"#46039f\"],[0.2222222222222222,\"#7201a8\"],[0.3333333333333333,\"#9c179e\"],[0.4444444444444444,\"#bd3786\"],[0.5555555555555556,\"#d8576b\"],[0.6666666666666666,\"#ed7953\"],[0.7777777777777778,\"#fb9f3a\"],[0.8888888888888888,\"#fdca26\"],[1.0,\"#f0f921\"]],\"sequentialminus\":[[0.0,\"#0d0887\"],[0.1111111111111111,\"#46039f\"],[0.2222222222222222,\"#7201a8\"],[0.3333333333333333,\"#9c179e\"],[0.4444444444444444,\"#bd3786\"],[0.5555555555555556,\"#d8576b\"],[0.6666666666666666,\"#ed7953\"],[0.7777777777777778,\"#fb9f3a\"],[0.8888888888888888,\"#fdca26\"],[1.0,\"#f0f921\"]],\"diverging\":[[0,\"#8e0152\"],[0.1,\"#c51b7d\"],[0.2,\"#de77ae\"],[0.3,\"#f1b6da\"],[0.4,\"#fde0ef\"],[0.5,\"#f7f7f7\"],[0.6,\"#e6f5d0\"],[0.7,\"#b8e186\"],[0.8,\"#7fbc41\"],[0.9,\"#4d9221\"],[1,\"#276419\"]]},\"xaxis\":{\"gridcolor\":\"white\",\"linecolor\":\"white\",\"ticks\":\"\",\"title\":{\"standoff\":15},\"zerolinecolor\":\"white\",\"automargin\":true,\"zerolinewidth\":2},\"yaxis\":{\"gridcolor\":\"white\",\"linecolor\":\"white\",\"ticks\":\"\",\"title\":{\"standoff\":15},\"zerolinecolor\":\"white\",\"automargin\":true,\"zerolinewidth\":2},\"scene\":{\"xaxis\":{\"backgroundcolor\":\"#E5ECF6\",\"gridcolor\":\"white\",\"linecolor\":\"white\",\"showbackground\":true,\"ticks\":\"\",\"zerolinecolor\":\"white\",\"gridwidth\":2},\"yaxis\":{\"backgroundcolor\":\"#E5ECF6\",\"gridcolor\":\"white\",\"linecolor\":\"white\",\"showbackground\":true,\"ticks\":\"\",\"zerolinecolor\":\"white\",\"gridwidth\":2},\"zaxis\":{\"backgroundcolor\":\"#E5ECF6\",\"gridcolor\":\"white\",\"linecolor\":\"white\",\"showbackground\":true,\"ticks\":\"\",\"zerolinecolor\":\"white\",\"gridwidth\":2}},\"shapedefaults\":{\"line\":{\"color\":\"#2a3f5f\"}},\"annotationdefaults\":{\"arrowcolor\":\"#2a3f5f\",\"arrowhead\":0,\"arrowwidth\":1},\"geo\":{\"bgcolor\":\"white\",\"landcolor\":\"#E5ECF6\",\"subunitcolor\":\"white\",\"showland\":true,\"showlakes\":true,\"lakecolor\":\"white\"},\"title\":{\"x\":0.05},\"mapbox\":{\"style\":\"light\"}}},\"xaxis\":{\"anchor\":\"y\",\"domain\":[0.0,1.0],\"title\":{\"text\":\"index\"}},\"yaxis\":{\"anchor\":\"x\",\"domain\":[0.0,1.0],\"title\":{\"text\":\"value\"}},\"legend\":{\"title\":{\"text\":\"variable\"},\"tracegroupgap\":0},\"margin\":{\"t\":60}},                        {\"responsive\": true}                    ).then(function(){\n",
       "                            \n",
       "var gd = document.getElementById('28ee3c4f-81d1-4f59-a748-ed4e8839a6b6');\n",
       "var x = new MutationObserver(function (mutations, observer) {{\n",
       "        var display = window.getComputedStyle(gd).display;\n",
       "        if (!display || display === 'none') {{\n",
       "            console.log([gd, 'removed!']);\n",
       "            Plotly.purge(gd);\n",
       "            observer.disconnect();\n",
       "        }}\n",
       "}});\n",
       "\n",
       "// Listen for the removal of the full notebook cells\n",
       "var notebookContainer = gd.closest('#notebook-container');\n",
       "if (notebookContainer) {{\n",
       "    x.observe(notebookContainer, {childList: true});\n",
       "}}\n",
       "\n",
       "// Listen for the clearing of the current output cell\n",
       "var outputEl = gd.closest('.output');\n",
       "if (outputEl) {{\n",
       "    x.observe(outputEl, {childList: true});\n",
       "}}\n",
       "\n",
       "                        })                };                });            </script>        </div>"
      ]
     },
     "metadata": {},
     "output_type": "display_data"
    }
   ],
   "source": [
    "plot_df = df.iloc[:50]\n",
    "# plot_df = df[df[\"model\"] == \"dm_nfnet_f0\"]\n",
    "px.line(y=plot_df[\"test_profile\"].tolist(), labels=plot_df[\"model\"].tolist())"
   ]
  },
  {
   "cell_type": "code",
   "execution_count": 102,
   "id": "16570ed7-7cd1-447c-a359-bd7fcb83a7e3",
   "metadata": {},
   "outputs": [
    {
     "name": "stdout",
     "output_type": "stream",
     "text": [
      "Help on function line in module plotly.express._chart_types:\n",
      "\n",
      "line(data_frame=None, x=None, y=None, line_group=None, color=None, line_dash=None, symbol=None, hover_name=None, hover_data=None, custom_data=None, text=None, facet_row=None, facet_col=None, facet_col_wrap=0, facet_row_spacing=None, facet_col_spacing=None, error_x=None, error_x_minus=None, error_y=None, error_y_minus=None, animation_frame=None, animation_group=None, category_orders=None, labels=None, orientation=None, color_discrete_sequence=None, color_discrete_map=None, line_dash_sequence=None, line_dash_map=None, symbol_sequence=None, symbol_map=None, markers=False, log_x=False, log_y=False, range_x=None, range_y=None, line_shape=None, render_mode='auto', title=None, template=None, width=None, height=None) -> plotly.graph_objs._figure.Figure\n",
      "        In a 2D line plot, each row of `data_frame` is represented as vertex of\n",
      "        a polyline mark in 2D space.\n",
      "        \n",
      "    Parameters\n",
      "    ----------\n",
      "    data_frame: DataFrame or array-like or dict\n",
      "        This argument needs to be passed for column names (and not keyword\n",
      "        names) to be used. Array-like and dict are transformed internally to a\n",
      "        pandas DataFrame. Optional: if missing, a DataFrame gets constructed\n",
      "        under the hood using the other arguments.\n",
      "    x: str or int or Series or array-like\n",
      "        Either a name of a column in `data_frame`, or a pandas Series or\n",
      "        array_like object. Values from this column or array_like are used to\n",
      "        position marks along the x axis in cartesian coordinates. Either `x` or\n",
      "        `y` can optionally be a list of column references or array_likes,  in\n",
      "        which case the data will be treated as if it were 'wide' rather than\n",
      "        'long'.\n",
      "    y: str or int or Series or array-like\n",
      "        Either a name of a column in `data_frame`, or a pandas Series or\n",
      "        array_like object. Values from this column or array_like are used to\n",
      "        position marks along the y axis in cartesian coordinates. Either `x` or\n",
      "        `y` can optionally be a list of column references or array_likes,  in\n",
      "        which case the data will be treated as if it were 'wide' rather than\n",
      "        'long'.\n",
      "    line_group: str or int or Series or array-like\n",
      "        Either a name of a column in `data_frame`, or a pandas Series or\n",
      "        array_like object. Values from this column or array_like are used to\n",
      "        group rows of `data_frame` into lines.\n",
      "    color: str or int or Series or array-like\n",
      "        Either a name of a column in `data_frame`, or a pandas Series or\n",
      "        array_like object. Values from this column or array_like are used to\n",
      "        assign color to marks.\n",
      "    line_dash: str or int or Series or array-like\n",
      "        Either a name of a column in `data_frame`, or a pandas Series or\n",
      "        array_like object. Values from this column or array_like are used to\n",
      "        assign dash-patterns to lines.\n",
      "    symbol: str or int or Series or array-like\n",
      "        Either a name of a column in `data_frame`, or a pandas Series or\n",
      "        array_like object. Values from this column or array_like are used to\n",
      "        assign symbols to marks.\n",
      "    hover_name: str or int or Series or array-like\n",
      "        Either a name of a column in `data_frame`, or a pandas Series or\n",
      "        array_like object. Values from this column or array_like appear in bold\n",
      "        in the hover tooltip.\n",
      "    hover_data: str, or list of str or int, or Series or array-like, or dict\n",
      "        Either a name or list of names of columns in `data_frame`, or pandas\n",
      "        Series, or array_like objects or a dict with column names as keys, with\n",
      "        values True (for default formatting) False (in order to remove this\n",
      "        column from hover information), or a formatting string, for example\n",
      "        ':.3f' or '|%a' or list-like data to appear in the hover tooltip or\n",
      "        tuples with a bool or formatting string as first element, and list-like\n",
      "        data to appear in hover as second element Values from these columns\n",
      "        appear as extra data in the hover tooltip.\n",
      "    custom_data: str, or list of str or int, or Series or array-like\n",
      "        Either name or list of names of columns in `data_frame`, or pandas\n",
      "        Series, or array_like objects Values from these columns are extra data,\n",
      "        to be used in widgets or Dash callbacks for example. This data is not\n",
      "        user-visible but is included in events emitted by the figure (lasso\n",
      "        selection etc.)\n",
      "    text: str or int or Series or array-like\n",
      "        Either a name of a column in `data_frame`, or a pandas Series or\n",
      "        array_like object. Values from this column or array_like appear in the\n",
      "        figure as text labels.\n",
      "    facet_row: str or int or Series or array-like\n",
      "        Either a name of a column in `data_frame`, or a pandas Series or\n",
      "        array_like object. Values from this column or array_like are used to\n",
      "        assign marks to facetted subplots in the vertical direction.\n",
      "    facet_col: str or int or Series or array-like\n",
      "        Either a name of a column in `data_frame`, or a pandas Series or\n",
      "        array_like object. Values from this column or array_like are used to\n",
      "        assign marks to facetted subplots in the horizontal direction.\n",
      "    facet_col_wrap: int\n",
      "        Maximum number of facet columns. Wraps the column variable at this\n",
      "        width, so that the column facets span multiple rows. Ignored if 0, and\n",
      "        forced to 0 if `facet_row` or a `marginal` is set.\n",
      "    facet_row_spacing: float between 0 and 1\n",
      "        Spacing between facet rows, in paper units. Default is 0.03 or 0.0.7\n",
      "        when facet_col_wrap is used.\n",
      "    facet_col_spacing: float between 0 and 1\n",
      "        Spacing between facet columns, in paper units Default is 0.02.\n",
      "    error_x: str or int or Series or array-like\n",
      "        Either a name of a column in `data_frame`, or a pandas Series or\n",
      "        array_like object. Values from this column or array_like are used to\n",
      "        size x-axis error bars. If `error_x_minus` is `None`, error bars will\n",
      "        be symmetrical, otherwise `error_x` is used for the positive direction\n",
      "        only.\n",
      "    error_x_minus: str or int or Series or array-like\n",
      "        Either a name of a column in `data_frame`, or a pandas Series or\n",
      "        array_like object. Values from this column or array_like are used to\n",
      "        size x-axis error bars in the negative direction. Ignored if `error_x`\n",
      "        is `None`.\n",
      "    error_y: str or int or Series or array-like\n",
      "        Either a name of a column in `data_frame`, or a pandas Series or\n",
      "        array_like object. Values from this column or array_like are used to\n",
      "        size y-axis error bars. If `error_y_minus` is `None`, error bars will\n",
      "        be symmetrical, otherwise `error_y` is used for the positive direction\n",
      "        only.\n",
      "    error_y_minus: str or int or Series or array-like\n",
      "        Either a name of a column in `data_frame`, or a pandas Series or\n",
      "        array_like object. Values from this column or array_like are used to\n",
      "        size y-axis error bars in the negative direction. Ignored if `error_y`\n",
      "        is `None`.\n",
      "    animation_frame: str or int or Series or array-like\n",
      "        Either a name of a column in `data_frame`, or a pandas Series or\n",
      "        array_like object. Values from this column or array_like are used to\n",
      "        assign marks to animation frames.\n",
      "    animation_group: str or int or Series or array-like\n",
      "        Either a name of a column in `data_frame`, or a pandas Series or\n",
      "        array_like object. Values from this column or array_like are used to\n",
      "        provide object-constancy across animation frames: rows with matching\n",
      "        `animation_group`s will be treated as if they describe the same object\n",
      "        in each frame.\n",
      "    category_orders: dict with str keys and list of str values (default `{}`)\n",
      "        By default, in Python 3.6+, the order of categorical values in axes,\n",
      "        legends and facets depends on the order in which these values are first\n",
      "        encountered in `data_frame` (and no order is guaranteed by default in\n",
      "        Python below 3.6). This parameter is used to force a specific ordering\n",
      "        of values per column. The keys of this dict should correspond to column\n",
      "        names, and the values should be lists of strings corresponding to the\n",
      "        specific display order desired.\n",
      "    labels: dict with str keys and str values (default `{}`)\n",
      "        By default, column names are used in the figure for axis titles, legend\n",
      "        entries and hovers. This parameter allows this to be overridden. The\n",
      "        keys of this dict should correspond to column names, and the values\n",
      "        should correspond to the desired label to be displayed.\n",
      "    orientation: str, one of `'h'` for horizontal or `'v'` for vertical. \n",
      "        (default `'v'` if `x` and `y` are provided and both continous or both\n",
      "        categorical,  otherwise `'v'`(`'h'`) if `x`(`y`) is categorical and\n",
      "        `y`(`x`) is continuous,  otherwise `'v'`(`'h'`) if only `x`(`y`) is\n",
      "        provided)\n",
      "    color_discrete_sequence: list of str\n",
      "        Strings should define valid CSS-colors. When `color` is set and the\n",
      "        values in the corresponding column are not numeric, values in that\n",
      "        column are assigned colors by cycling through `color_discrete_sequence`\n",
      "        in the order described in `category_orders`, unless the value of\n",
      "        `color` is a key in `color_discrete_map`. Various useful color\n",
      "        sequences are available in the `plotly.express.colors` submodules,\n",
      "        specifically `plotly.express.colors.qualitative`.\n",
      "    color_discrete_map: dict with str keys and str values (default `{}`)\n",
      "        String values should define valid CSS-colors Used to override\n",
      "        `color_discrete_sequence` to assign a specific colors to marks\n",
      "        corresponding with specific values. Keys in `color_discrete_map` should\n",
      "        be values in the column denoted by `color`. Alternatively, if the\n",
      "        values of `color` are valid colors, the string `'identity'` may be\n",
      "        passed to cause them to be used directly.\n",
      "    line_dash_sequence: list of str\n",
      "        Strings should define valid plotly.js dash-patterns. When `line_dash`\n",
      "        is set, values in that column are assigned dash-patterns by cycling\n",
      "        through `line_dash_sequence` in the order described in\n",
      "        `category_orders`, unless the value of `line_dash` is a key in\n",
      "        `line_dash_map`.\n",
      "    line_dash_map: dict with str keys and str values (default `{}`)\n",
      "        Strings values define plotly.js dash-patterns. Used to override\n",
      "        `line_dash_sequences` to assign a specific dash-patterns to lines\n",
      "        corresponding with specific values. Keys in `line_dash_map` should be\n",
      "        values in the column denoted by `line_dash`. Alternatively, if the\n",
      "        values of `line_dash` are valid line-dash names, the string\n",
      "        `'identity'` may be passed to cause them to be used directly.\n",
      "    symbol_sequence: list of str\n",
      "        Strings should define valid plotly.js symbols. When `symbol` is set,\n",
      "        values in that column are assigned symbols by cycling through\n",
      "        `symbol_sequence` in the order described in `category_orders`, unless\n",
      "        the value of `symbol` is a key in `symbol_map`.\n",
      "    symbol_map: dict with str keys and str values (default `{}`)\n",
      "        String values should define plotly.js symbols Used to override\n",
      "        `symbol_sequence` to assign a specific symbols to marks corresponding\n",
      "        with specific values. Keys in `symbol_map` should be values in the\n",
      "        column denoted by `symbol`. Alternatively, if the values of `symbol`\n",
      "        are valid symbol names, the string `'identity'` may be passed to cause\n",
      "        them to be used directly.\n",
      "    markers: boolean (default `False`)\n",
      "        If `True`, markers are shown on lines.\n",
      "    log_x: boolean (default `False`)\n",
      "        If `True`, the x-axis is log-scaled in cartesian coordinates.\n",
      "    log_y: boolean (default `False`)\n",
      "        If `True`, the y-axis is log-scaled in cartesian coordinates.\n",
      "    range_x: list of two numbers\n",
      "        If provided, overrides auto-scaling on the x-axis in cartesian\n",
      "        coordinates.\n",
      "    range_y: list of two numbers\n",
      "        If provided, overrides auto-scaling on the y-axis in cartesian\n",
      "        coordinates.\n",
      "    line_shape: str (default `'linear'`)\n",
      "        One of `'linear'` or `'spline'`.\n",
      "    render_mode: str\n",
      "        One of `'auto'`, `'svg'` or `'webgl'`, default `'auto'` Controls the\n",
      "        browser API used to draw marks. `'svg`' is appropriate for figures of\n",
      "        less than 1000 data points, and will allow for fully-vectorized output.\n",
      "        `'webgl'` is likely necessary for acceptable performance above 1000\n",
      "        points but rasterizes part of the output.  `'auto'` uses heuristics to\n",
      "        choose the mode.\n",
      "    title: str\n",
      "        The figure title.\n",
      "    template: str or dict or plotly.graph_objects.layout.Template instance\n",
      "        The figure template name (must be a key in plotly.io.templates) or\n",
      "        definition.\n",
      "    width: int (default `None`)\n",
      "        The figure width in pixels.\n",
      "    height: int (default `None`)\n",
      "        The figure height in pixels.\n",
      "    \n",
      "    Returns\n",
      "    -------\n",
      "        plotly.graph_objects.Figure\n",
      "\n"
     ]
    }
   ],
   "source": [
    "help(px.line)"
   ]
  },
  {
   "cell_type": "code",
   "execution_count": 52,
   "id": "70496c46-e73f-4879-b510-690c6b0eb7cb",
   "metadata": {},
   "outputs": [
    {
     "data": {
      "text/html": [
       "<div>\n",
       "<style scoped>\n",
       "    .dataframe tbody tr th:only-of-type {\n",
       "        vertical-align: middle;\n",
       "    }\n",
       "\n",
       "    .dataframe tbody tr th {\n",
       "        vertical-align: top;\n",
       "    }\n",
       "\n",
       "    .dataframe thead th {\n",
       "        text-align: right;\n",
       "    }\n",
       "</style>\n",
       "<table border=\"1\" class=\"dataframe\">\n",
       "  <thead>\n",
       "    <tr style=\"text-align: right;\">\n",
       "      <th></th>\n",
       "      <th>model</th>\n",
       "      <th>num_param</th>\n",
       "      <th>memT</th>\n",
       "      <th>memR</th>\n",
       "      <th>memA</th>\n",
       "      <th>memM</th>\n",
       "      <th>energy</th>\n",
       "      <th>co2</th>\n",
       "      <th>train_time</th>\n",
       "      <th>infer_time</th>\n",
       "      <th>...</th>\n",
       "      <th>test_05</th>\n",
       "      <th>test_06</th>\n",
       "      <th>test_07</th>\n",
       "      <th>test_08</th>\n",
       "      <th>test_09</th>\n",
       "      <th>pretrain</th>\n",
       "      <th>type</th>\n",
       "      <th>efficiency</th>\n",
       "      <th>dataset</th>\n",
       "      <th>test_profile</th>\n",
       "    </tr>\n",
       "  </thead>\n",
       "  <tbody>\n",
       "    <tr>\n",
       "      <th>122</th>\n",
       "      <td>nasnetalarge</td>\n",
       "      <td>88753150</td>\n",
       "      <td>25.435111</td>\n",
       "      <td>21.130904</td>\n",
       "      <td>1.418934</td>\n",
       "      <td>20.245244</td>\n",
       "      <td>0.174988</td>\n",
       "      <td>13.342814</td>\n",
       "      <td>107.049753</td>\n",
       "      <td>0</td>\n",
       "      <td>...</td>\n",
       "      <td>0.826109</td>\n",
       "      <td>0.835181</td>\n",
       "      <td>0.827621</td>\n",
       "      <td>0.847278</td>\n",
       "      <td>0.836190</td>\n",
       "      <td>1.0</td>\n",
       "      <td>Other</td>\n",
       "      <td>0</td>\n",
       "      <td>derma_pt</td>\n",
       "      <td>[0.7636088709677419, 0.7948588709677419, 0.826...</td>\n",
       "    </tr>\n",
       "    <tr>\n",
       "      <th>253</th>\n",
       "      <td>nasnetalarge</td>\n",
       "      <td>88753150</td>\n",
       "      <td>25.435111</td>\n",
       "      <td>21.336424</td>\n",
       "      <td>1.389253</td>\n",
       "      <td>20.229133</td>\n",
       "      <td>0.227686</td>\n",
       "      <td>7.855172</td>\n",
       "      <td>138.659011</td>\n",
       "      <td>0</td>\n",
       "      <td>...</td>\n",
       "      <td>0.681516</td>\n",
       "      <td>0.675199</td>\n",
       "      <td>0.679521</td>\n",
       "      <td>0.650931</td>\n",
       "      <td>0.685173</td>\n",
       "      <td>NaN</td>\n",
       "      <td>Other</td>\n",
       "      <td>0</td>\n",
       "      <td>lidc</td>\n",
       "      <td>[0.7134308510638298, 0.6675531914893617, 0.667...</td>\n",
       "    </tr>\n",
       "    <tr>\n",
       "      <th>384</th>\n",
       "      <td>nasnetalarge</td>\n",
       "      <td>88753150</td>\n",
       "      <td>25.435111</td>\n",
       "      <td>21.149778</td>\n",
       "      <td>1.414126</td>\n",
       "      <td>20.229133</td>\n",
       "      <td>0.038495</td>\n",
       "      <td>4.580926</td>\n",
       "      <td>23.796479</td>\n",
       "      <td>0</td>\n",
       "      <td>...</td>\n",
       "      <td>0.650598</td>\n",
       "      <td>0.620013</td>\n",
       "      <td>0.660239</td>\n",
       "      <td>0.650598</td>\n",
       "      <td>0.654255</td>\n",
       "      <td>0.0</td>\n",
       "      <td>Other</td>\n",
       "      <td>0</td>\n",
       "      <td>lidc_small</td>\n",
       "      <td>[0.6392952127659575, 0.6276595744680851, 0.626...</td>\n",
       "    </tr>\n",
       "    <tr>\n",
       "      <th>515</th>\n",
       "      <td>nasnetalarge</td>\n",
       "      <td>88753150</td>\n",
       "      <td>25.435111</td>\n",
       "      <td>21.130904</td>\n",
       "      <td>1.418934</td>\n",
       "      <td>20.245244</td>\n",
       "      <td>0.174608</td>\n",
       "      <td>9.472494</td>\n",
       "      <td>107.274882</td>\n",
       "      <td>0</td>\n",
       "      <td>...</td>\n",
       "      <td>0.717238</td>\n",
       "      <td>0.725806</td>\n",
       "      <td>0.734879</td>\n",
       "      <td>0.729839</td>\n",
       "      <td>0.710685</td>\n",
       "      <td>0.0</td>\n",
       "      <td>Other</td>\n",
       "      <td>0</td>\n",
       "      <td>derma</td>\n",
       "      <td>[0.6925403225806451, 0.6829637096774194, 0.719...</td>\n",
       "    </tr>\n",
       "    <tr>\n",
       "      <th>646</th>\n",
       "      <td>nasnetalarge</td>\n",
       "      <td>88753150</td>\n",
       "      <td>25.435111</td>\n",
       "      <td>21.130904</td>\n",
       "      <td>1.412227</td>\n",
       "      <td>20.245244</td>\n",
       "      <td>0.027606</td>\n",
       "      <td>3.643978</td>\n",
       "      <td>17.277176</td>\n",
       "      <td>0</td>\n",
       "      <td>...</td>\n",
       "      <td>0.669355</td>\n",
       "      <td>0.669355</td>\n",
       "      <td>0.624496</td>\n",
       "      <td>0.604335</td>\n",
       "      <td>0.666331</td>\n",
       "      <td>0.0</td>\n",
       "      <td>Other</td>\n",
       "      <td>0</td>\n",
       "      <td>derma_small</td>\n",
       "      <td>[0.1078629032258064, 0.6693548387096774, 0.668...</td>\n",
       "    </tr>\n",
       "    <tr>\n",
       "      <th>777</th>\n",
       "      <td>nasnetalarge</td>\n",
       "      <td>88753150</td>\n",
       "      <td>25.435111</td>\n",
       "      <td>21.281898</td>\n",
       "      <td>1.401904</td>\n",
       "      <td>20.245244</td>\n",
       "      <td>0.012814</td>\n",
       "      <td>6.086833</td>\n",
       "      <td>8.538226</td>\n",
       "      <td>0</td>\n",
       "      <td>...</td>\n",
       "      <td>0.109879</td>\n",
       "      <td>0.109879</td>\n",
       "      <td>0.109879</td>\n",
       "      <td>0.106351</td>\n",
       "      <td>0.106855</td>\n",
       "      <td>0.0</td>\n",
       "      <td>Other</td>\n",
       "      <td>0</td>\n",
       "      <td>derma_smallest</td>\n",
       "      <td>[0.6693548387096774, 0.1098790322580645, 0.109...</td>\n",
       "    </tr>\n",
       "    <tr>\n",
       "      <th>908</th>\n",
       "      <td>nasnetalarge</td>\n",
       "      <td>88753150</td>\n",
       "      <td>25.435111</td>\n",
       "      <td>21.181235</td>\n",
       "      <td>1.397316</td>\n",
       "      <td>20.229133</td>\n",
       "      <td>0.112262</td>\n",
       "      <td>6.623444</td>\n",
       "      <td>68.602174</td>\n",
       "      <td>0</td>\n",
       "      <td>...</td>\n",
       "      <td>0.916118</td>\n",
       "      <td>0.937500</td>\n",
       "      <td>0.911184</td>\n",
       "      <td>0.968750</td>\n",
       "      <td>0.927632</td>\n",
       "      <td>0.0</td>\n",
       "      <td>Other</td>\n",
       "      <td>0</td>\n",
       "      <td>pneumonia</td>\n",
       "      <td>[0.9342105263157896, 0.919407894736842, 0.9440...</td>\n",
       "    </tr>\n",
       "    <tr>\n",
       "      <th>1039</th>\n",
       "      <td>nasnetalarge</td>\n",
       "      <td>88753150</td>\n",
       "      <td>25.435111</td>\n",
       "      <td>21.149778</td>\n",
       "      <td>1.404201</td>\n",
       "      <td>20.229133</td>\n",
       "      <td>0.013618</td>\n",
       "      <td>6.468557</td>\n",
       "      <td>9.031973</td>\n",
       "      <td>0</td>\n",
       "      <td>...</td>\n",
       "      <td>0.904605</td>\n",
       "      <td>0.848684</td>\n",
       "      <td>0.876645</td>\n",
       "      <td>0.893092</td>\n",
       "      <td>0.899671</td>\n",
       "      <td>0.0</td>\n",
       "      <td>Other</td>\n",
       "      <td>0</td>\n",
       "      <td>pneumonia_small</td>\n",
       "      <td>[0.789473684210526, 0.876644736842105, 0.74013...</td>\n",
       "    </tr>\n",
       "  </tbody>\n",
       "</table>\n",
       "<p>8 rows × 27 columns</p>\n",
       "</div>"
      ],
      "text/plain": [
       "             model  num_param       memT       memR      memA       memM  \\\n",
       "122   nasnetalarge   88753150  25.435111  21.130904  1.418934  20.245244   \n",
       "253   nasnetalarge   88753150  25.435111  21.336424  1.389253  20.229133   \n",
       "384   nasnetalarge   88753150  25.435111  21.149778  1.414126  20.229133   \n",
       "515   nasnetalarge   88753150  25.435111  21.130904  1.418934  20.245244   \n",
       "646   nasnetalarge   88753150  25.435111  21.130904  1.412227  20.245244   \n",
       "777   nasnetalarge   88753150  25.435111  21.281898  1.401904  20.245244   \n",
       "908   nasnetalarge   88753150  25.435111  21.181235  1.397316  20.229133   \n",
       "1039  nasnetalarge   88753150  25.435111  21.149778  1.404201  20.229133   \n",
       "\n",
       "        energy        co2  train_time  infer_time  ...   test_05   test_06  \\\n",
       "122   0.174988  13.342814  107.049753           0  ...  0.826109  0.835181   \n",
       "253   0.227686   7.855172  138.659011           0  ...  0.681516  0.675199   \n",
       "384   0.038495   4.580926   23.796479           0  ...  0.650598  0.620013   \n",
       "515   0.174608   9.472494  107.274882           0  ...  0.717238  0.725806   \n",
       "646   0.027606   3.643978   17.277176           0  ...  0.669355  0.669355   \n",
       "777   0.012814   6.086833    8.538226           0  ...  0.109879  0.109879   \n",
       "908   0.112262   6.623444   68.602174           0  ...  0.916118  0.937500   \n",
       "1039  0.013618   6.468557    9.031973           0  ...  0.904605  0.848684   \n",
       "\n",
       "       test_07   test_08   test_09  pretrain   type  efficiency  \\\n",
       "122   0.827621  0.847278  0.836190       1.0  Other           0   \n",
       "253   0.679521  0.650931  0.685173       NaN  Other           0   \n",
       "384   0.660239  0.650598  0.654255       0.0  Other           0   \n",
       "515   0.734879  0.729839  0.710685       0.0  Other           0   \n",
       "646   0.624496  0.604335  0.666331       0.0  Other           0   \n",
       "777   0.109879  0.106351  0.106855       0.0  Other           0   \n",
       "908   0.911184  0.968750  0.927632       0.0  Other           0   \n",
       "1039  0.876645  0.893092  0.899671       0.0  Other           0   \n",
       "\n",
       "              dataset                                       test_profile  \n",
       "122          derma_pt  [0.7636088709677419, 0.7948588709677419, 0.826...  \n",
       "253              lidc  [0.7134308510638298, 0.6675531914893617, 0.667...  \n",
       "384        lidc_small  [0.6392952127659575, 0.6276595744680851, 0.626...  \n",
       "515             derma  [0.6925403225806451, 0.6829637096774194, 0.719...  \n",
       "646       derma_small  [0.1078629032258064, 0.6693548387096774, 0.668...  \n",
       "777    derma_smallest  [0.6693548387096774, 0.1098790322580645, 0.109...  \n",
       "908         pneumonia  [0.9342105263157896, 0.919407894736842, 0.9440...  \n",
       "1039  pneumonia_small  [0.789473684210526, 0.876644736842105, 0.74013...  \n",
       "\n",
       "[8 rows x 27 columns]"
      ]
     },
     "execution_count": 52,
     "metadata": {},
     "output_type": "execute_result"
    }
   ],
   "source": [
    "df[df[\"model\"] == \"nasnetalarge\"]"
   ]
  }
 ],
 "metadata": {
  "kernelspec": {
   "display_name": "Python 3 (ipykernel)",
   "language": "python",
   "name": "python3"
  },
  "language_info": {
   "codemirror_mode": {
    "name": "ipython",
    "version": 3
   },
   "file_extension": ".py",
   "mimetype": "text/x-python",
   "name": "python",
   "nbconvert_exporter": "python",
   "pygments_lexer": "ipython3",
   "version": "3.11.5"
  }
 },
 "nbformat": 4,
 "nbformat_minor": 5
}
